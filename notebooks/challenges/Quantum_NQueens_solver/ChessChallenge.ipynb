{
  "cells": [
    {
      "cell_type": "markdown",
      "metadata": {
        "id": "OdsFxsUPAX02"
      },
      "source": [
        "# Chess Challenge\n",
        "\n",
        "Welcome to the chess challenge of the MQST Qiskit Fall Fest!\n",
        "\n",
        "\n",
        "\n",
        "\n",
        "The queens puzzle is the problem of placing as many chess queens on an NxN chessboard so that no two queens threaten each other, and is often used as an example for various computation techniques. This problem has not an unique solution, but the complexity of the task of finding one grows exponentially as the number N grows."
      ]
    },
    {
      "cell_type": "markdown",
      "metadata": {},
      "source": [
        "#### Cell for installing the necessary packages:"
      ]
    },
    {
      "cell_type": "code",
      "execution_count": null,
      "metadata": {},
      "outputs": [],
      "source": [
        "# Uncomment to install the necessary packages\n",
        "# !pip install numpy\n",
        "# !pip install scipy\n",
        "# !pip install matplotlib\n",
        "# !pip install jupyter\n",
        "# !pip install qiskit[visualization]==1.2\n",
        "# # For Local Linux or Mac, you can use the following command:\n",
        "# # !pip install 'qiskit[visualization]'==1.2\n",
        "# !pip install qiskit_algorithms\n",
        "# !pip install qiskit_aer >= 0.14\n",
        "# !pip install qiskit_ibm_runtime\n",
        "# !pip install qiskit_ibm_transpiler"
      ]
    },
    {
      "cell_type": "markdown",
      "metadata": {
        "id": "NfCnBcH0CPkz"
      },
      "source": [
        "# 1- Starting from the basics: before queens there were rooks\n",
        "\n",
        "To start slowly, we will solve the problem for rooks, for which is much easier to find a solution but has the disadvantage that there are many more solutions. What is the max number of rooks that can fit in a 4x4 chess board? And on a 5x5?\n",
        "\n",
        "## The first task is to create a classical function that by brute force gives the solutions for the rooks puzzle for NxN chess board.\n",
        "\n",
        "> Tip: Represent the chess board by an NxN array filled with 0 for the empty squares and by 1 for the squares in which a rook is placed. This representation will also help you during great part of this challenge"
      ]
    },
    {
      "cell_type": "code",
      "execution_count": null,
      "metadata": {
        "id": "02i7VlU2AXGv"
      },
      "outputs": [],
      "source": [
        "def classical_rooks(N):\n",
        "    \"\"\"Returns the solutions of the rooks puzzle for NxN chess board.\n",
        "\n",
        "    Args:\n",
        "        N (int): The dimension of the chess board.\n",
        "\n",
        "    Returns:\n",
        "        solutions (np.ndarray): The solutions of the rooks puzzle.\n",
        "    \"\"\"\n",
        "    # Your code here\n",
        "\n",
        "\n",
        "\n",
        "  return solutions"
      ]
    },
    {
      "cell_type": "markdown",
      "metadata": {
        "id": "eGwDG3V7Fru3"
      },
      "source": [
        "Computing the available solutions by brute force is expensive and untractable when dealing with bigger boards, so we will take advantaje of the hybrid algorithm QAOA to solve this problem in a different way, phrasing the problem as a physics optimization problem, namely finding the state with lowest energy for a given hamiltonian.\n",
        "\n",
        "The general form of a optimization problem can be written on the form of a hamiltonian:\n",
        "\n",
        "$$H_C = \\sum_{i,j} Q_{ij} X_i X_j + \\sum_i b_i X_i$$\n",
        "\n",
        "where $X_i$ are classical variables can be 1 or 0 and the coefficients $b_i$ and $Q_{ij}$ are problem dependent.\n",
        "\n",
        "To find a solution using qubits, first we need to map the qubits form a quantum circuit to represent our problem. For that, one suggestion is to use the following mapping:\n",
        "- Each qubit will represent one square of the chess board, so it will be identified by row and column indices.\n",
        "- If there is a piece on that square, the spin will be on state $|1>$, and if it is empty the state will be $|0>$\n",
        "\n",
        "<p style=\"text-align: center\"><img src=\"https://i.imgur.com/ojkY5to.jpeg\"></p>\n",
        "\n",
        "\n",
        "> Example 3x3 board:\n",
        "- q0 in state 0 -> 0,0\n",
        "- q1 in state 0 -> 0,1\n",
        "- q2 in state 0 -> 0,2\n",
        "- q3 in state 0 -> 1,0\n",
        "- q4 in state 0 -> 1,1\n",
        "- q5 in state 1 -> 1,2\n",
        "- q6 in state 0 -> 2,0\n",
        "- q7 in state 0 -> 2,1\n",
        "- q8 in state 0 -> 2,2\n",
        "\n",
        "This is just a suitable mapping but it is not unique. There are many more mappings that can be used for this problem, so if you have any other please explain it and use it!!!\n",
        "\n",
        "For the previous mapping we need $N^2$ qubits to find a solution for a NxN chess board, so a way to improve this mapping could be to reduce the number of qubits needed to map the problem. A new mapping will also change some of the following instructions... be carefull with that!!\n",
        "\n",
        "To adapt the expression to our problem, we will change the single index $i$ of the classical variables to the actual chess board indices, where latin letters will be rows and greek indices will be columns. Therefore, the classical hamiltonian for our mapping is of the form:\n",
        "\n",
        "$$H_C = \\sum_{k,\\alpha ,l,\\beta} Q_{k \\alpha,l \\beta} X_{k\\alpha}X_{l\\beta} + \\sum_{k\\alpha} b_{k\\alpha} X_{k\\alpha}$$\n",
        "\n",
        "Moreover, we need to define a specific hamiltonian whose groundstate is a solution of the rooks puzzle. For that, we will need two terms:\n",
        "- One term that lowers the energy with the number of rooks ($|1>$ states)\n",
        "> Tip: this is a one-body term\n",
        "- One term that increases the energy if one rook threatens other. This penalization should be bigger than the energy gained by adding one other rook\n",
        "> Tip: this is a two body interaction term\n",
        "\n",
        "## Define the weigths $b_{k\\alpha}$ and $Q_{k\\alpha, l\\beta}$ such that the previous cost function has as ground state the solution of the rook's puzzle. Make the cost of threatening 1.5 times the benefit of adding one extra rook (one extra $X$ with 1 value)\n",
        "\n",
        "> Tip: Adding one more rook DECREASES energy, therefore $b<0$, and having threatened rooks should INCREASE it, therefore $Q>0$. Use $b=-1$ and $Q=1.5$ for those cases where the value is non-zero.\n",
        "\n",
        "> Tip2: The rooks in chess only move vertical and horizontal, so the only relevant $Q$ coefficients are those for which $k=l$ or $\\alpha=\\beta$."
      ]
    },
    {
      "cell_type": "code",
      "execution_count": null,
      "metadata": {
        "id": "_az5rKvgFq4Y"
      },
      "outputs": [],
      "source": [
        "import numpy as np\n",
        "\n",
        "\n",
        "def classical_hamiltonian_rook_onebody_coeff(N: int) -> np.ndarray:\n",
        "    \"\"\"Returns the NxN matrix of b_{k \\alpha} weigths.\n",
        "\n",
        "    Args:\n",
        "        N (int): The dimension of the chess board.\n",
        "\n",
        "    Returns:\n",
        "        b_vector (np.array): The NxN matrix of b_{k \\alpha} weigths.\n",
        "        hamiltonian (SparsePauliOp): The hamiltonian of the rooks puzzle.\n",
        "\n",
        "    \"\"\"\n",
        "    # Your code here\n",
        "\n",
        "    return b_vector\n",
        "\n",
        "\n",
        "def classical_hamiltonian_rooks_twobody_coeff(N: int) -> np.ndarray:\n",
        "    \"\"\"Returns the NxNxNxN array of Q_{k \\alpha, l \\beta} weigths.\n",
        "\n",
        "    Args:\n",
        "        N (int): The dimension of the chess board.\n",
        "\n",
        "    Returns:\n",
        "        Q_matrix (np.array): The NxNxNxN array of Q_{k \\alpha, l \\beta} weigths.\n",
        "    \"\"\"\n",
        "\n",
        "    # Your code here\n",
        "\n",
        "    return Q_matrix\n",
        "\n",
        "\n",
        "def classical_hamiltonian_rooks(N: int, X_string: np.ndarray) -> float:\n",
        "    \"\"\"Returns the value of the hamiltonian for a given X_matrix of length NxN.\n",
        "\n",
        "    Args:\n",
        "        N (int): The dimension of the chess board.\n",
        "        Z_matrix (np.array): The NxN matrix of X_{k \\alpha} values.\n",
        "\n",
        "\n",
        "    Returns:\n",
        "        energy (float): The value of the hamiltonian for the given Z_matrix.\n",
        "    \"\"\"\n",
        "    # Your code here\n",
        "\n",
        "    return energy"
      ]
    },
    {
      "cell_type": "markdown",
      "metadata": {
        "id": "7zbTTp6aQ7Vi"
      },
      "source": [
        "As our system is a quantum system where the hamiltonian is an operator, whe should write it in terms of known operators. For that, we will do the change of variable\n",
        "$$X_{k\\alpha} = \\frac{1-\\hat\\sigma^z_{k\\alpha}}{2}$$\n",
        "where $\\hat \\sigma^z_{k\\alpha}$ is the Pauli Z operator acting on the qubit that represents the square of row $k$ and column $\\alpha$. Introducing this change of variable on the previous function, you will obtain a quantum operator of the same form with an extra constant term that can be neglected because it only changes the origin of the energy.\n",
        "\n",
        "> Hint: For this step you might need some pen and paper calculations to find the transformation!\n",
        "\n",
        "## Write the new hamiltonian and create the associated functions to find the new coefficients"
      ]
    },
    {
      "cell_type": "markdown",
      "metadata": {
        "id": "sAMveLR_SsnH"
      },
      "source": [
        "__Write here your hamiltonian__"
      ]
    },
    {
      "cell_type": "code",
      "execution_count": null,
      "metadata": {
        "id": "ukxV-ptlSwvo"
      },
      "outputs": [],
      "source": [
        "def quantum_hamiltonian_rook_onebody_coeff(N):\n",
        "    \"\"\"Returns the NxN matrix of b_{k \\alpha} weigths.\n",
        "\n",
        "    Args:\n",
        "        N (int): The dimension of the chess board.\n",
        "\n",
        "    Returns:\n",
        "        b_vector (np.array): The NxN matrix of b_{k \\alpha} weigths.\n",
        "        hamiltonian (SparsePauliOp): The hamiltonian of the rooks puzzle.\n",
        "    \"\"\"\n",
        "    # Your code here\n",
        "\n",
        "    return b_vector\n",
        "\n",
        "\n",
        "def quantum_hamiltonian_rooks_twobody_coeff(N):\n",
        "    \"\"\"Returns the NxNxNxN array of Q_{k \\alpha, l \\beta} weigths.\n",
        "\n",
        "    Args:\n",
        "        N (int): The dimension of the chess board.\n",
        "\n",
        "    Returns:\n",
        "        Q_matrix (np.array): The NxNxNxN array of Q_{k \\alpha, l \\beta} weigths.\n",
        "    \"\"\"\n",
        "    # Your code here\n",
        "\n",
        "    return Q_matrix"
      ]
    },
    {
      "cell_type": "markdown",
      "metadata": {
        "id": "uljmfGTlTI8q"
      },
      "source": [
        "Now, we are able construct the hamiltonian for our problem, using the previous coefficients to create a quantum operator.\n",
        "\n",
        "## Write a function that creates the hamiltonian of the rooks puzzle as a SparsePauliOp\n",
        "> Tip: Use the previous functions to obtain the coefficients of the hamiltonian"
      ]
    },
    {
      "cell_type": "code",
      "execution_count": null,
      "metadata": {
        "id": "6QLAJNuUUmUA"
      },
      "outputs": [],
      "source": [
        "def cost_hamiltonian_rooks(N):\n",
        "    \"\"\"Returns the hamiltonian of the rooks puzzle as a SparsePauliOp.\n",
        "\n",
        "    Args:\n",
        "        N (int): The dimension of the chess board.\n",
        "\n",
        "    Returns:\n",
        "        hamiltonian (SparsePauliOp): The hamiltonian of the rooks puzzle.\n",
        "    \"\"\"\n",
        "    # Your code here\n",
        "\n",
        "    return hamiltonian"
      ]
    },
    {
      "cell_type": "markdown",
      "metadata": {
        "id": "yumhN3b8U5YM"
      },
      "source": [
        "# 1.1 Finding solutions for the rook puzzle\n",
        "\n",
        "Now that we have constructed the hamiltonian that encodes the solution of the problem, we just need to find the groundstate of it.\n",
        "For that we will use the QAOA algorithm, where the circuit is optimized to find a groundstate of the cost function.\n",
        "\n",
        "In the QAOA workflow, the optimal QAOA parameters are found in an iterative optimization loop, which runs a series of circuit evaluations and uses a classical optimizer to find the optimal parameters.\n",
        "Check [QAOAAnsatz](https://docs.quantum.ibm.com/api/qiskit/qiskit.circuit.library.QAOAAnsatz), and using scipy [minimize](https://docs.scipy.org/doc/scipy/reference/generated/scipy.optimize.minimize.html) function run the QAOA algorithm to find the solution of the rooks puzzle, using only two layers.\n",
        "\n",
        "> Note: There is an example at [IBM web](https://learning.quantum.ibm.com/tutorial/quantum-approximate-optimization-algorithm) but it contains the way to run the algorithm on real hardware which up to now it is not the goal. Check it to get inspiration but run this optimization locally using AerSimulator or any other simulated backend.\n",
        "\n",
        "> Note 2: The solution might not be unique\n"
      ]
    },
    {
      "cell_type": "code",
      "execution_count": null,
      "metadata": {},
      "outputs": [],
      "source": [
        "def cost_function_rooks_estimator(...):\n",
        "    # Write here a function that takes the cost hamiltonian and evaluates the expected cost of the final state\n",
        "\n",
        "    return cost\n",
        "\n",
        "\n",
        "def QAOA_rooks(...):\n",
        "    # Write here a function that using the cost_function_rooks_estimator optimizes the QAOA parameters to\n",
        "    # find the solution of the rooks puzzle ()\n",
        "\n",
        "    return solutions"
      ]
    },
    {
      "cell_type": "markdown",
      "metadata": {
        "id": "L95CnXp3cgSo"
      },
      "source": [
        "## Run the QAOA algorithm for 3x3 and 4x4 boards and discuss the solutions obtained.\n",
        "## Compare the solutions with the ones obtained by brute force."
      ]
    },
    {
      "cell_type": "markdown",
      "metadata": {
        "id": "-VRR2ZFwcI6t"
      },
      "source": [
        "# 1.2 Finding a specific solution for the rook puzzle\n",
        "\n",
        "As you might have seen before, the solution obtained using the previous hamiltonian is usually a superposition of all possible configurations of rooks on the board. To obtain a single solution, we must break the degeneracy of the solution by unbalancing the positions in which the rooks appear.\n",
        "\n",
        "One of the simplest ways to do this is \"tilting\" the chess board, i.e., favoring the positioning of the rooks on one side of the board. To do this, one can add a small bias on the single-body terms of the form:\n",
        "\n",
        "- $b_{00}$ <- $b_{00}$\n",
        "- $b_{01}$ <- $b_{01}$ + $\\delta$\n",
        "- $b_{02}$ <- $b_{02}$ + $\\sqrt{2}\\delta$\n",
        "- ...\n",
        "- $b_{NN}$ <- $b_{NN}$ + $N\\delta$\n",
        "\n",
        "where $\\delta$ should be small compared with the value of $b$ and $Q$, but not infinitely small. You might optimize this by comparing some solutions for different values of $\\delta$, or maybe use your creativity to break the degeneracy using different weights and method.\n",
        "\n",
        "## Introduce the modification on the one-body terms and run again all the steps of the algorithm to find a solution of the rook puzzle. What is the accuracy for the algorithm to find the solution?\n",
        "\n",
        "> Extra: Can you implement this bias also for the brute force search?"
      ]
    },
    {
      "cell_type": "code",
      "execution_count": null,
      "metadata": {
        "id": "JqTaPYmUhNcm"
      },
      "outputs": [],
      "source": [
        "def classical_hamiltonian_rook_onebody_coeff_tilted(N):\n",
        "    \"\"\"Returns the NxN matrix of b_{k \\alpha} weigths for a tilted chess board.\n",
        "\n",
        "    Args:\n",
        "        N (int): The dimension of the chess board.\n",
        "\n",
        "    Returns:\n",
        "        b_vector (np.array): The NxN matrix of b_{k \\alpha} weigths.\n",
        "        hamiltonian (SparsePauliOp): The hamiltonian of the rooks puzzle.\n",
        "    \"\"\"\n",
        "    # Your code here\n",
        "\n",
        "    return b_vector\n",
        "\n",
        "\n",
        "# The rest of your code here"
      ]
    },
    {
      "cell_type": "markdown",
      "metadata": {
        "id": "prPCnZAn5t3H"
      },
      "source": [
        "# 1.3 Improving the optimization\n",
        "\n",
        "Now that everything is working properly, let's improve the QAOA protocol. Test the convergence of the solution and the parameters by changing different parameters of the algorithm.\n",
        "\n",
        "Can you find a classical optimization algorithm that converges faster than the one by default on scipy.optimize? Does it change the result on the QAOA algorithm?\n",
        "\n",
        "Does the convergence or the final solution improve using a different mixing operator?\n",
        "\n",
        "How does the convergence and final solution change if we increase the number of layers from 2 to 3? How does the computation time change?"
      ]
    },
    {
      "cell_type": "code",
      "execution_count": null,
      "metadata": {
        "id": "ASDkX0i--boQ"
      },
      "outputs": [],
      "source": [
        "# Test different possibilities here"
      ]
    },
    {
      "cell_type": "markdown",
      "metadata": {
        "id": "5KFVdkqJicxY"
      },
      "source": [
        "# 2- Diagonal movement\n",
        "\n",
        "As the queens can also move in diagonal, we will carefully analyze that movement playing the same game with bishops. (Be careful, this time for a board of NxN squares there are more than N possible bishops!!!!!!!!!!)\n",
        "\n",
        "Repeat all previous steps with the bishops puzzle, to understand how can the diagonal movement be introduced in the hamiltonian. Fill all the following steps and comment everything you do to find the solution for 3x3 and 4x4 boards:"
      ]
    },
    {
      "cell_type": "code",
      "execution_count": null,
      "metadata": {
        "id": "KUrqLgaYjCMl"
      },
      "outputs": [],
      "source": [
        "# Create the brute force function to find the solutions of the bishop puzzle"
      ]
    },
    {
      "cell_type": "code",
      "execution_count": null,
      "metadata": {
        "id": "u-odQ89tjTuj"
      },
      "outputs": [],
      "source": [
        "# Create the coefficients of the classical cost function for the bishop puzzle"
      ]
    },
    {
      "cell_type": "code",
      "execution_count": null,
      "metadata": {
        "id": "ZstQpD34oMUe"
      },
      "outputs": [],
      "source": [
        "# Create the hamiltonian operator for the bishop puzzle, add the tilting"
      ]
    },
    {
      "cell_type": "code",
      "execution_count": null,
      "metadata": {
        "id": "zqtfg5PXoQcV"
      },
      "outputs": [],
      "source": [
        "# Run the QAOA algorithm with the bishop puzzle to find the solutions and compare it with brute force ones"
      ]
    },
    {
      "cell_type": "markdown",
      "metadata": {
        "id": "pvb-M0uxojU_"
      },
      "source": [
        "# 3- The queens puzzle\n",
        "\n",
        "Now that we have analyzed both movements of the queens, we can put everything together and find a solution for the queens problem. For that, you only need to combine the two body interactions of the rooks with those of the bishops and voila! The queens cost hamiltonian is done!\n",
        "\n",
        "Repeat again the previous steps to find the solution for the queens puzzle for 3x3 and 4x4 boards. You can jump some steps if you find them unnecessary, but at the end you should compare the brute force solutions with those obtained by QAOA"
      ]
    },
    {
      "cell_type": "code",
      "execution_count": null,
      "metadata": {
        "id": "wJwFQ2MTqgqV"
      },
      "outputs": [],
      "source": [
        "# Create the brute force function to find the solutions of the queens puzzle"
      ]
    },
    {
      "cell_type": "code",
      "execution_count": null,
      "metadata": {
        "id": "Vl3kwfUNqgqW"
      },
      "outputs": [],
      "source": [
        "# Create the coefficients of the classical cost function for the queens puzzle"
      ]
    },
    {
      "cell_type": "code",
      "execution_count": null,
      "metadata": {
        "id": "oMtMe06DqgqW"
      },
      "outputs": [],
      "source": [
        "# Create the hamiltonian operator for the queens puzzle, add the tilting"
      ]
    },
    {
      "cell_type": "code",
      "execution_count": null,
      "metadata": {
        "id": "3uYCm2SHqgqW"
      },
      "outputs": [],
      "source": [
        "# Run the QAOA algorithm with the queens puzzle to find the solutions and compare it with brute force ones"
      ]
    },
    {
      "cell_type": "markdown",
      "metadata": {
        "id": "VO7oLhrArOU5"
      },
      "source": [
        "> Note: The 3x3 board solution only has 2 queens, while the 4x4 one has 4 queens."
      ]
    },
    {
      "cell_type": "markdown",
      "metadata": {
        "id": "bxqhxp0Gqx6J"
      },
      "source": [
        "# 4- Going to utility-scale problems\n",
        "\n",
        "Now that you have solved small instances of the queens puzzle you might think, what's next?? Prepare for the most difficult and exciting part of the challenge!!\n",
        "\n",
        "The previous sections where only restricted to 3x3 and 4x4 boards because bigger circuits are much expensive to simulate using classical computers and will take a lot of time to do the optimization. Then, you might think, Is this worthy?\n",
        "Yes, it is. If we run it on a quantum computer!!\n",
        "Try to run 5x5 and 6x6 boards on it!.\n",
        "\n",
        "Go again to [IBM web](https://learning.quantum.ibm.com/tutorial/quantum-approximate-optimization-algorithm) and try to run a bigger board instance in real quantum hardware.\n",
        "For that you will need to register on ibm and you will have a maximum of 10 minutes of Q-computations, so be cautious. Plan everything before running it and save every result obtained to present it in the final report."
      ]
    },
    {
      "cell_type": "code",
      "execution_count": null,
      "metadata": {
        "id": "AwHB_Vkmq0u1"
      },
      "outputs": [],
      "source": [
        "# Your code here"
      ]
    },
    {
      "cell_type": "markdown",
      "metadata": {
        "id": "VjCyKVrK8CJg"
      },
      "source": [
        "# EXTRA 1: A farm of horses\n",
        "\n",
        "The queens and rooks and bishops move in lines, but what about horses?\n",
        "\n",
        "Explore the possible configurations solutions for the horses puzzle for small boards. Is this problem as easy to converge than the other instances? Which is the biggest difference?"
      ]
    },
    {
      "cell_type": "code",
      "execution_count": null,
      "metadata": {
        "id": "x1yKOmaU8jUa"
      },
      "outputs": [],
      "source": [
        "# Your code here"
      ]
    },
    {
      "cell_type": "markdown",
      "metadata": {
        "id": "5nuGp1Lb8j2w"
      },
      "source": [
        "# EXTRA 2: A parallel story\n",
        "\n",
        "If you are here, well done, you have already finished all the challenge but if you are still hungry I can provide you more challenging questions. You can of course decline this invitation and enjoy your well deserved rest.\n",
        "\n",
        "Read the following works about the queens puzzle and compare what they propose with the things that we have done here:\n",
        "\n",
        "- https://arxiv.org/html/2312.16312v1\n",
        "- https://quantum-journal.org/papers/q-2019-06-03-149/\n",
        "\n",
        "Based on those articles, which changes should be done to improve the resolution of the problem? Do you think that this will make a substantial change on your outcomes?\n",
        "\n",
        "Can you improve the solution of the problem? Maybe propose a new mapping?"
      ]
    },
    {
      "cell_type": "code",
      "execution_count": null,
      "metadata": {
        "id": "R42XNMQ7-SKs"
      },
      "outputs": [],
      "source": [
        "# Your code here"
      ]
    }
  ],
  "metadata": {
    "colab": {
      "provenance": []
    },
    "kernelspec": {
      "display_name": "Python 3",
      "name": "python3"
    },
    "language_info": {
      "name": "python"
    }
  },
  "nbformat": 4,
  "nbformat_minor": 0
}
