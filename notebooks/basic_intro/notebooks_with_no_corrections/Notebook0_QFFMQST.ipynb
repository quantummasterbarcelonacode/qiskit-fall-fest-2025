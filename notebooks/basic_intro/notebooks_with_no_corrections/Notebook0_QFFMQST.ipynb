{
  "nbformat": 4,
  "nbformat_minor": 0,
  "metadata": {
    "colab": {
      "provenance": []
    },
    "kernelspec": {
      "name": "python3",
      "display_name": "Python 3"
    },
    "language_info": {
      "name": "python"
    }
  },
  "cells": [
    {
      "cell_type": "markdown",
      "source": [
        "# Table of Contents\n",
        "\n",
        "* [Welcome to the Qiskit Fall Fest MQST](#welcome)\n",
        "  * [Install Qiskit](#install)\n",
        "* [Generate a two-qubit Bell state using Qiskit patterns](#generate)\n",
        "  * [Step 1: Map circuits and operators](#step-1)\n",
        "  * [Step 2: Optimize the circuit](#step-2)\n",
        "  * [Step 3: Execute the circuit](#step-3)\n",
        "  * [Step 4: Post-process the results](#step-4)\n"
      ],
      "metadata": {
        "id": "7DKYdBytxm9u"
      }
    },
    {
      "cell_type": "markdown",
      "source": [
        "\n",
        "# Welcome to the Qiskit Fall Fest MQST! <a name=\"welcome\"></a>\n",
        "\n",
        "This notebook is meant for testing the Qiskit installation, even beginners. In the notebook, you will find links to documentation, tutorials, and other helpful resources you might need to understand the problem. You can also find most of these resources on IBM's new home for quantum education: [IBM Quantum Learning](https://learning.quantum.ibm.com/). We hope you'll take some time to explore it.\n",
        "\n",
        "It's important to note that you should **run each code cell**."
      ],
      "metadata": {
        "id": "wqgBeSJTx9MF"
      }
    },
    {
      "cell_type": "markdown",
      "source": [
        "## Install Qiskit <a name=\"install\"></a>\n",
        "\n",
        "You need to have Qiskit installed to successfully complete the Qiskit Fall Fest MQST Challenge.\n",
        "\n",
        "The next few cells contain all the install commands for you to run.\n",
        "\n",
        "If you would prefer to follow a video guide on how to install and run Qiskit *locally*, [watch this video to walk you through every step of the process](https://www.youtube.com/watch?v=dZWz4Gs_BuI)."
      ],
      "metadata": {
        "id": "tjezHCoHFMlA"
      }
    },
    {
      "cell_type": "code",
      "execution_count": null,
      "metadata": {
        "collapsed": true,
        "id": "loMy_KexbeZk"
      },
      "outputs": [],
      "source": [
        "### INSTALL QISKIT: Cloud-based environment or Locally on Windows ###\n",
        "\n",
        "%pip install qiskit[visualization]==1.2.1"
      ]
    },
    {
      "cell_type": "code",
      "source": [
        "### INSTALL QISKIT: Locally on a Mac or Linux ###\n",
        "\n",
        "%pip install 'qiskit[visualization]'==1.2.1"
      ],
      "metadata": {
        "id": "To2WB4P1wtj_"
      },
      "execution_count": null,
      "outputs": []
    },
    {
      "cell_type": "markdown",
      "source": [
        "Install other required packages as well"
      ],
      "metadata": {
        "id": "7mGXs879PR7y"
      }
    },
    {
      "cell_type": "code",
      "source": [
        "### Install the other required packages as well\n",
        "\n",
        "%pip install qiskit_aer\n",
        "%pip install qiskit_ibm_runtime\n",
        "%pip install matplotlib\n",
        "%pip install pylatexenc\n",
        "%pip install qiskit-transpiler-service"
      ],
      "metadata": {
        "collapsed": true,
        "id": "3kTsZsG6IOKC"
      },
      "execution_count": null,
      "outputs": []
    },
    {
      "cell_type": "markdown",
      "source": [
        "And finally, we will run all the required imports for the rest of the Notebook in the next cell, to keep things clean."
      ],
      "metadata": {
        "id": "cw_3EQ4QLyWG"
      }
    },
    {
      "cell_type": "code",
      "source": [
        "### Imports\n",
        "\n",
        "from qiskit import QuantumCircuit\n",
        "from qiskit.quantum_info import SparsePauliOp\n",
        "from qiskit_ibm_runtime import EstimatorV2 as Estimator\n",
        "from qiskit_aer import AerSimulator\n",
        "import matplotlib.pyplot as plt"
      ],
      "metadata": {
        "id": "zXmwzQvXLwFF"
      },
      "execution_count": null,
      "outputs": []
    },
    {
      "cell_type": "markdown",
      "source": [
        "# Generate a two-qubit Bell state using Qiskit patterns <a name=\"generate\"></a>\n",
        "\n",
        "In this notebook we follow along with the [third episode of Coding with Qiskit 1.x](https://www.youtube.com/watch?v=93-zLTppFZw&list=PLOFEBzvs-VvrgHZt3exM_NNiNKtZlHvZi&index=3). Our goal is to generate a two-qubit Bell state using the approach provided by **Qiskit patterns.**\n",
        "\n",
        "A Qiskit pattern is a four step workflow for setting up, running, and getting results from a quantum computer. This is the workflow designed to help you use utility-scale quantum computers. It works as follows:\n",
        "\n",
        "1. Map circuits and operators\n",
        "2. Optimize the circuit\n",
        "3. Execute the circuit\n",
        "4. Post-process the results"
      ],
      "metadata": {
        "id": "Zqj0XYS7JGV2"
      }
    },
    {
      "cell_type": "markdown",
      "source": [
        "##  Step 1: Map circuits and operators <a name=\"step-1\"></a>"
      ],
      "metadata": {
        "id": "frxvRIVzJaf6"
      }
    },
    {
      "cell_type": "markdown",
      "source": [
        "Mapping your problem to circuits and operators is fairly easy when you're only dealing with a handful of qubits, but can get more difficult as you scale up.\n",
        "First we apply a Hadamard gate to qubit 0, placing it in a superposition. Then we apply a CNOT gate between qubits 0 and 1. The CNOT effectively entangles our qubits, meaning that when we measure the output of this circuit we should expect to see that both qubits share a measurement result.\n",
        "\n",
        "If that made sense to you, nice job, you're ready to go. However, if that went over your head, the Challenge will be quite difficult for you. You may want to take this time to review the course on [Quantum Information and Computation](https://learning.quantum.ibm.com/course/basics-of-quantum-information/quantum-circuits)."
      ],
      "metadata": {
        "id": "_Tm0HXqzJcbm"
      }
    },
    {
      "cell_type": "code",
      "source": [
        "# Create a new circuit with two qubits\n",
        "qc = QuantumCircuit(2)\n",
        "\n",
        "# Add a Hadamard gate to qubit 0\n",
        "qc.h(0)\n",
        "\n",
        "# Perform a CNOT gate on qubit 1, controlled by qubit 0\n",
        "qc.cx(0, 1)\n",
        "\n",
        "# Return a drawing of the circuit using MatPlotLib (\"mpl\"). This is the\n",
        "# last line of the cell, so the drawing appears in the cell output.\n",
        "qc.draw(\"mpl\")"
      ],
      "metadata": {
        "id": "CPVwenXNJohi"
      },
      "execution_count": null,
      "outputs": []
    },
    {
      "cell_type": "markdown",
      "source": [
        "We also want to be able to visualize that our circuit does what we expect it to do. To accomplish this, let's set up some **operators**.\n",
        "\n",
        "Here we create some operators for our two qubits. Some (like `XX`)  measure both qubits, while others (like `XI`) only measure one. Later we will check their expectation values to make sure our circuit is working properly. Because we've created an entangled Bell state, we should expect that our operators only measuring one qubit have an expectation value of 0. Similarly, we should expect the operators which measure both qubits to come back with some non-zero (hopefully close to 1) expectation value.\n"
      ],
      "metadata": {
        "id": "MSco1NxSKbrD"
      }
    },
    {
      "cell_type": "code",
      "source": [
        "# The IZ applies a Identity operator on qubit 0, and a Z operator on qubit 1\n",
        "IZ = SparsePauliOp('IZ')\n",
        "# The IX applies an Identity operator on qubit 0, and an X operator on qubit 1\n",
        "IX = SparsePauliOp('IX')\n",
        "# The ZI applies a Z operator on qubit 0, and an Identity operator on qubit 1\n",
        "ZI = SparsePauliOp('ZI')\n",
        "# The XI applies an X operator on qubit 0, and an Identity operator on qubit 1\n",
        "XI = SparsePauliOp('XI')\n",
        "# The ZZ applies a Z operator on qubit 0, and a Z operator on qubit 1\n",
        "ZZ = SparsePauliOp('ZZ')\n",
        "# The XX applies a X operator on qubit 0, and an X operator on qubit 1\n",
        "XX = SparsePauliOp('XX')\n",
        "\n",
        "\n",
        "\n",
        "## Don't change any code past this line, but remember to run the cell.\n",
        "\n",
        "observables = [IZ, IX, ZI, XI, ZZ, XX]"
      ],
      "metadata": {
        "id": "qZ65ddpZKm82"
      },
      "execution_count": null,
      "outputs": []
    },
    {
      "cell_type": "markdown",
      "source": [
        "## Step 2: Optimize the circuit <a name=\"step-2\"></a>"
      ],
      "metadata": {
        "id": "X8BP3TWeNA_H"
      }
    },
    {
      "cell_type": "markdown",
      "source": [
        "A Qiskit pattern is the best framework for working with a quantum computer at *utility scale* — the point where quantum computers can perform reliable computations at a scale beyond brute force classical computing methods. These computations can use hundreds of qubits. However, in this intro section, we're only using two qubits. So, that means we do not need to do any work here to optimize the circuit.\n",
        "\n",
        "To optimize the circuit, we can use the Qiskit transpiler. During transpilation, we can optimally layout our qubits to minimize the required number of gates, for example. For now, you can move on to the next step of the pattern."
      ],
      "metadata": {
        "id": "_yl-RGQhNCuG"
      }
    },
    {
      "cell_type": "markdown",
      "source": [
        "## Step 3: Execute the circuit <a name=\"step-3\"></a>"
      ],
      "metadata": {
        "id": "PE0AlQWbNN43"
      }
    },
    {
      "cell_type": "markdown",
      "source": [
        "Time to run the circuit. Qiskit Runtime gives us the easiest means of running our circuit.\n",
        "\n",
        "Here we run our circuit using the Estimator, then save the results as the variable `job`."
      ],
      "metadata": {
        "id": "qEa7pAW2NP1F"
      }
    },
    {
      "cell_type": "code",
      "source": [
        "# Set up the Estimator\n",
        "estimator = Estimator(mode=AerSimulator())\n",
        "\n",
        "# Submit the circuit to Estimator\n",
        "pub = (qc, observables)\n",
        "\n",
        "job = estimator.run(pubs=[pub])"
      ],
      "metadata": {
        "id": "qBYDPC63NemN"
      },
      "execution_count": null,
      "outputs": []
    },
    {
      "cell_type": "markdown",
      "source": [
        "## Step 4: Post-process the results <a name=\"step-4\"></a>"
      ],
      "metadata": {
        "id": "2zh6icEaNg4e"
      }
    },
    {
      "cell_type": "markdown",
      "source": [
        "The last step of Qiskit patterns is where we process, analyze, and visualize the results of our job. There are many ways you can choose to do this.\n",
        "Here we are going to collect our data and plot it on a graph we construct."
      ],
      "metadata": {
        "id": "3OoqBCVzNjZc"
      }
    },
    {
      "cell_type": "code",
      "source": [
        "# Collect the data\n",
        "data = ['IZ', 'IX', 'ZI', 'XI', 'ZZ', 'XX']\n",
        "values = job.result()[0].data.evs\n",
        "\n",
        "# Set up our graph\n",
        "container = plt.bar(data, values, width=0.8)\n",
        "\n",
        "# Label each axis\n",
        "plt.xlabel('Observables')\n",
        "plt.ylabel('Values')\n",
        "\n",
        "# Draw the final graph\n",
        "plt.show()"
      ],
      "metadata": {
        "collapsed": true,
        "id": "zkpfaOKUNrIA"
      },
      "execution_count": null,
      "outputs": []
    },
    {
      "cell_type": "markdown",
      "source": [
        "You *should* see the operators which measure both qubits (`ZZ` and `XX`) have a value that's close to 1, and the other operators have a value that's close to 0. This shows that your circuit is entangled. Great work!"
      ],
      "metadata": {
        "id": "iRj5DngROc4F"
      }
    }
  ]
}