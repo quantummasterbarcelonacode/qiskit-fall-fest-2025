{
  "cells": [
    {
      "cell_type": "markdown",
      "metadata": {
        "id": "2Vs8xHHc1hsO"
      },
      "source": [
        "# Quantum Machine Learning challenge\n",
        "\n",
        "Welcome to the Quantum Machine Learning challenge of the MQST Qiskit Fall Fest!\n",
        "In this challenge, you will explore how quantum computing (QC) and machine learning (ML) can be brought together in the exciting field of Quantum Machine learning (QML). You will start using quantum computers for a simple classical classification task, and your fundamental challenge will be to design a \"Quantum Neural Network\" (QNN) that classifies input quantum data according to the phase it corresponds to.\n",
        "\n",
        "This challenge is divided in two parts:\n",
        "- Deal with a classical classification problem with a parametrized quantum computer. You will be asked to encode and process the data on a paramtrized quantum computer, and finally train it classically to attempt to solve the problem.\n",
        "- Deal with a quantum classification task, to learn to identify the phases, and reconstruct the phase diagram, of a quantum spin chain. You will reuse the process from the previous section, but instead of embeding classical data into the quantum computer, you will now input the spin states as the initial state of the quantum computer."
      ]
    },
    {
      "cell_type": "markdown",
      "metadata": {
        "id": "ukKywLp31hsS"
      },
      "source": [
        "#### First install the necessary packages if you haven't already:"
      ]
    },
    {
      "cell_type": "code",
      "execution_count": 3,
      "metadata": {
        "id": "EGKx3DhX1hsS",
        "colab": {
          "base_uri": "https://localhost:8080/",
          "height": 1000
        },
        "outputId": "a1bc7b1e-d02c-427d-b19d-9fdd418b8a1f"
      },
      "outputs": [
        {
          "output_type": "stream",
          "name": "stdout",
          "text": [
            "Requirement already satisfied: pip in /usr/local/lib/python3.12/dist-packages (24.1.2)\n",
            "Collecting pip\n",
            "  Downloading pip-25.3-py3-none-any.whl.metadata (4.7 kB)\n",
            "Downloading pip-25.3-py3-none-any.whl (1.8 MB)\n",
            "\u001b[2K   \u001b[90m━━━━━━━━━━━━━━━━━━━━━━━━━━━━━━━━━━━━━━━━\u001b[0m \u001b[32m1.8/1.8 MB\u001b[0m \u001b[31m23.2 MB/s\u001b[0m eta \u001b[36m0:00:00\u001b[0m\n",
            "\u001b[?25hInstalling collected packages: pip\n",
            "  Attempting uninstall: pip\n",
            "    Found existing installation: pip 24.1.2\n",
            "    Uninstalling pip-24.1.2:\n",
            "      Successfully uninstalled pip-24.1.2\n",
            "Successfully installed pip-25.3\n",
            "Collecting numpy==2.3.4\n",
            "  Downloading numpy-2.3.4-cp312-cp312-manylinux_2_27_x86_64.manylinux_2_28_x86_64.whl.metadata (62 kB)\n",
            "Downloading numpy-2.3.4-cp312-cp312-manylinux_2_27_x86_64.manylinux_2_28_x86_64.whl (16.6 MB)\n",
            "\u001b[2K   \u001b[90m━━━━━━━━━━━━━━━━━━━━━━━━━━━━━━━━━━━━━━━━\u001b[0m \u001b[32m16.6/16.6 MB\u001b[0m \u001b[31m26.1 MB/s\u001b[0m  \u001b[33m0:00:00\u001b[0m\n",
            "\u001b[?25hInstalling collected packages: numpy\n",
            "  Attempting uninstall: numpy\n",
            "    Found existing installation: numpy 2.0.2\n",
            "    Uninstalling numpy-2.0.2:\n",
            "      Successfully uninstalled numpy-2.0.2\n",
            "\u001b[31mERROR: pip's dependency resolver does not currently take into account all the packages that are installed. This behaviour is the source of the following dependency conflicts.\n",
            "tensorflow 2.19.0 requires numpy<2.2.0,>=1.26.0, but you have numpy 2.3.4 which is incompatible.\n",
            "cupy-cuda12x 13.3.0 requires numpy<2.3,>=1.22, but you have numpy 2.3.4 which is incompatible.\n",
            "opencv-contrib-python 4.12.0.88 requires numpy<2.3.0,>=2; python_version >= \"3.9\", but you have numpy 2.3.4 which is incompatible.\n",
            "opencv-python-headless 4.12.0.88 requires numpy<2.3.0,>=2; python_version >= \"3.9\", but you have numpy 2.3.4 which is incompatible.\n",
            "numba 0.60.0 requires numpy<2.1,>=1.22, but you have numpy 2.3.4 which is incompatible.\n",
            "opencv-python 4.12.0.88 requires numpy<2.3.0,>=2; python_version >= \"3.9\", but you have numpy 2.3.4 which is incompatible.\u001b[0m\u001b[31m\n",
            "\u001b[0mSuccessfully installed numpy-2.3.4\n"
          ]
        },
        {
          "output_type": "display_data",
          "data": {
            "application/vnd.colab-display-data+json": {
              "pip_warning": {
                "packages": [
                  "numpy"
                ]
              },
              "id": "ad671db73b224f488f08b6e58a55a67b"
            }
          },
          "metadata": {}
        },
        {
          "output_type": "stream",
          "name": "stdout",
          "text": [
            "Requirement already satisfied: scipy==1.16.2 in /usr/local/lib/python3.12/dist-packages (1.16.2)\n",
            "Requirement already satisfied: numpy<2.6,>=1.25.2 in /usr/local/lib/python3.12/dist-packages (from scipy==1.16.2) (2.3.4)\n",
            "Collecting matplotlib==3.10.7\n",
            "  Downloading matplotlib-3.10.7-cp312-cp312-manylinux2014_x86_64.manylinux_2_17_x86_64.whl.metadata (11 kB)\n",
            "Requirement already satisfied: contourpy>=1.0.1 in /usr/local/lib/python3.12/dist-packages (from matplotlib==3.10.7) (1.3.3)\n",
            "Requirement already satisfied: cycler>=0.10 in /usr/local/lib/python3.12/dist-packages (from matplotlib==3.10.7) (0.12.1)\n",
            "Requirement already satisfied: fonttools>=4.22.0 in /usr/local/lib/python3.12/dist-packages (from matplotlib==3.10.7) (4.60.1)\n",
            "Requirement already satisfied: kiwisolver>=1.3.1 in /usr/local/lib/python3.12/dist-packages (from matplotlib==3.10.7) (1.4.9)\n",
            "Requirement already satisfied: numpy>=1.23 in /usr/local/lib/python3.12/dist-packages (from matplotlib==3.10.7) (2.3.4)\n",
            "Requirement already satisfied: packaging>=20.0 in /usr/local/lib/python3.12/dist-packages (from matplotlib==3.10.7) (25.0)\n",
            "Requirement already satisfied: pillow>=8 in /usr/local/lib/python3.12/dist-packages (from matplotlib==3.10.7) (11.3.0)\n",
            "Requirement already satisfied: pyparsing>=3 in /usr/local/lib/python3.12/dist-packages (from matplotlib==3.10.7) (3.2.5)\n",
            "Requirement already satisfied: python-dateutil>=2.7 in /usr/local/lib/python3.12/dist-packages (from matplotlib==3.10.7) (2.9.0.post0)\n",
            "Requirement already satisfied: six>=1.5 in /usr/local/lib/python3.12/dist-packages (from python-dateutil>=2.7->matplotlib==3.10.7) (1.17.0)\n",
            "Downloading matplotlib-3.10.7-cp312-cp312-manylinux2014_x86_64.manylinux_2_17_x86_64.whl (8.7 MB)\n",
            "\u001b[2K   \u001b[90m━━━━━━━━━━━━━━━━━━━━━━━━━━━━━━━━━━━━━━━━\u001b[0m \u001b[32m8.7/8.7 MB\u001b[0m \u001b[31m23.8 MB/s\u001b[0m  \u001b[33m0:00:00\u001b[0m\n",
            "\u001b[?25hInstalling collected packages: matplotlib\n",
            "  Attempting uninstall: matplotlib\n",
            "    Found existing installation: matplotlib 3.10.0\n",
            "    Uninstalling matplotlib-3.10.0:\n",
            "      Successfully uninstalled matplotlib-3.10.0\n",
            "Successfully installed matplotlib-3.10.7\n"
          ]
        },
        {
          "output_type": "display_data",
          "data": {
            "application/vnd.colab-display-data+json": {
              "pip_warning": {
                "packages": [
                  "matplotlib",
                  "mpl_toolkits"
                ]
              },
              "id": "1f3ed4ceed80419fb3ac557984c6dea5"
            }
          },
          "metadata": {}
        },
        {
          "output_type": "stream",
          "name": "stdout",
          "text": [
            "Collecting jupyter\n",
            "  Downloading jupyter-1.1.1-py2.py3-none-any.whl.metadata (2.0 kB)\n",
            "Requirement already satisfied: notebook in /usr/local/lib/python3.12/dist-packages (from jupyter) (6.5.7)\n",
            "Requirement already satisfied: jupyter-console in /usr/local/lib/python3.12/dist-packages (from jupyter) (6.6.3)\n",
            "Requirement already satisfied: nbconvert in /usr/local/lib/python3.12/dist-packages (from jupyter) (7.16.6)\n",
            "Requirement already satisfied: ipykernel in /usr/local/lib/python3.12/dist-packages (from jupyter) (6.17.1)\n",
            "Requirement already satisfied: ipywidgets in /usr/local/lib/python3.12/dist-packages (from jupyter) (7.7.1)\n",
            "Collecting jupyterlab (from jupyter)\n",
            "  Downloading jupyterlab-4.4.10-py3-none-any.whl.metadata (16 kB)\n",
            "Requirement already satisfied: debugpy>=1.0 in /usr/local/lib/python3.12/dist-packages (from ipykernel->jupyter) (1.8.15)\n",
            "Requirement already satisfied: ipython>=7.23.1 in /usr/local/lib/python3.12/dist-packages (from ipykernel->jupyter) (7.34.0)\n",
            "Requirement already satisfied: jupyter-client>=6.1.12 in /usr/local/lib/python3.12/dist-packages (from ipykernel->jupyter) (7.4.9)\n",
            "Requirement already satisfied: matplotlib-inline>=0.1 in /usr/local/lib/python3.12/dist-packages (from ipykernel->jupyter) (0.1.7)\n",
            "Requirement already satisfied: nest-asyncio in /usr/local/lib/python3.12/dist-packages (from ipykernel->jupyter) (1.6.0)\n",
            "Requirement already satisfied: packaging in /usr/local/lib/python3.12/dist-packages (from ipykernel->jupyter) (25.0)\n",
            "Requirement already satisfied: psutil in /usr/local/lib/python3.12/dist-packages (from ipykernel->jupyter) (5.9.5)\n",
            "Requirement already satisfied: pyzmq>=17 in /usr/local/lib/python3.12/dist-packages (from ipykernel->jupyter) (26.2.1)\n",
            "Requirement already satisfied: tornado>=6.1 in /usr/local/lib/python3.12/dist-packages (from ipykernel->jupyter) (6.5.1)\n",
            "Requirement already satisfied: traitlets>=5.1.0 in /usr/local/lib/python3.12/dist-packages (from ipykernel->jupyter) (5.7.1)\n",
            "Requirement already satisfied: setuptools>=18.5 in /usr/local/lib/python3.12/dist-packages (from ipython>=7.23.1->ipykernel->jupyter) (75.2.0)\n",
            "Collecting jedi>=0.16 (from ipython>=7.23.1->ipykernel->jupyter)\n",
            "  Downloading jedi-0.19.2-py2.py3-none-any.whl.metadata (22 kB)\n",
            "Requirement already satisfied: decorator in /usr/local/lib/python3.12/dist-packages (from ipython>=7.23.1->ipykernel->jupyter) (4.4.2)\n",
            "Requirement already satisfied: pickleshare in /usr/local/lib/python3.12/dist-packages (from ipython>=7.23.1->ipykernel->jupyter) (0.7.5)\n",
            "Requirement already satisfied: prompt-toolkit!=3.0.0,!=3.0.1,<3.1.0,>=2.0.0 in /usr/local/lib/python3.12/dist-packages (from ipython>=7.23.1->ipykernel->jupyter) (3.0.52)\n",
            "Requirement already satisfied: pygments in /usr/local/lib/python3.12/dist-packages (from ipython>=7.23.1->ipykernel->jupyter) (2.19.2)\n",
            "Requirement already satisfied: backcall in /usr/local/lib/python3.12/dist-packages (from ipython>=7.23.1->ipykernel->jupyter) (0.2.0)\n",
            "Requirement already satisfied: pexpect>4.3 in /usr/local/lib/python3.12/dist-packages (from ipython>=7.23.1->ipykernel->jupyter) (4.9.0)\n",
            "Requirement already satisfied: wcwidth in /usr/local/lib/python3.12/dist-packages (from prompt-toolkit!=3.0.0,!=3.0.1,<3.1.0,>=2.0.0->ipython>=7.23.1->ipykernel->jupyter) (0.2.14)\n",
            "Requirement already satisfied: parso<0.9.0,>=0.8.4 in /usr/local/lib/python3.12/dist-packages (from jedi>=0.16->ipython>=7.23.1->ipykernel->jupyter) (0.8.5)\n",
            "Requirement already satisfied: entrypoints in /usr/local/lib/python3.12/dist-packages (from jupyter-client>=6.1.12->ipykernel->jupyter) (0.4)\n",
            "Requirement already satisfied: jupyter-core>=4.9.2 in /usr/local/lib/python3.12/dist-packages (from jupyter-client>=6.1.12->ipykernel->jupyter) (5.9.1)\n",
            "Requirement already satisfied: python-dateutil>=2.8.2 in /usr/local/lib/python3.12/dist-packages (from jupyter-client>=6.1.12->ipykernel->jupyter) (2.9.0.post0)\n",
            "Requirement already satisfied: platformdirs>=2.5 in /usr/local/lib/python3.12/dist-packages (from jupyter-core>=4.9.2->jupyter-client>=6.1.12->ipykernel->jupyter) (4.5.0)\n",
            "Requirement already satisfied: ptyprocess>=0.5 in /usr/local/lib/python3.12/dist-packages (from pexpect>4.3->ipython>=7.23.1->ipykernel->jupyter) (0.7.0)\n",
            "Requirement already satisfied: six>=1.5 in /usr/local/lib/python3.12/dist-packages (from python-dateutil>=2.8.2->jupyter-client>=6.1.12->ipykernel->jupyter) (1.17.0)\n",
            "Requirement already satisfied: ipython-genutils~=0.2.0 in /usr/local/lib/python3.12/dist-packages (from ipywidgets->jupyter) (0.2.0)\n",
            "Requirement already satisfied: widgetsnbextension~=3.6.0 in /usr/local/lib/python3.12/dist-packages (from ipywidgets->jupyter) (3.6.10)\n",
            "Requirement already satisfied: jupyterlab-widgets>=1.0.0 in /usr/local/lib/python3.12/dist-packages (from ipywidgets->jupyter) (3.0.15)\n",
            "Requirement already satisfied: jinja2 in /usr/local/lib/python3.12/dist-packages (from notebook->jupyter) (3.1.6)\n",
            "Requirement already satisfied: argon2-cffi in /usr/local/lib/python3.12/dist-packages (from notebook->jupyter) (25.1.0)\n",
            "Requirement already satisfied: nbformat in /usr/local/lib/python3.12/dist-packages (from notebook->jupyter) (5.10.4)\n",
            "Requirement already satisfied: Send2Trash>=1.8.0 in /usr/local/lib/python3.12/dist-packages (from notebook->jupyter) (1.8.3)\n",
            "Requirement already satisfied: terminado>=0.8.3 in /usr/local/lib/python3.12/dist-packages (from notebook->jupyter) (0.18.1)\n",
            "Requirement already satisfied: prometheus-client in /usr/local/lib/python3.12/dist-packages (from notebook->jupyter) (0.23.1)\n",
            "Requirement already satisfied: nbclassic>=0.4.7 in /usr/local/lib/python3.12/dist-packages (from notebook->jupyter) (1.3.3)\n",
            "Requirement already satisfied: notebook-shim>=0.2.3 in /usr/local/lib/python3.12/dist-packages (from nbclassic>=0.4.7->notebook->jupyter) (0.2.4)\n",
            "Requirement already satisfied: beautifulsoup4 in /usr/local/lib/python3.12/dist-packages (from nbconvert->jupyter) (4.13.5)\n",
            "Requirement already satisfied: bleach!=5.0.0 in /usr/local/lib/python3.12/dist-packages (from bleach[css]!=5.0.0->nbconvert->jupyter) (6.2.0)\n",
            "Requirement already satisfied: defusedxml in /usr/local/lib/python3.12/dist-packages (from nbconvert->jupyter) (0.7.1)\n",
            "Requirement already satisfied: jupyterlab-pygments in /usr/local/lib/python3.12/dist-packages (from nbconvert->jupyter) (0.3.0)\n",
            "Requirement already satisfied: markupsafe>=2.0 in /usr/local/lib/python3.12/dist-packages (from nbconvert->jupyter) (3.0.3)\n",
            "Requirement already satisfied: mistune<4,>=2.0.3 in /usr/local/lib/python3.12/dist-packages (from nbconvert->jupyter) (3.1.4)\n",
            "Requirement already satisfied: nbclient>=0.5.0 in /usr/local/lib/python3.12/dist-packages (from nbconvert->jupyter) (0.10.2)\n",
            "Requirement already satisfied: pandocfilters>=1.4.1 in /usr/local/lib/python3.12/dist-packages (from nbconvert->jupyter) (1.5.1)\n",
            "Requirement already satisfied: webencodings in /usr/local/lib/python3.12/dist-packages (from bleach!=5.0.0->bleach[css]!=5.0.0->nbconvert->jupyter) (0.5.1)\n",
            "Requirement already satisfied: tinycss2<1.5,>=1.1.0 in /usr/local/lib/python3.12/dist-packages (from bleach[css]!=5.0.0->nbconvert->jupyter) (1.4.0)\n",
            "Requirement already satisfied: fastjsonschema>=2.15 in /usr/local/lib/python3.12/dist-packages (from nbformat->notebook->jupyter) (2.21.2)\n",
            "Requirement already satisfied: jsonschema>=2.6 in /usr/local/lib/python3.12/dist-packages (from nbformat->notebook->jupyter) (4.25.1)\n",
            "Requirement already satisfied: attrs>=22.2.0 in /usr/local/lib/python3.12/dist-packages (from jsonschema>=2.6->nbformat->notebook->jupyter) (25.4.0)\n",
            "Requirement already satisfied: jsonschema-specifications>=2023.03.6 in /usr/local/lib/python3.12/dist-packages (from jsonschema>=2.6->nbformat->notebook->jupyter) (2025.9.1)\n",
            "Requirement already satisfied: referencing>=0.28.4 in /usr/local/lib/python3.12/dist-packages (from jsonschema>=2.6->nbformat->notebook->jupyter) (0.37.0)\n",
            "Requirement already satisfied: rpds-py>=0.7.1 in /usr/local/lib/python3.12/dist-packages (from jsonschema>=2.6->nbformat->notebook->jupyter) (0.27.1)\n",
            "Requirement already satisfied: jupyter-server<3,>=1.8 in /usr/local/lib/python3.12/dist-packages (from notebook-shim>=0.2.3->nbclassic>=0.4.7->notebook->jupyter) (2.14.0)\n",
            "Requirement already satisfied: anyio>=3.1.0 in /usr/local/lib/python3.12/dist-packages (from jupyter-server<3,>=1.8->notebook-shim>=0.2.3->nbclassic>=0.4.7->notebook->jupyter) (4.11.0)\n",
            "Requirement already satisfied: jupyter-events>=0.9.0 in /usr/local/lib/python3.12/dist-packages (from jupyter-server<3,>=1.8->notebook-shim>=0.2.3->nbclassic>=0.4.7->notebook->jupyter) (0.12.0)\n",
            "Requirement already satisfied: jupyter-server-terminals>=0.4.4 in /usr/local/lib/python3.12/dist-packages (from jupyter-server<3,>=1.8->notebook-shim>=0.2.3->nbclassic>=0.4.7->notebook->jupyter) (0.5.3)\n",
            "Requirement already satisfied: overrides>=5.0 in /usr/local/lib/python3.12/dist-packages (from jupyter-server<3,>=1.8->notebook-shim>=0.2.3->nbclassic>=0.4.7->notebook->jupyter) (7.7.0)\n",
            "Requirement already satisfied: websocket-client>=1.7 in /usr/local/lib/python3.12/dist-packages (from jupyter-server<3,>=1.8->notebook-shim>=0.2.3->nbclassic>=0.4.7->notebook->jupyter) (1.9.0)\n",
            "Requirement already satisfied: idna>=2.8 in /usr/local/lib/python3.12/dist-packages (from anyio>=3.1.0->jupyter-server<3,>=1.8->notebook-shim>=0.2.3->nbclassic>=0.4.7->notebook->jupyter) (3.11)\n",
            "Requirement already satisfied: sniffio>=1.1 in /usr/local/lib/python3.12/dist-packages (from anyio>=3.1.0->jupyter-server<3,>=1.8->notebook-shim>=0.2.3->nbclassic>=0.4.7->notebook->jupyter) (1.3.1)\n",
            "Requirement already satisfied: typing_extensions>=4.5 in /usr/local/lib/python3.12/dist-packages (from anyio>=3.1.0->jupyter-server<3,>=1.8->notebook-shim>=0.2.3->nbclassic>=0.4.7->notebook->jupyter) (4.15.0)\n",
            "Requirement already satisfied: argon2-cffi-bindings in /usr/local/lib/python3.12/dist-packages (from argon2-cffi->notebook->jupyter) (25.1.0)\n",
            "Requirement already satisfied: python-json-logger>=2.0.4 in /usr/local/lib/python3.12/dist-packages (from jupyter-events>=0.9.0->jupyter-server<3,>=1.8->notebook-shim>=0.2.3->nbclassic>=0.4.7->notebook->jupyter) (4.0.0)\n",
            "Requirement already satisfied: pyyaml>=5.3 in /usr/local/lib/python3.12/dist-packages (from jupyter-events>=0.9.0->jupyter-server<3,>=1.8->notebook-shim>=0.2.3->nbclassic>=0.4.7->notebook->jupyter) (6.0.3)\n",
            "Requirement already satisfied: rfc3339-validator in /usr/local/lib/python3.12/dist-packages (from jupyter-events>=0.9.0->jupyter-server<3,>=1.8->notebook-shim>=0.2.3->nbclassic>=0.4.7->notebook->jupyter) (0.1.4)\n",
            "Requirement already satisfied: rfc3986-validator>=0.1.1 in /usr/local/lib/python3.12/dist-packages (from jupyter-events>=0.9.0->jupyter-server<3,>=1.8->notebook-shim>=0.2.3->nbclassic>=0.4.7->notebook->jupyter) (0.1.1)\n",
            "Requirement already satisfied: fqdn in /usr/local/lib/python3.12/dist-packages (from jsonschema[format-nongpl]>=4.18.0->jupyter-events>=0.9.0->jupyter-server<3,>=1.8->notebook-shim>=0.2.3->nbclassic>=0.4.7->notebook->jupyter) (1.5.1)\n",
            "Requirement already satisfied: isoduration in /usr/local/lib/python3.12/dist-packages (from jsonschema[format-nongpl]>=4.18.0->jupyter-events>=0.9.0->jupyter-server<3,>=1.8->notebook-shim>=0.2.3->nbclassic>=0.4.7->notebook->jupyter) (20.11.0)\n",
            "Requirement already satisfied: jsonpointer>1.13 in /usr/local/lib/python3.12/dist-packages (from jsonschema[format-nongpl]>=4.18.0->jupyter-events>=0.9.0->jupyter-server<3,>=1.8->notebook-shim>=0.2.3->nbclassic>=0.4.7->notebook->jupyter) (3.0.0)\n",
            "Requirement already satisfied: rfc3987-syntax>=1.1.0 in /usr/local/lib/python3.12/dist-packages (from jsonschema[format-nongpl]>=4.18.0->jupyter-events>=0.9.0->jupyter-server<3,>=1.8->notebook-shim>=0.2.3->nbclassic>=0.4.7->notebook->jupyter) (1.1.0)\n",
            "Requirement already satisfied: uri-template in /usr/local/lib/python3.12/dist-packages (from jsonschema[format-nongpl]>=4.18.0->jupyter-events>=0.9.0->jupyter-server<3,>=1.8->notebook-shim>=0.2.3->nbclassic>=0.4.7->notebook->jupyter) (1.3.0)\n",
            "Requirement already satisfied: webcolors>=24.6.0 in /usr/local/lib/python3.12/dist-packages (from jsonschema[format-nongpl]>=4.18.0->jupyter-events>=0.9.0->jupyter-server<3,>=1.8->notebook-shim>=0.2.3->nbclassic>=0.4.7->notebook->jupyter) (24.11.1)\n",
            "Requirement already satisfied: lark>=1.2.2 in /usr/local/lib/python3.12/dist-packages (from rfc3987-syntax>=1.1.0->jsonschema[format-nongpl]>=4.18.0->jupyter-events>=0.9.0->jupyter-server<3,>=1.8->notebook-shim>=0.2.3->nbclassic>=0.4.7->notebook->jupyter) (1.3.0)\n",
            "Requirement already satisfied: cffi>=1.0.1 in /usr/local/lib/python3.12/dist-packages (from argon2-cffi-bindings->argon2-cffi->notebook->jupyter) (2.0.0)\n",
            "Requirement already satisfied: pycparser in /usr/local/lib/python3.12/dist-packages (from cffi>=1.0.1->argon2-cffi-bindings->argon2-cffi->notebook->jupyter) (2.23)\n",
            "Requirement already satisfied: soupsieve>1.2 in /usr/local/lib/python3.12/dist-packages (from beautifulsoup4->nbconvert->jupyter) (2.8)\n",
            "Requirement already satisfied: arrow>=0.15.0 in /usr/local/lib/python3.12/dist-packages (from isoduration->jsonschema[format-nongpl]>=4.18.0->jupyter-events>=0.9.0->jupyter-server<3,>=1.8->notebook-shim>=0.2.3->nbclassic>=0.4.7->notebook->jupyter) (1.4.0)\n",
            "Requirement already satisfied: tzdata in /usr/local/lib/python3.12/dist-packages (from arrow>=0.15.0->isoduration->jsonschema[format-nongpl]>=4.18.0->jupyter-events>=0.9.0->jupyter-server<3,>=1.8->notebook-shim>=0.2.3->nbclassic>=0.4.7->notebook->jupyter) (2025.2)\n",
            "Collecting async-lru>=1.0.0 (from jupyterlab->jupyter)\n",
            "  Downloading async_lru-2.0.5-py3-none-any.whl.metadata (4.5 kB)\n",
            "Requirement already satisfied: httpx<1,>=0.25.0 in /usr/local/lib/python3.12/dist-packages (from jupyterlab->jupyter) (0.28.1)\n",
            "Collecting jupyter-lsp>=2.0.0 (from jupyterlab->jupyter)\n",
            "  Downloading jupyter_lsp-2.3.0-py3-none-any.whl.metadata (1.8 kB)\n",
            "Collecting jupyterlab-server<3,>=2.27.1 (from jupyterlab->jupyter)\n",
            "  Downloading jupyterlab_server-2.28.0-py3-none-any.whl.metadata (5.9 kB)\n",
            "Requirement already satisfied: certifi in /usr/local/lib/python3.12/dist-packages (from httpx<1,>=0.25.0->jupyterlab->jupyter) (2025.10.5)\n",
            "Requirement already satisfied: httpcore==1.* in /usr/local/lib/python3.12/dist-packages (from httpx<1,>=0.25.0->jupyterlab->jupyter) (1.0.9)\n",
            "Requirement already satisfied: h11>=0.16 in /usr/local/lib/python3.12/dist-packages (from httpcore==1.*->httpx<1,>=0.25.0->jupyterlab->jupyter) (0.16.0)\n",
            "Requirement already satisfied: babel>=2.10 in /usr/local/lib/python3.12/dist-packages (from jupyterlab-server<3,>=2.27.1->jupyterlab->jupyter) (2.17.0)\n",
            "Collecting json5>=0.9.0 (from jupyterlab-server<3,>=2.27.1->jupyterlab->jupyter)\n",
            "  Downloading json5-0.12.1-py3-none-any.whl.metadata (36 kB)\n",
            "Requirement already satisfied: requests>=2.31 in /usr/local/lib/python3.12/dist-packages (from jupyterlab-server<3,>=2.27.1->jupyterlab->jupyter) (2.32.4)\n",
            "Requirement already satisfied: charset_normalizer<4,>=2 in /usr/local/lib/python3.12/dist-packages (from requests>=2.31->jupyterlab-server<3,>=2.27.1->jupyterlab->jupyter) (3.4.4)\n",
            "Requirement already satisfied: urllib3<3,>=1.21.1 in /usr/local/lib/python3.12/dist-packages (from requests>=2.31->jupyterlab-server<3,>=2.27.1->jupyterlab->jupyter) (2.5.0)\n",
            "Downloading jupyter-1.1.1-py2.py3-none-any.whl (2.7 kB)\n",
            "Downloading jedi-0.19.2-py2.py3-none-any.whl (1.6 MB)\n",
            "\u001b[2K   \u001b[90m━━━━━━━━━━━━━━━━━━━━━━━━━━━━━━━━━━━━━━━━\u001b[0m \u001b[32m1.6/1.6 MB\u001b[0m \u001b[31m32.7 MB/s\u001b[0m  \u001b[33m0:00:00\u001b[0m\n",
            "\u001b[?25hDownloading jupyterlab-4.4.10-py3-none-any.whl (12.3 MB)\n",
            "\u001b[2K   \u001b[90m━━━━━━━━━━━━━━━━━━━━━━━━━━━━━━━━━━━━━━━━\u001b[0m \u001b[32m12.3/12.3 MB\u001b[0m \u001b[31m146.4 MB/s\u001b[0m  \u001b[33m0:00:00\u001b[0m\n",
            "\u001b[?25hDownloading jupyterlab_server-2.28.0-py3-none-any.whl (59 kB)\n",
            "Downloading async_lru-2.0.5-py3-none-any.whl (6.1 kB)\n",
            "Downloading json5-0.12.1-py3-none-any.whl (36 kB)\n",
            "Downloading jupyter_lsp-2.3.0-py3-none-any.whl (76 kB)\n",
            "Installing collected packages: json5, jedi, async-lru, jupyterlab-server, jupyter-lsp, jupyterlab, jupyter\n",
            "\u001b[2K   \u001b[90m━━━━━━━━━━━━━━━━━━━━━━━━━━━━━━━━━━━━━━━━\u001b[0m \u001b[32m7/7\u001b[0m [jupyter]\n",
            "\u001b[1A\u001b[2KSuccessfully installed async-lru-2.0.5 jedi-0.19.2 json5-0.12.1 jupyter-1.1.1 jupyter-lsp-2.3.0 jupyterlab-4.4.10 jupyterlab-server-2.28.0\n",
            "Collecting qiskit==2.2 (from qiskit[visualization]==2.2)\n",
            "  Downloading qiskit-2.2.0-cp39-abi3-manylinux2014_x86_64.manylinux_2_17_x86_64.whl.metadata (12 kB)\n",
            "Collecting rustworkx>=0.15.0 (from qiskit==2.2->qiskit[visualization]==2.2)\n",
            "  Downloading rustworkx-0.17.1-cp39-abi3-manylinux_2_17_x86_64.manylinux2014_x86_64.whl.metadata (10 kB)\n",
            "Requirement already satisfied: numpy<3,>=1.17 in /usr/local/lib/python3.12/dist-packages (from qiskit==2.2->qiskit[visualization]==2.2) (2.3.4)\n",
            "Requirement already satisfied: scipy>=1.5 in /usr/local/lib/python3.12/dist-packages (from qiskit==2.2->qiskit[visualization]==2.2) (1.16.2)\n",
            "Requirement already satisfied: dill>=0.3 in /usr/local/lib/python3.12/dist-packages (from qiskit==2.2->qiskit[visualization]==2.2) (0.3.8)\n",
            "Collecting stevedore>=3.0.0 (from qiskit==2.2->qiskit[visualization]==2.2)\n",
            "  Downloading stevedore-5.5.0-py3-none-any.whl.metadata (2.2 kB)\n",
            "Requirement already satisfied: typing-extensions in /usr/local/lib/python3.12/dist-packages (from qiskit==2.2->qiskit[visualization]==2.2) (4.15.0)\n",
            "Requirement already satisfied: matplotlib>=3.3 in /usr/local/lib/python3.12/dist-packages (from qiskit[visualization]==2.2) (3.10.7)\n",
            "Requirement already satisfied: pydot in /usr/local/lib/python3.12/dist-packages (from qiskit[visualization]==2.2) (3.0.4)\n",
            "Requirement already satisfied: Pillow>=4.2.1 in /usr/local/lib/python3.12/dist-packages (from qiskit[visualization]==2.2) (11.3.0)\n",
            "Collecting pylatexenc>=1.4 (from qiskit[visualization]==2.2)\n",
            "  Downloading pylatexenc-2.10.tar.gz (162 kB)\n",
            "  Installing build dependencies ... \u001b[?25l\u001b[?25hdone\n",
            "  Getting requirements to build wheel ... \u001b[?25l\u001b[?25hdone\n",
            "  Preparing metadata (pyproject.toml) ... \u001b[?25l\u001b[?25hdone\n",
            "Requirement already satisfied: seaborn>=0.9.0 in /usr/local/lib/python3.12/dist-packages (from qiskit[visualization]==2.2) (0.13.2)\n",
            "Requirement already satisfied: sympy>=1.3 in /usr/local/lib/python3.12/dist-packages (from qiskit[visualization]==2.2) (1.13.3)\n",
            "Requirement already satisfied: contourpy>=1.0.1 in /usr/local/lib/python3.12/dist-packages (from matplotlib>=3.3->qiskit[visualization]==2.2) (1.3.3)\n",
            "Requirement already satisfied: cycler>=0.10 in /usr/local/lib/python3.12/dist-packages (from matplotlib>=3.3->qiskit[visualization]==2.2) (0.12.1)\n",
            "Requirement already satisfied: fonttools>=4.22.0 in /usr/local/lib/python3.12/dist-packages (from matplotlib>=3.3->qiskit[visualization]==2.2) (4.60.1)\n",
            "Requirement already satisfied: kiwisolver>=1.3.1 in /usr/local/lib/python3.12/dist-packages (from matplotlib>=3.3->qiskit[visualization]==2.2) (1.4.9)\n",
            "Requirement already satisfied: packaging>=20.0 in /usr/local/lib/python3.12/dist-packages (from matplotlib>=3.3->qiskit[visualization]==2.2) (25.0)\n",
            "Requirement already satisfied: pyparsing>=3 in /usr/local/lib/python3.12/dist-packages (from matplotlib>=3.3->qiskit[visualization]==2.2) (3.2.5)\n",
            "Requirement already satisfied: python-dateutil>=2.7 in /usr/local/lib/python3.12/dist-packages (from matplotlib>=3.3->qiskit[visualization]==2.2) (2.9.0.post0)\n",
            "Requirement already satisfied: six>=1.5 in /usr/local/lib/python3.12/dist-packages (from python-dateutil>=2.7->matplotlib>=3.3->qiskit[visualization]==2.2) (1.17.0)\n",
            "Requirement already satisfied: pandas>=1.2 in /usr/local/lib/python3.12/dist-packages (from seaborn>=0.9.0->qiskit[visualization]==2.2) (2.2.2)\n",
            "Requirement already satisfied: pytz>=2020.1 in /usr/local/lib/python3.12/dist-packages (from pandas>=1.2->seaborn>=0.9.0->qiskit[visualization]==2.2) (2025.2)\n",
            "Requirement already satisfied: tzdata>=2022.7 in /usr/local/lib/python3.12/dist-packages (from pandas>=1.2->seaborn>=0.9.0->qiskit[visualization]==2.2) (2025.2)\n",
            "Requirement already satisfied: mpmath<1.4,>=1.1.0 in /usr/local/lib/python3.12/dist-packages (from sympy>=1.3->qiskit[visualization]==2.2) (1.3.0)\n",
            "Downloading qiskit-2.2.0-cp39-abi3-manylinux2014_x86_64.manylinux_2_17_x86_64.whl (8.0 MB)\n",
            "\u001b[2K   \u001b[90m━━━━━━━━━━━━━━━━━━━━━━━━━━━━━━━━━━━━━━━━\u001b[0m \u001b[32m8.0/8.0 MB\u001b[0m \u001b[31m18.8 MB/s\u001b[0m  \u001b[33m0:00:00\u001b[0m\n",
            "\u001b[?25hDownloading rustworkx-0.17.1-cp39-abi3-manylinux_2_17_x86_64.manylinux2014_x86_64.whl (2.2 MB)\n",
            "\u001b[2K   \u001b[90m━━━━━━━━━━━━━━━━━━━━━━━━━━━━━━━━━━━━━━━━\u001b[0m \u001b[32m2.2/2.2 MB\u001b[0m \u001b[31m27.5 MB/s\u001b[0m  \u001b[33m0:00:00\u001b[0m\n",
            "\u001b[?25hDownloading stevedore-5.5.0-py3-none-any.whl (49 kB)\n",
            "Building wheels for collected packages: pylatexenc\n",
            "  Building wheel for pylatexenc (pyproject.toml) ... \u001b[?25l\u001b[?25hdone\n",
            "  Created wheel for pylatexenc: filename=pylatexenc-2.10-py3-none-any.whl size=136897 sha256=3af977e3c30b1565470ec715780d91da99b91dc1d309b378181d115191b38851\n",
            "  Stored in directory: /root/.cache/pip/wheels/06/3e/78/fa1588c1ae991bbfd814af2bcac6cef7a178beee1939180d46\n",
            "Successfully built pylatexenc\n",
            "Installing collected packages: pylatexenc, stevedore, rustworkx, qiskit\n",
            "\u001b[2K   \u001b[90m━━━━━━━━━━━━━━━━━━━━━━━━━━━━━━━━━━━━━━━━\u001b[0m \u001b[32m4/4\u001b[0m [qiskit]\n",
            "\u001b[1A\u001b[2KSuccessfully installed pylatexenc-2.10 qiskit-2.2.0 rustworkx-0.17.1 stevedore-5.5.0\n",
            "Collecting qiskit_algorithms==0.4.0\n",
            "  Downloading qiskit_algorithms-0.4.0-py3-none-any.whl.metadata (4.7 kB)\n",
            "Requirement already satisfied: qiskit>=1.0 in /usr/local/lib/python3.12/dist-packages (from qiskit_algorithms==0.4.0) (2.2.0)\n",
            "Requirement already satisfied: scipy>=1.4 in /usr/local/lib/python3.12/dist-packages (from qiskit_algorithms==0.4.0) (1.16.2)\n",
            "Requirement already satisfied: numpy>=1.17 in /usr/local/lib/python3.12/dist-packages (from qiskit_algorithms==0.4.0) (2.3.4)\n",
            "Requirement already satisfied: rustworkx>=0.15.0 in /usr/local/lib/python3.12/dist-packages (from qiskit>=1.0->qiskit_algorithms==0.4.0) (0.17.1)\n",
            "Requirement already satisfied: dill>=0.3 in /usr/local/lib/python3.12/dist-packages (from qiskit>=1.0->qiskit_algorithms==0.4.0) (0.3.8)\n",
            "Requirement already satisfied: stevedore>=3.0.0 in /usr/local/lib/python3.12/dist-packages (from qiskit>=1.0->qiskit_algorithms==0.4.0) (5.5.0)\n",
            "Requirement already satisfied: typing-extensions in /usr/local/lib/python3.12/dist-packages (from qiskit>=1.0->qiskit_algorithms==0.4.0) (4.15.0)\n",
            "Downloading qiskit_algorithms-0.4.0-py3-none-any.whl (327 kB)\n",
            "Installing collected packages: qiskit_algorithms\n",
            "Successfully installed qiskit_algorithms-0.4.0\n",
            "Collecting qiskit_aer==0.17.2\n",
            "  Downloading qiskit_aer-0.17.2-cp312-cp312-manylinux_2_17_x86_64.manylinux2014_x86_64.whl.metadata (8.3 kB)\n",
            "Requirement already satisfied: qiskit>=1.1.0 in /usr/local/lib/python3.12/dist-packages (from qiskit_aer==0.17.2) (2.2.0)\n",
            "Requirement already satisfied: numpy>=1.16.3 in /usr/local/lib/python3.12/dist-packages (from qiskit_aer==0.17.2) (2.3.4)\n",
            "Requirement already satisfied: scipy>=1.0 in /usr/local/lib/python3.12/dist-packages (from qiskit_aer==0.17.2) (1.16.2)\n",
            "Requirement already satisfied: psutil>=5 in /usr/local/lib/python3.12/dist-packages (from qiskit_aer==0.17.2) (5.9.5)\n",
            "Requirement already satisfied: python-dateutil>=2.8.0 in /usr/local/lib/python3.12/dist-packages (from qiskit_aer==0.17.2) (2.9.0.post0)\n",
            "Requirement already satisfied: six>=1.5 in /usr/local/lib/python3.12/dist-packages (from python-dateutil>=2.8.0->qiskit_aer==0.17.2) (1.17.0)\n",
            "Requirement already satisfied: rustworkx>=0.15.0 in /usr/local/lib/python3.12/dist-packages (from qiskit>=1.1.0->qiskit_aer==0.17.2) (0.17.1)\n",
            "Requirement already satisfied: dill>=0.3 in /usr/local/lib/python3.12/dist-packages (from qiskit>=1.1.0->qiskit_aer==0.17.2) (0.3.8)\n",
            "Requirement already satisfied: stevedore>=3.0.0 in /usr/local/lib/python3.12/dist-packages (from qiskit>=1.1.0->qiskit_aer==0.17.2) (5.5.0)\n",
            "Requirement already satisfied: typing-extensions in /usr/local/lib/python3.12/dist-packages (from qiskit>=1.1.0->qiskit_aer==0.17.2) (4.15.0)\n",
            "Downloading qiskit_aer-0.17.2-cp312-cp312-manylinux_2_17_x86_64.manylinux2014_x86_64.whl (12.4 MB)\n",
            "\u001b[2K   \u001b[90m━━━━━━━━━━━━━━━━━━━━━━━━━━━━━━━━━━━━━━━━\u001b[0m \u001b[32m12.4/12.4 MB\u001b[0m \u001b[31m93.7 MB/s\u001b[0m  \u001b[33m0:00:00\u001b[0m\n",
            "\u001b[?25hInstalling collected packages: qiskit_aer\n",
            "Successfully installed qiskit_aer-0.17.2\n",
            "Collecting qiskit_ibm_runtime==0.41.1\n",
            "  Downloading qiskit_ibm_runtime-0.41.1-py3-none-any.whl.metadata (21 kB)\n",
            "Requirement already satisfied: requests>=2.19 in /usr/local/lib/python3.12/dist-packages (from qiskit_ibm_runtime==0.41.1) (2.32.4)\n",
            "Collecting requests-ntlm>=1.1.0 (from qiskit_ibm_runtime==0.41.1)\n",
            "  Downloading requests_ntlm-1.3.0-py3-none-any.whl.metadata (2.4 kB)\n",
            "Requirement already satisfied: numpy>=1.13 in /usr/local/lib/python3.12/dist-packages (from qiskit_ibm_runtime==0.41.1) (2.3.4)\n",
            "Requirement already satisfied: urllib3>=1.21.1 in /usr/local/lib/python3.12/dist-packages (from qiskit_ibm_runtime==0.41.1) (2.5.0)\n",
            "Requirement already satisfied: python-dateutil>=2.8.0 in /usr/local/lib/python3.12/dist-packages (from qiskit_ibm_runtime==0.41.1) (2.9.0.post0)\n",
            "Collecting ibm-platform-services>=0.22.6 (from qiskit_ibm_runtime==0.41.1)\n",
            "  Downloading ibm_platform_services-0.69.0-py3-none-any.whl.metadata (9.0 kB)\n",
            "Requirement already satisfied: pydantic>=2.5.0 in /usr/local/lib/python3.12/dist-packages (from qiskit_ibm_runtime==0.41.1) (2.11.10)\n",
            "Requirement already satisfied: qiskit>=1.4.1 in /usr/local/lib/python3.12/dist-packages (from qiskit_ibm_runtime==0.41.1) (2.2.0)\n",
            "Requirement already satisfied: packaging in /usr/local/lib/python3.12/dist-packages (from qiskit_ibm_runtime==0.41.1) (25.0)\n",
            "Collecting ibm_cloud_sdk_core<4.0.0,>=3.24.2 (from ibm-platform-services>=0.22.6->qiskit_ibm_runtime==0.41.1)\n",
            "  Downloading ibm_cloud_sdk_core-3.24.2-py3-none-any.whl.metadata (8.7 kB)\n",
            "Requirement already satisfied: PyJWT<3.0.0,>=2.10.1 in /usr/local/lib/python3.12/dist-packages (from ibm_cloud_sdk_core<4.0.0,>=3.24.2->ibm-platform-services>=0.22.6->qiskit_ibm_runtime==0.41.1) (2.10.1)\n",
            "Requirement already satisfied: six>=1.5 in /usr/local/lib/python3.12/dist-packages (from python-dateutil>=2.8.0->qiskit_ibm_runtime==0.41.1) (1.17.0)\n",
            "Requirement already satisfied: charset_normalizer<4,>=2 in /usr/local/lib/python3.12/dist-packages (from requests>=2.19->qiskit_ibm_runtime==0.41.1) (3.4.4)\n",
            "Requirement already satisfied: idna<4,>=2.5 in /usr/local/lib/python3.12/dist-packages (from requests>=2.19->qiskit_ibm_runtime==0.41.1) (3.11)\n",
            "Requirement already satisfied: certifi>=2017.4.17 in /usr/local/lib/python3.12/dist-packages (from requests>=2.19->qiskit_ibm_runtime==0.41.1) (2025.10.5)\n",
            "Requirement already satisfied: annotated-types>=0.6.0 in /usr/local/lib/python3.12/dist-packages (from pydantic>=2.5.0->qiskit_ibm_runtime==0.41.1) (0.7.0)\n",
            "Requirement already satisfied: pydantic-core==2.33.2 in /usr/local/lib/python3.12/dist-packages (from pydantic>=2.5.0->qiskit_ibm_runtime==0.41.1) (2.33.2)\n",
            "Requirement already satisfied: typing-extensions>=4.12.2 in /usr/local/lib/python3.12/dist-packages (from pydantic>=2.5.0->qiskit_ibm_runtime==0.41.1) (4.15.0)\n",
            "Requirement already satisfied: typing-inspection>=0.4.0 in /usr/local/lib/python3.12/dist-packages (from pydantic>=2.5.0->qiskit_ibm_runtime==0.41.1) (0.4.2)\n",
            "Requirement already satisfied: rustworkx>=0.15.0 in /usr/local/lib/python3.12/dist-packages (from qiskit>=1.4.1->qiskit_ibm_runtime==0.41.1) (0.17.1)\n",
            "Requirement already satisfied: scipy>=1.5 in /usr/local/lib/python3.12/dist-packages (from qiskit>=1.4.1->qiskit_ibm_runtime==0.41.1) (1.16.2)\n",
            "Requirement already satisfied: dill>=0.3 in /usr/local/lib/python3.12/dist-packages (from qiskit>=1.4.1->qiskit_ibm_runtime==0.41.1) (0.3.8)\n",
            "Requirement already satisfied: stevedore>=3.0.0 in /usr/local/lib/python3.12/dist-packages (from qiskit>=1.4.1->qiskit_ibm_runtime==0.41.1) (5.5.0)\n",
            "Requirement already satisfied: cryptography>=1.3 in /usr/local/lib/python3.12/dist-packages (from requests-ntlm>=1.1.0->qiskit_ibm_runtime==0.41.1) (43.0.3)\n",
            "Collecting pyspnego>=0.4.0 (from requests-ntlm>=1.1.0->qiskit_ibm_runtime==0.41.1)\n",
            "  Downloading pyspnego-0.12.0-py3-none-any.whl.metadata (4.1 kB)\n",
            "Requirement already satisfied: cffi>=1.12 in /usr/local/lib/python3.12/dist-packages (from cryptography>=1.3->requests-ntlm>=1.1.0->qiskit_ibm_runtime==0.41.1) (2.0.0)\n",
            "Requirement already satisfied: pycparser in /usr/local/lib/python3.12/dist-packages (from cffi>=1.12->cryptography>=1.3->requests-ntlm>=1.1.0->qiskit_ibm_runtime==0.41.1) (2.23)\n",
            "Downloading qiskit_ibm_runtime-0.41.1-py3-none-any.whl (1.4 MB)\n",
            "\u001b[2K   \u001b[90m━━━━━━━━━━━━━━━━━━━━━━━━━━━━━━━━━━━━━━━━\u001b[0m \u001b[32m1.4/1.4 MB\u001b[0m \u001b[31m24.8 MB/s\u001b[0m  \u001b[33m0:00:00\u001b[0m\n",
            "\u001b[?25hDownloading ibm_platform_services-0.69.0-py3-none-any.whl (368 kB)\n",
            "Downloading ibm_cloud_sdk_core-3.24.2-py3-none-any.whl (75 kB)\n",
            "Downloading requests_ntlm-1.3.0-py3-none-any.whl (6.6 kB)\n",
            "Downloading pyspnego-0.12.0-py3-none-any.whl (130 kB)\n",
            "Installing collected packages: ibm_cloud_sdk_core, pyspnego, ibm-platform-services, requests-ntlm, qiskit_ibm_runtime\n",
            "\u001b[2K   \u001b[90m━━━━━━━━━━━━━━━━━━━━━━━━━━━━━━━━━━━━━━━━\u001b[0m \u001b[32m5/5\u001b[0m [qiskit_ibm_runtime]\n",
            "\u001b[1A\u001b[2KSuccessfully installed ibm-platform-services-0.69.0 ibm_cloud_sdk_core-3.24.2 pyspnego-0.12.0 qiskit_ibm_runtime-0.41.1 requests-ntlm-1.3.0\n",
            "Collecting qiskit_ibm_transpiler==0.14.3\n",
            "  Downloading qiskit_ibm_transpiler-0.14.3-py3-none-any.whl.metadata (11 kB)\n",
            "Requirement already satisfied: qiskit>=1.4.2 in /usr/local/lib/python3.12/dist-packages (from qiskit_ibm_transpiler==0.14.3) (2.2.0)\n",
            "Collecting backoff~=2.0 (from qiskit_ibm_transpiler==0.14.3)\n",
            "  Downloading backoff-2.2.1-py3-none-any.whl.metadata (14 kB)\n",
            "Collecting qiskit-qasm3-import~=0.4 (from qiskit_ibm_transpiler==0.14.3)\n",
            "  Downloading qiskit_qasm3_import-0.6.0-py3-none-any.whl.metadata (7.2 kB)\n",
            "Requirement already satisfied: requests~=2.0 in /usr/local/lib/python3.12/dist-packages (from qiskit_ibm_transpiler==0.14.3) (2.32.4)\n",
            "Collecting networkx==2.8.5 (from qiskit_ibm_transpiler==0.14.3)\n",
            "  Downloading networkx-2.8.5-py3-none-any.whl.metadata (5.0 kB)\n",
            "Requirement already satisfied: qiskit-ibm-runtime~=0.41.0 in /usr/local/lib/python3.12/dist-packages (from qiskit_ibm_transpiler==0.14.3) (0.41.1)\n",
            "Collecting qiskit-serverless~=0.26.0 (from qiskit_ibm_transpiler==0.14.3)\n",
            "  Downloading qiskit_serverless-0.26.1-py3-none-any.whl.metadata (5.4 kB)\n",
            "Requirement already satisfied: requests-ntlm>=1.1.0 in /usr/local/lib/python3.12/dist-packages (from qiskit-ibm-runtime~=0.41.0->qiskit_ibm_transpiler==0.14.3) (1.3.0)\n",
            "Requirement already satisfied: numpy>=1.13 in /usr/local/lib/python3.12/dist-packages (from qiskit-ibm-runtime~=0.41.0->qiskit_ibm_transpiler==0.14.3) (2.3.4)\n",
            "Requirement already satisfied: urllib3>=1.21.1 in /usr/local/lib/python3.12/dist-packages (from qiskit-ibm-runtime~=0.41.0->qiskit_ibm_transpiler==0.14.3) (2.5.0)\n",
            "Requirement already satisfied: python-dateutil>=2.8.0 in /usr/local/lib/python3.12/dist-packages (from qiskit-ibm-runtime~=0.41.0->qiskit_ibm_transpiler==0.14.3) (2.9.0.post0)\n",
            "Requirement already satisfied: ibm-platform-services>=0.22.6 in /usr/local/lib/python3.12/dist-packages (from qiskit-ibm-runtime~=0.41.0->qiskit_ibm_transpiler==0.14.3) (0.69.0)\n",
            "Requirement already satisfied: pydantic>=2.5.0 in /usr/local/lib/python3.12/dist-packages (from qiskit-ibm-runtime~=0.41.0->qiskit_ibm_transpiler==0.14.3) (2.11.10)\n",
            "Requirement already satisfied: packaging in /usr/local/lib/python3.12/dist-packages (from qiskit-ibm-runtime~=0.41.0->qiskit_ibm_transpiler==0.14.3) (25.0)\n",
            "Collecting openqasm3<2.0,>=0.4 (from openqasm3[parser]<2.0,>=0.4->qiskit-qasm3-import~=0.4->qiskit_ibm_transpiler==0.14.3)\n",
            "  Downloading openqasm3-1.0.1-py3-none-any.whl.metadata (6.0 kB)\n",
            "Requirement already satisfied: antlr4_python3_runtime<4.14,>=4.7 in /usr/local/lib/python3.12/dist-packages (from openqasm3[parser]<2.0,>=0.4->qiskit-qasm3-import~=0.4->qiskit_ibm_transpiler==0.14.3) (4.9.3)\n",
            "Collecting ray<3,>=2.30 (from ray[default]<3,>=2.30->qiskit-serverless~=0.26.0->qiskit_ibm_transpiler==0.14.3)\n",
            "  Downloading ray-2.50.1-cp312-cp312-manylinux2014_x86_64.whl.metadata (21 kB)\n",
            "Requirement already satisfied: importlib-metadata<9,>=5.2.0 in /usr/local/lib/python3.12/dist-packages (from qiskit-serverless~=0.26.0->qiskit_ibm_transpiler==0.14.3) (8.7.0)\n",
            "Collecting cloudpickle==2.2.1 (from qiskit-serverless~=0.26.0->qiskit_ibm_transpiler==0.14.3)\n",
            "  Downloading cloudpickle-2.2.1-py3-none-any.whl.metadata (6.9 kB)\n",
            "Requirement already satisfied: tqdm<5,>=4.66.3 in /usr/local/lib/python3.12/dist-packages (from qiskit-serverless~=0.26.0->qiskit_ibm_transpiler==0.14.3) (4.67.1)\n",
            "Collecting opentelemetry-api<1.33.1,>=1.18.0 (from qiskit-serverless~=0.26.0->qiskit_ibm_transpiler==0.14.3)\n",
            "  Downloading opentelemetry_api-1.33.0-py3-none-any.whl.metadata (1.6 kB)\n",
            "Collecting opentelemetry-sdk<1.33.1,>=1.18.0 (from qiskit-serverless~=0.26.0->qiskit_ibm_transpiler==0.14.3)\n",
            "  Downloading opentelemetry_sdk-1.33.0-py3-none-any.whl.metadata (1.6 kB)\n",
            "Collecting opentelemetry-exporter-otlp-proto-grpc<1.33.1,>=1.18.0 (from qiskit-serverless~=0.26.0->qiskit_ibm_transpiler==0.14.3)\n",
            "  Downloading opentelemetry_exporter_otlp_proto_grpc-1.33.0-py3-none-any.whl.metadata (2.5 kB)\n",
            "Collecting opentelemetry-instrumentation-requests>=0.40b0 (from qiskit-serverless~=0.26.0->qiskit_ibm_transpiler==0.14.3)\n",
            "  Downloading opentelemetry_instrumentation_requests-0.59b0-py3-none-any.whl.metadata (2.6 kB)\n",
            "Collecting ipywidgets<9,>=8.1.6 (from qiskit-serverless~=0.26.0->qiskit_ibm_transpiler==0.14.3)\n",
            "  Downloading ipywidgets-8.1.7-py3-none-any.whl.metadata (2.4 kB)\n",
            "Collecting ipython<9,>=8.10.0 (from qiskit-serverless~=0.26.0->qiskit_ibm_transpiler==0.14.3)\n",
            "  Downloading ipython-8.37.0-py3-none-any.whl.metadata (5.1 kB)\n",
            "Requirement already satisfied: pyarrow<19,>=16.0.0 in /usr/local/lib/python3.12/dist-packages (from qiskit-serverless~=0.26.0->qiskit_ibm_transpiler==0.14.3) (18.1.0)\n",
            "Requirement already satisfied: aiohttp<4,>=3.10.0 in /usr/local/lib/python3.12/dist-packages (from qiskit-serverless~=0.26.0->qiskit_ibm_transpiler==0.14.3) (3.13.1)\n",
            "Collecting zipp==3.19.1 (from qiskit-serverless~=0.26.0->qiskit_ibm_transpiler==0.14.3)\n",
            "  Downloading zipp-3.19.1-py3-none-any.whl.metadata (3.5 kB)\n",
            "Collecting certifi==2024.7.4 (from qiskit-serverless~=0.26.0->qiskit_ibm_transpiler==0.14.3)\n",
            "  Downloading certifi-2024.7.4-py3-none-any.whl.metadata (2.2 kB)\n",
            "Requirement already satisfied: aiohappyeyeballs>=2.5.0 in /usr/local/lib/python3.12/dist-packages (from aiohttp<4,>=3.10.0->qiskit-serverless~=0.26.0->qiskit_ibm_transpiler==0.14.3) (2.6.1)\n",
            "Requirement already satisfied: aiosignal>=1.4.0 in /usr/local/lib/python3.12/dist-packages (from aiohttp<4,>=3.10.0->qiskit-serverless~=0.26.0->qiskit_ibm_transpiler==0.14.3) (1.4.0)\n",
            "Requirement already satisfied: attrs>=17.3.0 in /usr/local/lib/python3.12/dist-packages (from aiohttp<4,>=3.10.0->qiskit-serverless~=0.26.0->qiskit_ibm_transpiler==0.14.3) (25.4.0)\n",
            "Requirement already satisfied: frozenlist>=1.1.1 in /usr/local/lib/python3.12/dist-packages (from aiohttp<4,>=3.10.0->qiskit-serverless~=0.26.0->qiskit_ibm_transpiler==0.14.3) (1.8.0)\n",
            "Requirement already satisfied: multidict<7.0,>=4.5 in /usr/local/lib/python3.12/dist-packages (from aiohttp<4,>=3.10.0->qiskit-serverless~=0.26.0->qiskit_ibm_transpiler==0.14.3) (6.7.0)\n",
            "Requirement already satisfied: propcache>=0.2.0 in /usr/local/lib/python3.12/dist-packages (from aiohttp<4,>=3.10.0->qiskit-serverless~=0.26.0->qiskit_ibm_transpiler==0.14.3) (0.4.1)\n",
            "Requirement already satisfied: yarl<2.0,>=1.17.0 in /usr/local/lib/python3.12/dist-packages (from aiohttp<4,>=3.10.0->qiskit-serverless~=0.26.0->qiskit_ibm_transpiler==0.14.3) (1.22.0)\n",
            "INFO: pip is looking at multiple versions of importlib-metadata to determine which version is compatible with other requirements. This could take a while.\n",
            "Collecting importlib-metadata<9,>=5.2.0 (from qiskit-serverless~=0.26.0->qiskit_ibm_transpiler==0.14.3)\n",
            "  Downloading importlib_metadata-8.6.1-py3-none-any.whl.metadata (4.7 kB)\n",
            "  Downloading importlib_metadata-8.6.0-py3-none-any.whl.metadata (4.7 kB)\n",
            "  Downloading importlib_metadata-8.5.0-py3-none-any.whl.metadata (4.8 kB)\n",
            "  Downloading importlib_metadata-8.4.0-py3-none-any.whl.metadata (4.7 kB)\n",
            "Requirement already satisfied: decorator in /usr/local/lib/python3.12/dist-packages (from ipython<9,>=8.10.0->qiskit-serverless~=0.26.0->qiskit_ibm_transpiler==0.14.3) (4.4.2)\n",
            "Requirement already satisfied: jedi>=0.16 in /usr/local/lib/python3.12/dist-packages (from ipython<9,>=8.10.0->qiskit-serverless~=0.26.0->qiskit_ibm_transpiler==0.14.3) (0.19.2)\n",
            "Requirement already satisfied: matplotlib-inline in /usr/local/lib/python3.12/dist-packages (from ipython<9,>=8.10.0->qiskit-serverless~=0.26.0->qiskit_ibm_transpiler==0.14.3) (0.1.7)\n",
            "Requirement already satisfied: pexpect>4.3 in /usr/local/lib/python3.12/dist-packages (from ipython<9,>=8.10.0->qiskit-serverless~=0.26.0->qiskit_ibm_transpiler==0.14.3) (4.9.0)\n",
            "Requirement already satisfied: prompt_toolkit<3.1.0,>=3.0.41 in /usr/local/lib/python3.12/dist-packages (from ipython<9,>=8.10.0->qiskit-serverless~=0.26.0->qiskit_ibm_transpiler==0.14.3) (3.0.52)\n",
            "Requirement already satisfied: pygments>=2.4.0 in /usr/local/lib/python3.12/dist-packages (from ipython<9,>=8.10.0->qiskit-serverless~=0.26.0->qiskit_ibm_transpiler==0.14.3) (2.19.2)\n",
            "Collecting stack_data (from ipython<9,>=8.10.0->qiskit-serverless~=0.26.0->qiskit_ibm_transpiler==0.14.3)\n",
            "  Downloading stack_data-0.6.3-py3-none-any.whl.metadata (18 kB)\n",
            "Collecting traitlets>=5.13.0 (from ipython<9,>=8.10.0->qiskit-serverless~=0.26.0->qiskit_ibm_transpiler==0.14.3)\n",
            "  Downloading traitlets-5.14.3-py3-none-any.whl.metadata (10 kB)\n",
            "Collecting comm>=0.1.3 (from ipywidgets<9,>=8.1.6->qiskit-serverless~=0.26.0->qiskit_ibm_transpiler==0.14.3)\n",
            "  Downloading comm-0.2.3-py3-none-any.whl.metadata (3.7 kB)\n",
            "Collecting widgetsnbextension~=4.0.14 (from ipywidgets<9,>=8.1.6->qiskit-serverless~=0.26.0->qiskit_ibm_transpiler==0.14.3)\n",
            "  Downloading widgetsnbextension-4.0.14-py3-none-any.whl.metadata (1.6 kB)\n",
            "Requirement already satisfied: jupyterlab_widgets~=3.0.15 in /usr/local/lib/python3.12/dist-packages (from ipywidgets<9,>=8.1.6->qiskit-serverless~=0.26.0->qiskit_ibm_transpiler==0.14.3) (3.0.15)\n",
            "Collecting deprecated>=1.2.6 (from opentelemetry-api<1.33.1,>=1.18.0->qiskit-serverless~=0.26.0->qiskit_ibm_transpiler==0.14.3)\n",
            "  Downloading Deprecated-1.2.18-py2.py3-none-any.whl.metadata (5.7 kB)\n",
            "Requirement already satisfied: googleapis-common-protos~=1.52 in /usr/local/lib/python3.12/dist-packages (from opentelemetry-exporter-otlp-proto-grpc<1.33.1,>=1.18.0->qiskit-serverless~=0.26.0->qiskit_ibm_transpiler==0.14.3) (1.71.0)\n",
            "Requirement already satisfied: grpcio<2.0.0,>=1.63.2 in /usr/local/lib/python3.12/dist-packages (from opentelemetry-exporter-otlp-proto-grpc<1.33.1,>=1.18.0->qiskit-serverless~=0.26.0->qiskit_ibm_transpiler==0.14.3) (1.75.1)\n",
            "Collecting opentelemetry-exporter-otlp-proto-common==1.33.0 (from opentelemetry-exporter-otlp-proto-grpc<1.33.1,>=1.18.0->qiskit-serverless~=0.26.0->qiskit_ibm_transpiler==0.14.3)\n",
            "  Downloading opentelemetry_exporter_otlp_proto_common-1.33.0-py3-none-any.whl.metadata (1.9 kB)\n",
            "Collecting opentelemetry-proto==1.33.0 (from opentelemetry-exporter-otlp-proto-grpc<1.33.1,>=1.18.0->qiskit-serverless~=0.26.0->qiskit_ibm_transpiler==0.14.3)\n",
            "  Downloading opentelemetry_proto-1.33.0-py3-none-any.whl.metadata (2.4 kB)\n",
            "Requirement already satisfied: protobuf<6.0,>=5.0 in /usr/local/lib/python3.12/dist-packages (from opentelemetry-proto==1.33.0->opentelemetry-exporter-otlp-proto-grpc<1.33.1,>=1.18.0->qiskit-serverless~=0.26.0->qiskit_ibm_transpiler==0.14.3) (5.29.5)\n",
            "Requirement already satisfied: typing-extensions~=4.12 in /usr/local/lib/python3.12/dist-packages (from grpcio<2.0.0,>=1.63.2->opentelemetry-exporter-otlp-proto-grpc<1.33.1,>=1.18.0->qiskit-serverless~=0.26.0->qiskit_ibm_transpiler==0.14.3) (4.15.0)\n",
            "Collecting opentelemetry-semantic-conventions==0.54b0 (from opentelemetry-sdk<1.33.1,>=1.18.0->qiskit-serverless~=0.26.0->qiskit_ibm_transpiler==0.14.3)\n",
            "  Downloading opentelemetry_semantic_conventions-0.54b0-py3-none-any.whl.metadata (2.5 kB)\n",
            "Requirement already satisfied: wcwidth in /usr/local/lib/python3.12/dist-packages (from prompt_toolkit<3.1.0,>=3.0.41->ipython<9,>=8.10.0->qiskit-serverless~=0.26.0->qiskit_ibm_transpiler==0.14.3) (0.2.14)\n",
            "Requirement already satisfied: rustworkx>=0.15.0 in /usr/local/lib/python3.12/dist-packages (from qiskit>=1.4.2->qiskit_ibm_transpiler==0.14.3) (0.17.1)\n",
            "Requirement already satisfied: scipy>=1.5 in /usr/local/lib/python3.12/dist-packages (from qiskit>=1.4.2->qiskit_ibm_transpiler==0.14.3) (1.16.2)\n",
            "Requirement already satisfied: dill>=0.3 in /usr/local/lib/python3.12/dist-packages (from qiskit>=1.4.2->qiskit_ibm_transpiler==0.14.3) (0.3.8)\n",
            "Requirement already satisfied: stevedore>=3.0.0 in /usr/local/lib/python3.12/dist-packages (from qiskit>=1.4.2->qiskit_ibm_transpiler==0.14.3) (5.5.0)\n",
            "Collecting symengine<0.14,>=0.11 (from qiskit[qpy-compat]<3,>=1.4->qiskit-serverless~=0.26.0->qiskit_ibm_transpiler==0.14.3)\n",
            "  Downloading symengine-0.13.0-cp312-cp312-manylinux_2_17_x86_64.manylinux2014_x86_64.whl.metadata (1.2 kB)\n",
            "Requirement already satisfied: sympy>1.3 in /usr/local/lib/python3.12/dist-packages (from qiskit[qpy-compat]<3,>=1.4->qiskit-serverless~=0.26.0->qiskit_ibm_transpiler==0.14.3) (1.13.3)\n",
            "Collecting click!=8.3.0,>=7.0 (from ray<3,>=2.30->ray[default]<3,>=2.30->qiskit-serverless~=0.26.0->qiskit_ibm_transpiler==0.14.3)\n",
            "  Downloading click-8.2.1-py3-none-any.whl.metadata (2.5 kB)\n",
            "Requirement already satisfied: filelock in /usr/local/lib/python3.12/dist-packages (from ray<3,>=2.30->ray[default]<3,>=2.30->qiskit-serverless~=0.26.0->qiskit_ibm_transpiler==0.14.3) (3.20.0)\n",
            "Requirement already satisfied: jsonschema in /usr/local/lib/python3.12/dist-packages (from ray<3,>=2.30->ray[default]<3,>=2.30->qiskit-serverless~=0.26.0->qiskit_ibm_transpiler==0.14.3) (4.25.1)\n",
            "Requirement already satisfied: msgpack<2.0.0,>=1.0.0 in /usr/local/lib/python3.12/dist-packages (from ray<3,>=2.30->ray[default]<3,>=2.30->qiskit-serverless~=0.26.0->qiskit_ibm_transpiler==0.14.3) (1.1.2)\n",
            "Requirement already satisfied: pyyaml in /usr/local/lib/python3.12/dist-packages (from ray<3,>=2.30->ray[default]<3,>=2.30->qiskit-serverless~=0.26.0->qiskit_ibm_transpiler==0.14.3) (6.0.3)\n",
            "Collecting aiohttp_cors (from ray[default]<3,>=2.30->qiskit-serverless~=0.26.0->qiskit_ibm_transpiler==0.14.3)\n",
            "  Downloading aiohttp_cors-0.8.1-py3-none-any.whl.metadata (20 kB)\n",
            "Collecting colorful (from ray[default]<3,>=2.30->qiskit-serverless~=0.26.0->qiskit_ibm_transpiler==0.14.3)\n",
            "  Downloading colorful-0.5.7-py2.py3-none-any.whl.metadata (16 kB)\n",
            "Collecting py-spy>=0.4.0 (from ray[default]<3,>=2.30->qiskit-serverless~=0.26.0->qiskit_ibm_transpiler==0.14.3)\n",
            "  Downloading py_spy-0.4.1-py2.py3-none-manylinux_2_5_x86_64.manylinux1_x86_64.whl.metadata (510 bytes)\n",
            "Collecting opencensus (from ray[default]<3,>=2.30->qiskit-serverless~=0.26.0->qiskit_ibm_transpiler==0.14.3)\n",
            "  Downloading opencensus-0.11.4-py2.py3-none-any.whl.metadata (12 kB)\n",
            "Collecting opentelemetry-exporter-prometheus (from ray[default]<3,>=2.30->qiskit-serverless~=0.26.0->qiskit_ibm_transpiler==0.14.3)\n",
            "  Downloading opentelemetry_exporter_prometheus-0.59b0-py3-none-any.whl.metadata (2.1 kB)\n",
            "Requirement already satisfied: prometheus_client>=0.7.1 in /usr/local/lib/python3.12/dist-packages (from ray[default]<3,>=2.30->qiskit-serverless~=0.26.0->qiskit_ibm_transpiler==0.14.3) (0.23.1)\n",
            "Requirement already satisfied: smart_open in /usr/local/lib/python3.12/dist-packages (from ray[default]<3,>=2.30->qiskit-serverless~=0.26.0->qiskit_ibm_transpiler==0.14.3) (7.4.0)\n",
            "Collecting virtualenv!=20.21.1,>=20.0.24 (from ray[default]<3,>=2.30->qiskit-serverless~=0.26.0->qiskit_ibm_transpiler==0.14.3)\n",
            "  Downloading virtualenv-20.35.3-py3-none-any.whl.metadata (4.6 kB)\n",
            "Requirement already satisfied: annotated-types>=0.6.0 in /usr/local/lib/python3.12/dist-packages (from pydantic>=2.5.0->qiskit-ibm-runtime~=0.41.0->qiskit_ibm_transpiler==0.14.3) (0.7.0)\n",
            "Requirement already satisfied: pydantic-core==2.33.2 in /usr/local/lib/python3.12/dist-packages (from pydantic>=2.5.0->qiskit-ibm-runtime~=0.41.0->qiskit_ibm_transpiler==0.14.3) (2.33.2)\n",
            "Requirement already satisfied: typing-inspection>=0.4.0 in /usr/local/lib/python3.12/dist-packages (from pydantic>=2.5.0->qiskit-ibm-runtime~=0.41.0->qiskit_ibm_transpiler==0.14.3) (0.4.2)\n",
            "Requirement already satisfied: charset_normalizer<4,>=2 in /usr/local/lib/python3.12/dist-packages (from requests~=2.0->qiskit_ibm_transpiler==0.14.3) (3.4.4)\n",
            "Requirement already satisfied: idna<4,>=2.5 in /usr/local/lib/python3.12/dist-packages (from requests~=2.0->qiskit_ibm_transpiler==0.14.3) (3.11)\n",
            "Collecting wrapt<2,>=1.10 (from deprecated>=1.2.6->opentelemetry-api<1.33.1,>=1.18.0->qiskit-serverless~=0.26.0->qiskit_ibm_transpiler==0.14.3)\n",
            "  Downloading wrapt-1.17.3-cp312-cp312-manylinux1_x86_64.manylinux_2_28_x86_64.manylinux_2_5_x86_64.whl.metadata (6.4 kB)\n",
            "Requirement already satisfied: ibm_cloud_sdk_core<4.0.0,>=3.24.2 in /usr/local/lib/python3.12/dist-packages (from ibm-platform-services>=0.22.6->qiskit-ibm-runtime~=0.41.0->qiskit_ibm_transpiler==0.14.3) (3.24.2)\n",
            "Requirement already satisfied: PyJWT<3.0.0,>=2.10.1 in /usr/local/lib/python3.12/dist-packages (from ibm_cloud_sdk_core<4.0.0,>=3.24.2->ibm-platform-services>=0.22.6->qiskit-ibm-runtime~=0.41.0->qiskit_ibm_transpiler==0.14.3) (2.10.1)\n",
            "Requirement already satisfied: six>=1.5 in /usr/local/lib/python3.12/dist-packages (from python-dateutil>=2.8.0->qiskit-ibm-runtime~=0.41.0->qiskit_ibm_transpiler==0.14.3) (1.17.0)\n",
            "Requirement already satisfied: parso<0.9.0,>=0.8.4 in /usr/local/lib/python3.12/dist-packages (from jedi>=0.16->ipython<9,>=8.10.0->qiskit-serverless~=0.26.0->qiskit_ibm_transpiler==0.14.3) (0.8.5)\n",
            "Collecting opentelemetry-instrumentation==0.59b0 (from opentelemetry-instrumentation-requests>=0.40b0->qiskit-serverless~=0.26.0->qiskit_ibm_transpiler==0.14.3)\n",
            "  Downloading opentelemetry_instrumentation-0.59b0-py3-none-any.whl.metadata (7.1 kB)\n",
            "INFO: pip is looking at multiple versions of opentelemetry-instrumentation-requests to determine which version is compatible with other requirements. This could take a while.\n",
            "Collecting opentelemetry-instrumentation-requests>=0.40b0 (from qiskit-serverless~=0.26.0->qiskit_ibm_transpiler==0.14.3)\n",
            "  Downloading opentelemetry_instrumentation_requests-0.58b0-py3-none-any.whl.metadata (2.6 kB)\n",
            "Collecting opentelemetry-instrumentation==0.58b0 (from opentelemetry-instrumentation-requests>=0.40b0->qiskit-serverless~=0.26.0->qiskit_ibm_transpiler==0.14.3)\n",
            "  Downloading opentelemetry_instrumentation-0.58b0-py3-none-any.whl.metadata (7.1 kB)\n",
            "Collecting opentelemetry-instrumentation-requests>=0.40b0 (from qiskit-serverless~=0.26.0->qiskit_ibm_transpiler==0.14.3)\n",
            "  Downloading opentelemetry_instrumentation_requests-0.57b0-py3-none-any.whl.metadata (2.6 kB)\n",
            "Collecting opentelemetry-instrumentation==0.57b0 (from opentelemetry-instrumentation-requests>=0.40b0->qiskit-serverless~=0.26.0->qiskit_ibm_transpiler==0.14.3)\n",
            "  Downloading opentelemetry_instrumentation-0.57b0-py3-none-any.whl.metadata (6.7 kB)\n",
            "Collecting opentelemetry-instrumentation-requests>=0.40b0 (from qiskit-serverless~=0.26.0->qiskit_ibm_transpiler==0.14.3)\n",
            "  Downloading opentelemetry_instrumentation_requests-0.56b0-py3-none-any.whl.metadata (2.6 kB)\n",
            "Collecting opentelemetry-instrumentation==0.56b0 (from opentelemetry-instrumentation-requests>=0.40b0->qiskit-serverless~=0.26.0->qiskit_ibm_transpiler==0.14.3)\n",
            "  Downloading opentelemetry_instrumentation-0.56b0-py3-none-any.whl.metadata (6.7 kB)\n",
            "Collecting opentelemetry-instrumentation-requests>=0.40b0 (from qiskit-serverless~=0.26.0->qiskit_ibm_transpiler==0.14.3)\n",
            "  Downloading opentelemetry_instrumentation_requests-0.55b1-py3-none-any.whl.metadata (2.6 kB)\n",
            "Collecting opentelemetry-instrumentation==0.55b1 (from opentelemetry-instrumentation-requests>=0.40b0->qiskit-serverless~=0.26.0->qiskit_ibm_transpiler==0.14.3)\n",
            "  Downloading opentelemetry_instrumentation-0.55b1-py3-none-any.whl.metadata (6.7 kB)\n",
            "Collecting opentelemetry-instrumentation-requests>=0.40b0 (from qiskit-serverless~=0.26.0->qiskit_ibm_transpiler==0.14.3)\n",
            "  Downloading opentelemetry_instrumentation_requests-0.55b0-py3-none-any.whl.metadata (2.6 kB)\n",
            "Collecting opentelemetry-instrumentation==0.55b0 (from opentelemetry-instrumentation-requests>=0.40b0->qiskit-serverless~=0.26.0->qiskit_ibm_transpiler==0.14.3)\n",
            "  Downloading opentelemetry_instrumentation-0.55b0-py3-none-any.whl.metadata (6.7 kB)\n",
            "Collecting opentelemetry-instrumentation-requests>=0.40b0 (from qiskit-serverless~=0.26.0->qiskit_ibm_transpiler==0.14.3)\n",
            "  Downloading opentelemetry_instrumentation_requests-0.54b1-py3-none-any.whl.metadata (2.7 kB)\n",
            "Collecting opentelemetry-instrumentation==0.54b1 (from opentelemetry-instrumentation-requests>=0.40b0->qiskit-serverless~=0.26.0->qiskit_ibm_transpiler==0.14.3)\n",
            "  Downloading opentelemetry_instrumentation-0.54b1-py3-none-any.whl.metadata (6.8 kB)\n",
            "Collecting opentelemetry-instrumentation-requests>=0.40b0 (from qiskit-serverless~=0.26.0->qiskit_ibm_transpiler==0.14.3)\n",
            "  Downloading opentelemetry_instrumentation_requests-0.54b0-py3-none-any.whl.metadata (2.7 kB)\n",
            "Collecting opentelemetry-instrumentation==0.54b0 (from opentelemetry-instrumentation-requests>=0.40b0->qiskit-serverless~=0.26.0->qiskit_ibm_transpiler==0.14.3)\n",
            "  Downloading opentelemetry_instrumentation-0.54b0-py3-none-any.whl.metadata (6.8 kB)\n",
            "Collecting opentelemetry-util-http==0.54b0 (from opentelemetry-instrumentation-requests>=0.40b0->qiskit-serverless~=0.26.0->qiskit_ibm_transpiler==0.14.3)\n",
            "  Downloading opentelemetry_util_http-0.54b0-py3-none-any.whl.metadata (2.6 kB)\n",
            "Requirement already satisfied: ptyprocess>=0.5 in /usr/local/lib/python3.12/dist-packages (from pexpect>4.3->ipython<9,>=8.10.0->qiskit-serverless~=0.26.0->qiskit_ibm_transpiler==0.14.3) (0.7.0)\n",
            "Requirement already satisfied: cryptography>=1.3 in /usr/local/lib/python3.12/dist-packages (from requests-ntlm>=1.1.0->qiskit-ibm-runtime~=0.41.0->qiskit_ibm_transpiler==0.14.3) (43.0.3)\n",
            "Requirement already satisfied: pyspnego>=0.4.0 in /usr/local/lib/python3.12/dist-packages (from requests-ntlm>=1.1.0->qiskit-ibm-runtime~=0.41.0->qiskit_ibm_transpiler==0.14.3) (0.12.0)\n",
            "Requirement already satisfied: cffi>=1.12 in /usr/local/lib/python3.12/dist-packages (from cryptography>=1.3->requests-ntlm>=1.1.0->qiskit-ibm-runtime~=0.41.0->qiskit_ibm_transpiler==0.14.3) (2.0.0)\n",
            "Requirement already satisfied: pycparser in /usr/local/lib/python3.12/dist-packages (from cffi>=1.12->cryptography>=1.3->requests-ntlm>=1.1.0->qiskit-ibm-runtime~=0.41.0->qiskit_ibm_transpiler==0.14.3) (2.23)\n",
            "Requirement already satisfied: mpmath<1.4,>=1.1.0 in /usr/local/lib/python3.12/dist-packages (from sympy>1.3->qiskit[qpy-compat]<3,>=1.4->qiskit-serverless~=0.26.0->qiskit_ibm_transpiler==0.14.3) (1.3.0)\n",
            "Collecting distlib<1,>=0.3.7 (from virtualenv!=20.21.1,>=20.0.24->ray[default]<3,>=2.30->qiskit-serverless~=0.26.0->qiskit_ibm_transpiler==0.14.3)\n",
            "  Downloading distlib-0.4.0-py2.py3-none-any.whl.metadata (5.2 kB)\n",
            "Requirement already satisfied: platformdirs<5,>=3.9.1 in /usr/local/lib/python3.12/dist-packages (from virtualenv!=20.21.1,>=20.0.24->ray[default]<3,>=2.30->qiskit-serverless~=0.26.0->qiskit_ibm_transpiler==0.14.3) (4.5.0)\n",
            "Requirement already satisfied: jsonschema-specifications>=2023.03.6 in /usr/local/lib/python3.12/dist-packages (from jsonschema->ray<3,>=2.30->ray[default]<3,>=2.30->qiskit-serverless~=0.26.0->qiskit_ibm_transpiler==0.14.3) (2025.9.1)\n",
            "Requirement already satisfied: referencing>=0.28.4 in /usr/local/lib/python3.12/dist-packages (from jsonschema->ray<3,>=2.30->ray[default]<3,>=2.30->qiskit-serverless~=0.26.0->qiskit_ibm_transpiler==0.14.3) (0.37.0)\n",
            "Requirement already satisfied: rpds-py>=0.7.1 in /usr/local/lib/python3.12/dist-packages (from jsonschema->ray<3,>=2.30->ray[default]<3,>=2.30->qiskit-serverless~=0.26.0->qiskit_ibm_transpiler==0.14.3) (0.27.1)\n",
            "Collecting opencensus-context>=0.1.3 (from opencensus->ray[default]<3,>=2.30->qiskit-serverless~=0.26.0->qiskit_ibm_transpiler==0.14.3)\n",
            "  Downloading opencensus_context-0.1.3-py2.py3-none-any.whl.metadata (3.3 kB)\n",
            "Requirement already satisfied: google-api-core<3.0.0,>=1.0.0 in /usr/local/lib/python3.12/dist-packages (from opencensus->ray[default]<3,>=2.30->qiskit-serverless~=0.26.0->qiskit_ibm_transpiler==0.14.3) (2.26.0)\n",
            "Requirement already satisfied: proto-plus<2.0.0,>=1.22.3 in /usr/local/lib/python3.12/dist-packages (from google-api-core<3.0.0,>=1.0.0->opencensus->ray[default]<3,>=2.30->qiskit-serverless~=0.26.0->qiskit_ibm_transpiler==0.14.3) (1.26.1)\n",
            "Requirement already satisfied: google-auth<3.0.0,>=2.14.1 in /usr/local/lib/python3.12/dist-packages (from google-api-core<3.0.0,>=1.0.0->opencensus->ray[default]<3,>=2.30->qiskit-serverless~=0.26.0->qiskit_ibm_transpiler==0.14.3) (2.38.0)\n",
            "Requirement already satisfied: cachetools<6.0,>=2.0.0 in /usr/local/lib/python3.12/dist-packages (from google-auth<3.0.0,>=2.14.1->google-api-core<3.0.0,>=1.0.0->opencensus->ray[default]<3,>=2.30->qiskit-serverless~=0.26.0->qiskit_ibm_transpiler==0.14.3) (5.5.2)\n",
            "Requirement already satisfied: pyasn1-modules>=0.2.1 in /usr/local/lib/python3.12/dist-packages (from google-auth<3.0.0,>=2.14.1->google-api-core<3.0.0,>=1.0.0->opencensus->ray[default]<3,>=2.30->qiskit-serverless~=0.26.0->qiskit_ibm_transpiler==0.14.3) (0.4.2)\n",
            "Requirement already satisfied: rsa<5,>=3.1.4 in /usr/local/lib/python3.12/dist-packages (from google-auth<3.0.0,>=2.14.1->google-api-core<3.0.0,>=1.0.0->opencensus->ray[default]<3,>=2.30->qiskit-serverless~=0.26.0->qiskit_ibm_transpiler==0.14.3) (4.9.1)\n",
            "Requirement already satisfied: pyasn1>=0.1.3 in /usr/local/lib/python3.12/dist-packages (from rsa<5,>=3.1.4->google-auth<3.0.0,>=2.14.1->google-api-core<3.0.0,>=1.0.0->opencensus->ray[default]<3,>=2.30->qiskit-serverless~=0.26.0->qiskit_ibm_transpiler==0.14.3) (0.6.1)\n",
            "INFO: pip is looking at multiple versions of opentelemetry-exporter-prometheus to determine which version is compatible with other requirements. This could take a while.\n",
            "Collecting opentelemetry-exporter-prometheus (from ray[default]<3,>=2.30->qiskit-serverless~=0.26.0->qiskit_ibm_transpiler==0.14.3)\n",
            "  Downloading opentelemetry_exporter_prometheus-0.58b0-py3-none-any.whl.metadata (2.1 kB)\n",
            "  Downloading opentelemetry_exporter_prometheus-0.57b0-py3-none-any.whl.metadata (1.8 kB)\n",
            "  Downloading opentelemetry_exporter_prometheus-0.56b0-py3-none-any.whl.metadata (1.8 kB)\n",
            "  Downloading opentelemetry_exporter_prometheus-0.55b1-py3-none-any.whl.metadata (1.9 kB)\n",
            "  Downloading opentelemetry_exporter_prometheus-0.55b0-py3-none-any.whl.metadata (1.9 kB)\n",
            "  Downloading opentelemetry_exporter_prometheus-0.54b1-py3-none-any.whl.metadata (1.9 kB)\n",
            "  Downloading opentelemetry_exporter_prometheus-0.54b0-py3-none-any.whl.metadata (1.9 kB)\n",
            "Collecting executing>=1.2.0 (from stack_data->ipython<9,>=8.10.0->qiskit-serverless~=0.26.0->qiskit_ibm_transpiler==0.14.3)\n",
            "  Downloading executing-2.2.1-py2.py3-none-any.whl.metadata (8.9 kB)\n",
            "Collecting asttokens>=2.1.0 (from stack_data->ipython<9,>=8.10.0->qiskit-serverless~=0.26.0->qiskit_ibm_transpiler==0.14.3)\n",
            "  Downloading asttokens-3.0.0-py3-none-any.whl.metadata (4.7 kB)\n",
            "Collecting pure-eval (from stack_data->ipython<9,>=8.10.0->qiskit-serverless~=0.26.0->qiskit_ibm_transpiler==0.14.3)\n",
            "  Downloading pure_eval-0.2.3-py3-none-any.whl.metadata (6.3 kB)\n",
            "Downloading qiskit_ibm_transpiler-0.14.3-py3-none-any.whl (63 kB)\n",
            "Downloading networkx-2.8.5-py3-none-any.whl (2.0 MB)\n",
            "\u001b[2K   \u001b[90m━━━━━━━━━━━━━━━━━━━━━━━━━━━━━━━━━━━━━━━━\u001b[0m \u001b[32m2.0/2.0 MB\u001b[0m \u001b[31m31.2 MB/s\u001b[0m  \u001b[33m0:00:00\u001b[0m\n",
            "\u001b[?25hDownloading backoff-2.2.1-py3-none-any.whl (15 kB)\n",
            "Downloading qiskit_qasm3_import-0.6.0-py3-none-any.whl (29 kB)\n",
            "Downloading openqasm3-1.0.1-py3-none-any.whl (541 kB)\n",
            "\u001b[2K   \u001b[90m━━━━━━━━━━━━━━━━━━━━━━━━━━━━━━━━━━━━━━━━\u001b[0m \u001b[32m541.5/541.5 kB\u001b[0m \u001b[31m18.2 MB/s\u001b[0m  \u001b[33m0:00:00\u001b[0m\n",
            "\u001b[?25hDownloading qiskit_serverless-0.26.1-py3-none-any.whl (56 kB)\n",
            "Downloading certifi-2024.7.4-py3-none-any.whl (162 kB)\n",
            "Downloading cloudpickle-2.2.1-py3-none-any.whl (25 kB)\n",
            "Downloading zipp-3.19.1-py3-none-any.whl (9.0 kB)\n",
            "Downloading importlib_metadata-8.4.0-py3-none-any.whl (26 kB)\n",
            "Downloading ipython-8.37.0-py3-none-any.whl (831 kB)\n",
            "\u001b[2K   \u001b[90m━━━━━━━━━━━━━━━━━━━━━━━━━━━━━━━━━━━━━━━━\u001b[0m \u001b[32m831.9/831.9 kB\u001b[0m \u001b[31m22.2 MB/s\u001b[0m  \u001b[33m0:00:00\u001b[0m\n",
            "\u001b[?25hDownloading ipywidgets-8.1.7-py3-none-any.whl (139 kB)\n",
            "Downloading opentelemetry_api-1.33.0-py3-none-any.whl (65 kB)\n",
            "Downloading opentelemetry_exporter_otlp_proto_grpc-1.33.0-py3-none-any.whl (18 kB)\n",
            "Downloading opentelemetry_exporter_otlp_proto_common-1.33.0-py3-none-any.whl (18 kB)\n",
            "Downloading opentelemetry_proto-1.33.0-py3-none-any.whl (55 kB)\n",
            "Downloading opentelemetry_sdk-1.33.0-py3-none-any.whl (118 kB)\n",
            "Downloading opentelemetry_semantic_conventions-0.54b0-py3-none-any.whl (194 kB)\n",
            "Downloading ray-2.50.1-cp312-cp312-manylinux2014_x86_64.whl (71.1 MB)\n",
            "\u001b[2K   \u001b[90m━━━━━━━━━━━━━━━━━━━━━━━━━━━━━━━━━━━━━━━━\u001b[0m \u001b[32m71.1/71.1 MB\u001b[0m \u001b[31m36.5 MB/s\u001b[0m  \u001b[33m0:00:01\u001b[0m\n",
            "\u001b[?25hDownloading symengine-0.13.0-cp312-cp312-manylinux_2_17_x86_64.manylinux2014_x86_64.whl (49.6 MB)\n",
            "\u001b[2K   \u001b[90m━━━━━━━━━━━━━━━━━━━━━━━━━━━━━━━━━━━━━━━━\u001b[0m \u001b[32m49.6/49.6 MB\u001b[0m \u001b[31m35.0 MB/s\u001b[0m  \u001b[33m0:00:01\u001b[0m\n",
            "\u001b[?25hDownloading widgetsnbextension-4.0.14-py3-none-any.whl (2.2 MB)\n",
            "\u001b[2K   \u001b[90m━━━━━━━━━━━━━━━━━━━━━━━━━━━━━━━━━━━━━━━━\u001b[0m \u001b[32m2.2/2.2 MB\u001b[0m \u001b[31m40.2 MB/s\u001b[0m  \u001b[33m0:00:00\u001b[0m\n",
            "\u001b[?25hDownloading click-8.2.1-py3-none-any.whl (102 kB)\n",
            "Downloading comm-0.2.3-py3-none-any.whl (7.3 kB)\n",
            "Downloading Deprecated-1.2.18-py2.py3-none-any.whl (10.0 kB)\n",
            "Downloading wrapt-1.17.3-cp312-cp312-manylinux1_x86_64.manylinux_2_28_x86_64.manylinux_2_5_x86_64.whl (88 kB)\n",
            "Downloading opentelemetry_instrumentation_requests-0.54b0-py3-none-any.whl (12 kB)\n",
            "Downloading opentelemetry_instrumentation-0.54b0-py3-none-any.whl (31 kB)\n",
            "Downloading opentelemetry_util_http-0.54b0-py3-none-any.whl (7.3 kB)\n",
            "Downloading py_spy-0.4.1-py2.py3-none-manylinux_2_5_x86_64.manylinux1_x86_64.whl (2.8 MB)\n",
            "\u001b[2K   \u001b[90m━━━━━━━━━━━━━━━━━━━━━━━━━━━━━━━━━━━━━━━━\u001b[0m \u001b[32m2.8/2.8 MB\u001b[0m \u001b[31m35.0 MB/s\u001b[0m  \u001b[33m0:00:00\u001b[0m\n",
            "\u001b[?25hDownloading traitlets-5.14.3-py3-none-any.whl (85 kB)\n",
            "Downloading virtualenv-20.35.3-py3-none-any.whl (6.0 MB)\n",
            "\u001b[2K   \u001b[90m━━━━━━━━━━━━━━━━━━━━━━━━━━━━━━━━━━━━━━━━\u001b[0m \u001b[32m6.0/6.0 MB\u001b[0m \u001b[31m48.9 MB/s\u001b[0m  \u001b[33m0:00:00\u001b[0m\n",
            "\u001b[?25hDownloading distlib-0.4.0-py2.py3-none-any.whl (469 kB)\n",
            "Downloading aiohttp_cors-0.8.1-py3-none-any.whl (25 kB)\n",
            "Downloading colorful-0.5.7-py2.py3-none-any.whl (201 kB)\n",
            "Downloading opencensus-0.11.4-py2.py3-none-any.whl (128 kB)\n",
            "Downloading opencensus_context-0.1.3-py2.py3-none-any.whl (5.1 kB)\n",
            "Downloading opentelemetry_exporter_prometheus-0.54b0-py3-none-any.whl (12 kB)\n",
            "Downloading stack_data-0.6.3-py3-none-any.whl (24 kB)\n",
            "Downloading asttokens-3.0.0-py3-none-any.whl (26 kB)\n",
            "Downloading executing-2.2.1-py2.py3-none-any.whl (28 kB)\n",
            "Downloading pure_eval-0.2.3-py3-none-any.whl (11 kB)\n",
            "Installing collected packages: py-spy, pure-eval, openqasm3, opencensus-context, distlib, colorful, zipp, wrapt, widgetsnbextension, virtualenv, traitlets, symengine, opentelemetry-util-http, opentelemetry-proto, networkx, executing, comm, cloudpickle, click, certifi, backoff, asttokens, stack_data, opentelemetry-exporter-otlp-proto-common, importlib-metadata, deprecated, qiskit-qasm3-import, opentelemetry-api, ipython, aiohttp_cors, ray, opentelemetry-semantic-conventions, opencensus, ipywidgets, opentelemetry-sdk, opentelemetry-instrumentation, opentelemetry-instrumentation-requests, opentelemetry-exporter-prometheus, opentelemetry-exporter-otlp-proto-grpc, qiskit-serverless, qiskit_ibm_transpiler\n",
            "\u001b[2K  Attempting uninstall: zipp\n",
            "\u001b[2K    Found existing installation: zipp 3.23.0\n",
            "\u001b[2K    Uninstalling zipp-3.23.0:\n",
            "\u001b[2K      Successfully uninstalled zipp-3.23.0\n",
            "\u001b[2K  Attempting uninstall: wrapt\n",
            "\u001b[2K    Found existing installation: wrapt 2.0.0\n",
            "\u001b[2K    Uninstalling wrapt-2.0.0:\n",
            "\u001b[2K      Successfully uninstalled wrapt-2.0.0\n",
            "\u001b[2K  Attempting uninstall: widgetsnbextension\n",
            "\u001b[2K    Found existing installation: widgetsnbextension 3.6.10\n",
            "\u001b[2K    Uninstalling widgetsnbextension-3.6.10:\n",
            "\u001b[2K      Successfully uninstalled widgetsnbextension-3.6.10\n",
            "\u001b[2K  Attempting uninstall: traitlets\n",
            "\u001b[2K    Found existing installation: traitlets 5.7.1\n",
            "\u001b[2K    Uninstalling traitlets-5.7.1:\n",
            "\u001b[2K      Successfully uninstalled traitlets-5.7.1\n",
            "\u001b[2K  Attempting uninstall: opentelemetry-proto\n",
            "\u001b[2K    Found existing installation: opentelemetry-proto 1.37.0\n",
            "\u001b[2K    Uninstalling opentelemetry-proto-1.37.0:\n",
            "\u001b[2K      Successfully uninstalled opentelemetry-proto-1.37.0\n",
            "\u001b[2K  Attempting uninstall: networkx\n",
            "\u001b[2K    Found existing installation: networkx 3.5\n",
            "\u001b[2K    Uninstalling networkx-3.5:\n",
            "\u001b[2K      Successfully uninstalled networkx-3.5\n",
            "\u001b[2K  Attempting uninstall: cloudpickle\n",
            "\u001b[2K    Found existing installation: cloudpickle 3.1.1\n",
            "\u001b[2K    Uninstalling cloudpickle-3.1.1:\n",
            "\u001b[2K      Successfully uninstalled cloudpickle-3.1.1\n",
            "\u001b[2K  Attempting uninstall: click\n",
            "\u001b[2K    Found existing installation: click 8.3.0\n",
            "\u001b[2K    Uninstalling click-8.3.0:\n",
            "\u001b[2K      Successfully uninstalled click-8.3.0\n",
            "\u001b[2K  Attempting uninstall: certifi\n",
            "\u001b[2K    Found existing installation: certifi 2025.10.5\n",
            "\u001b[2K    Uninstalling certifi-2025.10.5:\n",
            "\u001b[2K      Successfully uninstalled certifi-2025.10.5\n",
            "\u001b[2K  Attempting uninstall: opentelemetry-exporter-otlp-proto-common\n",
            "\u001b[2K    Found existing installation: opentelemetry-exporter-otlp-proto-common 1.37.0\n",
            "\u001b[2K    Uninstalling opentelemetry-exporter-otlp-proto-common-1.37.0:\n",
            "\u001b[2K      Successfully uninstalled opentelemetry-exporter-otlp-proto-common-1.37.0\n",
            "\u001b[2K  Attempting uninstall: importlib-metadata\n",
            "\u001b[2K    Found existing installation: importlib_metadata 8.7.0\n",
            "\u001b[2K    Uninstalling importlib_metadata-8.7.0:\n",
            "\u001b[2K      Successfully uninstalled importlib_metadata-8.7.0\n",
            "\u001b[2K  Attempting uninstall: opentelemetry-api\n",
            "\u001b[2K    Found existing installation: opentelemetry-api 1.37.0\n",
            "\u001b[2K    Uninstalling opentelemetry-api-1.37.0:\n",
            "\u001b[2K      Successfully uninstalled opentelemetry-api-1.37.0\n",
            "\u001b[2K  Attempting uninstall: ipython\n",
            "\u001b[2K    Found existing installation: ipython 7.34.0\n",
            "\u001b[2K    Uninstalling ipython-7.34.0:\n",
            "\u001b[2K      Successfully uninstalled ipython-7.34.0\n",
            "\u001b[2K  Attempting uninstall: opentelemetry-semantic-conventions\n",
            "\u001b[2K    Found existing installation: opentelemetry-semantic-conventions 0.58b0\n",
            "\u001b[2K    Uninstalling opentelemetry-semantic-conventions-0.58b0:\n",
            "\u001b[2K      Successfully uninstalled opentelemetry-semantic-conventions-0.58b0\n",
            "\u001b[2K  Attempting uninstall: ipywidgets\n",
            "\u001b[2K    Found existing installation: ipywidgets 7.7.1\n",
            "\u001b[2K    Uninstalling ipywidgets-7.7.1:\n",
            "\u001b[2K      Successfully uninstalled ipywidgets-7.7.1\n",
            "\u001b[2K  Attempting uninstall: opentelemetry-sdk\n",
            "\u001b[2K    Found existing installation: opentelemetry-sdk 1.37.0\n",
            "\u001b[2K    Uninstalling opentelemetry-sdk-1.37.0:\n",
            "\u001b[2K      Successfully uninstalled opentelemetry-sdk-1.37.0\n",
            "\u001b[2K   \u001b[90m━━━━━━━━━━━━━━━━━━━━━━━━━━━━━━━━━━━━━━━━\u001b[0m \u001b[32m41/41\u001b[0m [qiskit_ibm_transpiler]\n",
            "\u001b[1A\u001b[2K\u001b[31mERROR: pip's dependency resolver does not currently take into account all the packages that are installed. This behaviour is the source of the following dependency conflicts.\n",
            "google-colab 1.0.0 requires ipython==7.34.0, but you have ipython 8.37.0 which is incompatible.\n",
            "tensorflow 2.19.0 requires numpy<2.2.0,>=1.26.0, but you have numpy 2.3.4 which is incompatible.\n",
            "distributed 2025.5.0 requires cloudpickle>=3.0.0, but you have cloudpickle 2.2.1 which is incompatible.\n",
            "google-adk 1.16.0 requires opentelemetry-api<=1.37.0,>=1.37.0, but you have opentelemetry-api 1.33.0 which is incompatible.\n",
            "google-adk 1.16.0 requires opentelemetry-sdk<=1.37.0,>=1.37.0, but you have opentelemetry-sdk 1.33.0 which is incompatible.\n",
            "dask 2025.5.0 requires cloudpickle>=3.0.0, but you have cloudpickle 2.2.1 which is incompatible.\n",
            "opentelemetry-exporter-gcp-logging 1.10.0a0 requires opentelemetry-api>=1.35.0, but you have opentelemetry-api 1.33.0 which is incompatible.\n",
            "opentelemetry-exporter-gcp-logging 1.10.0a0 requires opentelemetry-sdk>=1.35.0, but you have opentelemetry-sdk 1.33.0 which is incompatible.\n",
            "opentelemetry-exporter-otlp-proto-http 1.37.0 requires opentelemetry-exporter-otlp-proto-common==1.37.0, but you have opentelemetry-exporter-otlp-proto-common 1.33.0 which is incompatible.\n",
            "opentelemetry-exporter-otlp-proto-http 1.37.0 requires opentelemetry-proto==1.37.0, but you have opentelemetry-proto 1.33.0 which is incompatible.\n",
            "opentelemetry-exporter-otlp-proto-http 1.37.0 requires opentelemetry-sdk~=1.37.0, but you have opentelemetry-sdk 1.33.0 which is incompatible.\n",
            "nx-cugraph-cu12 25.6.0 requires networkx>=3.2, but you have networkx 2.8.5 which is incompatible.\n",
            "scikit-image 0.25.2 requires networkx>=3.0, but you have networkx 2.8.5 which is incompatible.\u001b[0m\u001b[31m\n",
            "\u001b[0mSuccessfully installed aiohttp_cors-0.8.1 asttokens-3.0.0 backoff-2.2.1 certifi-2024.7.4 click-8.2.1 cloudpickle-2.2.1 colorful-0.5.7 comm-0.2.3 deprecated-1.2.18 distlib-0.4.0 executing-2.2.1 importlib-metadata-8.4.0 ipython-8.37.0 ipywidgets-8.1.7 networkx-2.8.5 opencensus-0.11.4 opencensus-context-0.1.3 openqasm3-1.0.1 opentelemetry-api-1.33.0 opentelemetry-exporter-otlp-proto-common-1.33.0 opentelemetry-exporter-otlp-proto-grpc-1.33.0 opentelemetry-exporter-prometheus-0.54b0 opentelemetry-instrumentation-0.54b0 opentelemetry-instrumentation-requests-0.54b0 opentelemetry-proto-1.33.0 opentelemetry-sdk-1.33.0 opentelemetry-semantic-conventions-0.54b0 opentelemetry-util-http-0.54b0 pure-eval-0.2.3 py-spy-0.4.1 qiskit-qasm3-import-0.6.0 qiskit-serverless-0.26.1 qiskit_ibm_transpiler-0.14.3 ray-2.50.1 stack_data-0.6.3 symengine-0.13.0 traitlets-5.14.3 virtualenv-20.35.3 widgetsnbextension-4.0.14 wrapt-1.17.3 zipp-3.19.1\n"
          ]
        },
        {
          "output_type": "display_data",
          "data": {
            "application/vnd.colab-display-data+json": {
              "pip_warning": {
                "packages": [
                  "IPython",
                  "certifi",
                  "traitlets"
                ]
              },
              "id": "ea60ec175d5a4eedb62f3eafd4c4a30e"
            }
          },
          "metadata": {}
        }
      ],
      "source": [
        "# Uncomment to install the necessary packages\n",
        "\n",
        "%pip install --upgrade pip\n",
        "%pip install numpy==2.3.4\n",
        "%pip install scipy==1.16.2\n",
        "%pip install matplotlib==3.10.7\n",
        "%pip install jupyter\n",
        "%pip install qiskit[visualization]==2.2\n",
        "# # For Local Linux or Mac, you can use the following command:\n",
        "# # %pip install 'qiskit[visualization]'\n",
        "%pip install qiskit_algorithms==0.4.0\n",
        "%pip install qiskit_aer==0.17.2\n",
        "%pip install qiskit_ibm_runtime==0.41.1\n",
        "%pip install qiskit_ibm_transpiler==0.14.3"
      ]
    },
    {
      "cell_type": "markdown",
      "metadata": {
        "id": "jsOUWVgu1hsU"
      },
      "source": [
        "---"
      ]
    },
    {
      "cell_type": "markdown",
      "metadata": {
        "id": "2clrSzef1hsU"
      },
      "source": [
        "## 1.Introduction\n",
        "\n",
        "This introduction and gives a brief overview of the machine learning idea that is considered:\n",
        "\n",
        "If not of machine learning, everyone has heard of artificial intelligence. From humbler origins, to the current large language models, machine learning has permeated everything and become widespread. We will focus on the supervised learning paradigm. Simplifying, we look to solve a problem where we want to assign to each input $x$ some corresponding output $y = f(x)$. In fact this is a very general way to see any problem, so we note two distinct examples:\n",
        "- An example is finding how many prime factors an integer has. This is a simple problem in the sense that we **know** how to express the $f$ that solves it, although that does not mean it is easy to do so efficiently. In this case, it has only been after Shor's quantum algorithm that this problem, previously thought of as computationally hard, has been \"broken\".\n",
        "- A much different example is the task of classifying pictures of cats and dogs. In this case we know, or rather we assume, that there is some function that solves the problem because **we** can solve it. We can manually look at pictures and tell if it contains a cat or a dog. In spite of this, no one is able to come up with a simple and direct computer algorithm to solve this task.\n",
        "\n",
        "It is for these latter kind of problems where supervised learning shines the most. The fundamental principle is that instead of trying to find this goal function $f$ directly, we take a generic parametrized guess. Now, exploiting that we can previously prepare some sample inputs/outputs (such as prelabelled cats and dogs pictures), we tweak our parameters to find the best fit. In fact, you have already done supervised learning before, as taking a linear regression is technically just that, where the guess (ansatz) is a linear function. Similarly, just as a linear regression will not directly work for a non linear problem, this choice of our ansatz is important for each problem.\n",
        "\n",
        "On the other hand, quantum computing has emerged to find the physical limit of information processing, and ideas of combining it with machine learning happened soon after. There are many ways one can quantumly enhance machine learning, such as doing some computational-heavy steps on a possibly faster quantum computer. We will instead focus on using a parametrized quantum computer as ansatz for the problem solving function $f$, a so-called (abusing language) Quantum Neural Network. Your goal during this whole challenge is to design good models for quantum machine learning, which is still an ongoing research question while quantum resources are limited to perform big scale tests.\n",
        "\n",
        "First you will apply it for a classical problem, which will probably turn out bad! Even if Quantum Computers can do some tasks better, it is important to realise this is not an actually easy goal to achieve. Quantum intuition can differ a lot from classical intuition, so it is hard to come up with good designs. Finally, you will apply it for Quantum Phase Recongition.\n"
      ]
    },
    {
      "cell_type": "markdown",
      "metadata": {
        "id": "C3VqSn_-1hsU"
      },
      "source": [
        "### A simple task\n",
        "\n",
        "Consider the following classical data points, which are classified into one of two classes. Our goal is to learn to perform this classification, not by memorizing every point but rather by learning the underlying rule, so we will able to classify new points too. Below this data is generated and you can see it ploted, with two different classes\n"
      ]
    },
    {
      "cell_type": "code",
      "execution_count": 17,
      "metadata": {
        "id": "ttti7OO_1hsU",
        "colab": {
          "base_uri": "https://localhost:8080/",
          "height": 447
        },
        "outputId": "18fdd698-0e16-4373-a012-8f1421997791"
      },
      "outputs": [
        {
          "output_type": "execute_result",
          "data": {
            "text/plain": [
              "<matplotlib.legend.Legend at 0x7f3bcf2a8e90>"
            ]
          },
          "metadata": {},
          "execution_count": 17
        },
        {
          "output_type": "display_data",
          "data": {
            "text/plain": [
              "<Figure size 640x480 with 1 Axes>"
            ],
            "image/png": "[encoded data removed]"
          },
          "metadata": {}
        }
      ],
      "source": [
        "import numpy as np\n",
        "import matplotlib.pyplot as plt\n",
        "\n",
        "## Set random seed so results are repeatable\n",
        "np.random.seed(2025)\n",
        "\n",
        "## Underlying classification, outside of square or inside\n",
        "def underlying_function(R: np.ndarray):\n",
        "    return np.max(np.abs(R), axis=1) > 1/np.sqrt(2)\n",
        "\n",
        "\n",
        "## Prepare random dataset\n",
        "Nsamples = 500\n",
        "R = 2*np.random.random((Nsamples,2)) - np.array([1,1])  # Data points, uniform in [-1,1]x[-1,1]\n",
        "\n",
        "y = underlying_function(R)   # Classification\n",
        "\n",
        "R_class1 = R[y]                    # Class +1: Outside of square\n",
        "R_class0 = R[np.logical_not( y )]  # Class  0: Inside  of square\n",
        "\n",
        "plt.axis('equal')\n",
        "plt.scatter(R_class1[:,0], R_class1[:,1], label=\"Class  1\")\n",
        "plt.scatter(R_class0[:,0], R_class0[:,1], label=\"Class  0\")\n",
        "plt.legend(loc = \"upper left\")"
      ]
    },
    {
      "cell_type": "markdown",
      "metadata": {
        "id": "ZbiZy6Ht1hsV"
      },
      "source": [
        "The underlying function is simple: points inside the $\\sqrt{2}$ square are in class 0 and points outside in class 1, but we must now try to learn this in a generic way, even if this is a simple case.\n",
        "We will learn to classify points, by learning the underlying distribution, which you can see is $f(\\vec{x}) = 0$, if $\\vec{x} \\in [-\\frac{\\sqrt{2}}{2}, \\frac{\\sqrt{2}}{2}] \\times [-\\frac{\\sqrt{2}}{2}, \\frac{\\sqrt{2}}{2}] $; $\\quad 1$ otherwise. To do this, you will create a Quantum Neural Network (QNN) and later you will train it on the data."
      ]
    },
    {
      "cell_type": "markdown",
      "metadata": {
        "id": "3vQjfj9r1hsV"
      },
      "source": [
        "### 1.1 Classical to Quantum\n",
        "\n",
        "Let's create the Quantum Neural Network. First, encode your problem, your data, into the quantum computer. Do it for a very simple 2 qubit QC.\n",
        "> Hint: As an example you may use Qiskit's `qiskit.circuit.library.ZZFeatureMap` or `ZFeatureMap` to encode real numbers as angles of rotation on each qubit\n",
        "\n",
        "You will also want to define some processing layers that use trainable parameters.\n",
        "> Hint: If you do not want to manually construct them, with gates, you may use provided examples like `qiskit.circuit.library.EfficientSU2` or `qiskit.circuit.library.TwoLocal`\n",
        "\n",
        "The principle is to use gates, such as $R_Y$ rotations, where the angles will be given according to some input/tunable parameters\n",
        "\n",
        "\n",
        "**The code snippets are orientative to guide you through the problems, but feel free to come up with your own solutions**. For instance, you may mix input parameters and trainable parameters on the same gate, or intertwine gates (also called data re-reuploading) instead of applying encoding first and processing later. Some of these ideas will also be proposed later\n"
      ]
    },
    {
      "cell_type": "code",
      "source": [],
      "metadata": {
        "id": "5aH-SoOfFaqX"
      },
      "execution_count": 1,
      "outputs": []
    },
    {
      "cell_type": "code",
      "execution_count": 18,
      "metadata": {
        "id": "mf49BU-w1hsV"
      },
      "outputs": [],
      "source": [
        "## Your code here\n",
        "import qiskit\n",
        "from qiskit import QuantumCircuit\n",
        "from qiskit.circuit import Parameter, ParameterVector\n",
        "from qiskit.circuit.library import ZZFeatureMap, ZFeatureMap     # Example featuremap/encoding\n",
        "from qiskit.circuit.library import EfficientSU2, RealAmplitudes  # Example processing layer\n",
        "\n",
        "# Example of parameters you may use. Default input. If using default, inputs are called x and trainable_parameters θ\n",
        "inputs = ParameterVector('x', 2)\n",
        "trainable_parameters = ParameterVector('θ', 8)\n",
        "\n",
        "# By default, you may use only 2 qubits, one for each coordinate\n",
        "\n",
        "def encoding(inputs: ParameterVector) -> QuantumCircuit:\n",
        "    \"\"\"Returns an encoder that will encode a point in space (x,y) into a quantum circuit.\n",
        "\n",
        "    Args:\n",
        "        inputs (ParameterVector): parameters corresponding to input (x, y)\n",
        "\n",
        "    Returns:\n",
        "        encoding_circuit (QuantumCircuit): Returns a QuantumCircuit, which encodes the classical data into the circuit\n",
        "    \"\"\"\n",
        "    # YOUR CODE HERE\n",
        "\n",
        "    ec=QuantumCircuit(2)\n",
        "\n",
        "    ec.h(0)\n",
        "    ec.h(1)\n",
        "    ec.p(inputs[0],0)\n",
        "    ec.p(inputs[1],1)\n",
        "\n",
        "\n",
        "    return ec\n",
        "\n",
        "\n",
        "def processing(trainable_parameters: ParameterVector):\n",
        "    \"\"\"Returns a processing layer that will be trained to try to solve our problem\n",
        "\n",
        "    Args:\n",
        "        trainable_parameters (ParameterVector): parameters that will be trained to attempt to solve the problem\n",
        "\n",
        "    Returns:\n",
        "        processing_circuit (QuantumCircuit): Returns a QuantumCircuit that encodes the data into the circuit\n",
        "    \"\"\"\n",
        "    # YOUR CODE HERE\n",
        "\n",
        "    pc=QuantumCircuit(2)\n",
        "    pc.rz(trainable_parameters[0],0)\n",
        "    pc.rz(trainable_parameters[1],1)\n",
        "    pc.ry(trainable_parameters[2],0)\n",
        "    pc.ry(trainable_parameters[3],1)\n",
        "    pc.cx(0,1)\n",
        "    pc.rz(trainable_parameters[4],0)\n",
        "    pc.rz(trainable_parameters[5],1)\n",
        "    pc.ry(trainable_parameters[6],0)\n",
        "    pc.ry(trainable_parameters[7],1)\n",
        "\n",
        "    return pc\n"
      ]
    },
    {
      "cell_type": "markdown",
      "metadata": {
        "id": "CdKLD7tg1hsW"
      },
      "source": [
        "Here you may draw your encoding,"
      ]
    },
    {
      "cell_type": "code",
      "execution_count": 19,
      "metadata": {
        "id": "K4x-WbNY1hsW",
        "colab": {
          "base_uri": "https://localhost:8080/",
          "height": 365
        },
        "outputId": "3469d969-e70e-4e03-af1b-45de4bedae45"
      },
      "outputs": [
        {
          "output_type": "execute_result",
          "data": {
            "text/plain": [
              "<Figure size 287.294x200.667 with 1 Axes>"
            ],
            "image/png": "[encoded data removed]"
          },
          "metadata": {},
          "execution_count": 19
        },
        {
          "output_type": "display_data",
          "data": {
            "text/plain": [
              "<Figure size 287.294x200.667 with 1 Axes>"
            ],
            "image/png": "[encoded data removed]"
          },
          "metadata": {}
        }
      ],
      "source": [
        "encoding_circuit = encoding(inputs)\n",
        "encoding_circuit.draw(output='mpl', style='textbook')"
      ]
    },
    {
      "cell_type": "markdown",
      "metadata": {
        "id": "k5S0uZ8D1hsW"
      },
      "source": [
        "processing"
      ]
    },
    {
      "cell_type": "code",
      "source": [],
      "metadata": {
        "id": "GQzbt3sDsPl_"
      },
      "execution_count": 19,
      "outputs": []
    },
    {
      "cell_type": "code",
      "execution_count": 20,
      "metadata": {
        "id": "HKuCTPUl1hsW",
        "colab": {
          "base_uri": "https://localhost:8080/",
          "height": 365
        },
        "outputId": "76eafe5f-0024-409e-cbcf-a11f404edc78"
      },
      "outputs": [
        {
          "output_type": "execute_result",
          "data": {
            "text/plain": [
              "<Figure size 538.128x200.667 with 1 Axes>"
            ],
            "image/png": "[encoded data removed]"
          },
          "metadata": {},
          "execution_count": 20
        },
        {
          "output_type": "display_data",
          "data": {
            "text/plain": [
              "<Figure size 538.128x200.667 with 1 Axes>"
            ],
            "image/png": "[encoded data removed]"
          },
          "metadata": {}
        }
      ],
      "source": [
        "processing_circuit = processing(trainable_parameters)\n",
        "processing_circuit.draw(output='mpl', style='textbook')"
      ]
    },
    {
      "cell_type": "markdown",
      "metadata": {
        "id": "s8iIXR_i1hsW"
      },
      "source": [
        "and their combination:\n",
        "> Again, remember you can join encoding and processing layers differently, or mix them"
      ]
    },
    {
      "cell_type": "code",
      "execution_count": 21,
      "metadata": {
        "id": "vJsTNnDm1hsW",
        "colab": {
          "base_uri": "https://localhost:8080/",
          "height": 365
        },
        "outputId": "d2275d71-6a6b-46f0-8e2e-1aa9146bf73c"
      },
      "outputs": [
        {
          "output_type": "execute_result",
          "data": {
            "text/plain": [
              "<Figure size 705.35x200.667 with 1 Axes>"
            ],
            "image/png": "[encoded data removed]"
          },
          "metadata": {},
          "execution_count": 21
        },
        {
          "output_type": "display_data",
          "data": {
            "text/plain": [
              "<Figure size 705.35x200.667 with 1 Axes>"
            ],
            "image/png": "[encoded data removed]"
          },
          "metadata": {}
        }
      ],
      "source": [
        "# Assign our parameters, may need to adapt\n",
        "encoding_circuit.assign_parameters(inputs, inplace=True)\n",
        "processing_circuit.assign_parameters(trainable_parameters, inplace=True)\n",
        "\n",
        "# Define our QNN Circuit\n",
        "qnn_circuit = encoding_circuit.compose(processing_circuit)\n",
        "qnn_circuit.draw(output='mpl', style='textbook')\n"
      ]
    },
    {
      "cell_type": "code",
      "source": [],
      "metadata": {
        "id": "7aRMTTsWv5gP"
      },
      "execution_count": 21,
      "outputs": []
    },
    {
      "cell_type": "markdown",
      "metadata": {
        "id": "dLHHzpQp1hsX"
      },
      "source": [
        "### 1.2. Finish your QNN"
      ]
    },
    {
      "cell_type": "markdown",
      "metadata": {
        "id": "bNT-nm6-1hsX"
      },
      "source": [
        "You have prepared a quantum circuit, parametrized, that will attempt to classify our data, you now need to define how to interpret the circuit outputs to do the classification. We can do so by reading the output, for instance the first qubit, and using and assigning the class according to the result (measuring 0 or measuring 1). Moreover, you can treat the output as the probability vector of the different outcomes, and train it accordingly.\n",
        "\n",
        "\n",
        "Keep in mind that Qiskit uses Little Endian notation (top qubit q[0] is last qubit and so on $|abc\\rangle \\to$ q[0]=c, q[1]=b, q[2]=a), and that the default sampler output is the integer representation of the bitstring you need to interpret.\n",
        "\n",
        "To do this, define a forward function, to evaluate running our QNN.\n",
        "\n",
        "> Again, all function suggestions are orientative. If you prefer you may also work with Estimators (expectation values) instead of Samplers."
      ]
    },
    {
      "cell_type": "code",
      "execution_count": null,
      "metadata": {
        "id": "5MWOkrqb1hsX"
      },
      "outputs": [],
      "source": [
        "#from qiskit_machine_learning.neural_networks import EstimatorQNN, SamplerQNN    # Libraries which could simplify process, but icompatible with qiskit 2>\n",
        "#from qiskit_machine_learning.algorithms import NeuralNetworkClassifier\n",
        "import qiskit.qasm3\n",
        "from qiskit_ibm_runtime.fake_provider import FakeVigoV2\n",
        "from qiskit.transpiler.preset_passmanagers import generate_preset_pass_manager\n",
        "from qiskit_ibm_runtime import SamplerV2 as Sampler, EstimatorV2 as Estimator, QiskitRuntimeService\n",
        "from qiskit_ibm_runtime import Sampler\n",
        "from qiskit_aer import AerSimulator\n",
        "from qiskit.quantum_info import SparsePauliOp\n",
        "from qiskit_algorithms.gradients import ParamShiftSamplerGradient\n",
        "\n",
        "\n",
        "# Define a forward pass of your QNN\n",
        "\n",
        "def forward(circuit, input_params, weight_params):\n",
        "    num_samples = input_params.shape[0]\n",
        "    observable = SparsePauliOp('ZZ')\n",
        "    weights = np.broadcast_to(weight_params, (num_samples, len(weight_params)))\n",
        "    params = np.concatenate((input_params, weights), axis=1)\n",
        "    pub = (circuit, observable, params)\n",
        "    job = Estimator(mode=AerSimulator()).run([pub])\n",
        "    result = job.result()[0]\n",
        "    expectation_values = result.data.evs\n",
        "\n",
        "    return expectation_values\n",
        "\n",
        "trainable_parameters_0=np.random.rand(8)\n",
        "\n",
        "forward(qnn_circuit, R, trainable_parameters_0)\n"
      ]
    },
    {
      "cell_type": "markdown",
      "metadata": {
        "id": "bxJsecvY1hsX"
      },
      "source": [
        "### 1.3 Train your QNN\n",
        "\n",
        "Now you must train your QNN, to do this define a loss funciton and an optimizer.\n",
        "\n",
        "\n",
        "For instance, use a mean squared error loss function of the form\n",
        "$$\\sum (QNN_{\\vec{\\theta}}(\\vec{x_i})-y_i)^2,$$\n",
        "where $QNN()$ represents the output of your quantum circuit (forward pass). If you are following the example, then the output of the QNN is the array of probabilities for each outcome (classification), so you should treat $y_i$ as a vector too (either [1,0] or [0,1])\n",
        "\n",
        "\n",
        "\n",
        "\n"
      ]
    },
    {
      "cell_type": "code",
      "source": [
        "def mse_loss_weights(input_params, weight_params: np.ndarray) -> np.ndarray:\n",
        "    \"\"\"\n",
        "    Cost function for the optimizer to update the ansatz parameters.\n",
        "\n",
        "    weight_params: ansatz parameters to be updated by the optimizer.\n",
        "\n",
        "    output: MSE loss.\n",
        "    \"\"\"\n",
        "    predictions = forward(\n",
        "        circuit=qnn_circuit,\n",
        "        input_params=input_params,\n",
        "        weight_params=weight_params\n",
        "    )\n",
        "    target = underlying_function(input_params)\n",
        "\n",
        "    cost = np.mean((predictions - target) ** 2)\n",
        "\n",
        "    global iter\n",
        "    if iter % 50 == 0:\n",
        "        print(f\"Iter: {iter}, loss: {cost}\")\n",
        "        loss_results.append(cost)\n",
        "    iter += 1\n",
        "\n",
        "    return cost"
      ],
      "metadata": {
        "id": "3B-ifx36krtQ"
      },
      "execution_count": null,
      "outputs": []
    },
    {
      "cell_type": "code",
      "execution_count": null,
      "metadata": {
        "id": "OeE3mx7_1hsX"
      },
      "outputs": [],
      "source": [
        "# Your code here\n",
        "\n"
      ]
    },
    {
      "cell_type": "markdown",
      "metadata": {
        "id": "iUUua8Tl1hsX"
      },
      "source": [
        "\n",
        "Minimize the loss, computed for your data points, to train your model. You can use scipy's minimize, with built in optimizers such as COBYLA.\n",
        "\n",
        "\n",
        "Store also the loss evolution (and other parameters you consider interesting) to plot them later.\n",
        "\n",
        "> Hint: Remember to look for Qiskit resources, for instance you may find [this](https://quantum.cloud.ibm.com/learning/en/courses/quantum-machine-learning/qvc-qnn) tutorial useful."
      ]
    },
    {
      "cell_type": "code",
      "source": [
        "from scipy.optimize import minimize\n",
        "\n",
        "num_epochs=1\n",
        "batch_size=100\n",
        "loss_results=[]\n",
        "weight_params=trainable_parameters_0\n",
        "for n in range(num_epochs):\n",
        "    for i in range((len(R)//batch_size)):\n",
        "        iter=0\n",
        "        start_i=i*batch_size\n",
        "        end_i=start_i+batch_size\n",
        "        batch_input_params=R[start_i:end_i]\n",
        "        res = minimize(fun=lambda x: mse_loss_weights(batch_input_params, x), x0=weight_params, method=\"COBYLA\", options={\"maxiter\": 50})\n",
        "        weight_params = res[\"x\"]\n",
        "        loss_results.append(res['fun'])\n",
        "        print(f\"batch result: {res['fun']}\")\n",
        "\n",
        "\n"
      ],
      "metadata": {
        "colab": {
          "base_uri": "https://localhost:8080/"
        },
        "id": "bOJo5ifxv4lq",
        "outputId": "d4be366a-0a63-4f9f-fee8-e67324b1706b"
      },
      "execution_count": 55,
      "outputs": [
        {
          "output_type": "stream",
          "name": "stdout",
          "text": [
            "Iter: 0, loss: 0.5275757145881653\n",
            "Iter: 25, loss: 0.30893579721450803\n",
            "batch result: 0.3003674364089966\n",
            "Iter: 0, loss: 0.32001638889312745\n",
            "Iter: 25, loss: 0.30433920383453367\n",
            "batch result: 0.29666083812713623\n",
            "Iter: 0, loss: 0.32122236251831054\n",
            "Iter: 25, loss: 0.2923570156097412\n",
            "batch result: 0.29029115676879885\n",
            "Iter: 0, loss: 0.31241928339004515\n",
            "Iter: 25, loss: 0.2951330542564392\n",
            "batch result: 0.2917360854148865\n",
            "Iter: 0, loss: 0.2959225058555603\n",
            "Iter: 25, loss: 0.2867403435707092\n",
            "batch result: 0.2809308433532715\n"
          ]
        }
      ]
    },
    {
      "cell_type": "code",
      "source": [
        "print(weight_params)"
      ],
      "metadata": {
        "colab": {
          "base_uri": "https://localhost:8080/"
        },
        "id": "myOOt8ouBioQ",
        "outputId": "f2fba3d3-e1c5-4044-f991-884324642c40"
      },
      "execution_count": 58,
      "outputs": [
        {
          "output_type": "stream",
          "name": "stdout",
          "text": [
            "[ 2.55918183  3.11709857  2.36724708  0.62142981  1.27921849  3.42592005\n",
            " -0.31422987 -0.0724293 ]\n"
          ]
        }
      ]
    },
    {
      "cell_type": "code",
      "source": [
        "plt.plot(loss_results)"
      ],
      "metadata": {
        "colab": {
          "base_uri": "https://localhost:8080/",
          "height": 447
        },
        "id": "PB7B1gxXj5fp",
        "outputId": "9c0373a6-2d15-4937-a266-8e0cf4580693"
      },
      "execution_count": 56,
      "outputs": [
        {
          "output_type": "execute_result",
          "data": {
            "text/plain": [
              "[<matplotlib.lines.Line2D at 0x7f3bcdd8adb0>]"
            ]
          },
          "metadata": {},
          "execution_count": 56
        },
        {
          "output_type": "display_data",
          "data": {
            "text/plain": [
              "<Figure size 640x480 with 1 Axes>"
            ],
            "image/png": "[encoded data removed]"
          },
          "metadata": {}
        }
      ]
    },
    {
      "cell_type": "markdown",
      "metadata": {
        "id": "OULjZMz31hsY"
      },
      "source": [
        "#### 1.4 Plot your reconstructed classification"
      ]
    },
    {
      "cell_type": "code",
      "execution_count": 109,
      "metadata": {
        "id": "gRdoelXc1hsY",
        "colab": {
          "base_uri": "https://localhost:8080/",
          "height": 430
        },
        "outputId": "0b7348b6-bae1-4b4d-e1e1-6b83d9831683"
      },
      "outputs": [
        {
          "output_type": "display_data",
          "data": {
            "text/plain": [
              "<Figure size 640x480 with 1 Axes>"
            ],
            "image/png": "[encoded data removed]"
          },
          "metadata": {}
        }
      ],
      "source": [
        "def QNN_classifier(input_params: np.ndarray):\n",
        "    predictions = forward(qnn_circuit, input_params, weight_params)\n",
        "\n",
        "    predictions = predictions > 0.50\n",
        "    return predictions\n",
        "\n",
        "def plot_prediction(QNN_classifier):\n",
        "    \"\"\"Auxiliar function to plot classification. Feel free to modify it\"\"\"\n",
        "    # Making prediction\n",
        "\n",
        "\n",
        "    prediction = QNN_classifier(R)\n",
        "\n",
        "    is_one = prediction == 1\n",
        "\n",
        "    predicted_R_class1 = R[is_one]                    # Class +1: Outside of square\n",
        "    predicted_R_class0 = R[np.logical_not( is_one )]  # Class  0: Inside  of square\n",
        "\n",
        "    ## PLOT Prediction\n",
        "    plt.axis('equal')\n",
        "\n",
        "    # Draw square\n",
        "    plt.plot([-np.sqrt(2)/2, -np.sqrt(2)/2, np.sqrt(2)/2, np.sqrt(2)/2, -np.sqrt(2)/2], [-np.sqrt(2)/2, np.sqrt(2)/2, np.sqrt(2)/2, -np.sqrt(2)/2, -np.sqrt(2)/2], 'k--')\n",
        "    plt.scatter(predicted_R_class0[:,0], predicted_R_class0[:,1], label=\"Class  1\")\n",
        "    plt.scatter(predicted_R_class1[:,0], predicted_R_class1[:,1], label=\"Class  0\")\n",
        "    plt.legend(loc = \"upper left\")\n",
        "\n",
        "plot_prediction(QNN_classifier)"
      ]
    },
    {
      "cell_type": "markdown",
      "metadata": {
        "id": "wTm1zu-o1hsY"
      },
      "source": [
        "### 1.5 Explore\n",
        "These sections is more optional, if you are doing well you may skip to section 2 already. If you get stuck at section 2, you can get back to work on it, or work on it later, or split it with other members of the group.\n"
      ]
    },
    {
      "cell_type": "markdown",
      "metadata": {
        "id": "YxdiJ5jz1hsY"
      },
      "source": [
        "#### 1.5.1 Data re-uploading\n",
        "\n",
        "Instead of just changing the encoding layer and the processing layer, explore here if you can obtain better results by intertwining them:\n",
        "\n",
        "Build your circuit with an encoding layer, a processing layer, another encoding layer and another processing layer. As this will increase the complexity, you may also want to simplify the layers themselves. Try with different ammounts of intertwining, do you get better results?"
      ]
    },
    {
      "cell_type": "code",
      "execution_count": null,
      "metadata": {
        "id": "of5mzOMD1hsY"
      },
      "outputs": [],
      "source": [
        "# Code here\n",
        "trainable_parameters2 = ParameterVector('θ2', 8) #nou set de parametres entrenables\n",
        "\n",
        "encoding_circuit2 = encoding(inputs2)\n",
        "processing_circuit2 = processing(trainable_parameters2)\n",
        "\n",
        "#we add two processing layers\n",
        "qnn_circuit2 = encoding_circuit.compose(processing_circuit.compose(encoding_circuit.compose(processing_circuit2)))\n",
        "qnn_circuit2.draw(output='mpl', style='textbook')"
      ]
    },
    {
      "cell_type": "code",
      "source": [
        "trainable_parameters_1=np.random.rand(16) #doblem els paràmetres per tenir en compte les dues capes de processament\n",
        "\n",
        "\n",
        "def mse_loss_weights2(input_params, weight_params: np.ndarray) -> np.ndarray:\n",
        "    \"\"\"\n",
        "    Cost function for the optimizer to update the ansatz parameters.\n",
        "\n",
        "    weight_params: ansatz parameters to be updated by the optimizer.\n",
        "\n",
        "    output: MSE loss.\n",
        "    \"\"\"\n",
        "    predictions = forward(\n",
        "        circuit=qnn_circuit2,\n",
        "        input_params=input_params,\n",
        "        weight_params=weight_params\n",
        "    )\n",
        "    target = underlying_function(input_params)\n",
        "\n",
        "    cost = np.mean((predictions - target) ** 2)\n",
        "\n",
        "    global iter\n",
        "    if iter % 50 == 0:\n",
        "        print(f\"Iter: {iter}, loss: {cost}\")\n",
        "        loss_results.append(cost)\n",
        "    iter += 1\n",
        "\n",
        "    return cost\n",
        "\n",
        "forward(qnn_circuit2, R, trainable_parameters_1)\n",
        "\n",
        "def QNN_classifier2(input_params: np.ndarray):\n",
        "    predictions = forward(qnn_circuit2, input_params, weight_params)\n",
        "\n",
        "    predictions = predictions > 0.50\n",
        "    return predictions"
      ],
      "metadata": {
        "id": "BtVF84xMI5hu"
      },
      "execution_count": null,
      "outputs": []
    },
    {
      "cell_type": "code",
      "source": [
        "from scipy.optimize import minimize\n",
        "\n",
        "trainable_parameters_1=np.random.rand(16)\n",
        "num_epochs=1\n",
        "batch_size=100\n",
        "loss_results=[]\n",
        "weight_params1=trainable_parameters_1\n",
        "for n in range(num_epochs):\n",
        "    for i in range((len(R)//batch_size)):\n",
        "        iter=0\n",
        "        start_i=i*batch_size\n",
        "        end_i=start_i+batch_size\n",
        "        batch_input_params=R[start_i:end_i]\n",
        "        res = minimize(fun=lambda x: mse_loss_weights2(batch_input_params, x), x0=weight_params1, method=\"COBYLA\", options={\"maxiter\": 50})\n",
        "        weight_params1 = res[\"x\"]\n",
        "        loss_results.append(res['fun'])\n",
        "        print(f\"batch result: {res['fun']}\")"
      ],
      "metadata": {
        "id": "fjD2E6ucI8oP"
      },
      "execution_count": null,
      "outputs": []
    },
    {
      "cell_type": "code",
      "source": [
        "print(weight_params1)\n",
        "plt.plot(loss_results)"
      ],
      "metadata": {
        "id": "GRqCaJo8I9QW"
      },
      "execution_count": null,
      "outputs": []
    },
    {
      "cell_type": "code",
      "source": [
        "def plot_prediction2(QNN_classifier):\n",
        "    \"\"\"Auxiliar function to plot classification. Feel free to modify it\"\"\"\n",
        "    # Making prediction\n",
        "\n",
        "\n",
        "    prediction = QNN_classifier(R)\n",
        "\n",
        "    is_one = prediction == 1\n",
        "\n",
        "    predicted_R_class1 = R[is_one]                    # Class +1: Outside of square\n",
        "    predicted_R_class0 = R[np.logical_not( is_one )]  # Class  0: Inside  of square\n",
        "\n",
        "    ## PLOT Prediction\n",
        "    plt.axis('equal')\n",
        "\n",
        "    # Draw square\n",
        "    plt.plot([-np.sqrt(2)/2, -np.sqrt(2)/2, np.sqrt(2)/2, np.sqrt(2)/2, -np.sqrt(2)/2], [-np.sqrt(2)/2, np.sqrt(2)/2, np.sqrt(2)/2, -np.sqrt(2)/2, -np.sqrt(2)/2], 'k--')\n",
        "    plt.scatter(predicted_R_class1[:,0], predicted_R_class1[:,1], label=\"Class  1\")\n",
        "    plt.scatter(predicted_R_class0[:,0], predicted_R_class0[:,1], label=\"Class  0\")\n",
        "    plt.legend(loc = \"upper left\")\n",
        "\n",
        "plot_prediction2(QNN_classifier2)"
      ],
      "metadata": {
        "id": "smgSgldRJEE3"
      },
      "execution_count": null,
      "outputs": []
    },
    {
      "cell_type": "markdown",
      "metadata": {
        "id": "AYCKsSAU1hsY"
      },
      "source": [
        "## 2. Putting more quantum in Quantum Machine Learning\n",
        "\n",
        "Right now you have worked on a classical classification problem using quantum computers. Now we switch to the main challenge.\n",
        "\n",
        "Your task will be to train a quantum machine learning model to classify which phase of matter corresponds to each input quantum state."
      ]
    },
    {
      "cell_type": "markdown",
      "metadata": {
        "id": "YixJYXDT1hsY"
      },
      "source": [
        "We are going to study now the XY model on a periodic chain, with a hamiltonian representing its energy and properties given by\n",
        "\n",
        "$$H = -\\sum^N_{j=1} \\left [ \\left(\\frac{1+\\gamma}{2}\\right) X_j X_{j+1} + \\left(\\frac{1-\\gamma}{2}\\right) Y_j Y_{j+1}  + h Z_j \\right],$$\n",
        "\n",
        "with $\\sigma_{N+1}=\\sigma_1$.\n",
        "It has the following simple phase diagram, where we will focus on the $h,\\gamma>0$ region, with phase transitions at $h = 1$ and at the circular boundary $\\gamma^2 + h^2 = 1$:"
      ]
    },
    {
      "cell_type": "markdown",
      "metadata": {
        "id": "LeD2Ort01hsY"
      },
      "source": [
        "![image.png](attachment:image.png)"
      ]
    },
    {
      "cell_type": "markdown",
      "metadata": {
        "id": "gCcosA9W1hsY"
      },
      "source": [
        "### 2.1 Implement the hamiltonian\n"
      ]
    },
    {
      "cell_type": "code",
      "source": [],
      "metadata": {
        "id": "b__cDo2aDYEr"
      },
      "execution_count": null,
      "outputs": []
    },
    {
      "cell_type": "markdown",
      "metadata": {
        "id": "-DT4ESlT1hsZ"
      },
      "source": [
        "First you must implement the hamiltonian in Qiskit"
      ]
    },
    {
      "cell_type": "code",
      "execution_count": 170,
      "metadata": {
        "id": "SFoKThI71hsZ"
      },
      "outputs": [],
      "source": [
        "from qiskit.quantum_info import SparsePauliOp\n",
        "from qiskit.quantum_info import Statevector\n",
        "\n",
        "def XY_hamiltonian(gamma: float, h: float, Nsites: int) -> SparsePauliOp:\n",
        "    \"\"\"Return the many-body Hamiltonian H.\"\"\"\n",
        "    if Nsites < 2:\n",
        "        raise ValueError('Need at least two sites to define the XY Hamiltonian.')\n",
        "    pauli_words = []\n",
        "    coefficients = []\n",
        "    for site in range(Nsites):\n",
        "        neighbour = (site + 1) % Nsites\n",
        "        def label(mapping):\n",
        "            word = ['I'] * Nsites\n",
        "            for qubit, op in mapping.items():\n",
        "                word[Nsites - qubit - 1] = op\n",
        "            return ''.join(word)\n",
        "        pauli_words.append(label({site: 'X', neighbour: 'X'}))\n",
        "        coefficients.append(-0.5 * (1.0 + gamma))\n",
        "        pauli_words.append(label({site: 'Y', neighbour: 'Y'}))\n",
        "        coefficients.append(-0.5 * (1.0 - gamma))\n",
        "        pauli_words.append(label({site: 'Z'}))\n",
        "        coefficients.append(-h)\n",
        "    return SparsePauliOp(pauli_words, coefficients).simplify()"
      ]
    },
    {
      "cell_type": "markdown",
      "metadata": {
        "id": "IJBDraE81hsZ"
      },
      "source": [
        "### 2.2 Solve it classically"
      ]
    },
    {
      "cell_type": "markdown",
      "metadata": {
        "id": "O23jsAHG1hsZ"
      },
      "source": [
        "Create a classical method to find the ground states of the hamiltonian\n",
        "> hint: use libraries such as eigsh to diagonalise the hamiltonian with `.to_matrix()`\n",
        "\n",
        "The steps are similar to the case before, but now the inputs do not need to be directly embeded into the quantum computer as they are already quantum states. You can use `.prepare_state()`. You can start simple, with N=6 qubits."
      ]
    },
    {
      "cell_type": "code",
      "execution_count": 171,
      "metadata": {
        "id": "DBwFeT9n1hsZ"
      },
      "outputs": [],
      "source": [
        "from scipy.sparse.linalg import eigsh\n",
        "\n",
        "def XY_ground_state(gamma: float, h: float, Nsites: int) -> np.ndarray:\n",
        "    \"\"\"Returns the ground state for the corresponding XY hamiltonian\n",
        "\n",
        "    Args:\n",
        "        gamma (double): gamma parameter of hamiltonian\n",
        "        h (double): h transverse field parameter\n",
        "        Nsites (int): Number of spin sites, equivalent to number of qubits for a one to one mapping\n",
        "\n",
        "    Returns:\n",
        "        ground_state (np.ndarray): ground state of the corresponding hamiltonain\n",
        "    \"\"\"\n",
        "    # YOUR CODE HERE\n",
        "\n",
        "    operator = XY_hamiltonian(gamma, h, Nsites)\n",
        "    sparse_matrix = operator.to_matrix(sparse=True).tocsc()\n",
        "    eigenvalues, eigenvectors = eigsh(sparse_matrix, k=1, which='SA')\n",
        "    ground_state = eigenvectors[:, 0]\n",
        "    return ground_state/np.linalg.norm(ground_state)\n",
        ""
      ]
    },
    {
      "cell_type": "code",
      "source": [
        "XY_ground_state(0.5,0.6,2)"
      ],
      "metadata": {
        "colab": {
          "base_uri": "https://localhost:8080/"
        },
        "id": "dyKN97E0Qx2w",
        "outputId": "f3826c05-e0fd-4042-e125-635d7ae6067c"
      },
      "execution_count": 172,
      "outputs": [
        {
          "output_type": "execute_result",
          "data": {
            "text/plain": [
              "array([-2.55351296e-15+1.83186799e-15j, -5.46903304e-01+4.48215100e-01j,\n",
              "       -5.46903304e-01+4.48215100e-01j, -1.11022302e-15+9.99200722e-16j])"
            ]
          },
          "metadata": {},
          "execution_count": 172
        }
      ]
    },
    {
      "cell_type": "markdown",
      "metadata": {
        "id": "B2wu7QJ_1hsZ"
      },
      "source": [
        "### 2.3 Construct the QNN"
      ]
    },
    {
      "cell_type": "markdown",
      "metadata": {
        "id": "244eYyPA1hsZ"
      },
      "source": [
        "Construct your QNN model that will, after training, attempt to classify each input quantum state to the correct phase. You may start with a small number of qubits, 6, to check things work, and scale up later.\n",
        "\n",
        "In this case, you won't need to encode your data, as you can map each spin to a qubit directly. You can input states into qiskit circuits directly, and this is how you can deal with this challenge, with tools like `StatePreparation`. Construct your QNN here, you can adapt your processing layers you designed in section 1.2. Notice that now you have more classes, so you may want to use 2 output qubits instead of just 1."
      ]
    },
    {
      "cell_type": "code",
      "source": [],
      "metadata": {
        "id": "r4cbCleERct4"
      },
      "execution_count": 172,
      "outputs": []
    },
    {
      "cell_type": "code",
      "execution_count": 173,
      "metadata": {
        "id": "vtiFETj_1hsd",
        "colab": {
          "base_uri": "https://localhost:8080/",
          "height": 953
        },
        "outputId": "af059eb4-d124-42ed-ea71-dd71cd7c074e"
      },
      "outputs": [
        {
          "output_type": "stream",
          "name": "stderr",
          "text": [
            "/tmp/ipython-input-2273629805.py:9: DeprecationWarning: The class ``qiskit.circuit.library.n_local.efficient_su2.EfficientSU2`` is deprecated as of Qiskit 2.1. It will be removed in Qiskit 3.0. Use the function qiskit.circuit.library.efficient_su2 instead.\n",
            "  xy_ansatz = EfficientSU2(num_qubits=Nqubits, reps=2, entanglement=\"linear\")\n"
          ]
        },
        {
          "output_type": "stream",
          "name": "stdout",
          "text": [
            "ParameterView([ParameterVectorElement(θ[0]), ParameterVectorElement(θ[1]), ParameterVectorElement(θ[2]), ParameterVectorElement(θ[3]), ParameterVectorElement(θ[4]), ParameterVectorElement(θ[5]), ParameterVectorElement(θ[6]), ParameterVectorElement(θ[7]), ParameterVectorElement(θ[8]), ParameterVectorElement(θ[9]), ParameterVectorElement(θ[10]), ParameterVectorElement(θ[11]), ParameterVectorElement(θ[12]), ParameterVectorElement(θ[13]), ParameterVectorElement(θ[14]), ParameterVectorElement(θ[15]), ParameterVectorElement(θ[16]), ParameterVectorElement(θ[17]), ParameterVectorElement(θ[18]), ParameterVectorElement(θ[19]), ParameterVectorElement(θ[20]), ParameterVectorElement(θ[21]), ParameterVectorElement(θ[22]), ParameterVectorElement(θ[23]), ParameterVectorElement(θ[24]), ParameterVectorElement(θ[25]), ParameterVectorElement(θ[26]), ParameterVectorElement(θ[27]), ParameterVectorElement(θ[28]), ParameterVectorElement(θ[29]), ParameterVectorElement(θ[30]), ParameterVectorElement(θ[31]), ParameterVectorElement(θ[32]), ParameterVectorElement(θ[33]), ParameterVectorElement(θ[34]), ParameterVectorElement(θ[35])])\n"
          ]
        },
        {
          "output_type": "execute_result",
          "data": {
            "text/plain": [
              "<Figure size 1207.22x535.111 with 1 Axes>"
            ],
            "image/png": "[encoded data removed]"
          },
          "metadata": {},
          "execution_count": 173
        },
        {
          "output_type": "display_data",
          "data": {
            "text/plain": [
              "<Figure size 1207.22x535.111 with 1 Axes>"
            ],
            "image/png": "[encoded data removed]"
          },
          "metadata": {}
        }
      ],
      "source": [
        "from qiskit.circuit import Parameter\n",
        "from qiskit.primitives import BaseSamplerV2\n",
        "from qiskit_ibm_runtime import Sampler  # actual to use\n",
        "from qiskit.circuit.library import EfficientSU2, RealAmplitudes, StatePreparation\n",
        "\n",
        "Nqubits = 6\n",
        "initial_weights = np.random.rand(36)\n",
        "\n",
        "xy_ansatz = EfficientSU2(num_qubits=Nqubits, reps=2, entanglement=\"linear\")\n",
        "xy_parameter_vector = ParameterVector(\"φ\", length=len(xy_ansatz.parameters))\n",
        "\n",
        "print(xy_ansatz.parameters)\n",
        "\n",
        "\n",
        "def QNN_XY_circuit(parameters: np.ndarray) -> QuantumCircuit:\n",
        "    \"\"\"Returns the XY Quantum Neural Network ansatz circuit.\"\"\"\n",
        "    parameter_map = {param: value for param, value in zip(xy_ansatz.parameters, parameters)}\n",
        "    circuit = QuantumCircuit(Nqubits)\n",
        "    circuit.compose(xy_ansatz.assign_parameters(parameter_map), inplace=True)\n",
        "    return circuit\n",
        "    pass\n",
        "\n",
        "from qiskit.visualization import circuit_drawer\n",
        "xy_ansatz.decompose().draw(output='mpl', style='textbook')"
      ]
    },
    {
      "cell_type": "markdown",
      "metadata": {
        "id": "Vw89qGJ71hse"
      },
      "source": [
        "Define as in the previous sections some forward passes and reuse or adapt the loss function."
      ]
    },
    {
      "cell_type": "code",
      "execution_count": 184,
      "metadata": {
        "id": "lbTJr-Li1hse",
        "colab": {
          "base_uri": "https://localhost:8080/"
        },
        "outputId": "59b2f1f7-2980-4545-9d4b-557a1afbedf4"
      },
      "outputs": [
        {
          "output_type": "execute_result",
          "data": {
            "text/plain": [
              "[np.float64(0.02588619415369059), np.float64(0.07871522134614964)]"
            ]
          },
          "metadata": {},
          "execution_count": 184
        }
      ],
      "source": [
        "# Your code here\n",
        "def initial_state(gamma: np.ndarray, h: np.ndarray, Nqubits: int):\n",
        "    v_gs=XY_ground_state(gamma, h, Nqubits)\n",
        "    state = Statevector(v_gs)\n",
        "    return state\n",
        "\n",
        "def forward_H(gamma: np.ndarray, h: np.ndarray, Nqubits: int, weight_params: np.ndarray):\n",
        "    num_samples = len(gamma)\n",
        "    expectation_values=[]\n",
        "    for i in range(num_samples):\n",
        "      input_state = initial_state(gamma[i], h[i], Nqubits)\n",
        "      output_state=input_state.evolve(QNN_XY_circuit(weight_params))\n",
        "\n",
        "      observable=SparsePauliOp('ZZZIII')\n",
        "\n",
        "      expectation_value=output_state.expectation_value(observable)\n",
        "\n",
        "      expectation_values.append(expectation_value.real)\n",
        "\n",
        "    return expectation_values\n",
        "\n",
        "forward_H(np.array([6,3]),np.array([2,1]),Nqubits,initial_weights)"
      ]
    },
    {
      "cell_type": "markdown",
      "metadata": {
        "id": "ouTkcLvX1hse"
      },
      "source": [
        "### 2.4 Train it for your quantum data"
      ]
    },
    {
      "cell_type": "markdown",
      "metadata": {
        "id": "M6CPJmHL1hse"
      },
      "source": [
        "Use your classical solver to find the ground states for your system at different parameters, and use those states, with their known phase, to define the loss and train your model.\n",
        "\n",
        "Finally, draw the phase diagram that your system detects, where you may find it useful to define a prediciton function for a particular input state"
      ]
    },
    {
      "cell_type": "code",
      "source": [
        "def labeling(gamma:np.ndarray, h:np.ndarray):\n",
        "  labels=[]\n",
        "  for i in range(len(gamma)):\n",
        "    if h[i]>1:\n",
        "      labels.append(-1)\n",
        "    elif (h[i]**2+gamma[i]**2)<1:\n",
        "      labels.append(0)\n",
        "    else:\n",
        "      labels.append(1)\n",
        "  return labels\n",
        "\n",
        "labeling(np.array([0,1]),np.array([2,1]))"
      ],
      "metadata": {
        "colab": {
          "base_uri": "https://localhost:8080/"
        },
        "id": "afwqJKD8zgg4",
        "outputId": "1ac471ba-8716-4801-b48a-9975bd6f4625"
      },
      "execution_count": 185,
      "outputs": [
        {
          "output_type": "execute_result",
          "data": {
            "text/plain": [
              "[-1, 1]"
            ]
          },
          "metadata": {},
          "execution_count": 185
        }
      ]
    },
    {
      "cell_type": "code",
      "source": [
        "def mse_loss_weights_H(gamma: np.ndarray, h: np.ndarray, Nqubits: np.ndarray, weight_params: np.ndarray) -> np.ndarray:\n",
        "    \"\"\"\n",
        "    Cost function for the optimizer to update the ansatz parameters.\n",
        "\n",
        "    weight_params: ansatz parameters to be updated by the optimizer.\n",
        "\n",
        "    output: MSE loss.\n",
        "    \"\"\"\n",
        "    predictions = forward_H(\n",
        "        gamma=gamma,\n",
        "        h=h,\n",
        "        Nqubits=Nqubits,\n",
        "        weight_params=weight_params\n",
        "    )\n",
        "    target = labeling(gamma, h)\n",
        "\n",
        "    cost = np.mean((np.array(predictions) - np.array(target)) ** 2)\n",
        "\n",
        "    global iter\n",
        "    if iter % 50 == 0:\n",
        "        print(f\"Iter: {iter}, loss: {cost}\")\n",
        "        loss_results.append(cost)\n",
        "    iter += 1\n",
        "\n",
        "    return cost\n",
        "\n",
        "mse_loss_weights_H(np.array([0,1]),np.array([2,1]),Nqubits,initial_weights)"
      ],
      "metadata": {
        "colab": {
          "base_uri": "https://localhost:8080/"
        },
        "id": "Id9LzPNE1x5w",
        "outputId": "9ce43c86-63f5-4c2b-f6df-0154d61eec08"
      },
      "execution_count": 186,
      "outputs": [
        {
          "output_type": "stream",
          "name": "stdout",
          "text": [
            "Iter: 50, loss: 1.0010726691863747\n"
          ]
        },
        {
          "output_type": "execute_result",
          "data": {
            "text/plain": [
              "np.float64(1.0010726691863747)"
            ]
          },
          "metadata": {},
          "execution_count": 186
        }
      ]
    },
    {
      "cell_type": "code",
      "execution_count": 187,
      "metadata": {
        "id": "OPLcwfzP1hsf",
        "colab": {
          "base_uri": "https://localhost:8080/"
        },
        "outputId": "b36a200d-ac0f-4ed0-9c23-afe4dad6672f"
      },
      "outputs": [
        {
          "output_type": "stream",
          "name": "stdout",
          "text": [
            "[0.53166463 0.99455081 0.40993959 0.52195173 0.53697608 0.16811372\n",
            " 0.70582279 0.29944839 0.37527309 0.34776306 0.04476425 0.39701427\n",
            " 0.5862848  0.51340367 0.84111782 0.36556167 0.35095769 0.53242432\n",
            " 0.53017633 0.24585878 0.23888633 0.15085127 0.86171843 0.02578045\n",
            " 0.87779097 0.57835644 0.38003307 0.01835996 0.08607219 0.05601288\n",
            " 0.7318782  0.5362802  0.50893101 0.14409901 0.65554129 0.64305508]\n",
            "0\n",
            "500\n",
            "0\n",
            "Iter: 0, loss: 1.086916156058149\n",
            "batch result: 0.3295630754793105\n",
            "1\n",
            "Iter: 0, loss: 0.23990490451543575\n",
            "batch result: 0.20892651505180737\n",
            "2\n",
            "Iter: 0, loss: 0.24088266823388502\n",
            "batch result: 0.23259711631291607\n",
            "3\n",
            "Iter: 0, loss: 0.21200836287654445\n",
            "batch result: 0.20777354497639253\n",
            "4\n",
            "Iter: 0, loss: 0.2836193312155995\n",
            "batch result: 0.26104044013085176\n",
            "[ 1.42299821  0.07491222  1.31667786  4.48499417 -0.07992928  0.16637014\n",
            "  0.07058841  0.35137584  2.47054432  2.89323267  0.14582789  0.51092617\n",
            "  2.91798887  1.41207401  1.66370438  1.5252625   0.07482118  1.45226973\n",
            "  1.44053951  2.16779385  2.07252461  2.35976973  1.06721219  0.05563258\n",
            "  4.09794947  1.79851494  0.60019158  0.05315235  0.05272421  1.2176956\n",
            "  0.9520367   1.7564387   1.72908951  0.36425751  0.8756998   0.86321358]\n"
          ]
        }
      ],
      "source": [
        "# Your code here\n",
        "from numpy.random import uniform\n",
        "gamma = np.random.uniform(0,7,500)\n",
        "h = np.random.uniform(0, 7, 500)\n",
        "labels=labeling(gamma, h)\n",
        "num_epochs=1\n",
        "batch_size=100\n",
        "loss_results=[]\n",
        "weight_params=initial_weights\n",
        "print(weight_params)\n",
        "Nqubits=6\n",
        "for n in range(num_epochs):\n",
        "\n",
        "  for i in range(len(gamma)//batch_size):\n",
        "\n",
        "      iter=0\n",
        "      start_i=i*batch_size\n",
        "      end_i=start_i+batch_size\n",
        "      batch_input_gamma=gamma[start_i:end_i]\n",
        "      batch_input_h=h[start_i:end_i]\n",
        "      res = minimize(fun=lambda x: mse_loss_weights_H(batch_input_gamma, batch_input_h, Nqubits, x), x0=weight_params, method=\"COBYLA\", options={\"maxiter\": 50})\n",
        "      weight_params = res[\"x\"]\n",
        "      loss_results.append(res['fun'])\n",
        "      print(f\"batch result: {res['fun']}\")\n",
        ""
      ]
    },
    {
      "cell_type": "code",
      "source": [
        "print(weight_params)"
      ],
      "metadata": {
        "colab": {
          "base_uri": "https://localhost:8080/"
        },
        "id": "5BhNr5cj4dIn",
        "outputId": "46682fc0-35c6-466b-a7d8-17fed78d8b93"
      },
      "execution_count": 188,
      "outputs": [
        {
          "output_type": "stream",
          "name": "stdout",
          "text": [
            "[ 1.42299821  0.07491222  1.31667786  4.48499417 -0.07992928  0.16637014\n",
            "  0.07058841  0.35137584  2.47054432  2.89323267  0.14582789  0.51092617\n",
            "  2.91798887  1.41207401  1.66370438  1.5252625   0.07482118  1.45226973\n",
            "  1.44053951  2.16779385  2.07252461  2.35976973  1.06721219  0.05563258\n",
            "  4.09794947  1.79851494  0.60019158  0.05315235  0.05272421  1.2176956\n",
            "  0.9520367   1.7564387   1.72908951  0.36425751  0.8756998   0.86321358]\n"
          ]
        }
      ]
    },
    {
      "cell_type": "code",
      "execution_count": 179,
      "metadata": {
        "id": "9qwcV8ZX1hsf",
        "colab": {
          "base_uri": "https://localhost:8080/",
          "height": 193
        },
        "outputId": "6b6bfb23-3371-438a-d5bf-5d7877e552e1"
      },
      "outputs": [
        {
          "output_type": "error",
          "ename": "NameError",
          "evalue": "name 'predict_XY' is not defined",
          "traceback": [
            "\u001b[0;31m---------------------------------------------------------------------------\u001b[0m",
            "\u001b[0;31mNameError\u001b[0m                                 Traceback (most recent call last)",
            "Cell \u001b[0;32mIn[179], line 17\u001b[0m\n\u001b[1;32m     14\u001b[0m     plt\u001b[38;5;241m.\u001b[39mcontourf(gamma_mesh, h_mesh, prediction)\n\u001b[1;32m     15\u001b[0m     plt\u001b[38;5;241m.\u001b[39mshow()\n\u001b[0;32m---> 17\u001b[0m draw_predicted_phasediagram(\u001b[43mpredict_XY\u001b[49m)\n\u001b[1;32m     19\u001b[0m \u001b[38;5;66;03m# Your code here\u001b[39;00m\n",
            "\u001b[0;31mNameError\u001b[0m: name 'predict_XY' is not defined"
          ]
        }
      ],
      "source": [
        "def draw_predicted_phasediagram(predict_XY) -> None:\n",
        "    \"\"\"Plots the predicted phase diagram.\n",
        "    \"\"\"\n",
        "    prediction = []\n",
        "\n",
        "    gamma_range = np.linspace(0,2)\n",
        "    h_range = np.linspace(0,2)\n",
        "    for gamma in gamma_range:\n",
        "        prediction.append([])\n",
        "        for h in h_range:\n",
        "            prediction[-1].append(predict_XY(gamma, h))\n",
        "\n",
        "    gamma_mesh, h_mesh = np.meshgrid(gamma_range, h_range)\n",
        "    plt.contourf(gamma_mesh, h_mesh, prediction)\n",
        "    plt.show()\n",
        "\n",
        "draw_predicted_phasediagram(predict_XY)\n",
        "\n",
        "# Your code here"
      ]
    },
    {
      "cell_type": "markdown",
      "metadata": {
        "id": "--B2Zvup1hsf"
      },
      "source": [
        "### 2.5 Analysis"
      ]
    },
    {
      "cell_type": "markdown",
      "metadata": {
        "id": "LVrPo-Vz1hsf"
      },
      "source": [
        "Repeat the previous steps using different optimizers: SPSA/COBYLA/BFGS/ADAM and gate ansatz.\n",
        "\n",
        "> Hint: As some criterion, you can use gates related to the elements in the hamiltonian. For instance $R_X$, $R_{XX}$ gates etc. You may also consider some other properties of your system, such as symmetries."
      ]
    },
    {
      "cell_type": "code",
      "execution_count": null,
      "metadata": {
        "id": "7sBxiaMl1hsf"
      },
      "outputs": [],
      "source": [
        "# Your code here"
      ]
    },
    {
      "cell_type": "markdown",
      "metadata": {
        "id": "d3XapXvc1hsg"
      },
      "source": [
        "What kind of model works best, and optimizer?"
      ]
    },
    {
      "cell_type": "markdown",
      "metadata": {
        "id": "Uot8r-IV1hsg"
      },
      "source": [
        "### 2.6 Constrained training\n",
        "\n",
        "Consider that using as training data many points across the whole phase diagram is very ideal, in general you may be constrained to some easier subspaces to reproduce/generate.\n",
        "\n",
        "Perform the previous steps, training and predicting the phase diagram, but with constrained initial data points. Compare different cases:\n",
        "\n",
        "Take points across the line $gamma=1$, across the line $h = 0.5$, and across the horizontal and vertical lines crossing at $\\gamma, h = 0$"
      ]
    },
    {
      "cell_type": "code",
      "execution_count": null,
      "metadata": {
        "id": "s8FeVz091hsg"
      },
      "outputs": [],
      "source": [
        "# Your code here"
      ]
    },
    {
      "cell_type": "markdown",
      "metadata": {
        "id": "ytO589GA1hsg"
      },
      "source": [
        "How do the results change with the training region?"
      ]
    },
    {
      "cell_type": "markdown",
      "metadata": {
        "id": "qN904eYL1hsg"
      },
      "source": [
        "### 3. More questions"
      ]
    },
    {
      "cell_type": "markdown",
      "metadata": {
        "id": "GL-yxpKf1hsg"
      },
      "source": [
        "### Scalability\n",
        "The fundamental principle that motivates quantum machine learning is the search for some quantum advantage with respect to classical machine learning. To simulate a generic quantum computer requires exponential time, although smart techniques such as tensor networks can dequantize simple or very structured circuits, so the ideal criterion is to have our models require at most polynomial resources with the number of qubits. You are invited to tackle this in any way you want, where the general idea is to scale the system for different sizes and see how it fares. Next we provide an example criterion that has become standard, the barren plateau phenomena.\n",
        "\n",
        "It turns out that the expressability of quantum circuits, due to the exponential scaling of the Hilbert space, comes at a cost, many problems have gradients vanishing exponentially with number of qubits:\n",
        "\n",
        "**Compute the variance of gradients of your loss functions for random initial parameters of your circuits, and plot how these variances scale with increasing number of sites/qubits (Ex. N=6,7,8,9,10,11,12)**\n"
      ]
    },
    {
      "cell_type": "markdown",
      "metadata": {
        "id": "iwuL7t351hsh"
      },
      "source": [
        ">  Hint: You can start by defining a way to compute gradients. For instance you can reuse the backwards methods, that were proposed earlier."
      ]
    },
    {
      "cell_type": "code",
      "execution_count": null,
      "metadata": {
        "id": "NMF9heme1hsh"
      },
      "outputs": [],
      "source": [
        "# Your code here"
      ]
    },
    {
      "cell_type": "markdown",
      "metadata": {
        "id": "6Wh8NU9k1hsh"
      },
      "source": [
        "### Unsupervised learning\n",
        "Instead of learning to classify states, having been provided with the knowledge of the existing phases, try now to discover which phases there are. That is, make an unsupervised quantum machine learning paradigm to identify the existence of the different phases the model has.\n",
        "[This paper](https://arxiv.org/abs/2402.11022) presents an approach to do this. An idea is that instead of performing a classifcation itself, and defining the loss by penalising cases where it differs from the known data, you should compress the quantum states into a smaller subsystem, training it at some point. The success of this compression, after training, which will be the output of your QNN, will be better for states similar to the initial state, and through this you may find"
      ]
    },
    {
      "cell_type": "code",
      "execution_count": null,
      "metadata": {
        "id": "P9u68Pit1hsh"
      },
      "outputs": [],
      "source": [
        "# Your code here"
      ]
    },
    {
      "cell_type": "markdown",
      "metadata": {
        "id": "f9GIQNvv1hsh"
      },
      "source": [
        "### Noise and sampling\n",
        "\n",
        "Introduce sampling and noise into the mix! Do the previous results hold? Do some optimizers or architechtures become better now?\n",
        " You could try to also use IBM hardware, but it is not recommended because the state preparation, from arbitary statevectors, is not very hardware friendly."
      ]
    },
    {
      "cell_type": "code",
      "execution_count": null,
      "metadata": {
        "id": "BtNNBHKs1hsh"
      },
      "outputs": [],
      "source": [
        "# Your code here"
      ]
    },
    {
      "cell_type": "markdown",
      "metadata": {
        "id": "17VMEPqd1hsh"
      },
      "source": [
        "## References\n",
        "[1]. Cerezo, M., Verdon, G., Huang, H., Cincio, L., & Coles, P. J. (2022). Challenges and opportunities in quantum machine learning. Nature Computational Science, 2(9), 567–576\n",
        "\n",
        "[2]. Bharti, K., Cervera-Lierta, A., Kyaw, T. H., Haug, T., Alperin-Lea, S., Anand, A., Degroote, M., Heimonen, H., Kottmann, J. S., Menke, T., Mok, W., Sim, S., Kwek, L., & Aspuru-Guzik, A. (2022). Noisy intermediate-scale quantum algorithms. Reviews of Modern Physics, 94(1)\n",
        "\n",
        "[3] Franchini, Fabio. An introduction to integrable techniques for one-dimensional quantum systems. Vol. 940. Cham: Springer International Publishing, 2017. ([url](https://arxiv.org/abs/1609.02100))"
      ]
    }
  ],
  "metadata": {
    "kernelspec": {
      "display_name": "qiskitfallfest2025",
      "language": "python",
      "name": "python3"
    },
    "language_info": {
      "codemirror_mode": {
        "name": "ipython",
        "version": 3
      },
      "file_extension": ".py",
      "mimetype": "text/x-python",
      "name": "python",
      "nbconvert_exporter": "python",
      "pygments_lexer": "ipython3",
      "version": "3.12.11"
    },
    "colab": {
      "provenance": []
    }
  },
  "nbformat": 4,
  "nbformat_minor": 0
}