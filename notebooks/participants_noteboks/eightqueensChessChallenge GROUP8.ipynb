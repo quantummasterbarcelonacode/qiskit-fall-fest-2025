{
 "cells": [
  {
   "cell_type": "markdown",
   "metadata": {
    "id": "OdsFxsUPAX02"
   },
   "source": [
    "# Chess Challenge\n",
    "\n",
    "Welcome to the chess challenge of the MQST Qiskit Fall Fest!\n",
    "\n",
    "The queens puzzle is the problem of placing the maximum number of chess queens on an $N \\times N$ chessboard such that no two queens threaten each other. It is often used as an example in various computational techniques. This problem does not have a unique solution, and the complexity of finding one increases exponentially with the size of $N$."
   ]
  },
  {
   "cell_type": "markdown",
   "metadata": {
    "id": "D_udQw-Zg9o-"
   },
   "source": [
    "#### First install the necessary packages:"
   ]
  },
  {
   "cell_type": "code",
   "execution_count": 1,
   "metadata": {
    "colab": {
     "base_uri": "https://localhost:8080/",
     "height": 106
    },
    "id": "uJtM9W9Kg9pA",
    "outputId": "e66c891c-fd63-44a5-8dc6-0f5e54e905ca"
   },
   "outputs": [
    {
     "name": "stdout",
     "output_type": "stream",
     "text": [
      "Requirement already satisfied: pip in /Users/olosada/.qiskit/lib/python3.13/site-packages (25.3)\n",
      "Note: you may need to restart the kernel to use updated packages.\n",
      "Requirement already satisfied: numpy==2.3.4 in /Users/olosada/.qiskit/lib/python3.13/site-packages (2.3.4)\n",
      "Note: you may need to restart the kernel to use updated packages.\n",
      "Requirement already satisfied: scipy==1.16.2 in /Users/olosada/.qiskit/lib/python3.13/site-packages (1.16.2)\n",
      "Requirement already satisfied: numpy<2.6,>=1.25.2 in /Users/olosada/.qiskit/lib/python3.13/site-packages (from scipy==1.16.2) (2.3.4)\n",
      "Note: you may need to restart the kernel to use updated packages.\n",
      "Requirement already satisfied: matplotlib==3.10.7 in /Users/olosada/.qiskit/lib/python3.13/site-packages (3.10.7)\n",
      "Requirement already satisfied: contourpy>=1.0.1 in /Users/olosada/.qiskit/lib/python3.13/site-packages (from matplotlib==3.10.7) (1.3.3)\n",
      "Requirement already satisfied: cycler>=0.10 in /Users/olosada/.qiskit/lib/python3.13/site-packages (from matplotlib==3.10.7) (0.12.1)\n",
      "Requirement already satisfied: fonttools>=4.22.0 in /Users/olosada/.qiskit/lib/python3.13/site-packages (from matplotlib==3.10.7) (4.60.1)\n",
      "Requirement already satisfied: kiwisolver>=1.3.1 in /Users/olosada/.qiskit/lib/python3.13/site-packages (from matplotlib==3.10.7) (1.4.9)\n",
      "Requirement already satisfied: numpy>=1.23 in /Users/olosada/.qiskit/lib/python3.13/site-packages (from matplotlib==3.10.7) (2.3.4)\n",
      "Requirement already satisfied: packaging>=20.0 in /Users/olosada/.qiskit/lib/python3.13/site-packages (from matplotlib==3.10.7) (25.0)\n",
      "Requirement already satisfied: pillow>=8 in /Users/olosada/.qiskit/lib/python3.13/site-packages (from matplotlib==3.10.7) (12.0.0)\n",
      "Requirement already satisfied: pyparsing>=3 in /Users/olosada/.qiskit/lib/python3.13/site-packages (from matplotlib==3.10.7) (3.2.5)\n",
      "Requirement already satisfied: python-dateutil>=2.7 in /Users/olosada/.qiskit/lib/python3.13/site-packages (from matplotlib==3.10.7) (2.9.0.post0)\n",
      "Requirement already satisfied: six>=1.5 in /Users/olosada/.qiskit/lib/python3.13/site-packages (from python-dateutil>=2.7->matplotlib==3.10.7) (1.17.0)\n",
      "Note: you may need to restart the kernel to use updated packages.\n",
      "Requirement already satisfied: jupyter in /Users/olosada/.qiskit/lib/python3.13/site-packages (1.1.1)\n",
      "Requirement already satisfied: notebook in /Users/olosada/.qiskit/lib/python3.13/site-packages (from jupyter) (7.4.7)\n",
      "Requirement already satisfied: jupyter-console in /Users/olosada/.qiskit/lib/python3.13/site-packages (from jupyter) (6.6.3)\n",
      "Requirement already satisfied: nbconvert in /Users/olosada/.qiskit/lib/python3.13/site-packages (from jupyter) (7.16.6)\n",
      "Requirement already satisfied: ipykernel in /Users/olosada/.qiskit/lib/python3.13/site-packages (from jupyter) (7.0.1)\n",
      "Requirement already satisfied: ipywidgets in /Users/olosada/.qiskit/lib/python3.13/site-packages (from jupyter) (8.1.7)\n",
      "Requirement already satisfied: jupyterlab in /Users/olosada/.qiskit/lib/python3.13/site-packages (from jupyter) (4.4.10)\n",
      "Requirement already satisfied: appnope>=0.1.2 in /Users/olosada/.qiskit/lib/python3.13/site-packages (from ipykernel->jupyter) (0.1.4)\n",
      "Requirement already satisfied: comm>=0.1.1 in /Users/olosada/.qiskit/lib/python3.13/site-packages (from ipykernel->jupyter) (0.2.3)\n",
      "Requirement already satisfied: debugpy>=1.6.5 in /Users/olosada/.qiskit/lib/python3.13/site-packages (from ipykernel->jupyter) (1.8.17)\n",
      "Requirement already satisfied: ipython>=7.23.1 in /Users/olosada/.qiskit/lib/python3.13/site-packages (from ipykernel->jupyter) (8.37.0)\n",
      "Requirement already satisfied: jupyter-client>=8.0.0 in /Users/olosada/.qiskit/lib/python3.13/site-packages (from ipykernel->jupyter) (8.6.3)\n",
      "Requirement already satisfied: jupyter-core!=5.0.*,>=4.12 in /Users/olosada/.qiskit/lib/python3.13/site-packages (from ipykernel->jupyter) (5.9.1)\n",
      "Requirement already satisfied: matplotlib-inline>=0.1 in /Users/olosada/.qiskit/lib/python3.13/site-packages (from ipykernel->jupyter) (0.2.1)\n",
      "Requirement already satisfied: nest-asyncio>=1.4 in /Users/olosada/.qiskit/lib/python3.13/site-packages (from ipykernel->jupyter) (1.6.0)\n",
      "Requirement already satisfied: packaging>=22 in /Users/olosada/.qiskit/lib/python3.13/site-packages (from ipykernel->jupyter) (25.0)\n",
      "Requirement already satisfied: psutil>=5.7 in /Users/olosada/.qiskit/lib/python3.13/site-packages (from ipykernel->jupyter) (7.1.1)\n",
      "Requirement already satisfied: pyzmq>=25 in /Users/olosada/.qiskit/lib/python3.13/site-packages (from ipykernel->jupyter) (27.1.0)\n",
      "Requirement already satisfied: tornado>=6.2 in /Users/olosada/.qiskit/lib/python3.13/site-packages (from ipykernel->jupyter) (6.5.2)\n",
      "Requirement already satisfied: traitlets>=5.4.0 in /Users/olosada/.qiskit/lib/python3.13/site-packages (from ipykernel->jupyter) (5.14.3)\n",
      "Requirement already satisfied: decorator in /Users/olosada/.qiskit/lib/python3.13/site-packages (from ipython>=7.23.1->ipykernel->jupyter) (5.2.1)\n",
      "Requirement already satisfied: jedi>=0.16 in /Users/olosada/.qiskit/lib/python3.13/site-packages (from ipython>=7.23.1->ipykernel->jupyter) (0.19.2)\n",
      "Requirement already satisfied: pexpect>4.3 in /Users/olosada/.qiskit/lib/python3.13/site-packages (from ipython>=7.23.1->ipykernel->jupyter) (4.9.0)\n",
      "Requirement already satisfied: prompt_toolkit<3.1.0,>=3.0.41 in /Users/olosada/.qiskit/lib/python3.13/site-packages (from ipython>=7.23.1->ipykernel->jupyter) (3.0.52)\n",
      "Requirement already satisfied: pygments>=2.4.0 in /Users/olosada/.qiskit/lib/python3.13/site-packages (from ipython>=7.23.1->ipykernel->jupyter) (2.19.2)\n",
      "Requirement already satisfied: stack_data in /Users/olosada/.qiskit/lib/python3.13/site-packages (from ipython>=7.23.1->ipykernel->jupyter) (0.6.3)\n",
      "Requirement already satisfied: wcwidth in /Users/olosada/.qiskit/lib/python3.13/site-packages (from prompt_toolkit<3.1.0,>=3.0.41->ipython>=7.23.1->ipykernel->jupyter) (0.2.14)\n",
      "Requirement already satisfied: parso<0.9.0,>=0.8.4 in /Users/olosada/.qiskit/lib/python3.13/site-packages (from jedi>=0.16->ipython>=7.23.1->ipykernel->jupyter) (0.8.5)\n",
      "Requirement already satisfied: python-dateutil>=2.8.2 in /Users/olosada/.qiskit/lib/python3.13/site-packages (from jupyter-client>=8.0.0->ipykernel->jupyter) (2.9.0.post0)\n",
      "Requirement already satisfied: platformdirs>=2.5 in /Users/olosada/.qiskit/lib/python3.13/site-packages (from jupyter-core!=5.0.*,>=4.12->ipykernel->jupyter) (4.5.0)\n",
      "Requirement already satisfied: ptyprocess>=0.5 in /Users/olosada/.qiskit/lib/python3.13/site-packages (from pexpect>4.3->ipython>=7.23.1->ipykernel->jupyter) (0.7.0)\n",
      "Requirement already satisfied: six>=1.5 in /Users/olosada/.qiskit/lib/python3.13/site-packages (from python-dateutil>=2.8.2->jupyter-client>=8.0.0->ipykernel->jupyter) (1.17.0)\n",
      "Requirement already satisfied: widgetsnbextension~=4.0.14 in /Users/olosada/.qiskit/lib/python3.13/site-packages (from ipywidgets->jupyter) (4.0.14)\n",
      "Requirement already satisfied: jupyterlab_widgets~=3.0.15 in /Users/olosada/.qiskit/lib/python3.13/site-packages (from ipywidgets->jupyter) (3.0.15)\n",
      "Requirement already satisfied: async-lru>=1.0.0 in /Users/olosada/.qiskit/lib/python3.13/site-packages (from jupyterlab->jupyter) (2.0.5)\n",
      "Requirement already satisfied: httpx<1,>=0.25.0 in /Users/olosada/.qiskit/lib/python3.13/site-packages (from jupyterlab->jupyter) (0.28.1)\n",
      "Requirement already satisfied: jinja2>=3.0.3 in /Users/olosada/.qiskit/lib/python3.13/site-packages (from jupyterlab->jupyter) (3.1.6)\n",
      "Requirement already satisfied: jupyter-lsp>=2.0.0 in /Users/olosada/.qiskit/lib/python3.13/site-packages (from jupyterlab->jupyter) (2.3.0)\n",
      "Requirement already satisfied: jupyter-server<3,>=2.4.0 in /Users/olosada/.qiskit/lib/python3.13/site-packages (from jupyterlab->jupyter) (2.17.0)\n",
      "Requirement already satisfied: jupyterlab-server<3,>=2.27.1 in /Users/olosada/.qiskit/lib/python3.13/site-packages (from jupyterlab->jupyter) (2.28.0)\n",
      "Requirement already satisfied: notebook-shim>=0.2 in /Users/olosada/.qiskit/lib/python3.13/site-packages (from jupyterlab->jupyter) (0.2.4)\n",
      "Requirement already satisfied: setuptools>=41.1.0 in /Users/olosada/.qiskit/lib/python3.13/site-packages (from jupyterlab->jupyter) (80.9.0)\n",
      "Requirement already satisfied: anyio in /Users/olosada/.qiskit/lib/python3.13/site-packages (from httpx<1,>=0.25.0->jupyterlab->jupyter) (4.11.0)\n",
      "Requirement already satisfied: certifi in /Users/olosada/.qiskit/lib/python3.13/site-packages (from httpx<1,>=0.25.0->jupyterlab->jupyter) (2024.7.4)\n",
      "Requirement already satisfied: httpcore==1.* in /Users/olosada/.qiskit/lib/python3.13/site-packages (from httpx<1,>=0.25.0->jupyterlab->jupyter) (1.0.9)\n",
      "Requirement already satisfied: idna in /Users/olosada/.qiskit/lib/python3.13/site-packages (from httpx<1,>=0.25.0->jupyterlab->jupyter) (3.11)\n",
      "Requirement already satisfied: h11>=0.16 in /Users/olosada/.qiskit/lib/python3.13/site-packages (from httpcore==1.*->httpx<1,>=0.25.0->jupyterlab->jupyter) (0.16.0)\n",
      "Requirement already satisfied: argon2-cffi>=21.1 in /Users/olosada/.qiskit/lib/python3.13/site-packages (from jupyter-server<3,>=2.4.0->jupyterlab->jupyter) (25.1.0)\n",
      "Requirement already satisfied: jupyter-events>=0.11.0 in /Users/olosada/.qiskit/lib/python3.13/site-packages (from jupyter-server<3,>=2.4.0->jupyterlab->jupyter) (0.12.0)\n",
      "Requirement already satisfied: jupyter-server-terminals>=0.4.4 in /Users/olosada/.qiskit/lib/python3.13/site-packages (from jupyter-server<3,>=2.4.0->jupyterlab->jupyter) (0.5.3)\n",
      "Requirement already satisfied: nbformat>=5.3.0 in /Users/olosada/.qiskit/lib/python3.13/site-packages (from jupyter-server<3,>=2.4.0->jupyterlab->jupyter) (5.10.4)\n",
      "Requirement already satisfied: prometheus-client>=0.9 in /Users/olosada/.qiskit/lib/python3.13/site-packages (from jupyter-server<3,>=2.4.0->jupyterlab->jupyter) (0.23.1)\n",
      "Requirement already satisfied: send2trash>=1.8.2 in /Users/olosada/.qiskit/lib/python3.13/site-packages (from jupyter-server<3,>=2.4.0->jupyterlab->jupyter) (1.8.3)\n",
      "Requirement already satisfied: terminado>=0.8.3 in /Users/olosada/.qiskit/lib/python3.13/site-packages (from jupyter-server<3,>=2.4.0->jupyterlab->jupyter) (0.18.1)\n",
      "Requirement already satisfied: websocket-client>=1.7 in /Users/olosada/.qiskit/lib/python3.13/site-packages (from jupyter-server<3,>=2.4.0->jupyterlab->jupyter) (1.9.0)\n",
      "Requirement already satisfied: babel>=2.10 in /Users/olosada/.qiskit/lib/python3.13/site-packages (from jupyterlab-server<3,>=2.27.1->jupyterlab->jupyter) (2.17.0)\n",
      "Requirement already satisfied: json5>=0.9.0 in /Users/olosada/.qiskit/lib/python3.13/site-packages (from jupyterlab-server<3,>=2.27.1->jupyterlab->jupyter) (0.12.1)\n",
      "Requirement already satisfied: jsonschema>=4.18.0 in /Users/olosada/.qiskit/lib/python3.13/site-packages (from jupyterlab-server<3,>=2.27.1->jupyterlab->jupyter) (4.25.1)\n",
      "Requirement already satisfied: requests>=2.31 in /Users/olosada/.qiskit/lib/python3.13/site-packages (from jupyterlab-server<3,>=2.27.1->jupyterlab->jupyter) (2.32.5)\n",
      "Requirement already satisfied: sniffio>=1.1 in /Users/olosada/.qiskit/lib/python3.13/site-packages (from anyio->httpx<1,>=0.25.0->jupyterlab->jupyter) (1.3.1)\n",
      "Requirement already satisfied: argon2-cffi-bindings in /Users/olosada/.qiskit/lib/python3.13/site-packages (from argon2-cffi>=21.1->jupyter-server<3,>=2.4.0->jupyterlab->jupyter) (25.1.0)\n",
      "Requirement already satisfied: MarkupSafe>=2.0 in /Users/olosada/.qiskit/lib/python3.13/site-packages (from jinja2>=3.0.3->jupyterlab->jupyter) (3.0.3)\n",
      "Requirement already satisfied: attrs>=22.2.0 in /Users/olosada/.qiskit/lib/python3.13/site-packages (from jsonschema>=4.18.0->jupyterlab-server<3,>=2.27.1->jupyterlab->jupyter) (25.4.0)\n",
      "Requirement already satisfied: jsonschema-specifications>=2023.03.6 in /Users/olosada/.qiskit/lib/python3.13/site-packages (from jsonschema>=4.18.0->jupyterlab-server<3,>=2.27.1->jupyterlab->jupyter) (2025.9.1)\n",
      "Requirement already satisfied: referencing>=0.28.4 in /Users/olosada/.qiskit/lib/python3.13/site-packages (from jsonschema>=4.18.0->jupyterlab-server<3,>=2.27.1->jupyterlab->jupyter) (0.37.0)\n",
      "Requirement already satisfied: rpds-py>=0.7.1 in /Users/olosada/.qiskit/lib/python3.13/site-packages (from jsonschema>=4.18.0->jupyterlab-server<3,>=2.27.1->jupyterlab->jupyter) (0.28.0)\n",
      "Requirement already satisfied: python-json-logger>=2.0.4 in /Users/olosada/.qiskit/lib/python3.13/site-packages (from jupyter-events>=0.11.0->jupyter-server<3,>=2.4.0->jupyterlab->jupyter) (4.0.0)\n",
      "Requirement already satisfied: pyyaml>=5.3 in /Users/olosada/.qiskit/lib/python3.13/site-packages (from jupyter-events>=0.11.0->jupyter-server<3,>=2.4.0->jupyterlab->jupyter) (6.0.3)\n",
      "Requirement already satisfied: rfc3339-validator in /Users/olosada/.qiskit/lib/python3.13/site-packages (from jupyter-events>=0.11.0->jupyter-server<3,>=2.4.0->jupyterlab->jupyter) (0.1.4)\n",
      "Requirement already satisfied: rfc3986-validator>=0.1.1 in /Users/olosada/.qiskit/lib/python3.13/site-packages (from jupyter-events>=0.11.0->jupyter-server<3,>=2.4.0->jupyterlab->jupyter) (0.1.1)\n",
      "Requirement already satisfied: fqdn in /Users/olosada/.qiskit/lib/python3.13/site-packages (from jsonschema[format-nongpl]>=4.18.0->jupyter-events>=0.11.0->jupyter-server<3,>=2.4.0->jupyterlab->jupyter) (1.5.1)\n",
      "Requirement already satisfied: isoduration in /Users/olosada/.qiskit/lib/python3.13/site-packages (from jsonschema[format-nongpl]>=4.18.0->jupyter-events>=0.11.0->jupyter-server<3,>=2.4.0->jupyterlab->jupyter) (20.11.0)\n",
      "Requirement already satisfied: jsonpointer>1.13 in /Users/olosada/.qiskit/lib/python3.13/site-packages (from jsonschema[format-nongpl]>=4.18.0->jupyter-events>=0.11.0->jupyter-server<3,>=2.4.0->jupyterlab->jupyter) (3.0.0)\n",
      "Requirement already satisfied: rfc3987-syntax>=1.1.0 in /Users/olosada/.qiskit/lib/python3.13/site-packages (from jsonschema[format-nongpl]>=4.18.0->jupyter-events>=0.11.0->jupyter-server<3,>=2.4.0->jupyterlab->jupyter) (1.1.0)\n",
      "Requirement already satisfied: uri-template in /Users/olosada/.qiskit/lib/python3.13/site-packages (from jsonschema[format-nongpl]>=4.18.0->jupyter-events>=0.11.0->jupyter-server<3,>=2.4.0->jupyterlab->jupyter) (1.3.0)\n",
      "Requirement already satisfied: webcolors>=24.6.0 in /Users/olosada/.qiskit/lib/python3.13/site-packages (from jsonschema[format-nongpl]>=4.18.0->jupyter-events>=0.11.0->jupyter-server<3,>=2.4.0->jupyterlab->jupyter) (24.11.1)\n",
      "Requirement already satisfied: beautifulsoup4 in /Users/olosada/.qiskit/lib/python3.13/site-packages (from nbconvert->jupyter) (4.14.2)\n",
      "Requirement already satisfied: bleach!=5.0.0 in /Users/olosada/.qiskit/lib/python3.13/site-packages (from bleach[css]!=5.0.0->nbconvert->jupyter) (6.2.0)\n",
      "Requirement already satisfied: defusedxml in /Users/olosada/.qiskit/lib/python3.13/site-packages (from nbconvert->jupyter) (0.7.1)\n",
      "Requirement already satisfied: jupyterlab-pygments in /Users/olosada/.qiskit/lib/python3.13/site-packages (from nbconvert->jupyter) (0.3.0)\n",
      "Requirement already satisfied: mistune<4,>=2.0.3 in /Users/olosada/.qiskit/lib/python3.13/site-packages (from nbconvert->jupyter) (3.1.4)\n",
      "Requirement already satisfied: nbclient>=0.5.0 in /Users/olosada/.qiskit/lib/python3.13/site-packages (from nbconvert->jupyter) (0.10.2)\n",
      "Requirement already satisfied: pandocfilters>=1.4.1 in /Users/olosada/.qiskit/lib/python3.13/site-packages (from nbconvert->jupyter) (1.5.1)\n",
      "Requirement already satisfied: webencodings in /Users/olosada/.qiskit/lib/python3.13/site-packages (from bleach!=5.0.0->bleach[css]!=5.0.0->nbconvert->jupyter) (0.5.1)\n",
      "Requirement already satisfied: tinycss2<1.5,>=1.1.0 in /Users/olosada/.qiskit/lib/python3.13/site-packages (from bleach[css]!=5.0.0->nbconvert->jupyter) (1.4.0)\n",
      "Requirement already satisfied: fastjsonschema>=2.15 in /Users/olosada/.qiskit/lib/python3.13/site-packages (from nbformat>=5.3.0->jupyter-server<3,>=2.4.0->jupyterlab->jupyter) (2.21.2)\n",
      "Requirement already satisfied: charset_normalizer<4,>=2 in /Users/olosada/.qiskit/lib/python3.13/site-packages (from requests>=2.31->jupyterlab-server<3,>=2.27.1->jupyterlab->jupyter) (3.4.4)\n",
      "Requirement already satisfied: urllib3<3,>=1.21.1 in /Users/olosada/.qiskit/lib/python3.13/site-packages (from requests>=2.31->jupyterlab-server<3,>=2.27.1->jupyterlab->jupyter) (2.5.0)\n",
      "Requirement already satisfied: lark>=1.2.2 in /Users/olosada/.qiskit/lib/python3.13/site-packages (from rfc3987-syntax>=1.1.0->jsonschema[format-nongpl]>=4.18.0->jupyter-events>=0.11.0->jupyter-server<3,>=2.4.0->jupyterlab->jupyter) (1.3.0)\n",
      "Requirement already satisfied: cffi>=1.0.1 in /Users/olosada/.qiskit/lib/python3.13/site-packages (from argon2-cffi-bindings->argon2-cffi>=21.1->jupyter-server<3,>=2.4.0->jupyterlab->jupyter) (2.0.0)\n",
      "Requirement already satisfied: pycparser in /Users/olosada/.qiskit/lib/python3.13/site-packages (from cffi>=1.0.1->argon2-cffi-bindings->argon2-cffi>=21.1->jupyter-server<3,>=2.4.0->jupyterlab->jupyter) (2.23)\n",
      "Requirement already satisfied: soupsieve>1.2 in /Users/olosada/.qiskit/lib/python3.13/site-packages (from beautifulsoup4->nbconvert->jupyter) (2.8)\n",
      "Requirement already satisfied: typing-extensions>=4.0.0 in /Users/olosada/.qiskit/lib/python3.13/site-packages (from beautifulsoup4->nbconvert->jupyter) (4.15.0)\n",
      "Requirement already satisfied: arrow>=0.15.0 in /Users/olosada/.qiskit/lib/python3.13/site-packages (from isoduration->jsonschema[format-nongpl]>=4.18.0->jupyter-events>=0.11.0->jupyter-server<3,>=2.4.0->jupyterlab->jupyter) (1.4.0)\n",
      "Requirement already satisfied: tzdata in /Users/olosada/.qiskit/lib/python3.13/site-packages (from arrow>=0.15.0->isoduration->jsonschema[format-nongpl]>=4.18.0->jupyter-events>=0.11.0->jupyter-server<3,>=2.4.0->jupyterlab->jupyter) (2025.2)\n",
      "Requirement already satisfied: executing>=1.2.0 in /Users/olosada/.qiskit/lib/python3.13/site-packages (from stack_data->ipython>=7.23.1->ipykernel->jupyter) (2.2.1)\n",
      "Requirement already satisfied: asttokens>=2.1.0 in /Users/olosada/.qiskit/lib/python3.13/site-packages (from stack_data->ipython>=7.23.1->ipykernel->jupyter) (3.0.0)\n",
      "Requirement already satisfied: pure-eval in /Users/olosada/.qiskit/lib/python3.13/site-packages (from stack_data->ipython>=7.23.1->ipykernel->jupyter) (0.2.3)\n",
      "Note: you may need to restart the kernel to use updated packages.\n",
      "zsh:1: no matches found: qiskit[visualization]==2.2\n",
      "Note: you may need to restart the kernel to use updated packages.\n",
      "Requirement already satisfied: qiskit_algorithms==0.4.0 in /Users/olosada/.qiskit/lib/python3.13/site-packages (0.4.0)\n",
      "Requirement already satisfied: qiskit>=1.0 in /Users/olosada/.qiskit/lib/python3.13/site-packages (from qiskit_algorithms==0.4.0) (2.2.2)\n",
      "Requirement already satisfied: scipy>=1.4 in /Users/olosada/.qiskit/lib/python3.13/site-packages (from qiskit_algorithms==0.4.0) (1.16.2)\n",
      "Requirement already satisfied: numpy>=1.17 in /Users/olosada/.qiskit/lib/python3.13/site-packages (from qiskit_algorithms==0.4.0) (2.3.4)\n",
      "Requirement already satisfied: rustworkx>=0.15.0 in /Users/olosada/.qiskit/lib/python3.13/site-packages (from qiskit>=1.0->qiskit_algorithms==0.4.0) (0.17.1)\n",
      "Requirement already satisfied: dill>=0.3 in /Users/olosada/.qiskit/lib/python3.13/site-packages (from qiskit>=1.0->qiskit_algorithms==0.4.0) (0.4.0)\n",
      "Requirement already satisfied: stevedore>=3.0.0 in /Users/olosada/.qiskit/lib/python3.13/site-packages (from qiskit>=1.0->qiskit_algorithms==0.4.0) (5.5.0)\n",
      "Requirement already satisfied: typing-extensions in /Users/olosada/.qiskit/lib/python3.13/site-packages (from qiskit>=1.0->qiskit_algorithms==0.4.0) (4.15.0)\n",
      "Note: you may need to restart the kernel to use updated packages.\n",
      "Requirement already satisfied: qiskit_aer==0.17.2 in /Users/olosada/.qiskit/lib/python3.13/site-packages (0.17.2)\n",
      "Requirement already satisfied: qiskit>=1.1.0 in /Users/olosada/.qiskit/lib/python3.13/site-packages (from qiskit_aer==0.17.2) (2.2.2)\n",
      "Requirement already satisfied: numpy>=1.16.3 in /Users/olosada/.qiskit/lib/python3.13/site-packages (from qiskit_aer==0.17.2) (2.3.4)\n",
      "Requirement already satisfied: scipy>=1.0 in /Users/olosada/.qiskit/lib/python3.13/site-packages (from qiskit_aer==0.17.2) (1.16.2)\n",
      "Requirement already satisfied: psutil>=5 in /Users/olosada/.qiskit/lib/python3.13/site-packages (from qiskit_aer==0.17.2) (7.1.1)\n",
      "Requirement already satisfied: python-dateutil>=2.8.0 in /Users/olosada/.qiskit/lib/python3.13/site-packages (from qiskit_aer==0.17.2) (2.9.0.post0)\n",
      "Requirement already satisfied: six>=1.5 in /Users/olosada/.qiskit/lib/python3.13/site-packages (from python-dateutil>=2.8.0->qiskit_aer==0.17.2) (1.17.0)\n",
      "Requirement already satisfied: rustworkx>=0.15.0 in /Users/olosada/.qiskit/lib/python3.13/site-packages (from qiskit>=1.1.0->qiskit_aer==0.17.2) (0.17.1)\n",
      "Requirement already satisfied: dill>=0.3 in /Users/olosada/.qiskit/lib/python3.13/site-packages (from qiskit>=1.1.0->qiskit_aer==0.17.2) (0.4.0)\n",
      "Requirement already satisfied: stevedore>=3.0.0 in /Users/olosada/.qiskit/lib/python3.13/site-packages (from qiskit>=1.1.0->qiskit_aer==0.17.2) (5.5.0)\n",
      "Requirement already satisfied: typing-extensions in /Users/olosada/.qiskit/lib/python3.13/site-packages (from qiskit>=1.1.0->qiskit_aer==0.17.2) (4.15.0)\n",
      "Note: you may need to restart the kernel to use updated packages.\n",
      "Requirement already satisfied: qiskit_ibm_runtime==0.41.1 in /Users/olosada/.qiskit/lib/python3.13/site-packages (0.41.1)\n",
      "Requirement already satisfied: requests>=2.19 in /Users/olosada/.qiskit/lib/python3.13/site-packages (from qiskit_ibm_runtime==0.41.1) (2.32.5)\n",
      "Requirement already satisfied: requests-ntlm>=1.1.0 in /Users/olosada/.qiskit/lib/python3.13/site-packages (from qiskit_ibm_runtime==0.41.1) (1.3.0)\n",
      "Requirement already satisfied: numpy>=1.13 in /Users/olosada/.qiskit/lib/python3.13/site-packages (from qiskit_ibm_runtime==0.41.1) (2.3.4)\n",
      "Requirement already satisfied: urllib3>=1.21.1 in /Users/olosada/.qiskit/lib/python3.13/site-packages (from qiskit_ibm_runtime==0.41.1) (2.5.0)\n",
      "Requirement already satisfied: python-dateutil>=2.8.0 in /Users/olosada/.qiskit/lib/python3.13/site-packages (from qiskit_ibm_runtime==0.41.1) (2.9.0.post0)\n",
      "Requirement already satisfied: ibm-platform-services>=0.22.6 in /Users/olosada/.qiskit/lib/python3.13/site-packages (from qiskit_ibm_runtime==0.41.1) (0.69.0)\n",
      "Requirement already satisfied: pydantic>=2.5.0 in /Users/olosada/.qiskit/lib/python3.13/site-packages (from qiskit_ibm_runtime==0.41.1) (2.12.3)\n",
      "Requirement already satisfied: qiskit>=1.4.1 in /Users/olosada/.qiskit/lib/python3.13/site-packages (from qiskit_ibm_runtime==0.41.1) (2.2.2)\n",
      "Requirement already satisfied: packaging in /Users/olosada/.qiskit/lib/python3.13/site-packages (from qiskit_ibm_runtime==0.41.1) (25.0)\n",
      "Requirement already satisfied: ibm_cloud_sdk_core<4.0.0,>=3.24.2 in /Users/olosada/.qiskit/lib/python3.13/site-packages (from ibm-platform-services>=0.22.6->qiskit_ibm_runtime==0.41.1) (3.24.2)\n",
      "Requirement already satisfied: PyJWT<3.0.0,>=2.10.1 in /Users/olosada/.qiskit/lib/python3.13/site-packages (from ibm_cloud_sdk_core<4.0.0,>=3.24.2->ibm-platform-services>=0.22.6->qiskit_ibm_runtime==0.41.1) (2.10.1)\n",
      "Requirement already satisfied: six>=1.5 in /Users/olosada/.qiskit/lib/python3.13/site-packages (from python-dateutil>=2.8.0->qiskit_ibm_runtime==0.41.1) (1.17.0)\n",
      "Requirement already satisfied: charset_normalizer<4,>=2 in /Users/olosada/.qiskit/lib/python3.13/site-packages (from requests>=2.19->qiskit_ibm_runtime==0.41.1) (3.4.4)\n",
      "Requirement already satisfied: idna<4,>=2.5 in /Users/olosada/.qiskit/lib/python3.13/site-packages (from requests>=2.19->qiskit_ibm_runtime==0.41.1) (3.11)\n",
      "Requirement already satisfied: certifi>=2017.4.17 in /Users/olosada/.qiskit/lib/python3.13/site-packages (from requests>=2.19->qiskit_ibm_runtime==0.41.1) (2024.7.4)\n",
      "Requirement already satisfied: annotated-types>=0.6.0 in /Users/olosada/.qiskit/lib/python3.13/site-packages (from pydantic>=2.5.0->qiskit_ibm_runtime==0.41.1) (0.7.0)\n",
      "Requirement already satisfied: pydantic-core==2.41.4 in /Users/olosada/.qiskit/lib/python3.13/site-packages (from pydantic>=2.5.0->qiskit_ibm_runtime==0.41.1) (2.41.4)\n",
      "Requirement already satisfied: typing-extensions>=4.14.1 in /Users/olosada/.qiskit/lib/python3.13/site-packages (from pydantic>=2.5.0->qiskit_ibm_runtime==0.41.1) (4.15.0)\n",
      "Requirement already satisfied: typing-inspection>=0.4.2 in /Users/olosada/.qiskit/lib/python3.13/site-packages (from pydantic>=2.5.0->qiskit_ibm_runtime==0.41.1) (0.4.2)\n",
      "Requirement already satisfied: rustworkx>=0.15.0 in /Users/olosada/.qiskit/lib/python3.13/site-packages (from qiskit>=1.4.1->qiskit_ibm_runtime==0.41.1) (0.17.1)\n",
      "Requirement already satisfied: scipy>=1.5 in /Users/olosada/.qiskit/lib/python3.13/site-packages (from qiskit>=1.4.1->qiskit_ibm_runtime==0.41.1) (1.16.2)\n",
      "Requirement already satisfied: dill>=0.3 in /Users/olosada/.qiskit/lib/python3.13/site-packages (from qiskit>=1.4.1->qiskit_ibm_runtime==0.41.1) (0.4.0)\n",
      "Requirement already satisfied: stevedore>=3.0.0 in /Users/olosada/.qiskit/lib/python3.13/site-packages (from qiskit>=1.4.1->qiskit_ibm_runtime==0.41.1) (5.5.0)\n",
      "Requirement already satisfied: cryptography>=1.3 in /Users/olosada/.qiskit/lib/python3.13/site-packages (from requests-ntlm>=1.1.0->qiskit_ibm_runtime==0.41.1) (46.0.3)\n",
      "Requirement already satisfied: pyspnego>=0.4.0 in /Users/olosada/.qiskit/lib/python3.13/site-packages (from requests-ntlm>=1.1.0->qiskit_ibm_runtime==0.41.1) (0.12.0)\n",
      "Requirement already satisfied: cffi>=2.0.0 in /Users/olosada/.qiskit/lib/python3.13/site-packages (from cryptography>=1.3->requests-ntlm>=1.1.0->qiskit_ibm_runtime==0.41.1) (2.0.0)\n",
      "Requirement already satisfied: pycparser in /Users/olosada/.qiskit/lib/python3.13/site-packages (from cffi>=2.0.0->cryptography>=1.3->requests-ntlm>=1.1.0->qiskit_ibm_runtime==0.41.1) (2.23)\n",
      "Note: you may need to restart the kernel to use updated packages.\n",
      "^C\n",
      "\u001b[31mERROR: Operation cancelled by user\u001b[0m\u001b[31m\n",
      "\u001b[0m.1)\n",
      "Note: you may need to restart the kernel to use updated packages.\n"
     ]
    }
   ],
   "source": [
    "# Uncomment to install the necessary packages\n",
    "\n",
    "%pip install --upgrade pip\n",
    "%pip install numpy==2.3.4\n",
    "%pip install scipy==1.16.2\n",
    "%pip install matplotlib==3.10.7\n",
    "%pip install jupyter\n",
    "%pip install qiskit[visualization]==2.2\n",
    "# # For Local Linux or Mac, you can use the following command:\n",
    "# # %pip install 'qiskit[visualization]'\n",
    "%pip install qiskit_algorithms==0.4.0\n",
    "%pip install qiskit_aer==0.17.2\n",
    "%pip install qiskit_ibm_runtime==0.41.1\n",
    "%pip install qiskit_ibm_transpiler==0.14.3"
   ]
  },
  {
   "cell_type": "code",
   "execution_count": 8,
   "metadata": {
    "id": "K1oDAbj_vnb8"
   },
   "outputs": [],
   "source": [
    "import numpy as np\n",
    "from qiskit import QuantumCircuit\n",
    "from qiskit.quantum_info import Pauli, SparsePauliOp, Statevector\n",
    "from qiskit.visualization import plot_histogram, plot_bloch_multivector\n",
    "from qiskit_aer import AerSimulator\n",
    "from qiskit.circuit import Parameter, ParameterVector\n",
    "import qiskit.qasm3\n",
    "from qiskit_ibm_runtime.fake_provider import FakeVigoV2\n",
    "from qiskit.transpiler.preset_passmanagers import generate_preset_pass_manager\n",
    "from qiskit_ibm_runtime import SamplerV2 as Sampler, EstimatorV2 as Estimator, QiskitRuntimeService\n",
    "\n",
    "# Added by us\n",
    "from qiskit.circuit.random import random_circuit\n",
    "from qiskit.circuit.library import QAOAAnsatz\n",
    "from qiskit.circuit import QuantumCircuit, Parameter\n",
    "from scipy.optimize import minimize\n",
    "\n",
    "import matplotlib.pyplot as plt\n",
    "\n",
    "from scipy.optimize import minimize\n",
    "from qiskit.circuit.library import EfficientSU2"
   ]
  },
  {
   "cell_type": "markdown",
   "metadata": {
    "id": "NfCnBcH0CPkz"
   },
   "source": [
    "# 1- Starting from the basics: before queens there were rooks\n",
    "\n",
    "To start slowly, we will solve the problem for rooks, for which is much easier to find a solution but has the disadvantage that there are many more solutions. What is the max number of rooks that can fit in a 4x4 chess board? And on a 5x5?\n",
    "\n",
    "## The first task is to create a classical function that by brute force gives the solutions for the rooks puzzle for NxN chess board.\n",
    "\n",
    "> Tip: Represent the chess board by an NxN array filled with 0 for the empty squares and by 1 for the squares in which a rook is placed. This representation will also help you during great part of this challenge"
   ]
  },
  {
   "cell_type": "code",
   "execution_count": 17,
   "metadata": {
    "id": "02i7VlU2AXGv"
   },
   "outputs": [],
   "source": [
    "from itertools import permutations\n",
    "import numpy as np\n",
    "\n",
    "def rooks_rec(N):\n",
    "    M = np.zeros((N, N))\n",
    "    solutions = []\n",
    "    used_cols = set()\n",
    "    explore_r(0, M, used_cols, solutions, N)\n",
    "    solutions.pop(0)\n",
    "    opt = max(np.sum(sol) for sol in solutions)\n",
    "    opt_sol=[]\n",
    "    for sol in solutions:\n",
    "        if np.sum(sol)==opt:\n",
    "            opt_sol.append(sol)\n",
    "    return opt_sol\n",
    "\n",
    "def explore_r(pos, M, used_cols, solutions, N):\n",
    "    if pos >= N**2:\n",
    "        solutions.append(M.copy())\n",
    "        return\n",
    "    r = pos // N\n",
    "    c = pos % N\n",
    "    explore_r(pos + 1, M, used_cols, solutions, N)\n",
    "    if c not in used_cols:\n",
    "        M[r][c] = 1\n",
    "        used_cols.add(c)\n",
    "        explore_r((r + 1)*N, M, used_cols, solutions, N)\n",
    "        M[r][c] = 0\n",
    "        used_cols.remove(c)"
   ]
  },
  {
   "cell_type": "markdown",
   "metadata": {
    "id": "eGwDG3V7Fru3"
   },
   "source": [
    "Computing the available solutions by brute force is expensive and untractable when dealing with bigger boards, so we will take advantaje of the hybrid algorithm QAOA to solve this problem in a different way, phrasing the problem as a physics optimization problem, namely finding the state with lowest energy for a given hamiltonian.\n",
    "\n",
    "The general form of a optimization problem can be written on the form of a hamiltonian:\n",
    "\n",
    "$$H_C = \\sum_{i,j} Q_{ij} X_i X_j + \\sum_i b_i X_i$$\n",
    "\n",
    "where $X_i$ are classical variables can be 1 or 0 and the coefficients $b_i$ and $Q_{ij}$ are problem dependent.\n",
    "\n",
    "To find a solution using qubits, first we need to map the qubits form a quantum circuit to represent our problem. For that, one suggestion is to use the following mapping:\n",
    "- Each qubit will represent one square of the chess board, so it will be identified by row and column indices.\n",
    "- If there is a piece on that square, the spin will be on state $|1>$, and if it is empty the state will be $|0>$\n",
    "\n",
    "<p style=\"text-align: center\"><img src=\"https://i.imgur.com/ojkY5to.jpeg\"></p>\n",
    "\n",
    "\n",
    "> Example 3x3 board:\n",
    "- q0 in state 0 -> 0,0\n",
    "- q1 in state 0 -> 0,1\n",
    "- q2 in state 0 -> 0,2\n",
    "- q3 in state 0 -> 1,0\n",
    "- q4 in state 0 -> 1,1\n",
    "- q5 in state 1 -> 1,2\n",
    "- q6 in state 0 -> 2,0\n",
    "- q7 in state 0 -> 2,1\n",
    "- q8 in state 0 -> 2,2\n",
    "\n",
    "This is just a suitable mapping but it is not unique. There are many more mappings that can be used for this problem, so if you have any other please explain it and use it!!!\n",
    "\n",
    "For the previous mapping we need $N^2$ qubits to find a solution for a NxN chess board, so a way to improve this mapping could be to reduce the number of qubits needed to map the problem. A new mapping will also change some of the following instructions... be carefull with that!!\n",
    "\n",
    "To adapt the expression to our problem, we will change the single index $i$ of the classical variables to the actual chess board indices, where latin letters will be rows and greek indices will be columns. Therefore, the classical hamiltonian for our mapping is of the form:\n",
    "\n",
    "$$H_C = \\sum_{k,\\alpha ,l,\\beta} Q_{k \\alpha,l \\beta} X_{k\\alpha}X_{l\\beta} + \\sum_{k\\alpha} b_{k\\alpha} X_{k\\alpha}$$\n",
    "\n",
    "Moreover, we need to define a specific hamiltonian whose groundstate is a solution of the rooks puzzle. For that, we will need two terms:\n",
    "- One term that lowers the energy with the number of rooks ($|1>$ states)\n",
    "> Tip: this is a one-body term\n",
    "- One term that increases the energy if one rook threatens other. This penalization should be bigger than the energy gained by adding one other rook\n",
    "> Tip: this is a two body interaction term\n",
    "\n",
    " Define the weigths $b_{k\\alpha}$ and $Q_{k\\alpha, l\\beta}$ such that the previous cost function has as ground state the solution of the rook's puzzle. Make the cost of threatening 1.5 times the benefit of adding one extra rook (one extra $X$ with 1 value)\n",
    "\n",
    "> Tip: Adding one more rook DECREASES energy, therefore $b<0$, and having threatened rooks should INCREASE it, therefore $Q>0$. Use $b=-1$ and $Q=1.5$ for those cases where the value is non-zero.\n",
    "\n",
    "> Tip2: The rooks in chess only move vertical and horizontal, so the only relevant $Q$ coefficients are those for which $k=l$ or $\\alpha=\\beta$."
   ]
  },
  {
   "cell_type": "code",
   "execution_count": 3,
   "metadata": {
    "colab": {
     "base_uri": "https://localhost:8080/"
    },
    "id": "_az5rKvgFq4Y",
    "outputId": "71d2a556-9b21-4252-c2ed-6f1d5746093a"
   },
   "outputs": [],
   "source": [
    "def z_term(i: int, j: int, N: int) -> str:\n",
    "    \"\"\"Helper function to create the Z term for the i,j-th element of the chess board.\n",
    "\n",
    "    Args:\n",
    "        i (int): Row index of the chess board.\n",
    "        j (int): Column index of the chess board.\n",
    "        N (int): Size of the chess board.\n",
    "\n",
    "    Returns:\n",
    "        str: String representation of the Z term.\n",
    "    \"\"\"\n",
    "    index = i * N + j\n",
    "    z_term = [\"I\" for _ in range(N * N)]\n",
    "    z_term[index] = \"Z\"\n",
    "    z_term = \"\".join(z_term)\n",
    "    return z_term[::-1]\n",
    "\n",
    "\n",
    "def zz_term(i: int, j: int, k: int, l: int, N: int) -> str:\n",
    "    \"\"\"Helper function to create the ZZ term for the i,j-th and k,l-th elements of the chess board.\n",
    "\n",
    "    Args:\n",
    "        i (int): Row index of the first element of the chess board.\n",
    "        j (int): Column index of the first element of the chess board.\n",
    "        k (int): Row index of the second element of the chess board.\n",
    "        l (int): Column index of the second element of the chess board.\n",
    "        N (int): Size of the chess board.\n",
    "\n",
    "    Returns:\n",
    "        str: String representation of the ZZ term.\n",
    "    \"\"\"\n",
    "    index1 = i * N + j\n",
    "    index2 = k * N + l\n",
    "    z_term = [\"I\" for _ in range(N * N)]\n",
    "    z_term[index1] = \"Z\"\n",
    "    z_term[index2] = \"Z\"\n",
    "    z_term = \"\".join(z_term)\n",
    "    return z_term[::-1]\n",
    "\n",
    "\n",
    "def classical_hamiltonian_rooks(N, Z_matrix):\n",
    "    \"\"\"Returns the value of the hamiltonian for a given X_matrix of length NxN.\n",
    "\n",
    "    Args:\n",
    "        N (int): The dimension of the chess board.\n",
    "        Z_matrix (np.array): The NxN matrix of X_{k \\alpha} values.\n",
    "\n",
    "\n",
    "    Returns:\n",
    "        energy (float): The value of the hamiltonian for the given Z_matrix.\n",
    "    \"\"\"\n",
    "    # Your code here\n",
    "    onebody_term = sum(classical_hamiltonian_rook_onebody_coeff(N)[i][j] * Z_matrix[i][j] for i in range(N) for j in range(N))\n",
    "    twobody_term = sum(classical_hamiltonian_rooks_twobody_coeff(N)[i][j][k][l] * Z_matrix[i][j] * Z_matrix[k][l]  for i in range(N) for j in range(N) for k in range(N) for l in range(N))\n",
    "    energy = onebody_term + twobody_term\n",
    "\n",
    "    return energy\n",
    "\n",
    "\n",
    "def classical_hamiltonian_rooks_twobody_coeff(N):\n",
    "    \"\"\"Returns the NxNxNxN array of Q_{k \\alpha, l \\beta} weigths.\n",
    "\n",
    "    Args:\n",
    "        N (int): The dimension of the chess board.\n",
    "\n",
    "    Returns:\n",
    "        Q_matrix (np.array): The NxNxNxN array of Q_{k \\alpha, l \\beta} weigths.\n",
    "    \"\"\"\n",
    "\n",
    "    # Your code here\n",
    "\n",
    "    Q_matrix = np.full((N, N, N, N), 0.0)\n",
    "\n",
    "    for i in range(N):\n",
    "        for j in range(N):\n",
    "            for k in range(N):\n",
    "                for l in range(N):\n",
    "                    if k == i and j != l:\n",
    "                        Q_matrix[i, j, k, l] = 1.5\n",
    "                    if j == l and i != k:\n",
    "                        Q_matrix[i, j, k, l] = 1.5\n",
    "\n",
    "    return Q_matrix\n",
    "\n",
    "\n",
    "def quantum_hamiltonian_rook_onebody_coeff(N) -> tuple[SparsePauliOp, float]:\n",
    "    \"\"\"Returns the Sparse Pauli Op representation of the one body term in the N-rook problem.\n",
    "\n",
    "    Args:\n",
    "        N (int): The dimension of the chess board.\n",
    "\n",
    "    Returns:\n",
    "        sparse_op (SparsePauliOp): The Sparse Pauli Op representation of the one body term.\n",
    "        offset (float): The offset of the one body term.\n",
    "    \"\"\"\n",
    "    # Your code here\n",
    "    b_vector = np.full((N, N), -2)\n",
    "\n",
    "    op_strings = []\n",
    "    op_coeff = []\n",
    "    offset = 0.0\n",
    "\n",
    "    for i in range(N):\n",
    "        for j in range(N):\n",
    "            op_strings.append(z_term(i, j, N))\n",
    "            op_coeff.append(-0.5 * b_vector[i, j])\n",
    "            offset += 0.5 * b_vector[i, j]\n",
    "\n",
    "    sparse_op = SparsePauliOp(op_strings, op_coeff)\n",
    "    return sparse_op, offset\n",
    "\n",
    "\n",
    "def quantum_hamiltonian_rooks_twobody_coeff(N) -> tuple[SparsePauliOp, float]:\n",
    "    \"\"\"Returns the Sparse Pauli Op representation of the two body term in the N-rook problem.\n",
    "\n",
    "    Args:\n",
    "        N (int): The dimension of the chess board.\n",
    "\n",
    "    Returns:\n",
    "        sparse_op (SparsePauliOp): The Sparse Pauli Op representation of the two body term.\n",
    "        offset (float): The offset of the two body term.\n",
    "    \"\"\"\n",
    "    # Your code here\n",
    "    Q_matrix = classical_hamiltonian_rooks_twobody_coeff(N)\n",
    "\n",
    "    op_strings = []\n",
    "    op_coeff = []\n",
    "    offset = 0.0\n",
    "\n",
    "    for i in range(N):\n",
    "        for j in range(N):\n",
    "            for k in range(N):\n",
    "                for l in range(N):\n",
    "                    if i > k or j > l:\n",
    "                        offset += 0.25 * Q_matrix[i, j, k, l]\n",
    "\n",
    "                        op_strings.append(z_term(i, j, N))\n",
    "                        op_coeff.append(-0.25 * Q_matrix[i, j, k, l])\n",
    "\n",
    "                        op_strings.append(z_term(k, l, N))\n",
    "                        op_coeff.append(-0.25 * Q_matrix[i, j, k, l])\n",
    "\n",
    "                        op_strings.append(zz_term(i, j, k, l, N))\n",
    "                        op_coeff.append(0.25 * Q_matrix[i, j, k, l])\n",
    "\n",
    "    sparse_op = SparsePauliOp(op_strings, op_coeff)\n",
    "    return sparse_op, offset"
   ]
  },
  {
   "cell_type": "markdown",
   "metadata": {
    "id": "7zbTTp6aQ7Vi"
   },
   "source": [
    "As our system is a quantum system where the hamiltonian is an operator, whe should write it in terms of known operators. For that, we will do the change of variable\n",
    "$$X_{k\\alpha} = \\frac{1-\\hat\\sigma^z_{k\\alpha}}{2}$$\n",
    "where $\\hat \\sigma^z_{k\\alpha}$ is the Pauli Z operator acting on the qubit that represents the square of row $k$ and column $\\alpha$. Introducing this change of variable on the previous function, you will obtain a quantum operator of the same form with an extra constant term that can be neglected because it only changes the origin of the energy.\n",
    "\n",
    "> Hint: For this step you might need some pen and paper calculations to find the transformation!\n",
    "\n",
    "## Write the new hamiltonian and create the associated functions to find the new coefficients"
   ]
  },
  {
   "cell_type": "markdown",
   "metadata": {
    "id": "sAMveLR_SsnH"
   },
   "source": [
    "__Write here your hamiltonian__"
   ]
  },
  {
   "cell_type": "code",
   "execution_count": 4,
   "metadata": {
    "id": "ukxV-ptlSwvo"
   },
   "outputs": [],
   "source": [
    "# next cell"
   ]
  },
  {
   "cell_type": "markdown",
   "metadata": {
    "id": "uljmfGTlTI8q"
   },
   "source": [
    "Now, we are able construct the hamiltonian for our problem, using the previous coefficients to create a quantum operator.\n",
    "\n",
    "## Write a function that creates the hamiltonian of the rooks puzzle as a SparsePauliOp\n",
    "> Tip: Use the previous functions to obtain the coefficients of the hamiltonian"
   ]
  },
  {
   "cell_type": "code",
   "execution_count": 5,
   "metadata": {
    "colab": {
     "base_uri": "https://localhost:8080/",
     "height": 384
    },
    "id": "6QLAJNuUUmUA",
    "outputId": "0bb54605-b6cf-4041-db41-3d62458ef66c"
   },
   "outputs": [],
   "source": [
    "\n",
    "def cost_hamiltonian_rooks(N):\n",
    "    \"\"\"Returns the total hamiltonian of the rooks puzzle in SparsePauliOp format.\n",
    "\n",
    "    Args:\n",
    "        N (int): The size of the chess deck.\n",
    "\n",
    "    Returns:\n",
    "        hamiltonian (SparsePauliOp): The hamiltonian of the rooks puzzle.\n",
    "        offset (float): The offset term of the hamiltonian.\n",
    "    \"\"\"\n",
    "\n",
    "    one_term, one_off = quantum_hamiltonian_rook_onebody_coeff(N)\n",
    "    two_term, two_off = quantum_hamiltonian_rooks_twobody_coeff(N)\n",
    "\n",
    "    ham = SparsePauliOp.sum([one_term, two_term])\n",
    "    offset = one_off + two_off\n",
    "\n",
    "    return ham, offset\n",
    "\n",
    "\n",
    "\n"
   ]
  },
  {
   "cell_type": "markdown",
   "metadata": {
    "id": "yumhN3b8U5YM"
   },
   "source": [
    "# 1.1 Finding solutions for the rook puzzle\n",
    "\n",
    "Now that we have constructed the hamiltonian that encodes the solution of the problem, we just need to find the groundstate of it.\n",
    "For that we will use the QAOA algorithm, where the circuit is optimized to find a groundstate of the cost function.\n",
    "\n",
    "In the QAOA workflow, the optimal QAOA parameters are found in an iterative optimization loop, which runs a series of circuit evaluations and uses a classical optimizer to find the optimal parameters.\n",
    "Check [QAOAAnsatz](https://docs.quantum.ibm.com/api/qiskit/qiskit.circuit.library.QAOAAnsatz), and using scipy [minimize](https://docs.scipy.org/doc/scipy/reference/generated/scipy.optimize.minimize.html) function run the QAOA algorithm to find the solution of the rooks puzzle, using only two layers.\n",
    "\n",
    "> Note: There is an [example at IBM web](https://learning.quantum.ibm.com/tutorial/quantum-approximate-optimization-algorithm) but it contains the way to run the algorithm on real hardware which up to now it is not the goal. **Check it to get inspiration but run this optimization locally using AerSimulator** or any other simulated backend.\n",
    "\n",
    "> Note 2: The solution might not be unique\n"
   ]
  },
  {
   "cell_type": "code",
   "execution_count": 10,
   "metadata": {
    "id": "E40tXBp-g9pI"
   },
   "outputs": [
    {
     "name": "stdout",
     "output_type": "stream",
     "text": [
      "{'110001000': 489, '001100000': 412, '110011100': 284, '010101001': 807, '001100110': 768, '011101010': 282, '100010001': 2441, '000100000': 95, '101001010': 795, '100011001': 752, '000001100': 384, '101011100': 308, '010011100': 777, '010001100': 2539, '100001110': 749, '100001011': 784, '101010110': 290, '010110001': 777, '110010001': 820, '001110011': 297, '101010100': 733, '011010100': 750, '010010101': 931, '100100011': 915, '110001010': 788, '100001000': 431, '100001010': 2415, '001001100': 490, '011100100': 959, '100010100': 461, '110101010': 266, '001110010': 784, '001000100': 397, '011101100': 280, '101011001': 30, '010001000': 408, '101010000': 438, '001001110': 927, '001101010': 771, '010010111': 104, '000100010': 442, '011100010': 738, '001100010': 2388, '111001000': 50, '101010001': 722, '001101111': 25, '001010100': 2479, '101001110': 330, '010100000': 449, '001100001': 432, '011010101': 288, '111100110': 21, '000001110': 477, '001000010': 430, '100101011': 288, '100000010': 411, '010001110': 753, '100001001': 504, '100001101': 72, '000110001': 490, '010010100': 472, '001010110': 802, '110101011': 185, '011110000': 57, '001111101': 25, '000010110': 41, '100110011': 295, '010101100': 747, '010001101': 795, '000011010': 42, '110010101': 293, '001100011': 753, '110110001': 212, '001110000': 464, '001011100': 772, '001110100': 776, '000010100': 430, '010001011': 60, '001110101': 280, '010100101': 782, '101110000': 67, '100010011': 794, '010100011': 737, '010100001': 2451, '010000001': 397, '000001010': 420, '101110001': 282, '100100001': 480, '100000001': 432, '110100011': 308, '101011010': 260, '111110010': 23, '011110001': 281, '101010010': 917, '000100011': 424, '110011101': 175, '000010101': 453, '100111100': 103, '100101010': 758, '101100010': 812, '010000100': 443, '001101100': 59, '011001101': 26, '100001100': 449, '001001101': 54, '100010010': 495, '011100101': 283, '001010000': 413, '001010010': 442, '110010100': 78, '111110011': 13, '010101000': 448, '001000011': 40, '100011010': 748, '001010101': 776, '010001010': 466, '110001001': 899, '000101010': 493, '100100110': 60, '101110010': 264, '000011110': 63, '100011100': 975, '110111010': 34, '010101010': 933, '010101110': 303, '110101100': 27, '000111000': 94, '110001110': 216, '010101101': 205, '100000000': 80, '000001101': 35, '010001001': 489, '100010000': 423, '111001100': 35, '101100011': 294, '110000011': 52, '001011101': 23, '001111001': 105, '000011101': 53, '011100000': 490, '100110000': 35, '000000111': 103, '000001000': 75, '000110100': 44, '100010101': 731, '111101000': 11, '000011100': 492, '010100010': 471, '100011000': 512, '110100001': 745, '110100101': 27, '001001010': 425, '001010001': 475, '100110001': 781, '011100001': 745, '110101001': 280, '011100110': 314, '110000001': 437, '110001100': 748, '111111101': 10, '010100100': 434, '100011101': 298, '000000110': 68, '101110011': 173, '010101011': 310, '010011101': 287, '011110101': 176, '001100100': 471, '010011110': 20, '011001001': 58, '100011011': 229, '101101001': 15, '011110100': 293, '011000100': 502, '101000010': 424, '001001011': 54, '110100100': 54, '101010011': 302, '101000100': 40, '001110001': 906, '100001111': 31, '111111000': 5, '101100000': 40, '101001101': 15, '110001101': 287, '100100000': 56, '011101011': 4, '011010001': 48, '110101000': 50, '110010011': 24, '100100111': 86, '010011000': 54, '001110110': 216, '100100010': 465, '010010001': 452, '010000101': 443, '101000000': 55, '100000111': 35, '000101000': 67, '100000011': 473, '110111001': 5, '010111110': 24, '010111010': 93, '001000110': 457, '001100101': 58, '000100001': 385, '000000001': 83, '001011001': 47, '010111011': 33, '101011110': 174, '111010010': 89, '011101000': 64, '000010001': 427, '010000010': 51, '100011110': 317, '010110000': 46, '100010110': 68, '011001100': 824, '000101110': 64, '001011110': 261, '001101001': 47, '100000101': 36, '111100100': 99, '111010011': 19, '110011001': 299, '000000101': 44, '111000000': 113, '010111100': 24, '110100111': 37, '101111001': 27, '001101110': 298, '011000001': 42, '111110101': 9, '100110010': 66, '011001000': 37, '011001110': 248, '010110100': 62, '111001011': 33, '100101111': 26, '000101100': 42, '001000101': 42, '101000110': 68, '001101000': 47, '010010011': 48, '000100111': 47, '001011010': 53, '011000101': 68, '101100101': 9, '000110010': 38, '011010011': 16, '111001010': 33, '100110110': 6, '111101110': 14, '011101001': 28, '000110111': 13, '101010101': 244, '010011010': 64, '110110100': 8, '010110101': 284, '110111000': 7, '110000010': 36, '010100110': 58, '011101110': 188, '100111000': 69, '001000001': 42, '111110100': 27, '100111110': 21, '101001100': 69, '110010000': 33, '000001111': 58, '111000010': 53, '011010111': 29, '110100010': 57, '110111100': 31, '110011000': 61, '010010010': 91, '100110101': 19, '100110111': 28, '111100101': 23, '101000011': 73, '001101011': 31, '001001111': 89, '010011011': 15, '011110010': 24, '111100000': 50, '011000110': 53, '011100011': 174, '010110010': 57, '000110101': 53, '011000111': 9, '110100110': 18, '100101100': 49, '001000000': 72, '010010000': 42, '111100010': 36, '010000111': 57, '000000010': 74, '001100111': 24, '110110010': 13, '010010110': 40, '000001001': 45, '010011001': 51, '101111011': 15, '000111001': 50, '100101001': 81, '000000011': 52, '000101011': 62, '101111100': 31, '110000100': 41, '110001011': 277, '100111010': 28, '101100111': 32, '011001010': 52, '011011100': 205, '101101010': 184, '111011110': 17, '000000100': 87, '001000111': 56, '011011011': 8, '011010010': 46, '111000100': 48, '101001001': 61, '111001101': 27, '101100001': 57, '101110100': 35, '010110011': 31, '000010111': 44, '011101111': 17, '111010110': 29, '101011000': 54, '000110000': 39, '100111001': 27, '001011111': 33, '111111010': 7, '011010110': 32, '000101001': 41, '101110111': 12, '100100100': 99, '010111000': 56, '001001001': 107, '000100101': 33, '000100110': 25, '111000001': 57, '010000110': 41, '000101101': 11, '110010010': 51, '010000000': 86, '000111101': 11, '110000101': 48, '111001001': 94, '110100000': 38, '111101101': 3, '111101001': 32, '111011010': 38, '110010111': 29, '100100101': 63, '111110000': 10, '101001011': 19, '000011000': 60, '000110011': 61, '100010111': 22, '110111011': 15, '111100001': 21, '000010000': 79, '111010000': 49, '100000100': 47, '101111111': 5, '000001011': 40, '011111000': 11, '000011001': 32, '000111010': 49, '010111001': 35, '100110100': 50, '100101101': 15, '010000011': 35, '000010010': 40, '001111011': 28, '001111110': 3, '111010001': 18, '000100100': 44, '001010011': 47, '110110111': 9, '110011110': 4, '001011011': 13, '111101011': 19, '001010111': 23, '011111010': 22, '010001111': 21, '011011001': 8, '101101101': 9, '011010000': 36, '000111011': 16, '011001111': 27, '100000110': 32, '100101000': 34, '101101100': 10, '101110101': 4, '010110111': 22, '110000000': 49, '101111000': 9, '011000000': 49, '010111111': 6, '000011111': 11, '000111100': 34, '101100100': 58, '010011111': 26, '010110110': 11, '101111110': 25, '000111110': 13, '101000001': 41, '000111111': 9, '001111010': 30, '101000111': 11, '001011000': 30, '001111100': 23, '101001000': 35, '101001111': 31, '111011101': 12, '011000010': 35, '000000000': 18, '111000011': 13, '111000110': 14, '010100111': 32, '101100110': 30, '001001000': 57, '011111001': 29, '110101111': 17, '100111101': 32, '111011100': 3, '001111000': 46, '111010100': 28, '000101111': 11, '011111011': 4, '111000111': 9, '100011111': 4, '011110110': 3, '111101010': 2, '111000101': 9, '011110111': 13, '110000110': 13, '110011010': 29, '001111111': 5, '111111001': 4, '111101100': 26, '011011010': 9, '110000111': 9, '101000101': 11, '011111110': 16, '101011111': 9, '110011111': 10, '011111101': 17, '000010011': 45, '110110000': 9, '111011001': 20, '110111101': 16, '000011011': 7, '011011000': 6, '111100111': 6, '011101101': 4, '100101110': 21, '100111111': 3, '110101110': 3, '110111110': 3, '110110110': 5, '001101101': 7, '111100011': 5, '011100111': 7, '000110110': 10, '101101011': 7, '111011111': 7, '011001011': 8, '110010110': 11, '111010101': 6, '111110111': 5, '011000011': 8, '011111111': 5, '110110101': 3, '111001110': 6, '101011101': 3, '011011111': 3, '111111110': 9, '110110011': 1, '111011000': 9, '101011011': 1, '101101000': 5, '110011011': 6, '101110110': 6, '011110011': 4, '111111011': 1, '101101110': 3, '011011110': 3, '111111100': 4, '011111100': 5, '010101111': 4, '011011101': 4, '111111111': 1, '111101111': 4, '111011011': 1, '110101101': 2, '110001111': 4, '101111010': 4, '101010111': 3, '111010111': 1, '110111111': 1, '101111101': 3, '111110001': 3, '111001111': 1, '001110111': 1, '111110110': 2, '010111101': 1}\n",
      "[np.float64(-1.2259521484375), np.float64(-1.36962890625), np.float64(-3.1103515625), np.float64(-3.1651611328125), np.float64(-2.155517578125), np.float64(-2.195068359375), np.float64(-3.16748046875), np.float64(1.6019287109375), np.float64(-2.58984375), np.float64(-2.931884765625), np.float64(-2.915283203125), np.float64(-3.210693359375), np.float64(-2.8702392578125), np.float64(-3.1414794921875), np.float64(-3.369384765625), np.float64(-3.5023193359375), np.float64(-3.226806640625), np.float64(-3.4852294921875), np.float64(-3.685302734375), np.float64(-3.65283203125), np.float64(-3.49853515625), np.float64(-4.01123046875), np.float64(-4.1202392578125), np.float64(-4.2728271484375), np.float64(-4.3563232421875), np.float64(-4.2542724609375), np.float64(-4.23828125), np.float64(-4.3968505859375), np.float64(-4.3284912109375), np.float64(-4.4764404296875), np.float64(-4.36083984375), np.float64(-4.4459228515625), np.float64(-4.4517822265625), np.float64(-4.479736328125), np.float64(-4.490478515625), np.float64(-4.4815673828125), np.float64(-4.48486328125), np.float64(-4.52490234375), np.float64(-4.4725341796875), np.float64(-4.4805908203125), np.float64(-4.5068359375), np.float64(-4.469482421875), np.float64(-4.5020751953125), np.float64(-4.5277099609375), np.float64(-4.4794921875), np.float64(-4.50146484375), np.float64(-4.492919921875), np.float64(-4.504638671875), np.float64(-4.502197265625), np.float64(-4.521484375), np.float64(-4.48828125), np.float64(-4.4949951171875), np.float64(-4.4959716796875), np.float64(-4.4918212890625), np.float64(-4.5169677734375), np.float64(-4.4998779296875), np.float64(-4.50634765625), np.float64(-4.4937744140625), np.float64(-4.5281982421875), np.float64(-4.5115966796875), np.float64(-4.4923095703125), np.float64(-4.5128173828125), np.float64(-4.5040283203125), np.float64(-4.4888916015625)]\n"
     ]
    },
    {
     "data": {
      "text/plain": [
       "[<matplotlib.lines.Line2D at 0x1130cd090>]"
      ]
     },
     "execution_count": 10,
     "metadata": {},
     "output_type": "execute_result"
    },
    {
     "data": {
      "image/png": "[encoded data removed]",
      "text/plain": [
       "<Figure size 640x480 with 1 Axes>"
      ]
     },
     "metadata": {},
     "output_type": "display_data"
    }
   ],
   "source": [
    "objective_func_vals = []\n",
    "\n",
    "\n",
    "def cost_function_estimator(\n",
    "    params: np.ndarray, hamiltonian: SparsePauliOp, estimator: Estimator, backend:AerSimulator()\n",
    ") -> float:\n",
    "    \"\"\"Cost function estimator to optimize the QAOA parameters.\n",
    "\n",
    "    Args:\n",
    "        params (np.ndarray): The current parameters of the QAOA ansatz.\n",
    "        hamiltonian (SparsePauliOp): The cost hamiltonian of the rooks puzzle.\n",
    "        estimator (Estimator): the estimator object to be used.\n",
    "        AerSimulator() (AerSimulator()): The qiskit AerSimulator() to run the circuits.\n",
    "\n",
    "    Returns:\n",
    "        float: The expected value of the cost hamiltonian given the qaoa circuit with the current parameters.\n",
    "    \"\"\"\n",
    "\n",
    "    n_layers = len(params) // 2\n",
    "\n",
    "    circuit = QAOAAnsatz(cost_operator=hamiltonian, reps=n_layers)\n",
    "    circuit.measure_all()\n",
    "\n",
    "    pass_manager = generate_preset_pass_manager(2, AerSimulator())\n",
    "    isa_circuit = pass_manager.run(circuit)\n",
    "\n",
    "    pub = (isa_circuit, hamiltonian, params)\n",
    "    job = estimator.run([pub])\n",
    "\n",
    "    results = job.result()[0]\n",
    "    cost = results.data.evs\n",
    "\n",
    "    objective_func_vals.append(cost)\n",
    "\n",
    "    return cost\n",
    "\n",
    "\n",
    "def QAOA_optimizer(\n",
    "    n_layers: int,\n",
    "    hamiltonian: SparsePauliOp,\n",
    "    offset: float,\n",
    "    backend: AerSimulator,\n",
    "    method: str = \"COBYLA\"\n",
    ") -> dict:\n",
    "    \"\"\"Optimizes the a QAOA ansatz given a hamiltonian.\"\"\"\n",
    "\n",
    "    init_params = np.random.rand(2 * n_layers)\n",
    "\n",
    "    # ⚠️ No usar Session con AerSimulator\n",
    "    estimator = Estimator(mode=backend)\n",
    "\n",
    "    result = minimize(\n",
    "        cost_function_estimator,\n",
    "        init_params,\n",
    "        args=(hamiltonian, estimator, backend),\n",
    "        method=method,\n",
    "    )\n",
    "\n",
    "    global objective_func_vals\n",
    "    objective_func_vals = [val + offset for val in objective_func_vals]\n",
    "    return result\n",
    "\n",
    "simulator = AerSimulator()\n",
    "ham, offset = cost_hamiltonian_rooks(3)\n",
    "\n",
    "optimization_result = QAOA_optimizer(3, ham, offset, simulator)\n",
    "\n",
    "\n",
    "def QAOA_sample_circuit(params: np.ndarray, cost_hamiltonian: SparsePauliOp, backend: AerSimulator()) -> dict[str, int]:\n",
    "    \"\"\"Helper function to sample the QAOA circuit given the final optimization parameters.\n",
    "\n",
    "    Args:\n",
    "        params (np.ndarray): The parameters of the QAOA ansatz.\n",
    "        cost_hamiltonian (SparsePauliOp): The cost hamiltonian.\n",
    "        AerSimulator() (AerSimulator()): The AerSimulator() used to run the circuits.\n",
    "\n",
    "    Returns:\n",
    "        dict[str, int]: The frequency of the measurements of the QAOA circuit.\n",
    "    \"\"\"\n",
    "    sampler = Sampler(mode=AerSimulator())\n",
    "    n_layers = len(params) // 2\n",
    "\n",
    "    circuit = QAOAAnsatz(cost_operator=cost_hamiltonian, reps=n_layers)\n",
    "    circuit.measure_all()\n",
    "    circuit.assign_parameters(params, inplace=True)\n",
    "\n",
    "    pass_manager = generate_preset_pass_manager(2, AerSimulator())\n",
    "    isa_circuit = pass_manager.run(circuit)\n",
    "    result = sampler.run(\n",
    "        [(isa_circuit,)],\n",
    "        shots=100000,\n",
    "    ).result()\n",
    "\n",
    "    return result[0].data.meas.get_counts()\n",
    "\n",
    "\n",
    "def freq_plot_solution(counts: dict[str, int], N: int) -> None:\n",
    "    \"\"\"Plots the frequency of the measurements of the QAOA circuit.\n",
    "\n",
    "    Args:\n",
    "        counts (dict[str, int]): The frequency of the measurements of the QAOA circuit.\n",
    "        N (int): The size of the chess board.\n",
    "    \"\"\"\n",
    "\n",
    "    max_counts_sol = max(counts, key=counts.get)\n",
    "\n",
    "    solution = np.zeros((N, N))\n",
    "\n",
    "    for i in range(N):\n",
    "        for j in range(N):\n",
    "            index = i * N + j\n",
    "            if max_counts_sol[index] == \"1\":\n",
    "                solution[i, j] = 1\n",
    "\n",
    "    plt.imshow(solution, cmap=\"binary\")\n",
    "    plt.show()\n",
    "\n",
    "hola = QAOA_sample_circuit(optimization_result.x, ham, simulator)\n",
    "print(hola)\n",
    "print(objective_func_vals)\n",
    "plt.plot(objective_func_vals)"
   ]
  },
  {
   "cell_type": "code",
   "execution_count": 11,
   "metadata": {
    "id": "JIF6JIb-JDTR"
   },
   "outputs": [
    {
     "data": {
      "image/png": "[encoded data removed]",
      "text/plain": [
       "<Figure size 1200x600 with 1 Axes>"
      ]
     },
     "metadata": {},
     "output_type": "display_data"
    }
   ],
   "source": [
    "counts = hola\n",
    "\n",
    "top_counts = dict(sorted(counts.items(), key=lambda item: item[1], reverse=True)[:20])\n",
    "\n",
    "# Crear gráfico\n",
    "plt.figure(figsize=(12,6))\n",
    "plt.bar(top_counts.keys(), top_counts.values(), color='skyblue')\n",
    "plt.xticks(rotation=90)\n",
    "plt.xlabel('Bitstrings')\n",
    "plt.ylabel('Frecuencia')\n",
    "plt.title('Top 20 bitstrings más frecuentes')\n",
    "plt.show()"
   ]
  },
  {
   "cell_type": "markdown",
   "metadata": {
    "id": "L95CnXp3cgSo"
   },
   "source": [
    "## Run the QAOA algorithm for 3x3 and 4x4 boards and discuss the solutions obtained.\n",
    "## Compare the solutions with the ones obtained by brute force."
   ]
  },
  {
   "cell_type": "markdown",
   "metadata": {
    "id": "-VRR2ZFwcI6t"
   },
   "source": [
    "# 1.2 Finding a specific solution for the rook puzzle\n",
    "\n",
    "As you might have seen before, the solution obtained using the previous hamiltonian is usually a superposition of all possible configurations of rooks on the board. To obtain a single solution, we must break the degeneracy of the solution by unbalancing the positions in which the rooks appear.\n",
    "\n",
    "One of the simplest ways to do this is \"tilting\" the chess board, i.e., favoring the positioning of the rooks on one side of the board. To do this, one can add a small bias on the single-body terms of the form:\n",
    "\n",
    "- $b_{00}$ <- $b_{00}$\n",
    "- $b_{01}$ <- $b_{01}$ + $\\delta$\n",
    "- $b_{02}$ <- $b_{02}$ + $\\sqrt{2}\\delta$\n",
    "- ...\n",
    "- $b_{NN}$ <- $b_{NN}$ + $N\\delta$\n",
    "\n",
    "where $\\delta$ should be small compared with the value of $b$ and $Q$, but not infinitely small. You might optimize this by comparing some solutions for different values of $\\delta$, or maybe use your creativity to break the degeneracy using different weights and method.\n",
    "\n",
    "## Introduce the modification on the one-body terms and run again all the steps of the algorithm to find a solution of the rook puzzle. What is the accuracy for the algorithm to find the solution?\n",
    "\n",
    "> Extra: Can you implement this bias also for the brute force search?"
   ]
  },
  {
   "cell_type": "code",
   "execution_count": null,
   "metadata": {
    "id": "JqTaPYmUhNcm"
   },
   "outputs": [],
   "source": [
    "def classical_hamiltonian_rook_onebody_coeff_tilted(N):\n",
    "    \"\"\"Returns the NxN matrix of b_{k \\alpha} weigths for a tilted chess board.\n",
    "\n",
    "    Args:\n",
    "        N (int): The dimension of the chess board.\n",
    "\n",
    "    Returns:\n",
    "        b_vector (np.array): The NxN matrix of b_{k \\alpha} weigths.\n",
    "        hamiltonian (SparsePauliOp): The hamiltonian of the rooks puzzle.\n",
    "    \"\"\"\n",
    "    # Your code here\n",
    "\n",
    "    return b_vector\n",
    "\n",
    "\n",
    "# The rest of your code here"
   ]
  },
  {
   "cell_type": "markdown",
   "metadata": {
    "id": "prPCnZAn5t3H"
   },
   "source": [
    "# 1.3 Improving the optimization\n",
    "\n",
    "Now that everything is working properly, let's improve the QAOA protocol. Test the convergence of the solution and the parameters by changing different parameters of the algorithm.\n",
    "\n",
    "Can you find a classical optimization algorithm that converges faster than the one by default on scipy.optimize? Does it change the result on the QAOA algorithm?\n",
    "\n",
    "Does the convergence or the final solution improve using a different mixing operator?\n",
    "\n",
    "How does the convergence and final solution change if we increase the number of layers from 2 to 3? How does the computation time change?"
   ]
  },
  {
   "cell_type": "code",
   "execution_count": null,
   "metadata": {
    "id": "ASDkX0i--boQ"
   },
   "outputs": [],
   "source": [
    "# Test different possibilities here"
   ]
  },
  {
   "cell_type": "markdown",
   "metadata": {
    "id": "5KFVdkqJicxY"
   },
   "source": [
    "# 2- Diagonal movement\n",
    "\n",
    "As the queens can also move in diagonal, we will carefully analyze that movement playing the same game with bishops. (Be careful, this time for a board of NxN squares there are more than N possible bishops!!!!!!!!!!)\n",
    "\n",
    "Repeat all previous steps with the bishops puzzle, to understand how can the diagonal movement be introduced in the hamiltonian. Fill all the following steps and comment everything you do to find the solution for 3x3 and 4x4 boards:"
   ]
  },
  {
   "cell_type": "code",
   "execution_count": 12,
   "metadata": {
    "id": "KUrqLgaYjCMl"
   },
   "outputs": [],
   "source": [
    "# Create the brute force function to find the solutions of the bishop puzzle\n",
    "def classical_bishops(N):\n",
    "    M = np.zeros((N, N))\n",
    "    solutions = []\n",
    "    used_main = set()\n",
    "    used_anti = set()\n",
    "\n",
    "    backtrack(0, M, used_main, used_anti, solutions, N)\n",
    "    opt = max(np.sum(sol) for sol in solutions)\n",
    "    opt_sol=[]\n",
    "    for sol in solutions:\n",
    "        if np.sum(sol)==opt:\n",
    "            opt_sol.append(sol)\n",
    "    return opt_sol\n",
    "\n",
    "def backtrack(pos, M, used_main, used_anti, solutions, N):\n",
    "    if pos == N**2:\n",
    "        solutions.append(M.copy())\n",
    "        return\n",
    "    r = pos // N\n",
    "    c = pos % N\n",
    "    backtrack(pos + 1, M, used_main, used_anti, solutions, N)\n",
    "    if r-c not in used_main and r+c not in used_anti:\n",
    "        M[r][c] = 1\n",
    "        used_main.add(r-c)\n",
    "        used_anti.add(r+c)\n",
    "        backtrack(pos + 1, M, used_main, used_anti, solutions, N)\n",
    "        M[r][c] = 0\n",
    "        used_main.remove(r - c)\n",
    "        used_anti.remove(r + c)"
   ]
  },
  {
   "cell_type": "code",
   "execution_count": 13,
   "metadata": {
    "id": "u-odQ89tjTuj"
   },
   "outputs": [],
   "source": [
    "# Create the coefficients of the classical cost function for the bishop puzzle\n",
    "import numpy as np\n",
    "\n",
    "def classical_hamiltonian_bishop_onebody_coeff(N):\n",
    "    b_matrix = np.full((N,N), -1)\n",
    "    return b_matrix\n",
    "\n",
    "def classical_hamiltonian_bishop_twobody_coeff(N):\n",
    "    Q_matrix = np.full((N, N, N, N), 0.0)\n",
    "\n",
    "    for i in range(N):\n",
    "        for j in range(N):\n",
    "            for k in range(N):\n",
    "                for l in range(N):\n",
    "                    if abs(i - k) == abs(j - l) and i!=k and j!= l:\n",
    "                        Q_matrix[i, j, k, l] = 1.5\n",
    "\n",
    "    return Q_matrix\n",
    "\n",
    "def classical_hamiltonian_bishop(N, Z_matrix):\n",
    "    onebody_term = sum(classical_hamiltonian_bishop_onebody_coeff(N)[i][j] * Z_matrix[i][j] for i in range(N) for j in range(N))\n",
    "    twobody_term = sum(classical_hamiltonian_bishop_twobody_coeff(N)[i][j][k][l] * Z_matrix[i][j] * Z_matrix[k][l]  for i in range(N) for j in range(N) for k in range(N) for l in range(N))\n",
    "    energy = onebody_term + twobody_term\n",
    "\n",
    "    return energy"
   ]
  },
  {
   "cell_type": "code",
   "execution_count": null,
   "metadata": {
    "id": "ZstQpD34oMUe"
   },
   "outputs": [],
   "source": [
    "# Create the hamiltonian operator for the bishop puzzle, add the tilting"
   ]
  },
  {
   "cell_type": "code",
   "execution_count": null,
   "metadata": {
    "id": "zqtfg5PXoQcV"
   },
   "outputs": [],
   "source": [
    "# Run the QAOA algorithm with the bishop puzzle to find the solutions and compare it with brute force ones"
   ]
  },
  {
   "cell_type": "markdown",
   "metadata": {
    "id": "pvb-M0uxojU_"
   },
   "source": [
    "# 3- The queens puzzle\n",
    "\n",
    "Now that we have analyzed both movements of the queens, we can put everything together and find a solution for the queens problem. For that, you only need to combine the two body interactions of the rooks with those of the bishops and voila! The queens cost hamiltonian is done!\n",
    "\n",
    "Repeat again the previous steps to find the solution for the queens puzzle for 3x3 and 4x4 boards. You can jump some steps if you find them unnecessary, but at the end you should compare the brute force solutions with those obtained by QAOA"
   ]
  },
  {
   "cell_type": "code",
   "execution_count": 14,
   "metadata": {
    "id": "wJwFQ2MTqgqV"
   },
   "outputs": [],
   "source": [
    "# Create the brute force function to find the solutions of the queens puzzle\n",
    "import numpy as np\n",
    "\n",
    "def classical_queens(N):\n",
    "    M = np.zeros((N, N))\n",
    "    solutions = []\n",
    "    used_cols = set()\n",
    "    used_main = set()\n",
    "    used_anti = set()\n",
    "    explore_q(0, M, used_cols, used_main, used_anti, solutions, N)\n",
    "    solutions.pop(0)\n",
    "    opt = max(np.sum(sol) for sol in solutions)\n",
    "    opt_sol=[]\n",
    "    for sol in solutions:\n",
    "        if np.sum(sol)==opt:\n",
    "            opt_sol.append(sol)\n",
    "    return opt_sol\n",
    "\n",
    "def explore_q(pos, M, used_cols, used_main, used_anti, solutions, N):\n",
    "    if pos >= N**2:\n",
    "        solutions.append(M.copy())\n",
    "        return\n",
    "    r = pos // N\n",
    "    c = pos % N\n",
    "    explore_q(pos + 1, M, used_cols, used_main, used_anti, solutions, N)\n",
    "    if c not in used_cols and r-c not in used_main and r+c not in used_anti:\n",
    "        M[r][c] = 1\n",
    "        used_main.add(r-c)\n",
    "        used_anti.add(r+c)\n",
    "        used_cols.add(c)\n",
    "        explore_q((r + 1)*N, M, used_cols, used_main, used_anti, solutions, N)\n",
    "        M[r][c] = 0\n",
    "        used_main.remove(r - c)\n",
    "        used_anti.remove(r + c)\n",
    "        used_cols.remove(c)"
   ]
  },
  {
   "cell_type": "code",
   "execution_count": null,
   "metadata": {
    "id": "Vl3kwfUNqgqW"
   },
   "outputs": [],
   "source": [
    "# Create the coefficients of the classical cost function for the queens puzzle"
   ]
  },
  {
   "cell_type": "code",
   "execution_count": null,
   "metadata": {
    "id": "oMtMe06DqgqW"
   },
   "outputs": [],
   "source": [
    "# Create the hamiltonian operator for the queens puzzle, add the tilting"
   ]
  },
  {
   "cell_type": "code",
   "execution_count": null,
   "metadata": {
    "id": "3uYCm2SHqgqW"
   },
   "outputs": [],
   "source": [
    "# Run the QAOA algorithm with the queens puzzle to find the solutions and compare it with brute force ones"
   ]
  },
  {
   "cell_type": "markdown",
   "metadata": {
    "id": "VO7oLhrArOU5"
   },
   "source": [
    "> Note: The 3x3 board solution only has 2 queens, while the 4x4 one has 4 queens."
   ]
  },
  {
   "cell_type": "markdown",
   "metadata": {
    "id": "bxqhxp0Gqx6J"
   },
   "source": [
    "# 4- Going to utility-scale problems\n",
    "\n",
    "Now that you have solved small instances of the queens puzzle you might think, what's next?? Prepare for the most difficult and exciting part of the challenge!!\n",
    "\n",
    "The previous sections where only restricted to 3x3 and 4x4 boards because bigger circuits are much expensive to simulate using classical computers and will take a lot of time to do the optimization. Then, you might think, Is this worthy?\n",
    "Yes, it is. If we run it on a quantum computer!!\n",
    "Try to run 5x5 and 6x6 boards on it!.\n",
    "\n",
    "Go again to [IBM web](https://learning.quantum.ibm.com/tutorial/quantum-approximate-optimization-algorithm) and try to run a bigger board instance in real quantum hardware.\n",
    "For that you will need to register on ibm and you will have a maximum of 10 minutes of Q-computations, so be cautious. Plan everything before running it and save every result obtained to present it in the final report."
   ]
  },
  {
   "cell_type": "code",
   "execution_count": null,
   "metadata": {
    "id": "AwHB_Vkmq0u1"
   },
   "outputs": [],
   "source": [
    "# Your code here"
   ]
  },
  {
   "cell_type": "markdown",
   "metadata": {
    "id": "VjCyKVrK8CJg"
   },
   "source": [
    "# 5- A farm of horses\n",
    "\n",
    "The queens and rooks and bishops move in lines, but what about horses?\n",
    "\n",
    "Explore the possible configurations solutions for the horses puzzle for small boards. Is this problem as easy to converge than the other instances? Which is the biggest difference?"
   ]
  },
  {
   "cell_type": "code",
   "execution_count": null,
   "metadata": {
    "id": "x1yKOmaU8jUa"
   },
   "outputs": [],
   "source": [
    "# Your code here"
   ]
  },
  {
   "cell_type": "markdown",
   "metadata": {
    "id": "5nuGp1Lb8j2w"
   },
   "source": [
    "# 6- A parallel story  (Truly challenging - research level)\n",
    "\n",
    "Read the following works about the queens puzzle and compare what they propose with the things that we have done here:\n",
    "\n",
    "- https://arxiv.org/html/2312.16312v1\n",
    "- https://quantum-journal.org/papers/q-2019-06-03-149/\n",
    "\n",
    "Based on those articles, which changes should be done to improve the resolution of the problem? Do you think that this will make a substantial change on your outcomes?\n",
    "\n",
    "Can you improve the solution of the problem? Maybe propose a new mapping? Maybe use a different algorithm?\n",
    "\n",
    "Open solution question, let your imagination running!"
   ]
  },
  {
   "cell_type": "code",
   "execution_count": null,
   "metadata": {
    "id": "R42XNMQ7-SKs"
   },
   "outputs": [],
   "source": [
    "# Your code here"
   ]
  }
 ],
 "metadata": {
  "colab": {
   "provenance": []
  },
  "kernelspec": {
   "display_name": "Python 3 (ipykernel)",
   "language": "python",
   "name": "python3"
  },
  "language_info": {
   "codemirror_mode": {
    "name": "ipython",
    "version": 3
   },
   "file_extension": ".py",
   "mimetype": "text/x-python",
   "name": "python",
   "nbconvert_exporter": "python",
   "pygments_lexer": "ipython3",
   "version": "3.13.7"
  }
 },
 "nbformat": 4,
 "nbformat_minor": 4
}
