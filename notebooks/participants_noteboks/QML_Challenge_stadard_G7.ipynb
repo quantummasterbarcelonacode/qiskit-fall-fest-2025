{
  "cells": [
    {
      "cell_type": "markdown",
      "metadata": {
        "id": "2Vs8xHHc1hsO"
      },
      "source": [
        "# Quantum Machine Learning challenge\n",
        "\n",
        "Welcome to the Quantum Machine Learning challenge of the MQST Qiskit Fall Fest!\n",
        "In this challenge, you will explore how quantum computing (QC) and machine learning (ML) can be brought together in the exciting field of Quantum Machine learning (QML). You will start using quantum computers for a simple classical classification task, and your fundamental challenge will be to design a \"Quantum Neural Network\" (QNN) that classifies input quantum data according to the phase it corresponds to.\n",
        "\n",
        "This challenge is divided in two parts:\n",
        "- Deal with a classical classification problem with a parametrized quantum computer. You will be asked to encode and process the data on a paramtrized quantum computer, and finally train it classically to attempt to solve the problem.\n",
        "- Deal with a quantum classification task, to learn to identify the phases, and reconstruct the phase diagram, of a quantum spin chain. You will reuse the process from the previous section, but instead of embeding classical data into the quantum computer, you will now input the spin states as the initial state of the quantum computer."
      ]
    },
    {
      "cell_type": "markdown",
      "metadata": {
        "id": "ukKywLp31hsS"
      },
      "source": [
        "#### First install the necessary packages if you haven't already:"
      ]
    },
    {
      "cell_type": "code",
      "execution_count": null,
      "metadata": {
        "id": "EGKx3DhX1hsS",
        "colab": {
          "base_uri": "https://localhost:8080/"
        },
        "outputId": "a1c6aeb2-441a-4025-edbb-b2c0ded0de3f"
      },
      "outputs": [
        {
          "output_type": "stream",
          "name": "stdout",
          "text": [
            "Requirement already satisfied: pip in /usr/local/lib/python3.12/dist-packages (25.3)\n",
            "Requirement already satisfied: numpy==2.3.4 in /usr/local/lib/python3.12/dist-packages (2.3.4)\n",
            "Requirement already satisfied: scipy==1.16.2 in /usr/local/lib/python3.12/dist-packages (1.16.2)\n",
            "Requirement already satisfied: numpy<2.6,>=1.25.2 in /usr/local/lib/python3.12/dist-packages (from scipy==1.16.2) (2.3.4)\n",
            "Requirement already satisfied: matplotlib==3.10.7 in /usr/local/lib/python3.12/dist-packages (3.10.7)\n",
            "Requirement already satisfied: contourpy>=1.0.1 in /usr/local/lib/python3.12/dist-packages (from matplotlib==3.10.7) (1.3.3)\n",
            "Requirement already satisfied: cycler>=0.10 in /usr/local/lib/python3.12/dist-packages (from matplotlib==3.10.7) (0.12.1)\n",
            "Requirement already satisfied: fonttools>=4.22.0 in /usr/local/lib/python3.12/dist-packages (from matplotlib==3.10.7) (4.60.1)\n",
            "Requirement already satisfied: kiwisolver>=1.3.1 in /usr/local/lib/python3.12/dist-packages (from matplotlib==3.10.7) (1.4.9)\n",
            "Requirement already satisfied: numpy>=1.23 in /usr/local/lib/python3.12/dist-packages (from matplotlib==3.10.7) (2.3.4)\n",
            "Requirement already satisfied: packaging>=20.0 in /usr/local/lib/python3.12/dist-packages (from matplotlib==3.10.7) (25.0)\n",
            "Requirement already satisfied: pillow>=8 in /usr/local/lib/python3.12/dist-packages (from matplotlib==3.10.7) (11.3.0)\n",
            "Requirement already satisfied: pyparsing>=3 in /usr/local/lib/python3.12/dist-packages (from matplotlib==3.10.7) (3.2.5)\n",
            "Requirement already satisfied: python-dateutil>=2.7 in /usr/local/lib/python3.12/dist-packages (from matplotlib==3.10.7) (2.9.0.post0)\n",
            "Requirement already satisfied: six>=1.5 in /usr/local/lib/python3.12/dist-packages (from python-dateutil>=2.7->matplotlib==3.10.7) (1.17.0)\n",
            "Requirement already satisfied: jupyter in /usr/local/lib/python3.12/dist-packages (1.1.1)\n",
            "Requirement already satisfied: notebook in /usr/local/lib/python3.12/dist-packages (from jupyter) (6.5.7)\n",
            "Requirement already satisfied: jupyter-console in /usr/local/lib/python3.12/dist-packages (from jupyter) (6.6.3)\n",
            "Requirement already satisfied: nbconvert in /usr/local/lib/python3.12/dist-packages (from jupyter) (7.16.6)\n",
            "Requirement already satisfied: ipykernel in /usr/local/lib/python3.12/dist-packages (from jupyter) (6.17.1)\n",
            "Requirement already satisfied: ipywidgets in /usr/local/lib/python3.12/dist-packages (from jupyter) (8.1.7)\n",
            "Requirement already satisfied: jupyterlab in /usr/local/lib/python3.12/dist-packages (from jupyter) (4.4.10)\n",
            "Requirement already satisfied: debugpy>=1.0 in /usr/local/lib/python3.12/dist-packages (from ipykernel->jupyter) (1.8.15)\n",
            "Requirement already satisfied: ipython>=7.23.1 in /usr/local/lib/python3.12/dist-packages (from ipykernel->jupyter) (8.37.0)\n",
            "Requirement already satisfied: jupyter-client>=6.1.12 in /usr/local/lib/python3.12/dist-packages (from ipykernel->jupyter) (7.4.9)\n",
            "Requirement already satisfied: matplotlib-inline>=0.1 in /usr/local/lib/python3.12/dist-packages (from ipykernel->jupyter) (0.1.7)\n",
            "Requirement already satisfied: nest-asyncio in /usr/local/lib/python3.12/dist-packages (from ipykernel->jupyter) (1.6.0)\n",
            "Requirement already satisfied: packaging in /usr/local/lib/python3.12/dist-packages (from ipykernel->jupyter) (25.0)\n",
            "Requirement already satisfied: psutil in /usr/local/lib/python3.12/dist-packages (from ipykernel->jupyter) (5.9.5)\n",
            "Requirement already satisfied: pyzmq>=17 in /usr/local/lib/python3.12/dist-packages (from ipykernel->jupyter) (26.2.1)\n",
            "Requirement already satisfied: tornado>=6.1 in /usr/local/lib/python3.12/dist-packages (from ipykernel->jupyter) (6.5.1)\n",
            "Requirement already satisfied: traitlets>=5.1.0 in /usr/local/lib/python3.12/dist-packages (from ipykernel->jupyter) (5.14.3)\n",
            "Requirement already satisfied: decorator in /usr/local/lib/python3.12/dist-packages (from ipython>=7.23.1->ipykernel->jupyter) (4.4.2)\n",
            "Requirement already satisfied: jedi>=0.16 in /usr/local/lib/python3.12/dist-packages (from ipython>=7.23.1->ipykernel->jupyter) (0.19.2)\n",
            "Requirement already satisfied: pexpect>4.3 in /usr/local/lib/python3.12/dist-packages (from ipython>=7.23.1->ipykernel->jupyter) (4.9.0)\n",
            "Requirement already satisfied: prompt_toolkit<3.1.0,>=3.0.41 in /usr/local/lib/python3.12/dist-packages (from ipython>=7.23.1->ipykernel->jupyter) (3.0.52)\n",
            "Requirement already satisfied: pygments>=2.4.0 in /usr/local/lib/python3.12/dist-packages (from ipython>=7.23.1->ipykernel->jupyter) (2.19.2)\n",
            "Requirement already satisfied: stack_data in /usr/local/lib/python3.12/dist-packages (from ipython>=7.23.1->ipykernel->jupyter) (0.6.3)\n",
            "Requirement already satisfied: wcwidth in /usr/local/lib/python3.12/dist-packages (from prompt_toolkit<3.1.0,>=3.0.41->ipython>=7.23.1->ipykernel->jupyter) (0.2.14)\n",
            "Requirement already satisfied: parso<0.9.0,>=0.8.4 in /usr/local/lib/python3.12/dist-packages (from jedi>=0.16->ipython>=7.23.1->ipykernel->jupyter) (0.8.5)\n",
            "Requirement already satisfied: entrypoints in /usr/local/lib/python3.12/dist-packages (from jupyter-client>=6.1.12->ipykernel->jupyter) (0.4)\n",
            "Requirement already satisfied: jupyter-core>=4.9.2 in /usr/local/lib/python3.12/dist-packages (from jupyter-client>=6.1.12->ipykernel->jupyter) (5.9.1)\n",
            "Requirement already satisfied: python-dateutil>=2.8.2 in /usr/local/lib/python3.12/dist-packages (from jupyter-client>=6.1.12->ipykernel->jupyter) (2.9.0.post0)\n",
            "Requirement already satisfied: platformdirs>=2.5 in /usr/local/lib/python3.12/dist-packages (from jupyter-core>=4.9.2->jupyter-client>=6.1.12->ipykernel->jupyter) (4.5.0)\n",
            "Requirement already satisfied: ptyprocess>=0.5 in /usr/local/lib/python3.12/dist-packages (from pexpect>4.3->ipython>=7.23.1->ipykernel->jupyter) (0.7.0)\n",
            "Requirement already satisfied: six>=1.5 in /usr/local/lib/python3.12/dist-packages (from python-dateutil>=2.8.2->jupyter-client>=6.1.12->ipykernel->jupyter) (1.17.0)\n",
            "Requirement already satisfied: comm>=0.1.3 in /usr/local/lib/python3.12/dist-packages (from ipywidgets->jupyter) (0.2.3)\n",
            "Requirement already satisfied: widgetsnbextension~=4.0.14 in /usr/local/lib/python3.12/dist-packages (from ipywidgets->jupyter) (4.0.14)\n",
            "Requirement already satisfied: jupyterlab_widgets~=3.0.15 in /usr/local/lib/python3.12/dist-packages (from ipywidgets->jupyter) (3.0.15)\n",
            "Requirement already satisfied: async-lru>=1.0.0 in /usr/local/lib/python3.12/dist-packages (from jupyterlab->jupyter) (2.0.5)\n",
            "Requirement already satisfied: httpx<1,>=0.25.0 in /usr/local/lib/python3.12/dist-packages (from jupyterlab->jupyter) (0.28.1)\n",
            "Requirement already satisfied: jinja2>=3.0.3 in /usr/local/lib/python3.12/dist-packages (from jupyterlab->jupyter) (3.1.6)\n",
            "Requirement already satisfied: jupyter-lsp>=2.0.0 in /usr/local/lib/python3.12/dist-packages (from jupyterlab->jupyter) (2.3.0)\n",
            "Requirement already satisfied: jupyter-server<3,>=2.4.0 in /usr/local/lib/python3.12/dist-packages (from jupyterlab->jupyter) (2.14.0)\n",
            "Requirement already satisfied: jupyterlab-server<3,>=2.27.1 in /usr/local/lib/python3.12/dist-packages (from jupyterlab->jupyter) (2.28.0)\n",
            "Requirement already satisfied: notebook-shim>=0.2 in /usr/local/lib/python3.12/dist-packages (from jupyterlab->jupyter) (0.2.4)\n",
            "Requirement already satisfied: setuptools>=41.1.0 in /usr/local/lib/python3.12/dist-packages (from jupyterlab->jupyter) (75.2.0)\n",
            "Requirement already satisfied: anyio in /usr/local/lib/python3.12/dist-packages (from httpx<1,>=0.25.0->jupyterlab->jupyter) (4.11.0)\n",
            "Requirement already satisfied: certifi in /usr/local/lib/python3.12/dist-packages (from httpx<1,>=0.25.0->jupyterlab->jupyter) (2024.7.4)\n",
            "Requirement already satisfied: httpcore==1.* in /usr/local/lib/python3.12/dist-packages (from httpx<1,>=0.25.0->jupyterlab->jupyter) (1.0.9)\n",
            "Requirement already satisfied: idna in /usr/local/lib/python3.12/dist-packages (from httpx<1,>=0.25.0->jupyterlab->jupyter) (3.11)\n",
            "Requirement already satisfied: h11>=0.16 in /usr/local/lib/python3.12/dist-packages (from httpcore==1.*->httpx<1,>=0.25.0->jupyterlab->jupyter) (0.16.0)\n",
            "Requirement already satisfied: argon2-cffi>=21.1 in /usr/local/lib/python3.12/dist-packages (from jupyter-server<3,>=2.4.0->jupyterlab->jupyter) (25.1.0)\n",
            "Requirement already satisfied: jupyter-events>=0.9.0 in /usr/local/lib/python3.12/dist-packages (from jupyter-server<3,>=2.4.0->jupyterlab->jupyter) (0.12.0)\n",
            "Requirement already satisfied: jupyter-server-terminals>=0.4.4 in /usr/local/lib/python3.12/dist-packages (from jupyter-server<3,>=2.4.0->jupyterlab->jupyter) (0.5.3)\n",
            "Requirement already satisfied: nbformat>=5.3.0 in /usr/local/lib/python3.12/dist-packages (from jupyter-server<3,>=2.4.0->jupyterlab->jupyter) (5.10.4)\n",
            "Requirement already satisfied: overrides>=5.0 in /usr/local/lib/python3.12/dist-packages (from jupyter-server<3,>=2.4.0->jupyterlab->jupyter) (7.7.0)\n",
            "Requirement already satisfied: prometheus-client>=0.9 in /usr/local/lib/python3.12/dist-packages (from jupyter-server<3,>=2.4.0->jupyterlab->jupyter) (0.23.1)\n",
            "Requirement already satisfied: send2trash>=1.8.2 in /usr/local/lib/python3.12/dist-packages (from jupyter-server<3,>=2.4.0->jupyterlab->jupyter) (1.8.3)\n",
            "Requirement already satisfied: terminado>=0.8.3 in /usr/local/lib/python3.12/dist-packages (from jupyter-server<3,>=2.4.0->jupyterlab->jupyter) (0.18.1)\n",
            "Requirement already satisfied: websocket-client>=1.7 in /usr/local/lib/python3.12/dist-packages (from jupyter-server<3,>=2.4.0->jupyterlab->jupyter) (1.9.0)\n",
            "Requirement already satisfied: babel>=2.10 in /usr/local/lib/python3.12/dist-packages (from jupyterlab-server<3,>=2.27.1->jupyterlab->jupyter) (2.17.0)\n",
            "Requirement already satisfied: json5>=0.9.0 in /usr/local/lib/python3.12/dist-packages (from jupyterlab-server<3,>=2.27.1->jupyterlab->jupyter) (0.12.1)\n",
            "Requirement already satisfied: jsonschema>=4.18.0 in /usr/local/lib/python3.12/dist-packages (from jupyterlab-server<3,>=2.27.1->jupyterlab->jupyter) (4.25.1)\n",
            "Requirement already satisfied: requests>=2.31 in /usr/local/lib/python3.12/dist-packages (from jupyterlab-server<3,>=2.27.1->jupyterlab->jupyter) (2.32.4)\n",
            "Requirement already satisfied: sniffio>=1.1 in /usr/local/lib/python3.12/dist-packages (from anyio->httpx<1,>=0.25.0->jupyterlab->jupyter) (1.3.1)\n",
            "Requirement already satisfied: typing_extensions>=4.5 in /usr/local/lib/python3.12/dist-packages (from anyio->httpx<1,>=0.25.0->jupyterlab->jupyter) (4.15.0)\n",
            "Requirement already satisfied: argon2-cffi-bindings in /usr/local/lib/python3.12/dist-packages (from argon2-cffi>=21.1->jupyter-server<3,>=2.4.0->jupyterlab->jupyter) (25.1.0)\n",
            "Requirement already satisfied: MarkupSafe>=2.0 in /usr/local/lib/python3.12/dist-packages (from jinja2>=3.0.3->jupyterlab->jupyter) (3.0.3)\n",
            "Requirement already satisfied: attrs>=22.2.0 in /usr/local/lib/python3.12/dist-packages (from jsonschema>=4.18.0->jupyterlab-server<3,>=2.27.1->jupyterlab->jupyter) (25.4.0)\n",
            "Requirement already satisfied: jsonschema-specifications>=2023.03.6 in /usr/local/lib/python3.12/dist-packages (from jsonschema>=4.18.0->jupyterlab-server<3,>=2.27.1->jupyterlab->jupyter) (2025.9.1)\n",
            "Requirement already satisfied: referencing>=0.28.4 in /usr/local/lib/python3.12/dist-packages (from jsonschema>=4.18.0->jupyterlab-server<3,>=2.27.1->jupyterlab->jupyter) (0.37.0)\n",
            "Requirement already satisfied: rpds-py>=0.7.1 in /usr/local/lib/python3.12/dist-packages (from jsonschema>=4.18.0->jupyterlab-server<3,>=2.27.1->jupyterlab->jupyter) (0.27.1)\n",
            "Requirement already satisfied: python-json-logger>=2.0.4 in /usr/local/lib/python3.12/dist-packages (from jupyter-events>=0.9.0->jupyter-server<3,>=2.4.0->jupyterlab->jupyter) (4.0.0)\n",
            "Requirement already satisfied: pyyaml>=5.3 in /usr/local/lib/python3.12/dist-packages (from jupyter-events>=0.9.0->jupyter-server<3,>=2.4.0->jupyterlab->jupyter) (6.0.3)\n",
            "Requirement already satisfied: rfc3339-validator in /usr/local/lib/python3.12/dist-packages (from jupyter-events>=0.9.0->jupyter-server<3,>=2.4.0->jupyterlab->jupyter) (0.1.4)\n",
            "Requirement already satisfied: rfc3986-validator>=0.1.1 in /usr/local/lib/python3.12/dist-packages (from jupyter-events>=0.9.0->jupyter-server<3,>=2.4.0->jupyterlab->jupyter) (0.1.1)\n",
            "Requirement already satisfied: fqdn in /usr/local/lib/python3.12/dist-packages (from jsonschema[format-nongpl]>=4.18.0->jupyter-events>=0.9.0->jupyter-server<3,>=2.4.0->jupyterlab->jupyter) (1.5.1)\n",
            "Requirement already satisfied: isoduration in /usr/local/lib/python3.12/dist-packages (from jsonschema[format-nongpl]>=4.18.0->jupyter-events>=0.9.0->jupyter-server<3,>=2.4.0->jupyterlab->jupyter) (20.11.0)\n",
            "Requirement already satisfied: jsonpointer>1.13 in /usr/local/lib/python3.12/dist-packages (from jsonschema[format-nongpl]>=4.18.0->jupyter-events>=0.9.0->jupyter-server<3,>=2.4.0->jupyterlab->jupyter) (3.0.0)\n",
            "Requirement already satisfied: rfc3987-syntax>=1.1.0 in /usr/local/lib/python3.12/dist-packages (from jsonschema[format-nongpl]>=4.18.0->jupyter-events>=0.9.0->jupyter-server<3,>=2.4.0->jupyterlab->jupyter) (1.1.0)\n",
            "Requirement already satisfied: uri-template in /usr/local/lib/python3.12/dist-packages (from jsonschema[format-nongpl]>=4.18.0->jupyter-events>=0.9.0->jupyter-server<3,>=2.4.0->jupyterlab->jupyter) (1.3.0)\n",
            "Requirement already satisfied: webcolors>=24.6.0 in /usr/local/lib/python3.12/dist-packages (from jsonschema[format-nongpl]>=4.18.0->jupyter-events>=0.9.0->jupyter-server<3,>=2.4.0->jupyterlab->jupyter) (24.11.1)\n",
            "Requirement already satisfied: beautifulsoup4 in /usr/local/lib/python3.12/dist-packages (from nbconvert->jupyter) (4.13.5)\n",
            "Requirement already satisfied: bleach!=5.0.0 in /usr/local/lib/python3.12/dist-packages (from bleach[css]!=5.0.0->nbconvert->jupyter) (6.2.0)\n",
            "Requirement already satisfied: defusedxml in /usr/local/lib/python3.12/dist-packages (from nbconvert->jupyter) (0.7.1)\n",
            "Requirement already satisfied: jupyterlab-pygments in /usr/local/lib/python3.12/dist-packages (from nbconvert->jupyter) (0.3.0)\n",
            "Requirement already satisfied: mistune<4,>=2.0.3 in /usr/local/lib/python3.12/dist-packages (from nbconvert->jupyter) (3.1.4)\n",
            "Requirement already satisfied: nbclient>=0.5.0 in /usr/local/lib/python3.12/dist-packages (from nbconvert->jupyter) (0.10.2)\n",
            "Requirement already satisfied: pandocfilters>=1.4.1 in /usr/local/lib/python3.12/dist-packages (from nbconvert->jupyter) (1.5.1)\n",
            "Requirement already satisfied: webencodings in /usr/local/lib/python3.12/dist-packages (from bleach!=5.0.0->bleach[css]!=5.0.0->nbconvert->jupyter) (0.5.1)\n",
            "Requirement already satisfied: tinycss2<1.5,>=1.1.0 in /usr/local/lib/python3.12/dist-packages (from bleach[css]!=5.0.0->nbconvert->jupyter) (1.4.0)\n",
            "Requirement already satisfied: fastjsonschema>=2.15 in /usr/local/lib/python3.12/dist-packages (from nbformat>=5.3.0->jupyter-server<3,>=2.4.0->jupyterlab->jupyter) (2.21.2)\n",
            "Requirement already satisfied: charset_normalizer<4,>=2 in /usr/local/lib/python3.12/dist-packages (from requests>=2.31->jupyterlab-server<3,>=2.27.1->jupyterlab->jupyter) (3.4.4)\n",
            "Requirement already satisfied: urllib3<3,>=1.21.1 in /usr/local/lib/python3.12/dist-packages (from requests>=2.31->jupyterlab-server<3,>=2.27.1->jupyterlab->jupyter) (2.5.0)\n",
            "Requirement already satisfied: lark>=1.2.2 in /usr/local/lib/python3.12/dist-packages (from rfc3987-syntax>=1.1.0->jsonschema[format-nongpl]>=4.18.0->jupyter-events>=0.9.0->jupyter-server<3,>=2.4.0->jupyterlab->jupyter) (1.3.0)\n",
            "Requirement already satisfied: cffi>=1.0.1 in /usr/local/lib/python3.12/dist-packages (from argon2-cffi-bindings->argon2-cffi>=21.1->jupyter-server<3,>=2.4.0->jupyterlab->jupyter) (2.0.0)\n",
            "Requirement already satisfied: pycparser in /usr/local/lib/python3.12/dist-packages (from cffi>=1.0.1->argon2-cffi-bindings->argon2-cffi>=21.1->jupyter-server<3,>=2.4.0->jupyterlab->jupyter) (2.23)\n",
            "Requirement already satisfied: soupsieve>1.2 in /usr/local/lib/python3.12/dist-packages (from beautifulsoup4->nbconvert->jupyter) (2.8)\n",
            "Requirement already satisfied: arrow>=0.15.0 in /usr/local/lib/python3.12/dist-packages (from isoduration->jsonschema[format-nongpl]>=4.18.0->jupyter-events>=0.9.0->jupyter-server<3,>=2.4.0->jupyterlab->jupyter) (1.4.0)\n",
            "Requirement already satisfied: tzdata in /usr/local/lib/python3.12/dist-packages (from arrow>=0.15.0->isoduration->jsonschema[format-nongpl]>=4.18.0->jupyter-events>=0.9.0->jupyter-server<3,>=2.4.0->jupyterlab->jupyter) (2025.2)\n",
            "Requirement already satisfied: ipython-genutils in /usr/local/lib/python3.12/dist-packages (from notebook->jupyter) (0.2.0)\n",
            "Requirement already satisfied: nbclassic>=0.4.7 in /usr/local/lib/python3.12/dist-packages (from notebook->jupyter) (1.3.3)\n",
            "Requirement already satisfied: executing>=1.2.0 in /usr/local/lib/python3.12/dist-packages (from stack_data->ipython>=7.23.1->ipykernel->jupyter) (2.2.1)\n",
            "Requirement already satisfied: asttokens>=2.1.0 in /usr/local/lib/python3.12/dist-packages (from stack_data->ipython>=7.23.1->ipykernel->jupyter) (3.0.0)\n",
            "Requirement already satisfied: pure-eval in /usr/local/lib/python3.12/dist-packages (from stack_data->ipython>=7.23.1->ipykernel->jupyter) (0.2.3)\n",
            "Requirement already satisfied: qiskit==2.2 in /usr/local/lib/python3.12/dist-packages (from qiskit[visualization]==2.2) (2.2.0)\n",
            "Requirement already satisfied: rustworkx>=0.15.0 in /usr/local/lib/python3.12/dist-packages (from qiskit==2.2->qiskit[visualization]==2.2) (0.17.1)\n",
            "Requirement already satisfied: numpy<3,>=1.17 in /usr/local/lib/python3.12/dist-packages (from qiskit==2.2->qiskit[visualization]==2.2) (2.3.4)\n",
            "Requirement already satisfied: scipy>=1.5 in /usr/local/lib/python3.12/dist-packages (from qiskit==2.2->qiskit[visualization]==2.2) (1.16.2)\n",
            "Requirement already satisfied: dill>=0.3 in /usr/local/lib/python3.12/dist-packages (from qiskit==2.2->qiskit[visualization]==2.2) (0.3.8)\n",
            "Requirement already satisfied: stevedore>=3.0.0 in /usr/local/lib/python3.12/dist-packages (from qiskit==2.2->qiskit[visualization]==2.2) (5.5.0)\n",
            "Requirement already satisfied: typing-extensions in /usr/local/lib/python3.12/dist-packages (from qiskit==2.2->qiskit[visualization]==2.2) (4.15.0)\n",
            "Requirement already satisfied: matplotlib>=3.3 in /usr/local/lib/python3.12/dist-packages (from qiskit[visualization]==2.2) (3.10.7)\n",
            "Requirement already satisfied: pydot in /usr/local/lib/python3.12/dist-packages (from qiskit[visualization]==2.2) (3.0.4)\n",
            "Requirement already satisfied: Pillow>=4.2.1 in /usr/local/lib/python3.12/dist-packages (from qiskit[visualization]==2.2) (11.3.0)\n",
            "Requirement already satisfied: pylatexenc>=1.4 in /usr/local/lib/python3.12/dist-packages (from qiskit[visualization]==2.2) (2.10)\n",
            "Requirement already satisfied: seaborn>=0.9.0 in /usr/local/lib/python3.12/dist-packages (from qiskit[visualization]==2.2) (0.13.2)\n",
            "Requirement already satisfied: sympy>=1.3 in /usr/local/lib/python3.12/dist-packages (from qiskit[visualization]==2.2) (1.13.3)\n",
            "Requirement already satisfied: contourpy>=1.0.1 in /usr/local/lib/python3.12/dist-packages (from matplotlib>=3.3->qiskit[visualization]==2.2) (1.3.3)\n",
            "Requirement already satisfied: cycler>=0.10 in /usr/local/lib/python3.12/dist-packages (from matplotlib>=3.3->qiskit[visualization]==2.2) (0.12.1)\n",
            "Requirement already satisfied: fonttools>=4.22.0 in /usr/local/lib/python3.12/dist-packages (from matplotlib>=3.3->qiskit[visualization]==2.2) (4.60.1)\n",
            "Requirement already satisfied: kiwisolver>=1.3.1 in /usr/local/lib/python3.12/dist-packages (from matplotlib>=3.3->qiskit[visualization]==2.2) (1.4.9)\n",
            "Requirement already satisfied: packaging>=20.0 in /usr/local/lib/python3.12/dist-packages (from matplotlib>=3.3->qiskit[visualization]==2.2) (25.0)\n",
            "Requirement already satisfied: pyparsing>=3 in /usr/local/lib/python3.12/dist-packages (from matplotlib>=3.3->qiskit[visualization]==2.2) (3.2.5)\n",
            "Requirement already satisfied: python-dateutil>=2.7 in /usr/local/lib/python3.12/dist-packages (from matplotlib>=3.3->qiskit[visualization]==2.2) (2.9.0.post0)\n",
            "Requirement already satisfied: six>=1.5 in /usr/local/lib/python3.12/dist-packages (from python-dateutil>=2.7->matplotlib>=3.3->qiskit[visualization]==2.2) (1.17.0)\n",
            "Requirement already satisfied: pandas>=1.2 in /usr/local/lib/python3.12/dist-packages (from seaborn>=0.9.0->qiskit[visualization]==2.2) (2.2.2)\n",
            "Requirement already satisfied: pytz>=2020.1 in /usr/local/lib/python3.12/dist-packages (from pandas>=1.2->seaborn>=0.9.0->qiskit[visualization]==2.2) (2025.2)\n",
            "Requirement already satisfied: tzdata>=2022.7 in /usr/local/lib/python3.12/dist-packages (from pandas>=1.2->seaborn>=0.9.0->qiskit[visualization]==2.2) (2025.2)\n",
            "Requirement already satisfied: mpmath<1.4,>=1.1.0 in /usr/local/lib/python3.12/dist-packages (from sympy>=1.3->qiskit[visualization]==2.2) (1.3.0)\n",
            "Requirement already satisfied: qiskit_algorithms==0.4.0 in /usr/local/lib/python3.12/dist-packages (0.4.0)\n",
            "Requirement already satisfied: qiskit>=1.0 in /usr/local/lib/python3.12/dist-packages (from qiskit_algorithms==0.4.0) (2.2.0)\n",
            "Requirement already satisfied: scipy>=1.4 in /usr/local/lib/python3.12/dist-packages (from qiskit_algorithms==0.4.0) (1.16.2)\n",
            "Requirement already satisfied: numpy>=1.17 in /usr/local/lib/python3.12/dist-packages (from qiskit_algorithms==0.4.0) (2.3.4)\n",
            "Requirement already satisfied: rustworkx>=0.15.0 in /usr/local/lib/python3.12/dist-packages (from qiskit>=1.0->qiskit_algorithms==0.4.0) (0.17.1)\n",
            "Requirement already satisfied: dill>=0.3 in /usr/local/lib/python3.12/dist-packages (from qiskit>=1.0->qiskit_algorithms==0.4.0) (0.3.8)\n",
            "Requirement already satisfied: stevedore>=3.0.0 in /usr/local/lib/python3.12/dist-packages (from qiskit>=1.0->qiskit_algorithms==0.4.0) (5.5.0)\n",
            "Requirement already satisfied: typing-extensions in /usr/local/lib/python3.12/dist-packages (from qiskit>=1.0->qiskit_algorithms==0.4.0) (4.15.0)\n",
            "Requirement already satisfied: qiskit_aer==0.17.2 in /usr/local/lib/python3.12/dist-packages (0.17.2)\n",
            "Requirement already satisfied: qiskit>=1.1.0 in /usr/local/lib/python3.12/dist-packages (from qiskit_aer==0.17.2) (2.2.0)\n",
            "Requirement already satisfied: numpy>=1.16.3 in /usr/local/lib/python3.12/dist-packages (from qiskit_aer==0.17.2) (2.3.4)\n",
            "Requirement already satisfied: scipy>=1.0 in /usr/local/lib/python3.12/dist-packages (from qiskit_aer==0.17.2) (1.16.2)\n",
            "Requirement already satisfied: psutil>=5 in /usr/local/lib/python3.12/dist-packages (from qiskit_aer==0.17.2) (5.9.5)\n",
            "Requirement already satisfied: python-dateutil>=2.8.0 in /usr/local/lib/python3.12/dist-packages (from qiskit_aer==0.17.2) (2.9.0.post0)\n",
            "Requirement already satisfied: six>=1.5 in /usr/local/lib/python3.12/dist-packages (from python-dateutil>=2.8.0->qiskit_aer==0.17.2) (1.17.0)\n",
            "Requirement already satisfied: rustworkx>=0.15.0 in /usr/local/lib/python3.12/dist-packages (from qiskit>=1.1.0->qiskit_aer==0.17.2) (0.17.1)\n",
            "Requirement already satisfied: dill>=0.3 in /usr/local/lib/python3.12/dist-packages (from qiskit>=1.1.0->qiskit_aer==0.17.2) (0.3.8)\n",
            "Requirement already satisfied: stevedore>=3.0.0 in /usr/local/lib/python3.12/dist-packages (from qiskit>=1.1.0->qiskit_aer==0.17.2) (5.5.0)\n",
            "Requirement already satisfied: typing-extensions in /usr/local/lib/python3.12/dist-packages (from qiskit>=1.1.0->qiskit_aer==0.17.2) (4.15.0)\n",
            "Requirement already satisfied: qiskit_ibm_runtime==0.41.1 in /usr/local/lib/python3.12/dist-packages (0.41.1)\n",
            "Requirement already satisfied: requests>=2.19 in /usr/local/lib/python3.12/dist-packages (from qiskit_ibm_runtime==0.41.1) (2.32.4)\n",
            "Requirement already satisfied: requests-ntlm>=1.1.0 in /usr/local/lib/python3.12/dist-packages (from qiskit_ibm_runtime==0.41.1) (1.3.0)\n",
            "Requirement already satisfied: numpy>=1.13 in /usr/local/lib/python3.12/dist-packages (from qiskit_ibm_runtime==0.41.1) (2.3.4)\n",
            "Requirement already satisfied: urllib3>=1.21.1 in /usr/local/lib/python3.12/dist-packages (from qiskit_ibm_runtime==0.41.1) (2.5.0)\n",
            "Requirement already satisfied: python-dateutil>=2.8.0 in /usr/local/lib/python3.12/dist-packages (from qiskit_ibm_runtime==0.41.1) (2.9.0.post0)\n",
            "Requirement already satisfied: ibm-platform-services>=0.22.6 in /usr/local/lib/python3.12/dist-packages (from qiskit_ibm_runtime==0.41.1) (0.69.0)\n",
            "Requirement already satisfied: pydantic>=2.5.0 in /usr/local/lib/python3.12/dist-packages (from qiskit_ibm_runtime==0.41.1) (2.11.10)\n",
            "Requirement already satisfied: qiskit>=1.4.1 in /usr/local/lib/python3.12/dist-packages (from qiskit_ibm_runtime==0.41.1) (2.2.0)\n",
            "Requirement already satisfied: packaging in /usr/local/lib/python3.12/dist-packages (from qiskit_ibm_runtime==0.41.1) (25.0)\n",
            "Requirement already satisfied: ibm_cloud_sdk_core<4.0.0,>=3.24.2 in /usr/local/lib/python3.12/dist-packages (from ibm-platform-services>=0.22.6->qiskit_ibm_runtime==0.41.1) (3.24.2)\n",
            "Requirement already satisfied: PyJWT<3.0.0,>=2.10.1 in /usr/local/lib/python3.12/dist-packages (from ibm_cloud_sdk_core<4.0.0,>=3.24.2->ibm-platform-services>=0.22.6->qiskit_ibm_runtime==0.41.1) (2.10.1)\n",
            "Requirement already satisfied: six>=1.5 in /usr/local/lib/python3.12/dist-packages (from python-dateutil>=2.8.0->qiskit_ibm_runtime==0.41.1) (1.17.0)\n",
            "Requirement already satisfied: charset_normalizer<4,>=2 in /usr/local/lib/python3.12/dist-packages (from requests>=2.19->qiskit_ibm_runtime==0.41.1) (3.4.4)\n",
            "Requirement already satisfied: idna<4,>=2.5 in /usr/local/lib/python3.12/dist-packages (from requests>=2.19->qiskit_ibm_runtime==0.41.1) (3.11)\n",
            "Requirement already satisfied: certifi>=2017.4.17 in /usr/local/lib/python3.12/dist-packages (from requests>=2.19->qiskit_ibm_runtime==0.41.1) (2024.7.4)\n",
            "Requirement already satisfied: annotated-types>=0.6.0 in /usr/local/lib/python3.12/dist-packages (from pydantic>=2.5.0->qiskit_ibm_runtime==0.41.1) (0.7.0)\n",
            "Requirement already satisfied: pydantic-core==2.33.2 in /usr/local/lib/python3.12/dist-packages (from pydantic>=2.5.0->qiskit_ibm_runtime==0.41.1) (2.33.2)\n",
            "Requirement already satisfied: typing-extensions>=4.12.2 in /usr/local/lib/python3.12/dist-packages (from pydantic>=2.5.0->qiskit_ibm_runtime==0.41.1) (4.15.0)\n",
            "Requirement already satisfied: typing-inspection>=0.4.0 in /usr/local/lib/python3.12/dist-packages (from pydantic>=2.5.0->qiskit_ibm_runtime==0.41.1) (0.4.2)\n",
            "Requirement already satisfied: rustworkx>=0.15.0 in /usr/local/lib/python3.12/dist-packages (from qiskit>=1.4.1->qiskit_ibm_runtime==0.41.1) (0.17.1)\n",
            "Requirement already satisfied: scipy>=1.5 in /usr/local/lib/python3.12/dist-packages (from qiskit>=1.4.1->qiskit_ibm_runtime==0.41.1) (1.16.2)\n",
            "Requirement already satisfied: dill>=0.3 in /usr/local/lib/python3.12/dist-packages (from qiskit>=1.4.1->qiskit_ibm_runtime==0.41.1) (0.3.8)\n",
            "Requirement already satisfied: stevedore>=3.0.0 in /usr/local/lib/python3.12/dist-packages (from qiskit>=1.4.1->qiskit_ibm_runtime==0.41.1) (5.5.0)\n",
            "Requirement already satisfied: cryptography>=1.3 in /usr/local/lib/python3.12/dist-packages (from requests-ntlm>=1.1.0->qiskit_ibm_runtime==0.41.1) (43.0.3)\n",
            "Requirement already satisfied: pyspnego>=0.4.0 in /usr/local/lib/python3.12/dist-packages (from requests-ntlm>=1.1.0->qiskit_ibm_runtime==0.41.1) (0.12.0)\n",
            "Requirement already satisfied: cffi>=1.12 in /usr/local/lib/python3.12/dist-packages (from cryptography>=1.3->requests-ntlm>=1.1.0->qiskit_ibm_runtime==0.41.1) (2.0.0)\n",
            "Requirement already satisfied: pycparser in /usr/local/lib/python3.12/dist-packages (from cffi>=1.12->cryptography>=1.3->requests-ntlm>=1.1.0->qiskit_ibm_runtime==0.41.1) (2.23)\n",
            "Requirement already satisfied: qiskit_ibm_transpiler==0.14.3 in /usr/local/lib/python3.12/dist-packages (0.14.3)\n",
            "Requirement already satisfied: qiskit>=1.4.2 in /usr/local/lib/python3.12/dist-packages (from qiskit_ibm_transpiler==0.14.3) (2.2.0)\n",
            "Requirement already satisfied: backoff~=2.0 in /usr/local/lib/python3.12/dist-packages (from qiskit_ibm_transpiler==0.14.3) (2.2.1)\n",
            "Requirement already satisfied: qiskit-qasm3-import~=0.4 in /usr/local/lib/python3.12/dist-packages (from qiskit_ibm_transpiler==0.14.3) (0.6.0)\n",
            "Requirement already satisfied: requests~=2.0 in /usr/local/lib/python3.12/dist-packages (from qiskit_ibm_transpiler==0.14.3) (2.32.4)\n",
            "Requirement already satisfied: networkx==2.8.5 in /usr/local/lib/python3.12/dist-packages (from qiskit_ibm_transpiler==0.14.3) (2.8.5)\n",
            "Requirement already satisfied: qiskit-ibm-runtime~=0.41.0 in /usr/local/lib/python3.12/dist-packages (from qiskit_ibm_transpiler==0.14.3) (0.41.1)\n",
            "Requirement already satisfied: qiskit-serverless~=0.26.0 in /usr/local/lib/python3.12/dist-packages (from qiskit_ibm_transpiler==0.14.3) (0.26.1)\n",
            "Requirement already satisfied: requests-ntlm>=1.1.0 in /usr/local/lib/python3.12/dist-packages (from qiskit-ibm-runtime~=0.41.0->qiskit_ibm_transpiler==0.14.3) (1.3.0)\n",
            "Requirement already satisfied: numpy>=1.13 in /usr/local/lib/python3.12/dist-packages (from qiskit-ibm-runtime~=0.41.0->qiskit_ibm_transpiler==0.14.3) (2.3.4)\n",
            "Requirement already satisfied: urllib3>=1.21.1 in /usr/local/lib/python3.12/dist-packages (from qiskit-ibm-runtime~=0.41.0->qiskit_ibm_transpiler==0.14.3) (2.5.0)\n",
            "Requirement already satisfied: python-dateutil>=2.8.0 in /usr/local/lib/python3.12/dist-packages (from qiskit-ibm-runtime~=0.41.0->qiskit_ibm_transpiler==0.14.3) (2.9.0.post0)\n",
            "Requirement already satisfied: ibm-platform-services>=0.22.6 in /usr/local/lib/python3.12/dist-packages (from qiskit-ibm-runtime~=0.41.0->qiskit_ibm_transpiler==0.14.3) (0.69.0)\n",
            "Requirement already satisfied: pydantic>=2.5.0 in /usr/local/lib/python3.12/dist-packages (from qiskit-ibm-runtime~=0.41.0->qiskit_ibm_transpiler==0.14.3) (2.11.10)\n",
            "Requirement already satisfied: packaging in /usr/local/lib/python3.12/dist-packages (from qiskit-ibm-runtime~=0.41.0->qiskit_ibm_transpiler==0.14.3) (25.0)\n",
            "Requirement already satisfied: openqasm3<2.0,>=0.4 in /usr/local/lib/python3.12/dist-packages (from openqasm3[parser]<2.0,>=0.4->qiskit-qasm3-import~=0.4->qiskit_ibm_transpiler==0.14.3) (1.0.1)\n",
            "Requirement already satisfied: antlr4_python3_runtime<4.14,>=4.7 in /usr/local/lib/python3.12/dist-packages (from openqasm3[parser]<2.0,>=0.4->qiskit-qasm3-import~=0.4->qiskit_ibm_transpiler==0.14.3) (4.9.3)\n",
            "Requirement already satisfied: ray<3,>=2.30 in /usr/local/lib/python3.12/dist-packages (from ray[default]<3,>=2.30->qiskit-serverless~=0.26.0->qiskit_ibm_transpiler==0.14.3) (2.50.1)\n",
            "Requirement already satisfied: importlib-metadata<9,>=5.2.0 in /usr/local/lib/python3.12/dist-packages (from qiskit-serverless~=0.26.0->qiskit_ibm_transpiler==0.14.3) (8.4.0)\n",
            "Requirement already satisfied: cloudpickle==2.2.1 in /usr/local/lib/python3.12/dist-packages (from qiskit-serverless~=0.26.0->qiskit_ibm_transpiler==0.14.3) (2.2.1)\n",
            "Requirement already satisfied: tqdm<5,>=4.66.3 in /usr/local/lib/python3.12/dist-packages (from qiskit-serverless~=0.26.0->qiskit_ibm_transpiler==0.14.3) (4.67.1)\n",
            "Requirement already satisfied: opentelemetry-api<1.33.1,>=1.18.0 in /usr/local/lib/python3.12/dist-packages (from qiskit-serverless~=0.26.0->qiskit_ibm_transpiler==0.14.3) (1.33.0)\n",
            "Requirement already satisfied: opentelemetry-sdk<1.33.1,>=1.18.0 in /usr/local/lib/python3.12/dist-packages (from qiskit-serverless~=0.26.0->qiskit_ibm_transpiler==0.14.3) (1.33.0)\n",
            "Requirement already satisfied: opentelemetry-exporter-otlp-proto-grpc<1.33.1,>=1.18.0 in /usr/local/lib/python3.12/dist-packages (from qiskit-serverless~=0.26.0->qiskit_ibm_transpiler==0.14.3) (1.33.0)\n",
            "Requirement already satisfied: opentelemetry-instrumentation-requests>=0.40b0 in /usr/local/lib/python3.12/dist-packages (from qiskit-serverless~=0.26.0->qiskit_ibm_transpiler==0.14.3) (0.54b0)\n",
            "Requirement already satisfied: ipywidgets<9,>=8.1.6 in /usr/local/lib/python3.12/dist-packages (from qiskit-serverless~=0.26.0->qiskit_ibm_transpiler==0.14.3) (8.1.7)\n",
            "Requirement already satisfied: ipython<9,>=8.10.0 in /usr/local/lib/python3.12/dist-packages (from qiskit-serverless~=0.26.0->qiskit_ibm_transpiler==0.14.3) (8.37.0)\n",
            "Requirement already satisfied: pyarrow<19,>=16.0.0 in /usr/local/lib/python3.12/dist-packages (from qiskit-serverless~=0.26.0->qiskit_ibm_transpiler==0.14.3) (18.1.0)\n",
            "Requirement already satisfied: aiohttp<4,>=3.10.0 in /usr/local/lib/python3.12/dist-packages (from qiskit-serverless~=0.26.0->qiskit_ibm_transpiler==0.14.3) (3.13.1)\n",
            "Requirement already satisfied: zipp==3.19.1 in /usr/local/lib/python3.12/dist-packages (from qiskit-serverless~=0.26.0->qiskit_ibm_transpiler==0.14.3) (3.19.1)\n",
            "Requirement already satisfied: certifi==2024.7.4 in /usr/local/lib/python3.12/dist-packages (from qiskit-serverless~=0.26.0->qiskit_ibm_transpiler==0.14.3) (2024.7.4)\n",
            "Requirement already satisfied: aiohappyeyeballs>=2.5.0 in /usr/local/lib/python3.12/dist-packages (from aiohttp<4,>=3.10.0->qiskit-serverless~=0.26.0->qiskit_ibm_transpiler==0.14.3) (2.6.1)\n",
            "Requirement already satisfied: aiosignal>=1.4.0 in /usr/local/lib/python3.12/dist-packages (from aiohttp<4,>=3.10.0->qiskit-serverless~=0.26.0->qiskit_ibm_transpiler==0.14.3) (1.4.0)\n",
            "Requirement already satisfied: attrs>=17.3.0 in /usr/local/lib/python3.12/dist-packages (from aiohttp<4,>=3.10.0->qiskit-serverless~=0.26.0->qiskit_ibm_transpiler==0.14.3) (25.4.0)\n",
            "Requirement already satisfied: frozenlist>=1.1.1 in /usr/local/lib/python3.12/dist-packages (from aiohttp<4,>=3.10.0->qiskit-serverless~=0.26.0->qiskit_ibm_transpiler==0.14.3) (1.8.0)\n",
            "Requirement already satisfied: multidict<7.0,>=4.5 in /usr/local/lib/python3.12/dist-packages (from aiohttp<4,>=3.10.0->qiskit-serverless~=0.26.0->qiskit_ibm_transpiler==0.14.3) (6.7.0)\n",
            "Requirement already satisfied: propcache>=0.2.0 in /usr/local/lib/python3.12/dist-packages (from aiohttp<4,>=3.10.0->qiskit-serverless~=0.26.0->qiskit_ibm_transpiler==0.14.3) (0.4.1)\n",
            "Requirement already satisfied: yarl<2.0,>=1.17.0 in /usr/local/lib/python3.12/dist-packages (from aiohttp<4,>=3.10.0->qiskit-serverless~=0.26.0->qiskit_ibm_transpiler==0.14.3) (1.22.0)\n",
            "Requirement already satisfied: decorator in /usr/local/lib/python3.12/dist-packages (from ipython<9,>=8.10.0->qiskit-serverless~=0.26.0->qiskit_ibm_transpiler==0.14.3) (4.4.2)\n",
            "Requirement already satisfied: jedi>=0.16 in /usr/local/lib/python3.12/dist-packages (from ipython<9,>=8.10.0->qiskit-serverless~=0.26.0->qiskit_ibm_transpiler==0.14.3) (0.19.2)\n",
            "Requirement already satisfied: matplotlib-inline in /usr/local/lib/python3.12/dist-packages (from ipython<9,>=8.10.0->qiskit-serverless~=0.26.0->qiskit_ibm_transpiler==0.14.3) (0.1.7)\n",
            "Requirement already satisfied: pexpect>4.3 in /usr/local/lib/python3.12/dist-packages (from ipython<9,>=8.10.0->qiskit-serverless~=0.26.0->qiskit_ibm_transpiler==0.14.3) (4.9.0)\n",
            "Requirement already satisfied: prompt_toolkit<3.1.0,>=3.0.41 in /usr/local/lib/python3.12/dist-packages (from ipython<9,>=8.10.0->qiskit-serverless~=0.26.0->qiskit_ibm_transpiler==0.14.3) (3.0.52)\n",
            "Requirement already satisfied: pygments>=2.4.0 in /usr/local/lib/python3.12/dist-packages (from ipython<9,>=8.10.0->qiskit-serverless~=0.26.0->qiskit_ibm_transpiler==0.14.3) (2.19.2)\n",
            "Requirement already satisfied: stack_data in /usr/local/lib/python3.12/dist-packages (from ipython<9,>=8.10.0->qiskit-serverless~=0.26.0->qiskit_ibm_transpiler==0.14.3) (0.6.3)\n",
            "Requirement already satisfied: traitlets>=5.13.0 in /usr/local/lib/python3.12/dist-packages (from ipython<9,>=8.10.0->qiskit-serverless~=0.26.0->qiskit_ibm_transpiler==0.14.3) (5.14.3)\n",
            "Requirement already satisfied: comm>=0.1.3 in /usr/local/lib/python3.12/dist-packages (from ipywidgets<9,>=8.1.6->qiskit-serverless~=0.26.0->qiskit_ibm_transpiler==0.14.3) (0.2.3)\n",
            "Requirement already satisfied: widgetsnbextension~=4.0.14 in /usr/local/lib/python3.12/dist-packages (from ipywidgets<9,>=8.1.6->qiskit-serverless~=0.26.0->qiskit_ibm_transpiler==0.14.3) (4.0.14)\n",
            "Requirement already satisfied: jupyterlab_widgets~=3.0.15 in /usr/local/lib/python3.12/dist-packages (from ipywidgets<9,>=8.1.6->qiskit-serverless~=0.26.0->qiskit_ibm_transpiler==0.14.3) (3.0.15)\n",
            "Requirement already satisfied: deprecated>=1.2.6 in /usr/local/lib/python3.12/dist-packages (from opentelemetry-api<1.33.1,>=1.18.0->qiskit-serverless~=0.26.0->qiskit_ibm_transpiler==0.14.3) (1.2.18)\n",
            "Requirement already satisfied: googleapis-common-protos~=1.52 in /usr/local/lib/python3.12/dist-packages (from opentelemetry-exporter-otlp-proto-grpc<1.33.1,>=1.18.0->qiskit-serverless~=0.26.0->qiskit_ibm_transpiler==0.14.3) (1.71.0)\n",
            "Requirement already satisfied: grpcio<2.0.0,>=1.63.2 in /usr/local/lib/python3.12/dist-packages (from opentelemetry-exporter-otlp-proto-grpc<1.33.1,>=1.18.0->qiskit-serverless~=0.26.0->qiskit_ibm_transpiler==0.14.3) (1.75.1)\n",
            "Requirement already satisfied: opentelemetry-exporter-otlp-proto-common==1.33.0 in /usr/local/lib/python3.12/dist-packages (from opentelemetry-exporter-otlp-proto-grpc<1.33.1,>=1.18.0->qiskit-serverless~=0.26.0->qiskit_ibm_transpiler==0.14.3) (1.33.0)\n",
            "Requirement already satisfied: opentelemetry-proto==1.33.0 in /usr/local/lib/python3.12/dist-packages (from opentelemetry-exporter-otlp-proto-grpc<1.33.1,>=1.18.0->qiskit-serverless~=0.26.0->qiskit_ibm_transpiler==0.14.3) (1.33.0)\n",
            "Requirement already satisfied: protobuf<6.0,>=5.0 in /usr/local/lib/python3.12/dist-packages (from opentelemetry-proto==1.33.0->opentelemetry-exporter-otlp-proto-grpc<1.33.1,>=1.18.0->qiskit-serverless~=0.26.0->qiskit_ibm_transpiler==0.14.3) (5.29.5)\n",
            "Requirement already satisfied: typing-extensions~=4.12 in /usr/local/lib/python3.12/dist-packages (from grpcio<2.0.0,>=1.63.2->opentelemetry-exporter-otlp-proto-grpc<1.33.1,>=1.18.0->qiskit-serverless~=0.26.0->qiskit_ibm_transpiler==0.14.3) (4.15.0)\n",
            "Requirement already satisfied: opentelemetry-semantic-conventions==0.54b0 in /usr/local/lib/python3.12/dist-packages (from opentelemetry-sdk<1.33.1,>=1.18.0->qiskit-serverless~=0.26.0->qiskit_ibm_transpiler==0.14.3) (0.54b0)\n",
            "Requirement already satisfied: wcwidth in /usr/local/lib/python3.12/dist-packages (from prompt_toolkit<3.1.0,>=3.0.41->ipython<9,>=8.10.0->qiskit-serverless~=0.26.0->qiskit_ibm_transpiler==0.14.3) (0.2.14)\n",
            "Requirement already satisfied: rustworkx>=0.15.0 in /usr/local/lib/python3.12/dist-packages (from qiskit>=1.4.2->qiskit_ibm_transpiler==0.14.3) (0.17.1)\n",
            "Requirement already satisfied: scipy>=1.5 in /usr/local/lib/python3.12/dist-packages (from qiskit>=1.4.2->qiskit_ibm_transpiler==0.14.3) (1.16.2)\n",
            "Requirement already satisfied: dill>=0.3 in /usr/local/lib/python3.12/dist-packages (from qiskit>=1.4.2->qiskit_ibm_transpiler==0.14.3) (0.3.8)\n",
            "Requirement already satisfied: stevedore>=3.0.0 in /usr/local/lib/python3.12/dist-packages (from qiskit>=1.4.2->qiskit_ibm_transpiler==0.14.3) (5.5.0)\n",
            "Requirement already satisfied: symengine<0.14,>=0.11 in /usr/local/lib/python3.12/dist-packages (from qiskit[qpy-compat]<3,>=1.4->qiskit-serverless~=0.26.0->qiskit_ibm_transpiler==0.14.3) (0.13.0)\n",
            "Requirement already satisfied: sympy>1.3 in /usr/local/lib/python3.12/dist-packages (from qiskit[qpy-compat]<3,>=1.4->qiskit-serverless~=0.26.0->qiskit_ibm_transpiler==0.14.3) (1.13.3)\n",
            "Requirement already satisfied: click!=8.3.0,>=7.0 in /usr/local/lib/python3.12/dist-packages (from ray<3,>=2.30->ray[default]<3,>=2.30->qiskit-serverless~=0.26.0->qiskit_ibm_transpiler==0.14.3) (8.2.1)\n",
            "Requirement already satisfied: filelock in /usr/local/lib/python3.12/dist-packages (from ray<3,>=2.30->ray[default]<3,>=2.30->qiskit-serverless~=0.26.0->qiskit_ibm_transpiler==0.14.3) (3.20.0)\n",
            "Requirement already satisfied: jsonschema in /usr/local/lib/python3.12/dist-packages (from ray<3,>=2.30->ray[default]<3,>=2.30->qiskit-serverless~=0.26.0->qiskit_ibm_transpiler==0.14.3) (4.25.1)\n",
            "Requirement already satisfied: msgpack<2.0.0,>=1.0.0 in /usr/local/lib/python3.12/dist-packages (from ray<3,>=2.30->ray[default]<3,>=2.30->qiskit-serverless~=0.26.0->qiskit_ibm_transpiler==0.14.3) (1.1.2)\n",
            "Requirement already satisfied: pyyaml in /usr/local/lib/python3.12/dist-packages (from ray<3,>=2.30->ray[default]<3,>=2.30->qiskit-serverless~=0.26.0->qiskit_ibm_transpiler==0.14.3) (6.0.3)\n",
            "Requirement already satisfied: aiohttp_cors in /usr/local/lib/python3.12/dist-packages (from ray[default]<3,>=2.30->qiskit-serverless~=0.26.0->qiskit_ibm_transpiler==0.14.3) (0.8.1)\n",
            "Requirement already satisfied: colorful in /usr/local/lib/python3.12/dist-packages (from ray[default]<3,>=2.30->qiskit-serverless~=0.26.0->qiskit_ibm_transpiler==0.14.3) (0.5.7)\n",
            "Requirement already satisfied: py-spy>=0.4.0 in /usr/local/lib/python3.12/dist-packages (from ray[default]<3,>=2.30->qiskit-serverless~=0.26.0->qiskit_ibm_transpiler==0.14.3) (0.4.1)\n",
            "Requirement already satisfied: opencensus in /usr/local/lib/python3.12/dist-packages (from ray[default]<3,>=2.30->qiskit-serverless~=0.26.0->qiskit_ibm_transpiler==0.14.3) (0.11.4)\n",
            "Requirement already satisfied: opentelemetry-exporter-prometheus in /usr/local/lib/python3.12/dist-packages (from ray[default]<3,>=2.30->qiskit-serverless~=0.26.0->qiskit_ibm_transpiler==0.14.3) (0.54b0)\n",
            "Requirement already satisfied: prometheus_client>=0.7.1 in /usr/local/lib/python3.12/dist-packages (from ray[default]<3,>=2.30->qiskit-serverless~=0.26.0->qiskit_ibm_transpiler==0.14.3) (0.23.1)\n",
            "Requirement already satisfied: smart_open in /usr/local/lib/python3.12/dist-packages (from ray[default]<3,>=2.30->qiskit-serverless~=0.26.0->qiskit_ibm_transpiler==0.14.3) (7.4.0)\n",
            "Requirement already satisfied: virtualenv!=20.21.1,>=20.0.24 in /usr/local/lib/python3.12/dist-packages (from ray[default]<3,>=2.30->qiskit-serverless~=0.26.0->qiskit_ibm_transpiler==0.14.3) (20.35.3)\n",
            "Requirement already satisfied: annotated-types>=0.6.0 in /usr/local/lib/python3.12/dist-packages (from pydantic>=2.5.0->qiskit-ibm-runtime~=0.41.0->qiskit_ibm_transpiler==0.14.3) (0.7.0)\n",
            "Requirement already satisfied: pydantic-core==2.33.2 in /usr/local/lib/python3.12/dist-packages (from pydantic>=2.5.0->qiskit-ibm-runtime~=0.41.0->qiskit_ibm_transpiler==0.14.3) (2.33.2)\n",
            "Requirement already satisfied: typing-inspection>=0.4.0 in /usr/local/lib/python3.12/dist-packages (from pydantic>=2.5.0->qiskit-ibm-runtime~=0.41.0->qiskit_ibm_transpiler==0.14.3) (0.4.2)\n",
            "Requirement already satisfied: charset_normalizer<4,>=2 in /usr/local/lib/python3.12/dist-packages (from requests~=2.0->qiskit_ibm_transpiler==0.14.3) (3.4.4)\n",
            "Requirement already satisfied: idna<4,>=2.5 in /usr/local/lib/python3.12/dist-packages (from requests~=2.0->qiskit_ibm_transpiler==0.14.3) (3.11)\n",
            "Requirement already satisfied: wrapt<2,>=1.10 in /usr/local/lib/python3.12/dist-packages (from deprecated>=1.2.6->opentelemetry-api<1.33.1,>=1.18.0->qiskit-serverless~=0.26.0->qiskit_ibm_transpiler==0.14.3) (1.17.3)\n",
            "Requirement already satisfied: ibm_cloud_sdk_core<4.0.0,>=3.24.2 in /usr/local/lib/python3.12/dist-packages (from ibm-platform-services>=0.22.6->qiskit-ibm-runtime~=0.41.0->qiskit_ibm_transpiler==0.14.3) (3.24.2)\n",
            "Requirement already satisfied: PyJWT<3.0.0,>=2.10.1 in /usr/local/lib/python3.12/dist-packages (from ibm_cloud_sdk_core<4.0.0,>=3.24.2->ibm-platform-services>=0.22.6->qiskit-ibm-runtime~=0.41.0->qiskit_ibm_transpiler==0.14.3) (2.10.1)\n",
            "Requirement already satisfied: six>=1.5 in /usr/local/lib/python3.12/dist-packages (from python-dateutil>=2.8.0->qiskit-ibm-runtime~=0.41.0->qiskit_ibm_transpiler==0.14.3) (1.17.0)\n",
            "Requirement already satisfied: parso<0.9.0,>=0.8.4 in /usr/local/lib/python3.12/dist-packages (from jedi>=0.16->ipython<9,>=8.10.0->qiskit-serverless~=0.26.0->qiskit_ibm_transpiler==0.14.3) (0.8.5)\n",
            "Requirement already satisfied: opentelemetry-instrumentation==0.54b0 in /usr/local/lib/python3.12/dist-packages (from opentelemetry-instrumentation-requests>=0.40b0->qiskit-serverless~=0.26.0->qiskit_ibm_transpiler==0.14.3) (0.54b0)\n",
            "Requirement already satisfied: opentelemetry-util-http==0.54b0 in /usr/local/lib/python3.12/dist-packages (from opentelemetry-instrumentation-requests>=0.40b0->qiskit-serverless~=0.26.0->qiskit_ibm_transpiler==0.14.3) (0.54b0)\n",
            "Requirement already satisfied: ptyprocess>=0.5 in /usr/local/lib/python3.12/dist-packages (from pexpect>4.3->ipython<9,>=8.10.0->qiskit-serverless~=0.26.0->qiskit_ibm_transpiler==0.14.3) (0.7.0)\n",
            "Requirement already satisfied: cryptography>=1.3 in /usr/local/lib/python3.12/dist-packages (from requests-ntlm>=1.1.0->qiskit-ibm-runtime~=0.41.0->qiskit_ibm_transpiler==0.14.3) (43.0.3)\n",
            "Requirement already satisfied: pyspnego>=0.4.0 in /usr/local/lib/python3.12/dist-packages (from requests-ntlm>=1.1.0->qiskit-ibm-runtime~=0.41.0->qiskit_ibm_transpiler==0.14.3) (0.12.0)\n",
            "Requirement already satisfied: cffi>=1.12 in /usr/local/lib/python3.12/dist-packages (from cryptography>=1.3->requests-ntlm>=1.1.0->qiskit-ibm-runtime~=0.41.0->qiskit_ibm_transpiler==0.14.3) (2.0.0)\n",
            "Requirement already satisfied: pycparser in /usr/local/lib/python3.12/dist-packages (from cffi>=1.12->cryptography>=1.3->requests-ntlm>=1.1.0->qiskit-ibm-runtime~=0.41.0->qiskit_ibm_transpiler==0.14.3) (2.23)\n",
            "Requirement already satisfied: mpmath<1.4,>=1.1.0 in /usr/local/lib/python3.12/dist-packages (from sympy>1.3->qiskit[qpy-compat]<3,>=1.4->qiskit-serverless~=0.26.0->qiskit_ibm_transpiler==0.14.3) (1.3.0)\n",
            "Requirement already satisfied: distlib<1,>=0.3.7 in /usr/local/lib/python3.12/dist-packages (from virtualenv!=20.21.1,>=20.0.24->ray[default]<3,>=2.30->qiskit-serverless~=0.26.0->qiskit_ibm_transpiler==0.14.3) (0.4.0)\n",
            "Requirement already satisfied: platformdirs<5,>=3.9.1 in /usr/local/lib/python3.12/dist-packages (from virtualenv!=20.21.1,>=20.0.24->ray[default]<3,>=2.30->qiskit-serverless~=0.26.0->qiskit_ibm_transpiler==0.14.3) (4.5.0)\n",
            "Requirement already satisfied: jsonschema-specifications>=2023.03.6 in /usr/local/lib/python3.12/dist-packages (from jsonschema->ray<3,>=2.30->ray[default]<3,>=2.30->qiskit-serverless~=0.26.0->qiskit_ibm_transpiler==0.14.3) (2025.9.1)\n",
            "Requirement already satisfied: referencing>=0.28.4 in /usr/local/lib/python3.12/dist-packages (from jsonschema->ray<3,>=2.30->ray[default]<3,>=2.30->qiskit-serverless~=0.26.0->qiskit_ibm_transpiler==0.14.3) (0.37.0)\n",
            "Requirement already satisfied: rpds-py>=0.7.1 in /usr/local/lib/python3.12/dist-packages (from jsonschema->ray<3,>=2.30->ray[default]<3,>=2.30->qiskit-serverless~=0.26.0->qiskit_ibm_transpiler==0.14.3) (0.27.1)\n",
            "Requirement already satisfied: opencensus-context>=0.1.3 in /usr/local/lib/python3.12/dist-packages (from opencensus->ray[default]<3,>=2.30->qiskit-serverless~=0.26.0->qiskit_ibm_transpiler==0.14.3) (0.1.3)\n",
            "Requirement already satisfied: google-api-core<3.0.0,>=1.0.0 in /usr/local/lib/python3.12/dist-packages (from opencensus->ray[default]<3,>=2.30->qiskit-serverless~=0.26.0->qiskit_ibm_transpiler==0.14.3) (2.26.0)\n",
            "Requirement already satisfied: proto-plus<2.0.0,>=1.22.3 in /usr/local/lib/python3.12/dist-packages (from google-api-core<3.0.0,>=1.0.0->opencensus->ray[default]<3,>=2.30->qiskit-serverless~=0.26.0->qiskit_ibm_transpiler==0.14.3) (1.26.1)\n",
            "Requirement already satisfied: google-auth<3.0.0,>=2.14.1 in /usr/local/lib/python3.12/dist-packages (from google-api-core<3.0.0,>=1.0.0->opencensus->ray[default]<3,>=2.30->qiskit-serverless~=0.26.0->qiskit_ibm_transpiler==0.14.3) (2.38.0)\n",
            "Requirement already satisfied: cachetools<6.0,>=2.0.0 in /usr/local/lib/python3.12/dist-packages (from google-auth<3.0.0,>=2.14.1->google-api-core<3.0.0,>=1.0.0->opencensus->ray[default]<3,>=2.30->qiskit-serverless~=0.26.0->qiskit_ibm_transpiler==0.14.3) (5.5.2)\n",
            "Requirement already satisfied: pyasn1-modules>=0.2.1 in /usr/local/lib/python3.12/dist-packages (from google-auth<3.0.0,>=2.14.1->google-api-core<3.0.0,>=1.0.0->opencensus->ray[default]<3,>=2.30->qiskit-serverless~=0.26.0->qiskit_ibm_transpiler==0.14.3) (0.4.2)\n",
            "Requirement already satisfied: rsa<5,>=3.1.4 in /usr/local/lib/python3.12/dist-packages (from google-auth<3.0.0,>=2.14.1->google-api-core<3.0.0,>=1.0.0->opencensus->ray[default]<3,>=2.30->qiskit-serverless~=0.26.0->qiskit_ibm_transpiler==0.14.3) (4.9.1)\n",
            "Requirement already satisfied: pyasn1>=0.1.3 in /usr/local/lib/python3.12/dist-packages (from rsa<5,>=3.1.4->google-auth<3.0.0,>=2.14.1->google-api-core<3.0.0,>=1.0.0->opencensus->ray[default]<3,>=2.30->qiskit-serverless~=0.26.0->qiskit_ibm_transpiler==0.14.3) (0.6.1)\n",
            "Requirement already satisfied: executing>=1.2.0 in /usr/local/lib/python3.12/dist-packages (from stack_data->ipython<9,>=8.10.0->qiskit-serverless~=0.26.0->qiskit_ibm_transpiler==0.14.3) (2.2.1)\n",
            "Requirement already satisfied: asttokens>=2.1.0 in /usr/local/lib/python3.12/dist-packages (from stack_data->ipython<9,>=8.10.0->qiskit-serverless~=0.26.0->qiskit_ibm_transpiler==0.14.3) (3.0.0)\n",
            "Requirement already satisfied: pure-eval in /usr/local/lib/python3.12/dist-packages (from stack_data->ipython<9,>=8.10.0->qiskit-serverless~=0.26.0->qiskit_ibm_transpiler==0.14.3) (0.2.3)\n"
          ]
        }
      ],
      "source": [
        "# Uncomment to install the necessary packages\n",
        "\n",
        "%pip install --upgrade pip\n",
        "%pip install numpy==2.3.4\n",
        "%pip install scipy==1.16.2\n",
        "%pip install matplotlib==3.10.7\n",
        "%pip install jupyter\n",
        "%pip install qiskit[visualization]==2.2\n",
        "# # For Local Linux or Mac, you can use the following command:\n",
        "# # %pip install 'qiskit[visualization]'\n",
        "%pip install qiskit_algorithms==0.4.0\n",
        "%pip install qiskit_aer==0.17.2\n",
        "%pip install qiskit_ibm_runtime==0.41.1\n",
        "%pip install qiskit_ibm_transpiler==0.14.3"
      ]
    },
    {
      "cell_type": "markdown",
      "metadata": {
        "id": "jsOUWVgu1hsU"
      },
      "source": [
        "---"
      ]
    },
    {
      "cell_type": "markdown",
      "metadata": {
        "id": "2clrSzef1hsU"
      },
      "source": [
        "## 1.Introduction\n",
        "\n",
        "This introduction and gives a brief overview of the machine learning idea that is considered:\n",
        "\n",
        "If not of machine learning, everyone has heard of artificial intelligence. From humbler origins, to the current large language models, machine learning has permeated everything and become widespread. We will focus on the supervised learning paradigm. Simplifying, we look to solve a problem where we want to assign to each input $x$ some corresponding output $y = f(x)$. In fact this is a very general way to see any problem, so we note two distinct examples:\n",
        "- An example is finding how many prime factors an integer has. This is a simple problem in the sense that we **know** how to express the $f$ that solves it, although that does not mean it is easy to do so efficiently. In this case, it has only been after Shor's quantum algorithm that this problem, previously thought of as computationally hard, has been \"broken\".\n",
        "- A much different example is the task of classifying pictures of cats and dogs. In this case we know, or rather we assume, that there is some function that solves the problem because **we** can solve it. We can manually look at pictures and tell if it contains a cat or a dog. In spite of this, no one is able to come up with a simple and direct computer algorithm to solve this task.\n",
        "\n",
        "It is for these latter kind of problems where supervised learning shines the most. The fundamental principle is that instead of trying to find this goal function $f$ directly, we take a generic parametrized guess. Now, exploiting that we can previously prepare some sample inputs/outputs (such as prelabelled cats and dogs pictures), we tweak our parameters to find the best fit. In fact, you have already done supervised learning before, as taking a linear regression is technically just that, where the guess (ansatz) is a linear function. Similarly, just as a linear regression will not directly work for a non linear problem, this choice of our ansatz is important for each problem.\n",
        "\n",
        "On the other hand, quantum computing has emerged to find the physical limit of information processing, and ideas of combining it with machine learning happened soon after. There are many ways one can quantumly enhance machine learning, such as doing some computational-heavy steps on a possibly faster quantum computer. We will instead focus on using a parametrized quantum computer as ansatz for the problem solving function $f$, a so-called (abusing language) Quantum Neural Network. Your goal during this whole challenge is to design good models for quantum machine learning, which is still an ongoing research question while quantum resources are limited to perform big scale tests.\n",
        "\n",
        "First you will apply it for a classical problem, which will probably turn out bad! Even if Quantum Computers can do some tasks better, it is important to realise this is not an actually easy goal to achieve. Quantum intuition can differ a lot from classical intuition, so it is hard to come up with good designs. Finally, you will apply it for Quantum Phase Recongition.\n"
      ]
    },
    {
      "cell_type": "markdown",
      "metadata": {
        "id": "C3VqSn_-1hsU"
      },
      "source": [
        "### A simple task\n",
        "\n",
        "Consider the following classical data points, which are classified into one of two classes. Our goal is to learn to perform this classification, not by memorizing every point but rather by learning the underlying rule, so we will able to classify new points too. Below this data is generated and you can see it ploted, with two different classes\n"
      ]
    },
    {
      "cell_type": "code",
      "execution_count": null,
      "metadata": {
        "id": "ttti7OO_1hsU",
        "colab": {
          "base_uri": "https://localhost:8080/",
          "height": 447
        },
        "outputId": "acefb6af-6722-4bae-8bcf-aa78e4497710"
      },
      "outputs": [
        {
          "output_type": "execute_result",
          "data": {
            "text/plain": [
              "<matplotlib.legend.Legend at 0x7d08b5e45af0>"
            ]
          },
          "metadata": {},
          "execution_count": 101
        },
        {
          "output_type": "display_data",
          "data": {
            "text/plain": [
              "<Figure size 640x480 with 1 Axes>"
            ],
            "image/png": "[encoded data removed]"
          },
          "metadata": {}
        }
      ],
      "source": [
        "import numpy as np\n",
        "import matplotlib.pyplot as plt\n",
        "\n",
        "## Set random seed so results are repeatable\n",
        "np.random.seed(2025)\n",
        "\n",
        "## Underlying classification, outside of square or inside\n",
        "def underlying_function(R: np.ndarray) -> float:\n",
        "    return np.max(np.abs(R), axis=1) > 1/np.sqrt(2)\n",
        "\n",
        "\n",
        "## Prepare random dataset\n",
        "Nsamples = 500\n",
        "R = 2*np.random.random((Nsamples,2)) - np.array([1,1])  # Data points, uniform in [-1,1]x[-1,1]\n",
        "\n",
        "y = underlying_function(R)   # Classification\n",
        "R_class1 = R[y]                    # Class +1: Outside of square\n",
        "R_class0 = R[np.logical_not( y )]  # Class  0: Inside  of square\n",
        "plt.axis('equal')\n",
        "plt.scatter(R_class1[:,0], R_class1[:,1], label=\"Class  1\")\n",
        "plt.scatter(R_class0[:,0], R_class0[:,1], label=\"Class  0\")\n",
        "plt.legend(loc = \"upper left\")"
      ]
    },
    {
      "cell_type": "markdown",
      "metadata": {
        "id": "ZbiZy6Ht1hsV"
      },
      "source": [
        "The underlying function is simple: points inside the $\\sqrt{2}$ square are in class 0 and points outside in class 1, but we must now try to learn this in a generic way, even if this is a simple case.\n",
        "We will learn to classify points, by learning the underlying distribution, which you can see is $f(\\vec{x}) = 0$, if $\\vec{x} \\in [-\\frac{\\sqrt{2}}{2}, \\frac{\\sqrt{2}}{2}] \\times [-\\frac{\\sqrt{2}}{2}, \\frac{\\sqrt{2}}{2}] $; $\\quad 1$ otherwise. To do this, you will create a Quantum Neural Network (QNN) and later you will train it on the data."
      ]
    },
    {
      "cell_type": "markdown",
      "metadata": {
        "id": "3vQjfj9r1hsV"
      },
      "source": [
        "### 1.1 Classical to Quantum\n",
        "\n",
        "Let's create the Quantum Neural Network. First, encode your problem, your data, into the quantum computer. Do it for a very simple 2 qubit QC.\n",
        "> Hint: As an example you may use Qiskit's `qiskit.circuit.library.ZZFeatureMap` or `ZFeatureMap` to encode real numbers as angles of rotation on each qubit\n",
        "\n",
        "You will also want to define some processing layers that use trainable parameters.\n",
        "> Hint: If you do not want to manually construct them, with gates, you may use provided examples like `qiskit.circuit.library.EfficientSU2` or `qiskit.circuit.library.TwoLocal`\n",
        "\n",
        "The principle is to use gates, such as $R_Y$ rotations, where the angles will be given according to some input/tunable parameters\n",
        "\n",
        "\n",
        "**The code snippets are orientative to guide you through the problems, but feel free to come up with your own solutions**. For instance, you may mix input parameters and trainable parameters on the same gate, or intertwine gates (also called data re-reuploading) instead of applying encoding first and processing later. Some of these ideas will also be proposed later\n"
      ]
    },
    {
      "cell_type": "code",
      "execution_count": null,
      "metadata": {
        "id": "mf49BU-w1hsV"
      },
      "outputs": [],
      "source": [
        "## Your code here\n",
        "import qiskit\n",
        "from qiskit import QuantumCircuit\n",
        "from qiskit.circuit import Parameter, ParameterVector\n",
        "from qiskit.circuit.library import ZZFeatureMap, ZFeatureMap     # Example featuremap/encoding\n",
        "from qiskit.circuit.library import EfficientSU2, RealAmplitudes  # Example processing layer\n",
        "from qiskit import transpile\n",
        "# Example of parameters you may use. Default input. If using default, inputs are called x and trainable_parameters θ\n",
        "inputs = ParameterVector('x', 2)\n",
        "trainable_parameters = ParameterVector('θ', 8)\n",
        "\n",
        "# By default, you may use only 2 qubits, one for each coordinate\n",
        "\n",
        "def encoding(inputs: ParameterVector) -> QuantumCircuit:\n",
        "    \"\"\"Returns an encoder that will encode a point in space (x,y) into a quantum circuit.\n",
        "\n",
        "    Args:\n",
        "        inputs (ParameterVector): parameters corresponding to input (x, y)\n",
        "\n",
        "    Returns:\n",
        "        encoding_circuit (QuantumCircuit): Returns a QuantumCircuit, which encodes the classical data into the circuit\n",
        "    \"\"\"\n",
        "    encoding_circuit = QuantumCircuit(2)\n",
        "    encoding_circuit.ry(2*inputs[0],0)\n",
        "    encoding_circuit.ry(2*inputs[1],1)\n",
        "    return encoding_circuit\n",
        "\n",
        "\n",
        "def processing(trainable_parameters: ParameterVector) -> QuantumCircuit:\n",
        "    \"\"\"Returns a processing layer that will be trained to try to solve our problem\n",
        "\n",
        "    Args:\n",
        "        trainable_parameters (ParameterVector): parameters that will be trained to attempt to solve the problem\n",
        "\n",
        "    Returns:\n",
        "        processing_circuit (QuantumCircuit): Returns a QuantumCircuit that encodes the data into the circuit\n",
        "    \"\"\"\n",
        "    # YOUR CODE HERE\n",
        "    processing_circuit = qiskit.circuit.library.EfficientSU2(2, reps=1, entanglement='full')\n",
        "    \"\"\"processing_circuit = QuantumCircuit(2)\n",
        "    for i in range(len(trainable_parameters)):\n",
        "        processing_circuit.ry(2*trainable_parameters[i], i%2)\"\"\"\n",
        "    backend=AerSimulator()\n",
        "    qc_transpiled = transpile(processing_circuit, backend)\n",
        "    return processing_circuit"
      ]
    },
    {
      "cell_type": "markdown",
      "metadata": {
        "id": "CdKLD7tg1hsW"
      },
      "source": [
        "Here you may draw your encoding,"
      ]
    },
    {
      "cell_type": "code",
      "execution_count": null,
      "metadata": {
        "id": "K4x-WbNY1hsW",
        "colab": {
          "base_uri": "https://localhost:8080/",
          "height": 208
        },
        "outputId": "3a7babdb-e547-43c8-e4a4-6ca048fcad7d"
      },
      "outputs": [
        {
          "output_type": "execute_result",
          "data": {
            "text/plain": [
              "7"
            ]
          },
          "metadata": {},
          "execution_count": 73
        },
        {
          "output_type": "display_data",
          "data": {
            "text/plain": [
              "<Figure size 287.294x200.667 with 1 Axes>"
            ],
            "image/png": "[encoded data removed]"
          },
          "metadata": {}
        }
      ],
      "source": [
        "encoding_circuit = encoding(inputs)\n",
        "encoding_circuit.decompose().draw(output='mpl', style='textbook')\n",
        "7"
      ]
    },
    {
      "cell_type": "markdown",
      "metadata": {
        "id": "k5S0uZ8D1hsW"
      },
      "source": [
        "processing"
      ]
    },
    {
      "cell_type": "code",
      "execution_count": null,
      "metadata": {
        "id": "HKuCTPUl1hsW",
        "colab": {
          "base_uri": "https://localhost:8080/",
          "height": 208
        },
        "outputId": "e8b33841-528e-44b5-e952-688410c46f03"
      },
      "outputs": [
        {
          "output_type": "execute_result",
          "data": {
            "text/plain": [
              "7"
            ]
          },
          "metadata": {},
          "execution_count": 74
        },
        {
          "output_type": "display_data",
          "data": {
            "text/plain": [
              "<Figure size 538.128x200.667 with 1 Axes>"
            ],
            "image/png": "[encoded data removed]"
          },
          "metadata": {}
        }
      ],
      "source": [
        "processing_circuit = processing(trainable_parameters)\n",
        "processing_circuit.decompose().draw(output='mpl', style='textbook')\n",
        "7"
      ]
    },
    {
      "cell_type": "code",
      "source": [
        "from qiskit import QuantumCircuit\n",
        "from qiskit.circuit.library import YGate, UnitaryGate\n",
        "import numpy as np\n",
        "\n",
        "SYGate = UnitaryGate(YGate().power(1/2), label=r\"$\\sqrt{Y}$\")\n",
        "SYdgGate = UnitaryGate(SYGate.inverse(), label=r\"$\\sqrt{Y}^\\dag$\")\n",
        "\n",
        "def generate_1d_tfim_circuit(num_qubits, num_trotter_steps, rx_angle, num_cl_bits=0, trotter_barriers = False, layer_barriers = False):\n",
        "    if num_cl_bits == 0:\n",
        "        qc = QuantumCircuit(num_qubits)\n",
        "    else:\n",
        "        qc = QuantumCircuit(num_qubits, num_cl_bits)\n",
        "\n",
        "    for trotter_step in range(num_trotter_steps):\n",
        "        add_1d_tfim_trotter_layer(qc, rx_angle, layer_barriers)\n",
        "        if trotter_barriers:\n",
        "            qc.barrier()\n",
        "\n",
        "    return qc\n",
        "\n",
        "def add_1d_tfim_trotter_layer(qc, rx_angle, layer_barriers = False):\n",
        "    # Adding Rzz in the even layers\n",
        "    for i in range(0, qc.num_qubits-1, 2):\n",
        "        qc.sdg([i, i+1])\n",
        "        qc.append(SYGate, [i+1])\n",
        "        qc.cx(i, i+1)\n",
        "        qc.append(SYdgGate, [i+1])\n",
        "    if layer_barriers:\n",
        "        qc.barrier()\n",
        "    # Adding Rzz in the odd layers\n",
        "    for i in range(1, qc.num_qubits-1, 2):\n",
        "        qc.sdg([i, i+1])\n",
        "        qc.append(SYGate, [i+1])\n",
        "        qc.cx(i, i+1)\n",
        "        qc.append(SYdgGate, [i+1])\n",
        "    if layer_barriers:\n",
        "        qc.barrier()\n",
        "    qc.rx(rx_angle, list(range(qc.num_qubits)))\n",
        "    if layer_barriers:\n",
        "        qc.barrier()"
      ],
      "metadata": {
        "id": "a3wn95T_jHPi"
      },
      "execution_count": null,
      "outputs": []
    },
    {
      "cell_type": "code",
      "source": [
        "num_qubits = 6\n",
        "num_trotter_steps = 1\n",
        "rx_angle = 0.5 * np.pi\n",
        "\n",
        "qc = generate_1d_tfim_circuit(num_qubits, num_trotter_steps, rx_angle, trotter_barriers=True, layer_barriers=True)\n",
        "qc.draw(output='mpl', fold=-1)"
      ],
      "metadata": {
        "id": "aHVMKQYgjJV6",
        "colab": {
          "base_uri": "https://localhost:8080/",
          "height": 881
        },
        "outputId": "08fd3be8-f9a0-4511-a09e-fd27025fe6a9"
      },
      "execution_count": null,
      "outputs": [
        {
          "output_type": "execute_result",
          "data": {
            "text/plain": [
              "<Figure size 1207.22x535.111 with 1 Axes>"
            ],
            "image/png": "[encoded data removed]"
          },
          "metadata": {},
          "execution_count": 17
        },
        {
          "output_type": "display_data",
          "data": {
            "text/plain": [
              "<Figure size 1207.22x535.111 with 1 Axes>"
            ],
            "image/png": "[encoded data removed]"
          },
          "metadata": {}
        }
      ]
    },
    {
      "cell_type": "markdown",
      "metadata": {
        "id": "s8iIXR_i1hsW"
      },
      "source": [
        "and their combination:\n",
        "> Again, remember you can join encoding and processing layers differently, or mix them"
      ]
    },
    {
      "cell_type": "code",
      "execution_count": null,
      "metadata": {
        "id": "vJsTNnDm1hsW",
        "colab": {
          "base_uri": "https://localhost:8080/",
          "height": 208
        },
        "outputId": "852fb8a9-d4e6-4b86-cb7e-1719a4954c4d"
      },
      "outputs": [
        {
          "output_type": "execute_result",
          "data": {
            "text/plain": [
              "7"
            ]
          },
          "metadata": {},
          "execution_count": 75
        },
        {
          "output_type": "display_data",
          "data": {
            "text/plain": [
              "<Figure size 538.128x200.667 with 1 Axes>"
            ],
            "image/png": "[encoded data removed]"
          },
          "metadata": {}
        }
      ],
      "source": [
        "# Assign our parameters, may need to adapt\n",
        "encoding_circuit.assign_parameters(inputs, inplace=True)\n",
        "processing_circuit.assign_parameters(trainable_parameters, inplace=True)\n",
        "\n",
        "# Define our QNN Circuit\n",
        "qnn_circuit = encoding_circuit.compose(processing_circuit)\n",
        "qnn_circuit.draw(output='mpl', style='textbook')\n",
        "7"
      ]
    },
    {
      "cell_type": "markdown",
      "metadata": {
        "id": "dLHHzpQp1hsX"
      },
      "source": [
        "### 1.2. Finish your QNN"
      ]
    },
    {
      "cell_type": "markdown",
      "metadata": {
        "id": "bNT-nm6-1hsX"
      },
      "source": [
        "You have prepared a quantum circuit, parametrized, that will attempt to classify our data, you now need to define how to interpret the circuit outputs to do the classification. We can do so by reading the output, for instance the first qubit, and using and assigning the class according to the result (measuring 0 or measuring 1). Moreover, you can treat the output as the probability vector of the different outcomes, and train it accordingly.\n",
        "\n",
        "\n",
        "Keep in mind that Qiskit uses Little Endian notation (top qubit q[0] is last qubit and so on $|abc\\rangle \\to$ q[0]=c, q[1]=b, q[2]=a), and that the default sampler output is the integer representation of the bitstring you need to interpret.\n",
        "\n",
        "To do this, define a forward function, to evaluate running our QNN.\n",
        "\n",
        "> Again, all function suggestions are orientative. If you prefer you may also work with Estimators (expectation values) instead of Samplers."
      ]
    },
    {
      "cell_type": "code",
      "source": [
        "%pip install qiskit_machine_learning"
      ],
      "metadata": {
        "colab": {
          "base_uri": "https://localhost:8080/"
        },
        "id": "0jDYB-07x8MV",
        "outputId": "60a4203f-6d68-4f87-c7fd-eabb271b8794"
      },
      "execution_count": null,
      "outputs": [
        {
          "output_type": "stream",
          "name": "stdout",
          "text": [
            "Requirement already satisfied: qiskit_machine_learning in /usr/local/lib/python3.12/dist-packages (0.8.4)\n",
            "Requirement already satisfied: qiskit<2.0,>=1.0 in /usr/local/lib/python3.12/dist-packages (from qiskit_machine_learning) (1.4.5)\n",
            "Requirement already satisfied: numpy>=2.0 in /usr/local/lib/python3.12/dist-packages (from qiskit_machine_learning) (2.3.4)\n",
            "Requirement already satisfied: scipy<1.16,>=1.4 in /usr/local/lib/python3.12/dist-packages (from qiskit_machine_learning) (1.15.3)\n",
            "Requirement already satisfied: scikit-learn>=1.2 in /usr/local/lib/python3.12/dist-packages (from qiskit_machine_learning) (1.6.1)\n",
            "Requirement already satisfied: setuptools>=40.1 in /usr/local/lib/python3.12/dist-packages (from qiskit_machine_learning) (75.2.0)\n",
            "Requirement already satisfied: dill>=0.3.4 in /usr/local/lib/python3.12/dist-packages (from qiskit_machine_learning) (0.3.8)\n",
            "Requirement already satisfied: rustworkx>=0.15.0 in /usr/local/lib/python3.12/dist-packages (from qiskit<2.0,>=1.0->qiskit_machine_learning) (0.17.1)\n",
            "Requirement already satisfied: sympy>=1.3 in /usr/local/lib/python3.12/dist-packages (from qiskit<2.0,>=1.0->qiskit_machine_learning) (1.13.3)\n",
            "Requirement already satisfied: python-dateutil>=2.8.0 in /usr/local/lib/python3.12/dist-packages (from qiskit<2.0,>=1.0->qiskit_machine_learning) (2.9.0.post0)\n",
            "Requirement already satisfied: stevedore>=3.0.0 in /usr/local/lib/python3.12/dist-packages (from qiskit<2.0,>=1.0->qiskit_machine_learning) (5.5.0)\n",
            "Requirement already satisfied: typing-extensions in /usr/local/lib/python3.12/dist-packages (from qiskit<2.0,>=1.0->qiskit_machine_learning) (4.15.0)\n",
            "Requirement already satisfied: symengine<0.14,>=0.11 in /usr/local/lib/python3.12/dist-packages (from qiskit<2.0,>=1.0->qiskit_machine_learning) (0.13.0)\n",
            "Requirement already satisfied: six>=1.5 in /usr/local/lib/python3.12/dist-packages (from python-dateutil>=2.8.0->qiskit<2.0,>=1.0->qiskit_machine_learning) (1.17.0)\n",
            "Requirement already satisfied: joblib>=1.2.0 in /usr/local/lib/python3.12/dist-packages (from scikit-learn>=1.2->qiskit_machine_learning) (1.5.2)\n",
            "Requirement already satisfied: threadpoolctl>=3.1.0 in /usr/local/lib/python3.12/dist-packages (from scikit-learn>=1.2->qiskit_machine_learning) (3.6.0)\n",
            "Requirement already satisfied: mpmath<1.4,>=1.1.0 in /usr/local/lib/python3.12/dist-packages (from sympy>=1.3->qiskit<2.0,>=1.0->qiskit_machine_learning) (1.3.0)\n"
          ]
        }
      ]
    },
    {
      "cell_type": "code",
      "execution_count": null,
      "metadata": {
        "id": "5MWOkrqb1hsX"
      },
      "outputs": [],
      "source": [
        "#from qiskit_machine_learning.neural_networks import EstimatorQNN, SamplerQNN    # Libraries which could simplify process, but icompatible with qiskit 2>\n",
        "#from qiskit_machine_learning.algorithms import NeuralNetworkClassifier\n",
        "from qiskit_ibm_runtime import Sampler\n",
        "from qiskit_aer import AerSimulator\n",
        "from qiskit_algorithms.gradients import ParamShiftSamplerGradient\n",
        "from qiskit.quantum_info import Statevector, Operator, Pauli\n",
        "import numpy as np\n",
        "\n",
        "# Define a forward pass of your QNN\n",
        "def forwardnooo(qnn_circuit: QuantumCircuit, inputs: np.ndarray, trainable_parameters: np.ndarray, sampler: Sampler) -> np.ndarray:\n",
        "    \"\"\"\n",
        "    \"Forward pass of the Q neural network\", returns output probability vector of circuit (or other way that occurs to you, for insance expected value of observable)\n",
        "\n",
        "    Args:\n",
        "        qnn_circuit (QuantumCircuit): circuit to run, including some input encoding and trainable processing gates.\n",
        "        inputs (np.ndarray): data inputs encoded.\n",
        "        trainable_parameters (np.ndarray): neural network ansatz parameters.\n",
        "        sampler (Sampler): Sampler to use.\n",
        "\n",
        "    Returns:\n",
        "        qnn_output (np.ndarray): Array for the probability distribution or samples of measurement outcomes of circuit\n",
        "    \"\"\"\n",
        "\n",
        "    output =qnn.forward(inputs, trainable_parameters)\n",
        "    qnn_output = np.ndarray(output.values())\n",
        "    \"\"\"qnn_circuit.assign_parameters(inputs, inplace=True)\n",
        "    qnn_circuit.assign_parameters(trainable_parameters, inplace=True)\n",
        "    state = Statevector(qnn_circuit)\n",
        "    qnn_output = np.ndarray(state.expectation_values(Operator(Pauli(\"ZI\"))), state.expectation_values(Operator(Pauli(\"IZ\"))))\"\"\"\n",
        "\n",
        "    return qnn_output\n",
        "\n",
        "# Define a backward pass of your QNN. Optional, but useful and necessary to use later for minimization procedures that require computing derivatives\n",
        "def backwards(qnn_circuit: QuantumCircuit, inputs: np.ndarray, trainable_parameters: np.ndarray, sampler: Sampler) -> np.ndarray:\n",
        "    \"\"\"\n",
        "    \"Backwards pass of the Q neural network\", compute gradients of parameters using ParamShiftSamplerGradient.\n",
        "\n",
        "    Args:\n",
        "        qnn_circuit (QuantumCircuit): circuit to run, including some input encoding and trainable processing gates.\n",
        "        inputs (np.ndarray): data inputs encoded.\n",
        "        trainable_parameters (np.ndarray): neural network ansatz parameters.\n",
        "        sampler (Sampler): Sampler to use.\n",
        "\n",
        "    Returns:\n",
        "        qnn_output (np.ndarray): Array for the probability distribution or samples of measurement outcomes of circuit\n",
        "    \"\"\"\n",
        "    # YOUR CODE HERE\n",
        "\n",
        "    return qnn_output\n"
      ]
    },
    {
      "cell_type": "code",
      "source": [
        "from qiskit.primitives import BaseEstimatorV2\n",
        "from qiskit_aer.primitives import EstimatorV2 as Estimator\n",
        "from qiskit.quantum_info.operators.base_operator import BaseOperator\n",
        "\n",
        "def forward(\n",
        "    circuit: QuantumCircuit,\n",
        "    input_params: np.ndarray,\n",
        "    weight_params: np.ndarray,\n",
        "    estimator: BaseEstimatorV2,\n",
        "    observable: BaseOperator,\n",
        ") -> np.ndarray:\n",
        "    \"\"\"\n",
        "    Forward pass of the neural network.\n",
        "\n",
        "    Args:\n",
        "        circuit: circuit consisting of data loader gates and the neural network ansatz.\n",
        "        input_params: data encoding parameters.\n",
        "        weight_params: neural network ansatz parameters.\n",
        "        estimator: EstimatorV2 primitive.\n",
        "        observable: a single observable to compute the expectation over.\n",
        "\n",
        "    Returns:\n",
        "        expectation_values: an array (for one observable) or a matrix (for a sequence of observables) of expectation values.\n",
        "        Rows correspond to observables and columns to data samples.\n",
        "    \"\"\"\n",
        "    num_samples = input_params.shape[0]\n",
        "    weights = np.broadcast_to(weight_params, (num_samples, len(weight_params)))\n",
        "    params = np.concatenate((input_params, weights), axis=1)\n",
        "    pub = (circuit, observable, params)\n",
        "    job = estimator.run([pub])\n",
        "    result = job.result()[0]\n",
        "    expectation_values = result.data.evs\n",
        "\n",
        "    return expectation_values\n",
        "\n",
        "Z0 = SparsePauliOp.from_list([(\"IZ\", 1)])\n",
        "Z1 = SparsePauliOp.from_list([(\"ZI\", 1)])\n",
        "\n",
        "\"\"\"x = np.array([[2,2]])\n",
        "thetas = np.array([1,2,3,4,5,6,7,8])\n",
        "estimator = Estimator()\n",
        "qnn_circuit = qnn_circuit.decompose(reps=1)\n",
        "\n",
        "print(forward(qnn_circuit, x, thetas, estimator, Z0))\n",
        "print(forward(qnn_circuit, x, thetas, estimator, Z1))\"\"\"\n",
        "\n"
      ],
      "metadata": {
        "colab": {
          "base_uri": "https://localhost:8080/",
          "height": 52
        },
        "id": "y5FWTID8UCJN",
        "outputId": "a46d7290-177d-4c39-afdb-c14cc453b222"
      },
      "execution_count": null,
      "outputs": [
        {
          "output_type": "execute_result",
          "data": {
            "text/plain": [
              "'x = np.array([[2,2]])\\nthetas = np.array([1,2,3,4,5,6,7,8])\\nestimator = Estimator()\\nqnn_circuit = qnn_circuit.decompose(reps=1)\\n\\nprint(forward(qnn_circuit, x, thetas, estimator, Z0))\\nprint(forward(qnn_circuit, x, thetas, estimator, Z1))'"
            ],
            "application/vnd.google.colaboratory.intrinsic+json": {
              "type": "string"
            }
          },
          "metadata": {},
          "execution_count": 15
        }
      ]
    },
    {
      "cell_type": "markdown",
      "metadata": {
        "id": "bxJsecvY1hsX"
      },
      "source": [
        "### 1.3 Train your QNN\n",
        "\n",
        "Now you must train your QNN, to do this define a loss funciton and an optimizer.\n",
        "\n",
        "\n",
        "For instance, use a mean squared error loss function of the form\n",
        "$$\\sum (QNN_{\\vec{\\theta}}(\\vec{x_i})-y_i)^2,$$\n",
        "where $QNN()$ represents the output of your quantum circuit (forward pass). If you are following the example, then the output of the QNN is the array of probabilities for each outcome (classification), so you should treat $y_i$ as a vector too (either [1,0] or [0,1])\n",
        "\n",
        "\n",
        "\n",
        "\n"
      ]
    },
    {
      "cell_type": "code",
      "execution_count": null,
      "metadata": {
        "id": "OeE3mx7_1hsX",
        "colab": {
          "base_uri": "https://localhost:8080/",
          "height": 36
        },
        "outputId": "d240ed8e-9143-41a1-98d1-d432ff6388f4"
      },
      "outputs": [
        {
          "output_type": "execute_result",
          "data": {
            "text/plain": [
              "'x = np.array([[2,2]])\\nthetas = np.array([1,2,3,4,5,6,7,8])\\nprint(loss(qnn_circuit, x, thetas, [1,0]))'"
            ],
            "application/vnd.google.colaboratory.intrinsic+json": {
              "type": "string"
            }
          },
          "metadata": {},
          "execution_count": 106
        }
      ],
      "source": [
        "from qiskit.quantum_info import SparsePauliOp # Assuming SparsePauliOp is defined elsewhere\n",
        "\n",
        "# Your code here\n",
        "def loss(theta, x, y):\n",
        "    qnn_circuit2 = qnn_circuit.decompose(reps=1)\n",
        "    estimator = Estimator() # Assuming Estimator is defined elsewhere\n",
        "    L=0\n",
        "    for i in range(len(x)):\n",
        "      # Reshape the input to be a 2D array with a single row\n",
        "      input_sample = x[i].reshape(1, -1)\n",
        "      QNN1 = forward(qnn_circuit2, input_sample, theta, estimator, Z0) # Assuming Z0 is defined elsewhere\n",
        "      QNN2 = forward(qnn_circuit2, input_sample, theta, estimator, Z1) # Assuming Z1 is defined elsewhere\n",
        "      L += (QNN1-y[i][0])**2 + (QNN2-y[i][1])**2\n",
        "    return L\n",
        "\n",
        "\"\"\"x = np.array([[2,2]])\n",
        "thetas = np.array([1,2,3,4,5,6,7,8])\n",
        "print(loss(qnn_circuit, x, thetas, [1,0]))\"\"\""
      ]
    },
    {
      "cell_type": "markdown",
      "metadata": {
        "id": "iUUua8Tl1hsX"
      },
      "source": [
        "\n",
        "Minimize the loss, computed for your data points, to train your model. You can use scipy's minimize, with built in optimizers such as COBYLA.\n",
        "\n",
        "\n",
        "Store also the loss evolution (and other parameters you consider interesting) to plot them later.\n",
        "\n",
        "> Hint: Remember to look for Qiskit resources, for instance you may find [this](https://quantum.cloud.ibm.com/learning/en/courses/quantum-machine-learning/qvc-qnn) tutorial useful."
      ]
    },
    {
      "cell_type": "code",
      "execution_count": null,
      "metadata": {
        "id": "FpHhojx51hsX",
        "colab": {
          "base_uri": "https://localhost:8080/"
        },
        "outputId": "b791890f-a54a-4104-ae4c-b0f18d40eee4"
      },
      "outputs": [
        {
          "metadata": {
            "tags": null
          },
          "name": "stdout",
          "output_type": "stream",
          "text": [
            "Epoch: 0, batch: 0\n",
            "Epoch: 0, batch: 1\n",
            "Epoch: 0, batch: 2\n",
            "Epoch: 0, batch: 3\n",
            "Epoch: 0, batch: 4\n",
            "Epoch: 0, batch: 5\n",
            "Epoch: 0, batch: 6\n",
            "Epoch: 0, batch: 7\n",
            "Epoch: 0, batch: 8\n",
            "Epoch: 0, batch: 9\n",
            "Epoch: 0, batch: 10\n",
            "Epoch: 0, batch: 11\n",
            "Epoch: 0, batch: 12\n",
            "Epoch: 0, batch: 13\n",
            "Epoch: 0, batch: 14\n",
            "Epoch: 0, batch: 15\n",
            "Epoch: 0, batch: 16\n",
            "Epoch: 0, batch: 17\n",
            "Epoch: 0, batch: 18\n",
            "Epoch: 0, batch: 19\n",
            "Epoch: 0, batch: 20\n",
            "Epoch: 0, batch: 21\n",
            "Epoch: 0, batch: 22\n",
            "Epoch: 0, batch: 23\n",
            "Epoch: 0, batch: 24\n",
            "Epoch: 0, batch: 25\n",
            "Epoch: 0, batch: 26\n",
            "Epoch: 0, batch: 27\n",
            "Epoch: 0, batch: 28\n",
            "Epoch: 0, batch: 29\n",
            "Epoch: 0, batch: 30\n",
            "Epoch: 0, batch: 31\n",
            "Epoch: 0, batch: 32\n",
            "Epoch: 0, batch: 33\n",
            "Epoch: 0, batch: 34\n",
            "Epoch: 0, batch: 35\n",
            "Epoch: 0, batch: 36\n",
            "Epoch: 0, batch: 37\n",
            "Epoch: 0, batch: 38\n",
            "Epoch: 0, batch: 39\n",
            "Epoch: 0, batch: 40\n",
            "Epoch: 0, batch: 41\n",
            "Epoch: 0, batch: 42\n",
            "Epoch: 0, batch: 43\n",
            "Epoch: 0, batch: 44\n",
            "Epoch: 0, batch: 45\n",
            "Epoch: 0, batch: 46\n",
            "Epoch: 0, batch: 47\n",
            "Epoch: 0, batch: 48\n",
            "Epoch: 0, batch: 49\n",
            "Epoch: 1, batch: 0\n",
            "Epoch: 1, batch: 1\n",
            "Epoch: 1, batch: 2\n",
            "Epoch: 1, batch: 3\n",
            "Epoch: 1, batch: 4\n",
            "Epoch: 1, batch: 5\n",
            "Epoch: 1, batch: 6\n",
            "Epoch: 1, batch: 7\n",
            "Epoch: 1, batch: 8\n",
            "Epoch: 1, batch: 9\n",
            "Epoch: 1, batch: 10\n",
            "Epoch: 1, batch: 11\n",
            "Epoch: 1, batch: 12\n",
            "Epoch: 1, batch: 13\n",
            "Epoch: 1, batch: 14\n",
            "Epoch: 1, batch: 15\n",
            "Epoch: 1, batch: 16\n",
            "Epoch: 1, batch: 17\n",
            "Epoch: 1, batch: 18\n",
            "Epoch: 1, batch: 19\n",
            "Epoch: 1, batch: 20\n",
            "Epoch: 1, batch: 21\n",
            "Epoch: 1, batch: 22\n",
            "Epoch: 1, batch: 23\n",
            "Epoch: 1, batch: 24\n",
            "Epoch: 1, batch: 25\n",
            "Epoch: 1, batch: 26\n",
            "Epoch: 1, batch: 27\n",
            "Epoch: 1, batch: 28\n",
            "Epoch: 1, batch: 29\n",
            "Epoch: 1, batch: 30\n",
            "Epoch: 1, batch: 31\n",
            "Epoch: 1, batch: 32\n",
            "Epoch: 1, batch: 33\n",
            "Epoch: 1, batch: 34\n",
            "Epoch: 1, batch: 35\n",
            "Epoch: 1, batch: 36\n",
            "Epoch: 1, batch: 37\n",
            "Epoch: 1, batch: 38\n",
            "Epoch: 1, batch: 39\n",
            "Epoch: 1, batch: 40\n",
            "Epoch: 1, batch: 41\n",
            "Epoch: 1, batch: 42\n",
            "Epoch: 1, batch: 43\n",
            "Epoch: 1, batch: 44\n",
            "Epoch: 1, batch: 45\n",
            "Epoch: 1, batch: 46\n",
            "Epoch: 1, batch: 47\n",
            "Epoch: 1, batch: 48\n",
            "Epoch: 1, batch: 49\n"
          ]
        }
      ],
      "source": [
        "from scipy.optimize import minimize\n",
        "\n",
        "# Define loss value_list that will be updated\n",
        "loss_value_list = []\n",
        "\n",
        "# Your code here\n",
        "ys = [[1,1] if i else [-1,-1] for i in y]\n",
        "\n",
        "batch_size = 10\n",
        "num_epochs = 2\n",
        "num_samples = len(R)\n",
        "\n",
        "from qiskit.primitives import StatevectorEstimator as Estimator\n",
        "\n",
        "circuit = qnn_circuit\n",
        "estimator = Estimator()\n",
        "iter = 0\n",
        "\n",
        "np.random.seed(77)\n",
        "weight_params = np.random.rand(len(trainable_parameters))\n",
        "\n",
        "for epoch in range(num_epochs):\n",
        "  for i in range((num_samples - 1) // batch_size + 1):\n",
        "    print(f\"Epoch: {epoch}, batch: {i}\")\n",
        "    start_i = i * batch_size\n",
        "    end_i = start_i + batch_size\n",
        "    train_R_batch = np.array(R[start_i:end_i])\n",
        "    train_labels_batch = np.array(ys[start_i:end_i])\n",
        "    input_params = train_R_batch\n",
        "    target = train_labels_batch\n",
        "    iter = 0\n",
        "    res = minimize(\n",
        "            loss, weight_params, args=(input_params, target), method=\"COBYLA\", options={\"maxiter\": 100}\n",
        "        )\n",
        "    weight_params = res.x"
      ]
    },
    {
      "cell_type": "code",
      "source": [
        "N_testing = 100\n",
        "R_test = 2*np.random.random((N_testing,2)) - np.array([1,1])  # Data points, uniform in [-1,1]x[-1,1]\n",
        "y_test = underlying_function(R_test)\n",
        "ys_test = [[1,1] if i else [-1,-1] for i in y_test]\n",
        "\n",
        "dins = []\n",
        "fora = []\n",
        "for i in range(N_testing):\n",
        "  Ri = R_test[i].reshape(1, -1)\n",
        "  # Assuming Z0 and Z1 are defined and represent observables for class 0 and class 1 respectively\n",
        "  # And assuming forward function is defined and works correctly\n",
        "  esperats_Z0 = forward(qnn_circuit, Ri, weight_params, estimator, Z0)\n",
        "  esperats_Z1 = forward(qnn_circuit, Ri, weight_params, estimator, Z1)\n",
        "\n",
        "  # Determine class based on expectation values. This logic might need adjustment\n",
        "  # depending on how your QNN output maps to classes.\n",
        "  # For example, if Z0 corresponds to class 0 and Z1 to class 1,\n",
        "  # you might classify based on which expectation value is higher, or if they are positive/negative.\n",
        "  # The original code used a condition based on both esperats[0] and esperats[1] being negative\n",
        "  # which seems unusual. I will use a simple thresholding example.\n",
        "  # You may need to adjust this classification logic based on your QNN design.\n",
        "\n",
        "  # Example classification logic: if expectation value of Z0 is below a threshold, classify as class 0, otherwise class 1\n",
        "  # This assumes Z0 is designed to distinguish between the classes.\n",
        "  # Let's use a simple threshold of 0 for demonstration, similar in spirit to the original attempt's negative check.\n",
        "  # You should refine this based on how your QNN is trained to output class information.\n",
        "  if esperats_Z0 < 0: # Example condition, adjust based on your QNN output interpretation\n",
        "    dins.append(Ri[0]) # Append the 1D array of coordinates\n",
        "  else:\n",
        "    fora.append(Ri[0]) # Append the 1D array of coordinates\n",
        "\n",
        "# Convert lists of arrays to numpy arrays for plotting\n",
        "dins = np.array(dins)\n",
        "fora = np.array(fora)\n",
        "\n",
        "\n",
        "plt.figure(figsize=(8,8))\n",
        "# Check if dins is not empty before plotting\n",
        "if dins.shape[0] > 0:\n",
        "  plt.scatter(dins[:,0], dins[:,1], color=\"orange\", label=\"Class 0 (dins)\") # Corrected label to Class 0\n",
        "# Check if fora is not empty before plotting\n",
        "if fora.shape[0] > 0:\n",
        "  plt.scatter(fora[:,0], fora[:,1], color=\"blue\", label=\"Class 1 (fora)\")\n",
        "\n",
        "plt.hlines(1/np.sqrt(2), -1/np.sqrt(2), 1/np.sqrt(2), linestyle=\"--\")\n",
        "plt.hlines(-1/np.sqrt(2), -1/np.sqrt(2), 1/np.sqrt(2), linestyle=\"--\")\n",
        "plt.vlines(1/np.sqrt(2), -1/np.sqrt(2), 1/np.sqrt(2), linestyle=\"--\")\n",
        "plt.vlines(-1/np.sqrt(2), -1/np.sqrt(2), 1/np.sqrt(2), linestyle=\"--\")\n",
        "plt.axis('equal')\n",
        "plt.xlabel('x')\n",
        "plt.ylabel('y')\n",
        "plt.legend()\n",
        "plt.show()"
      ],
      "metadata": {
        "colab": {
          "base_uri": "https://localhost:8080/",
          "height": 696
        },
        "id": "5J85BHET8fbc",
        "outputId": "8677cc6e-baf6-42de-e303-c462a0171b01"
      },
      "execution_count": null,
      "outputs": [
        {
          "output_type": "display_data",
          "data": {
            "text/plain": [
              "<Figure size 800x800 with 1 Axes>"
            ],
            "image/png": "[encoded data removed]"
          },
          "metadata": {}
        }
      ]
    },
    {
      "cell_type": "markdown",
      "metadata": {
        "id": "OULjZMz31hsY"
      },
      "source": [
        "#### 1.4 Plot your reconstructed classification"
      ]
    },
    {
      "cell_type": "markdown",
      "metadata": {
        "id": "wTm1zu-o1hsY"
      },
      "source": [
        "### 1.5 Explore\n",
        "These sections is more optional, if you are doing well you may skip to section 2 already. If you get stuck at section 2, you can get back to work on it, or work on it later, or split it with other members of the group.\n"
      ]
    },
    {
      "cell_type": "markdown",
      "metadata": {
        "id": "YxdiJ5jz1hsY"
      },
      "source": [
        "#### 1.5.1 Data re-uploading\n",
        "\n",
        "Instead of just changing the encoding layer and the processing layer, explore here if you can obtain better results by intertwining them:\n",
        "\n",
        "Build your circuit with an encoding layer, a processing layer, another encoding layer and another processing layer. As this will increase the complexity, you may also want to simplify the layers themselves. Try with different ammounts of intertwining, do you get better results?"
      ]
    },
    {
      "cell_type": "code",
      "execution_count": null,
      "metadata": {
        "id": "of5mzOMD1hsY"
      },
      "outputs": [],
      "source": [
        "# Code here"
      ]
    },
    {
      "cell_type": "markdown",
      "metadata": {
        "id": "AYCKsSAU1hsY"
      },
      "source": [
        "## 2. Putting more quantum in Quantum Machine Learning\n",
        "\n",
        "Right now you have worked on a classical classification problem using quantum computers. Now we switch to the main challenge.\n",
        "\n",
        "Your task will be to train a quantum machine learning model to classify which phase of matter corresponds to each input quantum state."
      ]
    },
    {
      "cell_type": "markdown",
      "metadata": {
        "id": "YixJYXDT1hsY"
      },
      "source": [
        "We are going to study now the XY model on a periodic chain, with a hamiltonian representing its energy and properties given by\n",
        "\n",
        "$$H = -\\sum^N_{j=1} \\left [ \\left(\\frac{1+\\gamma}{2}\\right) X_j X_{j+1} + \\left(\\frac{1-\\gamma}{2}\\right) Y_j Y_{j+1}  + h Z_j \\right],$$\n",
        "\n",
        "with $\\sigma_{N+1}=\\sigma_1$.\n",
        "It has the following simple phase diagram, where we will focus on the $h,\\gamma>0$ region, with phase transitions at $h = 1$ and at the circular boundary $\\gamma^2 + h^2 = 1$:"
      ]
    },
    {
      "cell_type": "markdown",
      "metadata": {
        "id": "LeD2Ort01hsY"
      },
      "source": [
        "![image.png](attachment:image.png)"
      ]
    },
    {
      "cell_type": "markdown",
      "metadata": {
        "id": "gCcosA9W1hsY"
      },
      "source": [
        "### 2.1 Implement the hamiltonian\n"
      ]
    },
    {
      "cell_type": "markdown",
      "metadata": {
        "id": "-DT4ESlT1hsZ"
      },
      "source": [
        "First you must implement the hamiltonian in Qiskit"
      ]
    },
    {
      "cell_type": "code",
      "execution_count": null,
      "metadata": {
        "id": "SFoKThI71hsZ"
      },
      "outputs": [],
      "source": [
        "import numpy as np\n",
        "from qiskit.quantum_info import SparsePauliOp\n",
        "from scipy.sparse import csr_matrix\n",
        "from scipy.sparse.linalg import eigsh  # iterative sparse solver (Lanczos)\n",
        "\n",
        "def XY_hamiltonian(gamma: float, h: float, Nsites: int) -> SparsePauliOp:\n",
        "    \"\"\"Returns the XY Hamiltonian as a SparsePauliOp.\n",
        "\n",
        "    H = - sum_j [ (1+gamma)/2 * X_j X_{j+1} + (1-gamma)/2 * Y_j Y_{j+1} + h * Z_j ]\n",
        "    periodic boundary conditions: site N -> site 0\n",
        "\n",
        "    Note: Pauli string ordering follows Qiskit's convention for labels (leftmost char = qubit 0).\n",
        "    \"\"\"\n",
        "    pauli_labels = []\n",
        "    coeffs = []\n",
        "\n",
        "    # coefficients for XX and YY\n",
        "    coeff_XX = - (1 + gamma) / 2.0\n",
        "    coeff_YY = - (1 - gamma) / 2.0\n",
        "    coeff_Z  = - h\n",
        "\n",
        "    for j in range(Nsites):\n",
        "        jp1 = (j + 1) % Nsites  # periodic next index\n",
        "\n",
        "        # Build X_j X_{j+1} string\n",
        "        xs = ['I'] * Nsites\n",
        "        xs[j] = 'X'\n",
        "        xs[jp1] = 'X'\n",
        "        pauli_labels.append(''.join(xs))\n",
        "        coeffs.append(coeff_XX)\n",
        "\n",
        "        # Build Y_j Y_{j+1} string\n",
        "        ys = ['I'] * Nsites\n",
        "        ys[j] = 'Y'\n",
        "        ys[jp1] = 'Y'\n",
        "        pauli_labels.append(''.join(ys))\n",
        "        coeffs.append(coeff_YY)\n",
        "\n",
        "        # Build Z_j term\n",
        "        zs = ['I'] * Nsites\n",
        "        zs[j] = 'Z'\n",
        "        pauli_labels.append(''.join(zs))\n",
        "        coeffs.append(coeff_Z)\n",
        "\n",
        "    # Create SparsePauliOp from list of (label, coeff)\n",
        "    # It's fine if some labels repeat; SparsePauliOp will internally combine.\n",
        "    hamiltonian = SparsePauliOp.from_list(list(zip(pauli_labels, coeffs)))\n",
        "    return hamiltonian"
      ]
    },
    {
      "cell_type": "markdown",
      "metadata": {
        "id": "IJBDraE81hsZ"
      },
      "source": [
        "### 2.2 Solve it classically"
      ]
    },
    {
      "cell_type": "markdown",
      "metadata": {
        "id": "O23jsAHG1hsZ"
      },
      "source": [
        "Create a classical method to find the ground states of the hamiltonian\n",
        "> hint: use libraries such as eigsh to diagonalise the hamiltonian with `.to_matrix()`\n",
        "\n",
        "The steps are similar to the case before, but now the inputs do not need to be directly embeded into the quantum computer as they are already quantum states. You can use `.prepare_state()`. You can start simple, with N=6 qubits."
      ]
    },
    {
      "cell_type": "code",
      "execution_count": null,
      "metadata": {
        "id": "DBwFeT9n1hsZ"
      },
      "outputs": [],
      "source": [
        "def XY_ground_state(gamma: float, h: float, Nsites: int) -> np.ndarray:\n",
        "    \"\"\"Returns the ground state (statevector) of the XY Hamiltonian for given params.\n",
        "\n",
        "    Uses an iterative sparse eigensolver (eigsh) on the dense matrix (converted to sparse csr).\n",
        "    For moderate N (N <= 12-ish) this is feasible; for larger N you need specialised many-body methods.\n",
        "    \"\"\"\n",
        "    H_op = XY_hamiltonian(gamma, h, Nsites)\n",
        "\n",
        "    # Convert to dense matrix (for small N this is okay). H_op.to_matrix() returns a numpy array.\n",
        "    H_mat = H_op.to_matrix()  # shape (2**N, 2**N), dtype=complex\n",
        "\n",
        "    # Use sparse eigensolver for the lowest eigenvalue/vector (k=1, which='SA' = smallest algebraic)\n",
        "    try:\n",
        "        # Convert to CSR for eigsh\n",
        "        H_sparse = csr_matrix(H_mat)\n",
        "        eigvals, eigvecs = eigsh(H_sparse, k=1, which='SA')\n",
        "        ground_energy = eigvals[0]\n",
        "        ground_state = eigvecs[:, 0]\n",
        "    except Exception:\n",
        "        # Fallback: dense diagonalization (guaranteed but slower)\n",
        "        evals, evecs = np.linalg.eigh(H_mat)\n",
        "        ground_energy = evals[0]\n",
        "        ground_state = evecs[:, 0]\n",
        "\n",
        "    # Normalize (eigsh usually returns normalized vectors, but ensure it)\n",
        "    ground_state = ground_state / np.linalg.norm(ground_state)\n",
        "\n",
        "    # Return the statevector as a complex numpy array\n",
        "    return ground_state, ground_energy\n",
        "\n",
        "\n",
        "# ejemplo\n",
        "gamma = 0.3\n",
        "h = 0.9\n",
        "Nsites = 6\n",
        "\n",
        "psi_gs, E_gs = XY_ground_state(gamma, h, Nsites)\n",
        "print(\"E_ground =\", E_gs)\n",
        "print(\"dim statevector =\", psi_gs.shape)"
      ]
    },
    {
      "cell_type": "markdown",
      "metadata": {
        "id": "B2wu7QJ_1hsZ"
      },
      "source": [
        "### 2.3 Construct the QNN"
      ]
    },
    {
      "cell_type": "markdown",
      "metadata": {
        "id": "244eYyPA1hsZ"
      },
      "source": [
        "Construct your QNN model that will, after training, attempt to classify each input quantum state to the correct phase. You may start with a small number of qubits, 6, to check things work, and scale up later.\n",
        "\n",
        "In this case, you won't need to encode your data, as you can map each spin to a qubit directly. You can input states into qiskit circuits directly, and this is how you can deal with this challenge, with tools like `StatePreparation`. Construct your QNN here, you can adapt your processing layers you designed in section 1.2. Notice that now you have more classes, so you may want to use 2 output qubits instead of just 1."
      ]
    },
    {
      "cell_type": "code",
      "execution_count": null,
      "metadata": {
        "id": "vtiFETj_1hsd"
      },
      "outputs": [],
      "source": [
        "from qiskit.circuit import Parameter\n",
        "from qiskit.primitives import BaseSamplerV2\n",
        "from qiskit_ibm_runtime import Sampler  # actual to use\n",
        "\n",
        "def QNN_XY_circuit(parameters: np.ndarray) -> QuantumCircuit:\n",
        "    \"\"\"Returns a Quantum neural Network model that will attempt to solve the phase classification task after trayining.\n",
        "    Args:\n",
        "        gamma (double): gamma parameter of hamiltonian\n",
        "\n",
        "    Returns:\n",
        "        QNN (np.ndarray): Quantum Neural Network that will proces your states\n",
        "    \"\"\"\n",
        "    # YOUR CODE HERE\n",
        "    pass\n"
      ]
    },
    {
      "cell_type": "markdown",
      "metadata": {
        "id": "Vw89qGJ71hse"
      },
      "source": [
        "Define as in the previous sections some forward passes and reuse or adapt the loss function."
      ]
    },
    {
      "cell_type": "code",
      "execution_count": null,
      "metadata": {
        "id": "lbTJr-Li1hse"
      },
      "outputs": [],
      "source": [
        "# Your code here"
      ]
    },
    {
      "cell_type": "markdown",
      "metadata": {
        "id": "ouTkcLvX1hse"
      },
      "source": [
        "### 2.4 Train it for your quantum data"
      ]
    },
    {
      "cell_type": "markdown",
      "metadata": {
        "id": "M6CPJmHL1hse"
      },
      "source": [
        "Use your classical solver to find the ground states for your system at different parameters, and use those states, with their known phase, to define the loss and train your model.\n",
        "\n",
        "Finally, draw the phase diagram that your system detects, where you may find it useful to define a prediciton function for a particular input state"
      ]
    },
    {
      "cell_type": "code",
      "execution_count": null,
      "metadata": {
        "id": "OPLcwfzP1hsf"
      },
      "outputs": [],
      "source": [
        "# Your code here"
      ]
    },
    {
      "cell_type": "code",
      "execution_count": null,
      "metadata": {
        "id": "9qwcV8ZX1hsf"
      },
      "outputs": [],
      "source": [
        "def draw_predicted_phasediagram(predict_XY) -> None:\n",
        "    \"\"\"Plots the predicted phase diagram.\n",
        "    \"\"\"\n",
        "    prediction = []\n",
        "\n",
        "    gamma_range = np.linspace(0,2)\n",
        "    h_range = np.linspace(0,2)\n",
        "    for gamma in gamma_range:\n",
        "        prediction.append([])\n",
        "        for h in h_range:\n",
        "            prediction[-1].append(predict_XY(gamma, h))\n",
        "\n",
        "    gamma_mesh, h_mesh = np.meshgrid(gamma_range, h_range)\n",
        "    plt.contourf(gamma_mesh, h_mesh, prediction)\n",
        "    plt.show()\n",
        "\n",
        "draw_predicted_phasediagram(predict_XY)\n",
        "\n",
        "# Your code here"
      ]
    },
    {
      "cell_type": "markdown",
      "metadata": {
        "id": "--B2Zvup1hsf"
      },
      "source": [
        "### 2.5 Analysis"
      ]
    },
    {
      "cell_type": "markdown",
      "metadata": {
        "id": "LVrPo-Vz1hsf"
      },
      "source": [
        "Repeat the previous steps using different optimizers: SPSA/COBYLA/BFGS/ADAM and gate ansatz.\n",
        "\n",
        "> Hint: As some criterion, you can use gates related to the elements in the hamiltonian. For instance $R_X$, $R_{XX}$ gates etc. You may also consider some other properties of your system, such as symmetries."
      ]
    },
    {
      "cell_type": "code",
      "execution_count": null,
      "metadata": {
        "id": "7sBxiaMl1hsf"
      },
      "outputs": [],
      "source": [
        "# Your code here"
      ]
    },
    {
      "cell_type": "markdown",
      "metadata": {
        "id": "d3XapXvc1hsg"
      },
      "source": [
        "What kind of model works best, and optimizer?"
      ]
    },
    {
      "cell_type": "markdown",
      "metadata": {
        "id": "Uot8r-IV1hsg"
      },
      "source": [
        "### 2.6 Constrained training\n",
        "\n",
        "Consider that using as training data many points across the whole phase diagram is very ideal, in general you may be constrained to some easier subspaces to reproduce/generate.\n",
        "\n",
        "Perform the previous steps, training and predicting the phase diagram, but with constrained initial data points. Compare different cases:\n",
        "\n",
        "Take points across the line $gamma=1$, across the line $h = 0.5$, and across the horizontal and vertical lines crossing at $\\gamma, h = 0$"
      ]
    },
    {
      "cell_type": "code",
      "execution_count": null,
      "metadata": {
        "id": "s8FeVz091hsg"
      },
      "outputs": [],
      "source": [
        "# Your code here"
      ]
    },
    {
      "cell_type": "markdown",
      "metadata": {
        "id": "ytO589GA1hsg"
      },
      "source": [
        "How do the results change with the training region?"
      ]
    },
    {
      "cell_type": "markdown",
      "metadata": {
        "id": "qN904eYL1hsg"
      },
      "source": [
        "### 3. More questions"
      ]
    },
    {
      "cell_type": "markdown",
      "metadata": {
        "id": "GL-yxpKf1hsg"
      },
      "source": [
        "### Scalability\n",
        "The fundamental principle that motivates quantum machine learning is the search for some quantum advantage with respect to classical machine learning. To simulate a generic quantum computer requires exponential time, although smart techniques such as tensor networks can dequantize simple or very structured circuits, so the ideal criterion is to have our models require at most polynomial resources with the number of qubits. You are invited to tackle this in any way you want, where the general idea is to scale the system for different sizes and see how it fares. Next we provide an example criterion that has become standard, the barren plateau phenomena.\n",
        "\n",
        "It turns out that the expressability of quantum circuits, due to the exponential scaling of the Hilbert space, comes at a cost, many problems have gradients vanishing exponentially with number of qubits:\n",
        "\n",
        "**Compute the variance of gradients of your loss functions for random initial parameters of your circuits, and plot how these variances scale with increasing number of sites/qubits (Ex. N=6,7,8,9,10,11,12)**\n"
      ]
    },
    {
      "cell_type": "markdown",
      "metadata": {
        "id": "iwuL7t351hsh"
      },
      "source": [
        ">  Hint: You can start by defining a way to compute gradients. For instance you can reuse the backwards methods, that were proposed earlier."
      ]
    },
    {
      "cell_type": "code",
      "execution_count": null,
      "metadata": {
        "id": "NMF9heme1hsh"
      },
      "outputs": [],
      "source": [
        "# Your code here"
      ]
    },
    {
      "cell_type": "markdown",
      "metadata": {
        "id": "6Wh8NU9k1hsh"
      },
      "source": [
        "### Unsupervised learning\n",
        "Instead of learning to classify states, having been provided with the knowledge of the existing phases, try now to discover which phases there are. That is, make an unsupervised quantum machine learning paradigm to identify the existence of the different phases the model has.\n",
        "[This paper](https://arxiv.org/abs/2402.11022) presents an approach to do this. An idea is that instead of performing a classifcation itself, and defining the loss by penalising cases where it differs from the known data, you should compress the quantum states into a smaller subsystem, training it at some point. The success of this compression, after training, which will be the output of your QNN, will be better for states similar to the initial state, and through this you may find"
      ]
    },
    {
      "cell_type": "code",
      "execution_count": null,
      "metadata": {
        "id": "P9u68Pit1hsh"
      },
      "outputs": [],
      "source": [
        "# Your code here"
      ]
    },
    {
      "cell_type": "markdown",
      "metadata": {
        "id": "f9GIQNvv1hsh"
      },
      "source": [
        "### Noise and sampling\n",
        "\n",
        "Introduce sampling and noise into the mix! Do the previous results hold? Do some optimizers or architechtures become better now?\n",
        " You could try to also use IBM hardware, but it is not recommended because the state preparation, from arbitary statevectors, is not very hardware friendly."
      ]
    },
    {
      "cell_type": "code",
      "execution_count": null,
      "metadata": {
        "id": "BtNNBHKs1hsh"
      },
      "outputs": [],
      "source": [
        "# Your code here"
      ]
    },
    {
      "cell_type": "markdown",
      "metadata": {
        "id": "17VMEPqd1hsh"
      },
      "source": [
        "## References\n",
        "[1]. Cerezo, M., Verdon, G., Huang, H., Cincio, L., & Coles, P. J. (2022). Challenges and opportunities in quantum machine learning. Nature Computational Science, 2(9), 567–576\n",
        "\n",
        "[2]. Bharti, K., Cervera-Lierta, A., Kyaw, T. H., Haug, T., Alperin-Lea, S., Anand, A., Degroote, M., Heimonen, H., Kottmann, J. S., Menke, T., Mok, W., Sim, S., Kwek, L., & Aspuru-Guzik, A. (2022). Noisy intermediate-scale quantum algorithms. Reviews of Modern Physics, 94(1)\n",
        "\n",
        "[3] Franchini, Fabio. An introduction to integrable techniques for one-dimensional quantum systems. Vol. 940. Cham: Springer International Publishing, 2017. ([url](https://arxiv.org/abs/1609.02100))"
      ]
    }
  ],
  "metadata": {
    "kernelspec": {
      "display_name": "qiskitfallfest2025",
      "language": "python",
      "name": "python3"
    },
    "language_info": {
      "codemirror_mode": {
        "name": "ipython",
        "version": 3
      },
      "file_extension": ".py",
      "mimetype": "text/x-python",
      "name": "python",
      "nbconvert_exporter": "python",
      "pygments_lexer": "ipython3",
      "version": "3.12.11"
    },
    "colab": {
      "provenance": []
    }
  },
  "nbformat": 4,
  "nbformat_minor": 0
}